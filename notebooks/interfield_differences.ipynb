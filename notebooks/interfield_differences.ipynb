{
 "cells": [
  {
   "cell_type": "markdown",
   "id": "86eeaefd",
   "metadata": {},
   "source": [
    "# Index Differences Between Fields\n",
    "This notebook looks at how papers have different pageranks between fields"
   ]
  },
  {
   "cell_type": "code",
   "execution_count": null,
   "id": "ba5878fd",
   "metadata": {},
   "outputs": [],
   "source": [
    "import glob\n",
    "import pickle as pkl\n",
    "\n",
    "import numpy as np\n",
    "import pandas as pd\n",
    "import plotly.express as px"
   ]
  },
  {
   "cell_type": "code",
   "execution_count": null,
   "id": "e1942cde",
   "metadata": {},
   "outputs": [],
   "source": [
    "def calculate_percentiles(true_vals, doi_to_shuffled_metrics):\n",
    "    dois, pageranks = [], []\n",
    "    for doi, pagerank in true_vals.items():\n",
    "        if pagerank is not None:\n",
    "            dois.append(doi)\n",
    "            pageranks.append(pagerank)\n",
    "            \n",
    "    percentiles = []\n",
    "    for doi in dois:\n",
    "        shuffled_metrics = doi_to_shuffled_metrics[doi]\n",
    "        # If the node is unshuffleable for some reason, its percentile isn't meaningful\n",
    "        if len(set(shuffled_metrics)) == 1:\n",
    "            percentiles.append(None)\n",
    "            continue\n",
    "        true_val = true_vals[doi]\n",
    "    \n",
    "        percentile = np.searchsorted(shuffled_metrics, true_val) / 100\n",
    "        percentiles.append(percentile)\n",
    "\n",
    "    result_df = pd.DataFrame({'doi': dois, 'pagerank': pageranks, 'percentile': percentiles})\n",
    "    return result_df"
   ]
  },
  {
   "cell_type": "markdown",
   "id": "8940ddbb",
   "metadata": {},
   "source": [
    "## Load AI results"
   ]
  },
  {
   "cell_type": "code",
   "execution_count": null,
   "id": "fcd89e1f",
   "metadata": {},
   "outputs": [],
   "source": [
    "ai_shuffled = glob.glob('../output/shuffle_results/artificial_intelligence_*-pagerank.pkl')\n",
    "\n",
    "doi_to_shuffled_metrics = {}\n",
    "\n",
    "for path in ai_shuffled:\n",
    "    with open(path, 'rb') as in_file:\n",
    "        result = pkl.load(in_file)\n",
    "        for doi, value in result.items():\n",
    "            if doi in doi_to_shuffled_metrics:\n",
    "                doi_to_shuffled_metrics[doi].append(value)\n",
    "            else:\n",
    "                doi_to_shuffled_metrics[doi] = [value]\n",
    "                "
   ]
  },
  {
   "cell_type": "code",
   "execution_count": null,
   "id": "a886b21e",
   "metadata": {},
   "outputs": [],
   "source": [
    "for doi, vals in doi_to_shuffled_metrics.items():\n",
    "    doi_to_shuffled_metrics[doi] = sorted(vals)"
   ]
  },
  {
   "cell_type": "code",
   "execution_count": null,
   "id": "6bdeac67",
   "metadata": {},
   "outputs": [],
   "source": [
    "with open('../output/artificial_intelligence-pagerank.pkl', 'rb') as in_file:\n",
    "    true_vals = pkl.load(in_file)"
   ]
  },
  {
   "cell_type": "code",
   "execution_count": null,
   "id": "2feab0f9",
   "metadata": {},
   "outputs": [],
   "source": [
    "ai_df = calculate_percentiles(true_vals, doi_to_shuffled_metrics)\n",
    "ai_df"
   ]
  },
  {
   "cell_type": "code",
   "execution_count": null,
   "id": "bf0810d6",
   "metadata": {},
   "outputs": [],
   "source": [
    "ai_df['percentile'].hist()"
   ]
  },
  {
   "cell_type": "code",
   "execution_count": null,
   "id": "a7d69330",
   "metadata": {},
   "outputs": [],
   "source": [
    "ai_df['percentile'].value_counts() / len(ai_df)"
   ]
  },
  {
   "cell_type": "markdown",
   "id": "be1bb9fd",
   "metadata": {},
   "source": [
    "## Load comp bio resuls"
   ]
  },
  {
   "cell_type": "code",
   "execution_count": null,
   "id": "46dda183",
   "metadata": {},
   "outputs": [],
   "source": [
    "comp_bio_shuffled = glob.glob('../output/shuffle_results/computational_biology_*-pagerank.pkl')\n",
    "\n",
    "doi_to_shuffled_metrics = {}\n",
    "\n",
    "for path in comp_bio_shuffled:\n",
    "    with open(path, 'rb') as in_file:\n",
    "        result = pkl.load(in_file)\n",
    "        for doi, value in result.items():\n",
    "            if doi in doi_to_shuffled_metrics:\n",
    "                doi_to_shuffled_metrics[doi].append(value)\n",
    "            else:\n",
    "                doi_to_shuffled_metrics[doi] = [value]\n",
    "                "
   ]
  },
  {
   "cell_type": "code",
   "execution_count": null,
   "id": "1fabad71",
   "metadata": {},
   "outputs": [],
   "source": [
    "for doi, vals in doi_to_shuffled_metrics.items():\n",
    "    doi_to_shuffled_metrics[doi] = sorted(vals)"
   ]
  },
  {
   "cell_type": "code",
   "execution_count": null,
   "id": "b2d09fb9",
   "metadata": {},
   "outputs": [],
   "source": [
    "with open('../output/computational_biology-pagerank.pkl', 'rb') as in_file:\n",
    "    true_vals = pkl.load(in_file)\n",
    "    \n",
    "comp_bio_df = calculate_percentiles(true_vals, doi_to_shuffled_metrics)\n",
    "comp_bio_df\n"
   ]
  },
  {
   "cell_type": "code",
   "execution_count": null,
   "id": "5e17e22f",
   "metadata": {},
   "outputs": [],
   "source": [
    "comp_bio_df['percentile'].hist()"
   ]
  },
  {
   "cell_type": "markdown",
   "id": "aceaeb19",
   "metadata": {},
   "source": [
    "## Load Genetics results"
   ]
  },
  {
   "cell_type": "code",
   "execution_count": null,
   "id": "63a9f457",
   "metadata": {},
   "outputs": [],
   "source": [
    "genetics_shuffled = glob.glob('../output/shuffle_results/genetics_*-pagerank.pkl')\n",
    "\n",
    "doi_to_shuffled_metrics = {}\n",
    "\n",
    "for path in genetics_shuffled:\n",
    "    with open(path, 'rb') as in_file:\n",
    "        result = pkl.load(in_file)\n",
    "        for doi, value in result.items():\n",
    "            if doi in doi_to_shuffled_metrics:\n",
    "                doi_to_shuffled_metrics[doi].append(value)\n",
    "            else:\n",
    "                doi_to_shuffled_metrics[doi] = [value]\n",
    "                "
   ]
  },
  {
   "cell_type": "code",
   "execution_count": null,
   "id": "40750caf",
   "metadata": {},
   "outputs": [],
   "source": [
    "for doi, vals in doi_to_shuffled_metrics.items():\n",
    "    doi_to_shuffled_metrics[doi] = sorted(vals)"
   ]
  },
  {
   "cell_type": "code",
   "execution_count": null,
   "id": "9afca5d9",
   "metadata": {},
   "outputs": [],
   "source": [
    "with open('../output/genetics-pagerank.pkl', 'rb') as in_file:\n",
    "    true_vals = pkl.load(in_file)\n",
    "    \n",
    "genetics_df = calculate_percentiles(true_vals, doi_to_shuffled_metrics)\n",
    "genetics_df\n"
   ]
  },
  {
   "cell_type": "code",
   "execution_count": null,
   "id": "45cef77c",
   "metadata": {},
   "outputs": [],
   "source": [
    "genetics_df['percentile'].hist()"
   ]
  },
  {
   "cell_type": "markdown",
   "id": "5903379b",
   "metadata": {},
   "source": [
    "## Merge ai and comp bio and plot results"
   ]
  },
  {
   "cell_type": "code",
   "execution_count": null,
   "id": "2aa0fc60",
   "metadata": {},
   "outputs": [],
   "source": [
    "merged_df = comp_bio_df.merge(ai_df, on='doi')\n",
    "merged_df = merged_df.rename({'pagerank_x': 'comp_bio_pagerank', 'pagerank_y': 'ai_pagerank',\n",
    "                              'percentile_x': 'comp_bio_percentile', 'percentile_y': 'ai_percentile'}, \n",
    "                             axis='columns')\n",
    "merged_df['cb-ai'] = merged_df['comp_bio_percentile'] - merged_df['ai_percentile']\n",
    "\n",
    "merged_df"
   ]
  },
  {
   "cell_type": "code",
   "execution_count": null,
   "id": "1c0dd97d",
   "metadata": {},
   "outputs": [],
   "source": [
    "fig = px.scatter(merged_df, x='comp_bio_pagerank', y='ai_pagerank', log_x=True, log_y=True, \n",
    "                 opacity=.3, color='comp_bio_percentile', title='Comp bio percentiles')\n",
    "fig.show()"
   ]
  },
  {
   "cell_type": "code",
   "execution_count": null,
   "id": "83a01143",
   "metadata": {},
   "outputs": [],
   "source": [
    "fig = px.scatter(merged_df, x='comp_bio_pagerank', y='ai_pagerank', log_x=True, log_y=True, \n",
    "                 opacity=.3, color='ai_percentile', title='ai percentiles')\n",
    "fig.show()"
   ]
  },
  {
   "cell_type": "code",
   "execution_count": null,
   "id": "e4dc2849",
   "metadata": {},
   "outputs": [],
   "source": [
    "fig = px.scatter(merged_df, x='comp_bio_pagerank', y='ai_pagerank', log_x=True, log_y=True, \n",
    "                 opacity=.5, color='cb-ai', color_continuous_scale='RdBu', hover_data=['doi'],\n",
    "                 title='Relative importance of papers in comp bio and ai')\n",
    "fig.show()"
   ]
  },
  {
   "cell_type": "code",
   "execution_count": null,
   "id": "535b9cce",
   "metadata": {},
   "outputs": [],
   "source": [
    "# Get papers that did surprisingly well in comp bio but surprisingly poorly in ai\n",
    "merged_df.sort_values(by='cb-ai', ascending=False).head(5)"
   ]
  },
  {
   "cell_type": "code",
   "execution_count": null,
   "id": "47dacd25",
   "metadata": {},
   "outputs": [],
   "source": [
    "merged_df.sort_values(by='cb-ai', ascending=True).head(5)"
   ]
  },
  {
   "cell_type": "markdown",
   "id": "5cc4a46c",
   "metadata": {},
   "source": [
    "Papers that did very well in CB and very poorly in ai include:\n",
    "- \"Symtosis: A liver ultrasound tissue characterization and risk stratification in optimized deep learning paradigm\"\n",
    "- \"Automated detection of COVID-19 cases using deep neural networks with X-ray images\"\n",
    "- \"COVID-19 detection using deep learning models to exploit Social Mimic Optimization and structured chest X-ray images using fuzzy color and stacking approache\"\n",
    "- \"Application of deep learning technique to manage COVID-19 in routine clinical practice using CT images: Results of 10 convolutional neural networks\"\n",
    "- \"PCA-based polling strategy in machine learning framework for coronary artery disease risk assessment in intravascular ultrasound: A link between carotid and coronary grayscale plaque morphology\"\n",
    "\n",
    "Papers that did well in AI but poorly in CB:\n",
    "- \"Activities at the Universal Protein Resource (UniProt)\"\n",
    "- \"Lipidomic data analysis: Tutorial, practical guidelines and applications\"\n",
    "- \"A Novel Method for the Simultaneous Enrichment, Identification, and Quantification of Phosphopeptides and Sialylated Glycopeptides Applied to a Temporal Profile of Mouse Brain Development*\"\n",
    "- \"Peptide Fingerprinting of Alzheimer's Disease in Cerebrospinal Fluid: Identification and Prospective Evaluation of New Synaptic Biomarkers\"\n",
    "- \"CliqueMS: a computational tool for annotating in-source metabolite ions from LC-MS untargeted metabolomics data based on a coelution similarity network \"\n"
   ]
  },
  {
   "cell_type": "markdown",
   "id": "cd8de6b3",
   "metadata": {},
   "source": [
    "## Merge genetics and comp bio and plot results"
   ]
  },
  {
   "cell_type": "code",
   "execution_count": null,
   "id": "efdc73a1",
   "metadata": {},
   "outputs": [],
   "source": [
    "merged_df = comp_bio_df.merge(genetics_df, on='doi')\n",
    "merged_df = merged_df.rename({'pagerank_x': 'comp_bio_pagerank', 'pagerank_y': 'genetics_pagerank',\n",
    "                              'percentile_x': 'comp_bio_percentile', 'percentile_y': 'genetics_percentile'}, \n",
    "                             axis='columns')\n",
    "merged_df['cb-genetics'] = merged_df['comp_bio_percentile'] - merged_df['genetics_percentile']\n",
    "\n",
    "merged_df"
   ]
  },
  {
   "cell_type": "code",
   "execution_count": null,
   "id": "229b9126",
   "metadata": {},
   "outputs": [],
   "source": [
    "fig = px.scatter(merged_df, x='comp_bio_pagerank', y='genetics_pagerank', log_x=True, log_y=True, \n",
    "                 opacity=.3, color='comp_bio_percentile', title='Comp bio percentiles')\n",
    "fig.show()"
   ]
  },
  {
   "cell_type": "code",
   "execution_count": null,
   "id": "17e16988",
   "metadata": {},
   "outputs": [],
   "source": [
    "fig = px.scatter(merged_df, x='comp_bio_pagerank', y='genetics_pagerank', log_x=True, log_y=True, \n",
    "                 opacity=.3, color='genetics_percentile', title='Genetics percentiles')\n",
    "fig.show()"
   ]
  },
  {
   "cell_type": "code",
   "execution_count": null,
   "id": "ac7a48dd",
   "metadata": {},
   "outputs": [],
   "source": [
    "fig = px.scatter(merged_df, x='comp_bio_pagerank', y='genetics_pagerank', log_x=True, log_y=True, \n",
    "                 opacity=.5, color='cb-genetics', color_continuous_scale='RdBu', hover_data=['doi'],\n",
    "                 title='Relative importance of papers in comp bio and genetics')\n",
    "fig.show()"
   ]
  },
  {
   "cell_type": "code",
   "execution_count": null,
   "id": "95efa3cc",
   "metadata": {},
   "outputs": [],
   "source": [
    "# Get papers that did surprisingly well in comp bio but surprisingly poorly in genetics\n",
    "merged_df.sort_values(by='cb-genetics', ascending=False).head(5)"
   ]
  },
  {
   "cell_type": "code",
   "execution_count": null,
   "id": "32beb86f",
   "metadata": {},
   "outputs": [],
   "source": [
    "merged_df.sort_values(by='cb-genetics', ascending=True).head(5)"
   ]
  },
  {
   "cell_type": "markdown",
   "id": "3aa5a267",
   "metadata": {},
   "source": [
    "Papers that did very well in CB and very poorly in genetics include:\n",
    "- \"Analysis of genomic diversity in Mexican Mestizo populations to develop genomic medicine in Mexico\" \n",
    "- \"Deciphering next-generation pharmacogenomics: an information technology perspective\n",
    "- \"A Serum Proteomic Pattern for the Detection of Colorectal Adenocarcinoma Using Surface Enhanced Laser Desorption and Ionization Mass Spectrometry\n",
    "- \"Mechanisms of population differentiation in seabirds\"\n",
    "- \"Quantitative phenotyping via deep barcode sequencing\n",
    "\n",
    "Papers that did well in genetics but not in CB:\n",
    "- \"Deep learning extends de novo protein modelling coverage of genomes using iteratively predicted structural constraints\"\n",
    "- \"O-GlcNAcPRED-II: an integrated classification algorithm for identifying O-GlcNAcylation sites based on fuzzy undersampling and a K-means PCA oversampling technique\"\n",
    "- \"DRIMM-Synteny: decomposing genomes into evolutionary conserved segments\"\n",
    "- \"PseKRAAC: a flexible web server for generating pseudo K-tuple reduced amino acids composition\"\n",
    "- \"GPSuc: Global Prediction of Generic and Species-specific Succinylation Sites by aggregating multiple sequence features\""
   ]
  },
  {
   "cell_type": "markdown",
   "id": "626f2236",
   "metadata": {},
   "source": [
    "## Merge ai and genetics and plot results"
   ]
  },
  {
   "cell_type": "code",
   "execution_count": null,
   "id": "8844f04f",
   "metadata": {},
   "outputs": [],
   "source": [
    "merged_df = genetics_df.merge(ai_df, on='doi')\n",
    "merged_df = merged_df.rename({'pagerank_x': 'genetics_pagerank', 'pagerank_y': 'ai_pagerank',\n",
    "                              'percentile_x': 'genetics_percentile', 'percentile_y': 'ai_percentile'}, \n",
    "                             axis='columns')\n",
    "merged_df['genetics-ai'] = merged_df['genetics_percentile'] - merged_df['ai_percentile']\n",
    "\n",
    "merged_df"
   ]
  },
  {
   "cell_type": "code",
   "execution_count": null,
   "id": "25b25764",
   "metadata": {},
   "outputs": [],
   "source": [
    "fig = px.scatter(merged_df, x='genetics_pagerank', y='ai_pagerank', log_x=True, log_y=True, \n",
    "                 opacity=.3, color='genetics_percentile', title='Comp bio percentiles')\n",
    "fig.show()"
   ]
  },
  {
   "cell_type": "code",
   "execution_count": null,
   "id": "8c5b8de2",
   "metadata": {},
   "outputs": [],
   "source": [
    "fig = px.scatter(merged_df, x='genetics_pagerank', y='ai_pagerank', log_x=True, log_y=True, \n",
    "                 opacity=.3, color='ai_percentile', title='ai percentiles')\n",
    "fig.show()"
   ]
  },
  {
   "cell_type": "code",
   "execution_count": null,
   "id": "b5d7c965",
   "metadata": {},
   "outputs": [],
   "source": [
    "fig = px.scatter(merged_df, x='genetics_pagerank', y='ai_pagerank', log_x=True, log_y=True, \n",
    "                 opacity=.5, color='genetics-ai', color_continuous_scale='RdBu', hover_data=['doi'],\n",
    "                 title='Relative importance of papers in genetics and ai')\n",
    "fig.show()"
   ]
  },
  {
   "cell_type": "code",
   "execution_count": null,
   "id": "7cb0a2ca",
   "metadata": {},
   "outputs": [],
   "source": [
    "# Get papers that did surprisingly well in comp bio but surprisingly poorly in ai\n",
    "merged_df.sort_values(by='genetics-ai', ascending=False).head(5)"
   ]
  },
  {
   "cell_type": "code",
   "execution_count": null,
   "id": "5822f42e",
   "metadata": {},
   "outputs": [],
   "source": [
    "merged_df.sort_values(by='genetics-ai', ascending=True).head(5)"
   ]
  },
  {
   "cell_type": "markdown",
   "id": "b27ff14e",
   "metadata": {},
   "source": [
    "Papers that did very well in Genetics and very poorly in ai include:\n",
    "- \"Active learning for computational chemogenomics\"\n",
    "- \"O-GlcNAcPRED-II: an integrated classification algorithm for identifying O-GlcNAcylation sites based on fuzzy undersampling and a K-means PCA oversampling technique\"\n",
    "- \"Identifying RNA 5-methylcytosine sites via pseudo nucleotide compositions\"\n",
    "- \"AOD: the antioxidant protein database\"\n",
    "- \"University of Turku in the BioNLP'11 Shared Task\"\n",
    "\n",
    "Papers that did well in AI but poorly in genetics:\n",
    "- \"The genomics of selection in dogs and the parallel evolution between dogs and humans\"\n",
    "- \"Population genomic evidence for adaptive differentiation in Baltic Sea three-spined sticklebacks\"\n",
    "- \"A Novel Method for the Simultaneous Enrichment, Identification, and Quantification of Phosphopeptides and Sialylated Glycopeptides Applied to a Temporal Profile of Mouse Brain Development*\"\n",
    "- \"Use of resistance surfaces for landscape genetic studies: considerations for parameterization and analysis\n",
    "- \"Adaptations to Climate-Mediated Selective Pressures in Sheep \"\n"
   ]
  },
  {
   "cell_type": "markdown",
   "id": "f22d9e43",
   "metadata": {},
   "source": [
    "## Merged results\n",
    "### Comp bio vs Genetics"
   ]
  },
  {
   "cell_type": "code",
   "execution_count": null,
   "id": "ff75e2e5",
   "metadata": {},
   "outputs": [],
   "source": [
    "genetics_shuffled = glob.glob('../output/shuffle_results/genetics-computational_biology*-pagerank.pkl')\n",
    "\n",
    "doi_to_shuffled_metrics = {}\n",
    "\n",
    "for path in genetics_shuffled:\n",
    "    with open(path, 'rb') as in_file:\n",
    "        result = pkl.load(in_file)\n",
    "        for doi, value in result.items():\n",
    "            if doi in doi_to_shuffled_metrics:\n",
    "                doi_to_shuffled_metrics[doi].append(value)\n",
    "            else:\n",
    "                doi_to_shuffled_metrics[doi] = [value]\n",
    "                "
   ]
  },
  {
   "cell_type": "code",
   "execution_count": null,
   "id": "3f5262ea",
   "metadata": {},
   "outputs": [],
   "source": [
    "for doi, vals in doi_to_shuffled_metrics.items():\n",
    "    doi_to_shuffled_metrics[doi] = sorted(vals)"
   ]
  },
  {
   "cell_type": "code",
   "execution_count": null,
   "id": "b3f7a779",
   "metadata": {},
   "outputs": [],
   "source": [
    "with open('../output/genetics-computational_biology-pagerank.pkl', 'rb') as in_file:\n",
    "    true_vals = pkl.load(in_file)"
   ]
  },
  {
   "cell_type": "code",
   "execution_count": null,
   "id": "ecb1af33",
   "metadata": {},
   "outputs": [],
   "source": [
    "genetics_df = calculate_percentiles(true_vals, doi_to_shuffled_metrics)\n",
    "genetics_df"
   ]
  },
  {
   "cell_type": "code",
   "execution_count": null,
   "id": "91617ad8",
   "metadata": {},
   "outputs": [],
   "source": [
    "genetics_df['percentile'].hist()"
   ]
  },
  {
   "cell_type": "code",
   "execution_count": null,
   "id": "e2e45814",
   "metadata": {},
   "outputs": [],
   "source": [
    "comp_bio_shuffled = glob.glob('../output/shuffle_results/computational_biology-genetics*-pagerank.pkl')\n",
    "\n",
    "doi_to_shuffled_metrics = {}\n",
    "\n",
    "for path in comp_bio_shuffled:\n",
    "    with open(path, 'rb') as in_file:\n",
    "        result = pkl.load(in_file)\n",
    "        for doi, value in result.items():\n",
    "            if doi in doi_to_shuffled_metrics:\n",
    "                doi_to_shuffled_metrics[doi].append(value)\n",
    "            else:\n",
    "                doi_to_shuffled_metrics[doi] = [value]\n",
    "                "
   ]
  },
  {
   "cell_type": "code",
   "execution_count": null,
   "id": "4288076f",
   "metadata": {},
   "outputs": [],
   "source": [
    "for doi, vals in doi_to_shuffled_metrics.items():\n",
    "    doi_to_shuffled_metrics[doi] = sorted(vals)"
   ]
  },
  {
   "cell_type": "code",
   "execution_count": null,
   "id": "1ee4347d",
   "metadata": {},
   "outputs": [],
   "source": [
    "with open('../output/computational_biology-genetics-pagerank.pkl', 'rb') as in_file:\n",
    "    true_vals = pkl.load(in_file)"
   ]
  },
  {
   "cell_type": "code",
   "execution_count": null,
   "id": "c2716ca5",
   "metadata": {},
   "outputs": [],
   "source": [
    "comp_bio_df = calculate_percentiles(true_vals, doi_to_shuffled_metrics)\n",
    "comp_bio_df"
   ]
  },
  {
   "cell_type": "code",
   "execution_count": null,
   "id": "1f1d6136",
   "metadata": {},
   "outputs": [],
   "source": [
    "merged_df = genetics_df.merge(comp_bio_df, on='doi')\n",
    "merged_df = merged_df.rename({'pagerank_x': 'genetics_pagerank', 'pagerank_y': 'comp_bio_pagerank',\n",
    "                              'percentile_x': 'genetics_percentile', 'percentile_y': 'comp_bio_percentile'}, \n",
    "                             axis='columns')\n",
    "merged_df['cb-genetics'] = merged_df['comp_bio_percentile'] - merged_df['genetics_percentile']\n",
    "\n",
    "merged_df"
   ]
  },
  {
   "cell_type": "code",
   "execution_count": null,
   "id": "b7c0b6f8",
   "metadata": {},
   "outputs": [],
   "source": [
    "fig = px.scatter(merged_df, x='comp_bio_pagerank', y='genetics_pagerank', log_x=True, log_y=True, \n",
    "                 opacity=.3, color='comp_bio_percentile', title='Comp bio percentiles')\n",
    "fig.show()"
   ]
  },
  {
   "cell_type": "code",
   "execution_count": null,
   "id": "7788635e",
   "metadata": {},
   "outputs": [],
   "source": [
    "fig = px.scatter(merged_df, x='comp_bio_pagerank', y='genetics_pagerank', log_x=True, log_y=True, \n",
    "                 opacity=.3, color='genetics_percentile', title='genetics percentiles')\n",
    "fig.show()"
   ]
  },
  {
   "cell_type": "code",
   "execution_count": null,
   "id": "770fee6b",
   "metadata": {},
   "outputs": [],
   "source": [
    "fig = px.scatter(merged_df, x='comp_bio_pagerank', y='genetics_pagerank', log_x=True, log_y=True, \n",
    "                 opacity=.5, color='cb-genetics', color_continuous_scale='RdBu', hover_data=['doi'],\n",
    "                 title='Relative importance of papers in comp bio and genetics')\n",
    "fig.show()"
   ]
  },
  {
   "cell_type": "code",
   "execution_count": null,
   "id": "66fc6a61",
   "metadata": {},
   "outputs": [],
   "source": [
    "# Get papers that did surprisingly well in comp bio but surprisingly poorly in genetics\n",
    "merged_df.sort_values(by='cb-genetics', ascending=False).head(5)"
   ]
  },
  {
   "cell_type": "code",
   "execution_count": null,
   "id": "7ed64f6b",
   "metadata": {},
   "outputs": [],
   "source": [
    "merged_df.sort_values(by='cb-genetics', ascending=True).head(5)"
   ]
  },
  {
   "cell_type": "markdown",
   "id": "611b24c7",
   "metadata": {},
   "source": [
    "### High CB-genetics:\n",
    "- Nonlinear Data Alignment for UPLC−MS and HPLC−MS Based Metabolomics:  Quantitative Analysis of Endogenous and Exogenous Metabolites in Human Serum\n",
    "- Plant metabolomics: from holistic hope, to hype, to hot topic\n",
    "- Engineered gene circuits\n",
    "- Genetics Meets Metabolomics: A Genome-Wide Association Study of Metabolite Profiles in Human Serum\n",
    "- Metabonomics Techniques and Applications to Pharmaceutical Research & Development\n",
    "\n",
    "### Low CB - genetics:\n",
    "- PhylOTU: A High-Throughput Procedure Quantifies Microbial Community Diversity and Resolves Novel Taxa from Metagenomic Data\n",
    "- Functional metagenomic profiling of nine biomes\n",
    "- A human gut microbial gene catalogue established by metagenomic sequencing\n",
    "- Phymm and PhymmBL: metagenomic phylogenetic classification with interpolated Markov models\n",
    "- The Plant Ontology as a Tool for Comparative Plant Anatomy and Genomic Analyses "
   ]
  },
  {
   "cell_type": "markdown",
   "id": "7efbbf83",
   "metadata": {},
   "source": [
    "### Comp bio vs AI"
   ]
  },
  {
   "cell_type": "code",
   "execution_count": null,
   "id": "9a489bce",
   "metadata": {},
   "outputs": [],
   "source": [
    "artificial_intelligence_shuffled = glob.glob('../output/shuffle_results/artificial_intelligence-computational_biology*-pagerank.pkl')\n",
    "\n",
    "doi_to_shuffled_metrics = {}\n",
    "\n",
    "for path in artificial_intelligence_shuffled:\n",
    "    with open(path, 'rb') as in_file:\n",
    "        result = pkl.load(in_file)\n",
    "        for doi, value in result.items():\n",
    "            if doi in doi_to_shuffled_metrics:\n",
    "                doi_to_shuffled_metrics[doi].append(value)\n",
    "            else:\n",
    "                doi_to_shuffled_metrics[doi] = [value]\n",
    "                "
   ]
  },
  {
   "cell_type": "code",
   "execution_count": null,
   "id": "1ac55966",
   "metadata": {},
   "outputs": [],
   "source": [
    "for doi, vals in doi_to_shuffled_metrics.items():\n",
    "    doi_to_shuffled_metrics[doi] = sorted(vals)"
   ]
  },
  {
   "cell_type": "code",
   "execution_count": null,
   "id": "b5cb350b",
   "metadata": {},
   "outputs": [],
   "source": [
    "with open('../output/artificial_intelligence-computational_biology-pagerank.pkl', 'rb') as in_file:\n",
    "    true_vals = pkl.load(in_file)"
   ]
  },
  {
   "cell_type": "code",
   "execution_count": null,
   "id": "9f8e58a5",
   "metadata": {},
   "outputs": [],
   "source": [
    "artificial_intelligence_df = calculate_percentiles(true_vals, doi_to_shuffled_metrics)\n",
    "artificial_intelligence_df"
   ]
  },
  {
   "cell_type": "code",
   "execution_count": null,
   "id": "36216064",
   "metadata": {},
   "outputs": [],
   "source": [
    "comp_bio_shuffled = glob.glob('../output/shuffle_results/computational_biology-artificial_intelligence*-pagerank.pkl')\n",
    "\n",
    "doi_to_shuffled_metrics = {}\n",
    "\n",
    "for path in comp_bio_shuffled:\n",
    "    with open(path, 'rb') as in_file:\n",
    "        result = pkl.load(in_file)\n",
    "        for doi, value in result.items():\n",
    "            if doi in doi_to_shuffled_metrics:\n",
    "                doi_to_shuffled_metrics[doi].append(value)\n",
    "            else:\n",
    "                doi_to_shuffled_metrics[doi] = [value]\n",
    "                "
   ]
  },
  {
   "cell_type": "code",
   "execution_count": null,
   "id": "3d7109df",
   "metadata": {},
   "outputs": [],
   "source": [
    "for doi, vals in doi_to_shuffled_metrics.items():\n",
    "    doi_to_shuffled_metrics[doi] = sorted(vals)"
   ]
  },
  {
   "cell_type": "code",
   "execution_count": null,
   "id": "37f8685c",
   "metadata": {},
   "outputs": [],
   "source": [
    "with open('../output/computational_biology-artificial_intelligence-pagerank.pkl', 'rb') as in_file:\n",
    "    true_vals = pkl.load(in_file)"
   ]
  },
  {
   "cell_type": "code",
   "execution_count": null,
   "id": "a6c722c6",
   "metadata": {},
   "outputs": [],
   "source": [
    "comp_bio_df = calculate_percentiles(true_vals, doi_to_shuffled_metrics)\n",
    "comp_bio_df"
   ]
  },
  {
   "cell_type": "code",
   "execution_count": null,
   "id": "2d07d295",
   "metadata": {},
   "outputs": [],
   "source": [
    "merged_df = artificial_intelligence_df.merge(comp_bio_df, on='doi')\n",
    "merged_df = merged_df.rename({'pagerank_x': 'ai_pagerank', 'pagerank_y': 'comp_bio_pagerank',\n",
    "                              'percentile_x': 'ai_percentile', 'percentile_y': 'comp_bio_percentile'}, \n",
    "                             axis='columns')\n",
    "merged_df['cb-ai'] = merged_df['comp_bio_percentile'] - merged_df['ai_percentile']\n",
    "\n",
    "merged_df"
   ]
  },
  {
   "cell_type": "code",
   "execution_count": null,
   "id": "c17fbfaa",
   "metadata": {},
   "outputs": [],
   "source": [
    "fig = px.scatter(merged_df, x='comp_bio_pagerank', y='ai_pagerank', log_x=True, log_y=True, \n",
    "                 opacity=.3, color='comp_bio_percentile', title='Comp bio percentiles')\n",
    "fig.show()"
   ]
  },
  {
   "cell_type": "code",
   "execution_count": null,
   "id": "d3300092",
   "metadata": {},
   "outputs": [],
   "source": [
    "fig = px.scatter(merged_df, x='comp_bio_pagerank', y='ai_pagerank', log_x=True, log_y=True, \n",
    "                 opacity=.3, color='ai_percentile', title='ai percentiles')\n",
    "fig.show()"
   ]
  },
  {
   "cell_type": "code",
   "execution_count": null,
   "id": "76d4043b",
   "metadata": {},
   "outputs": [],
   "source": [
    "fig = px.scatter(merged_df, x='comp_bio_pagerank', y='ai_pagerank', log_x=True, log_y=True, \n",
    "                 opacity=.5, color='cb-ai', color_continuous_scale='RdBu', hover_data=['doi'],\n",
    "                 title='Relative importance of papers in comp bio and ai')\n",
    "fig.show()"
   ]
  },
  {
   "cell_type": "code",
   "execution_count": null,
   "id": "fd02093a",
   "metadata": {},
   "outputs": [],
   "source": [
    "# Get papers that did surprisingly well in comp bio but surprisingly poorly in ai\n",
    "merged_df.sort_values(by='cb-ai', ascending=False).head(5)"
   ]
  },
  {
   "cell_type": "code",
   "execution_count": null,
   "id": "edff836d",
   "metadata": {},
   "outputs": [],
   "source": [
    "merged_df.sort_values(by='cb-ai', ascending=True).head(5)"
   ]
  },
  {
   "cell_type": "markdown",
   "id": "aaeb9413",
   "metadata": {},
   "source": [
    "### High CB-ai:\n",
    "- Automated generation of heuristics for biological sequence comparison\n",
    "- Improving accuracy of microarray classification by a simple multi-task feature selection filter\n",
    "- Construction and analysis of arrayed cDNA libraries\n",
    "- Better prediction of sub-cellular localization by combining evolutionary and structural information\n",
    "- Brain-Wide Genome-Wide Association Study for Alzheimer's Disease via Joint Projection Learning and Sparse Regression Model\n",
    "\n",
    "### Low CB - ai:\n",
    "- A Simple Algorithm for Identifying Negated Findings and Diseases in Discharge Summaries\n",
    "- Combining multi-species genomic data for microRNA identification using a Naïve Bayes classifier \n",
    "- Deep learning of the tissue-regulated splicing code \n",
    "- Activities at the Universal Protein Resource (UniProt) \n",
    "- Enhanced Regulatory Sequence Prediction Using Gapped k-mer Features"
   ]
  },
  {
   "cell_type": "markdown",
   "id": "f6eb43d6",
   "metadata": {},
   "source": [
    "### AI vs genetics"
   ]
  },
  {
   "cell_type": "code",
   "execution_count": null,
   "id": "fc70ff8e",
   "metadata": {},
   "outputs": [],
   "source": [
    "artificial_intelligence_shuffled = glob.glob('../output/shuffle_results/artificial_intelligence-genetics*-pagerank.pkl')\n",
    "\n",
    "doi_to_shuffled_metrics = {}\n",
    "\n",
    "for path in artificial_intelligence_shuffled:\n",
    "    with open(path, 'rb') as in_file:\n",
    "        result = pkl.load(in_file)\n",
    "        for doi, value in result.items():\n",
    "            if doi in doi_to_shuffled_metrics:\n",
    "                doi_to_shuffled_metrics[doi].append(value)\n",
    "            else:\n",
    "                doi_to_shuffled_metrics[doi] = [value]\n",
    "                "
   ]
  },
  {
   "cell_type": "code",
   "execution_count": null,
   "id": "f16e9e49",
   "metadata": {},
   "outputs": [],
   "source": [
    "for doi, vals in doi_to_shuffled_metrics.items():\n",
    "    doi_to_shuffled_metrics[doi] = sorted(vals)"
   ]
  },
  {
   "cell_type": "code",
   "execution_count": null,
   "id": "11852aff",
   "metadata": {},
   "outputs": [],
   "source": [
    "with open('../output/artificial_intelligence-genetics-pagerank.pkl', 'rb') as in_file:\n",
    "    true_vals = pkl.load(in_file)"
   ]
  },
  {
   "cell_type": "code",
   "execution_count": null,
   "id": "a6ded84f",
   "metadata": {},
   "outputs": [],
   "source": [
    "artificial_intelligence_df = calculate_percentiles(true_vals, doi_to_shuffled_metrics)\n",
    "artificial_intelligence_df"
   ]
  },
  {
   "cell_type": "code",
   "execution_count": null,
   "id": "983c7e58",
   "metadata": {},
   "outputs": [],
   "source": [
    "genetics_shuffled = glob.glob('../output/shuffle_results/genetics-artificial_intelligence*-pagerank.pkl')\n",
    "\n",
    "doi_to_shuffled_metrics = {}\n",
    "\n",
    "for path in genetics_shuffled:\n",
    "    with open(path, 'rb') as in_file:\n",
    "        result = pkl.load(in_file)\n",
    "        for doi, value in result.items():\n",
    "            if doi in doi_to_shuffled_metrics:\n",
    "                doi_to_shuffled_metrics[doi].append(value)\n",
    "            else:\n",
    "                doi_to_shuffled_metrics[doi] = [value]\n",
    "                "
   ]
  },
  {
   "cell_type": "code",
   "execution_count": null,
   "id": "7c2ec119",
   "metadata": {},
   "outputs": [],
   "source": [
    "for doi, vals in doi_to_shuffled_metrics.items():\n",
    "    doi_to_shuffled_metrics[doi] = sorted(vals)"
   ]
  },
  {
   "cell_type": "code",
   "execution_count": null,
   "id": "307366b7",
   "metadata": {},
   "outputs": [],
   "source": [
    "with open('../output/genetics-artificial_intelligence-pagerank.pkl', 'rb') as in_file:\n",
    "    true_vals = pkl.load(in_file)"
   ]
  },
  {
   "cell_type": "code",
   "execution_count": null,
   "id": "3c8d0588",
   "metadata": {},
   "outputs": [],
   "source": [
    "genetics_df = calculate_percentiles(true_vals, doi_to_shuffled_metrics)\n",
    "genetics_df"
   ]
  },
  {
   "cell_type": "code",
   "execution_count": null,
   "id": "1a4bb964",
   "metadata": {},
   "outputs": [],
   "source": [
    "merged_df = artificial_intelligence_df.merge(genetics_df, on='doi')\n",
    "merged_df = merged_df.rename({'pagerank_x': 'ai_pagerank', 'pagerank_y': 'genetics_pagerank',\n",
    "                              'percentile_x': 'ai_percentile', 'percentile_y': 'genetics_percentile'}, \n",
    "                             axis='columns')\n",
    "merged_df['genetics-ai'] = merged_df['genetics_percentile'] - merged_df['ai_percentile']\n",
    "\n",
    "merged_df"
   ]
  },
  {
   "cell_type": "code",
   "execution_count": null,
   "id": "78a285ab",
   "metadata": {},
   "outputs": [],
   "source": [
    "fig = px.scatter(merged_df, x='genetics_pagerank', y='ai_pagerank', log_x=True, log_y=True, \n",
    "                 opacity=.3, color='genetics_percentile', title='Genetics percentiles')\n",
    "fig.show()"
   ]
  },
  {
   "cell_type": "code",
   "execution_count": null,
   "id": "e87162b5",
   "metadata": {},
   "outputs": [],
   "source": [
    "fig = px.scatter(merged_df, x='genetics_pagerank', y='ai_pagerank', log_x=True, log_y=True, \n",
    "                 opacity=.3, color='ai_percentile', title='AI percentiles')\n",
    "fig.show()"
   ]
  },
  {
   "cell_type": "code",
   "execution_count": null,
   "id": "f0c627e5",
   "metadata": {},
   "outputs": [],
   "source": [
    "fig = px.scatter(merged_df, x='genetics_pagerank', y='ai_pagerank', log_x=True, log_y=True, \n",
    "                 opacity=.5, color='genetics-ai', color_continuous_scale='RdBu', hover_data=['doi'],\n",
    "                 title='Relative importance of papers in genetics and ai')\n",
    "fig.show()"
   ]
  },
  {
   "cell_type": "code",
   "execution_count": null,
   "id": "a792399a",
   "metadata": {},
   "outputs": [],
   "source": [
    "# Get papers that did surprisingly well in genetics but surprisingly poorly in ai\n",
    "merged_df.sort_values(by='genetics-ai', ascending=False).head(5)"
   ]
  },
  {
   "cell_type": "code",
   "execution_count": null,
   "id": "d3678d93",
   "metadata": {},
   "outputs": [],
   "source": [
    "merged_df.sort_values(by='genetics-ai', ascending=True).head(5)"
   ]
  },
  {
   "cell_type": "markdown",
   "id": "2bd14527",
   "metadata": {},
   "source": [
    "### High genetics-ai:\n",
    "- RAxML-III: a fast program for maximum likelihood-based inference of large phylogenetic trees \n",
    "- Construction and analysis of arrayed cDNA libraries\n",
    "- Identification of novel genes associated with fracture healing in osteoporosis induced by Krm2 overexpression or Lrp5 deficiency\n",
    "- Hierarchical Convolutional Neural Networks for Segmentation of Breast Tumors in MRI With Application to Radiogenomics\n",
    "- Dragon TIS Spotter: an Arabidopsis-derived predictor of translation initiation sites in plants \n",
    "\n",
    "### Low genetics - ai:\n",
    "- kmer-SVM: a web server for identifying predictive regulatory sequence features in genomic data sets \n",
    "- Hairpins in a Haystack: recognizing microRNA precursors in comparative genomics data \n",
    "- pDeep: Predicting MS/MS Spectra of Peptides with Deep Learning\n",
    "- Hierarchical boosting: a machine-learning framework to detect and classify hard selective sweeps in human populations \n",
    "- Deep learning of the tissue-regulated splicing code \n"
   ]
  }
 ],
 "metadata": {
  "kernelspec": {
   "display_name": "Python 3 (ipykernel)",
   "language": "python",
   "name": "python3"
  },
  "language_info": {
   "codemirror_mode": {
    "name": "ipython",
    "version": 3
   },
   "file_extension": ".py",
   "mimetype": "text/x-python",
   "name": "python",
   "nbconvert_exporter": "python",
   "pygments_lexer": "ipython3",
   "version": "3.10.4"
  }
 },
 "nbformat": 4,
 "nbformat_minor": 5
}
