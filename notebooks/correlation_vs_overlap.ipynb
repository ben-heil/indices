{
 "cells": [
  {
   "cell_type": "code",
   "execution_count": 1,
   "id": "3c999ac1",
   "metadata": {},
   "outputs": [],
   "source": [
    "import glob\n",
    "import itertools\n",
    "import os\n",
    "import pickle\n",
    "\n",
    "import numpy as np\n",
    "import pandas as pd\n",
    "import plotly.express as px"
   ]
  },
  {
   "cell_type": "code",
   "execution_count": 2,
   "id": "f0ab8571",
   "metadata": {},
   "outputs": [],
   "source": [
    "def reformat_results(results, field):\n",
    "\n",
    "    reformatted_results = {'doi': [], 'pagerank': []}\n",
    "\n",
    "    for doi, score in results.items():\n",
    "        reformatted_results['doi'].append(doi)\n",
    "        reformatted_results['pagerank'].append(score)\n",
    "    result_df = pd.DataFrame(reformatted_results)\n",
    "    result_df['field'] = field\n",
    "    \n",
    "    return result_df"
   ]
  },
  {
   "cell_type": "code",
   "execution_count": 3,
   "id": "32b7e6d6",
   "metadata": {},
   "outputs": [
    {
     "name": "stdout",
     "output_type": "stream",
     "text": [
      "dental_informatics\n",
      "artificial_intelligence\n",
      "sociobiology\n",
      "natural_history\n",
      "synthetic_biology\n",
      "cellular_automata\n",
      "public_health_informatics\n",
      "computational_biology\n",
      "zoology\n",
      "developmental_biology\n",
      "cryobiology\n",
      "consumer_health_informatics\n",
      "exobiology\n",
      "latent_class_analysis\n",
      "radiobiology\n",
      "genetics\n",
      "neurobiology\n",
      "parasitology\n",
      "botany\n",
      "photobiology\n",
      "laboratory_animal_science\n",
      "cheminformatics\n",
      "cell_biology\n",
      "ecology\n",
      "microbiology\n",
      "medical_informatics\n",
      "nursing_informatics\n"
     ]
    },
    {
     "data": {
      "text/html": [
       "<div>\n",
       "<style scoped>\n",
       "    .dataframe tbody tr th:only-of-type {\n",
       "        vertical-align: middle;\n",
       "    }\n",
       "\n",
       "    .dataframe tbody tr th {\n",
       "        vertical-align: top;\n",
       "    }\n",
       "\n",
       "    .dataframe thead th {\n",
       "        text-align: right;\n",
       "    }\n",
       "</style>\n",
       "<table border=\"1\" class=\"dataframe\">\n",
       "  <thead>\n",
       "    <tr style=\"text-align: right;\">\n",
       "      <th></th>\n",
       "      <th>doi</th>\n",
       "      <th>pagerank</th>\n",
       "      <th>field</th>\n",
       "    </tr>\n",
       "  </thead>\n",
       "  <tbody>\n",
       "    <tr>\n",
       "      <th>0</th>\n",
       "      <td>10.1016/j.oooo.2015.02.484</td>\n",
       "      <td>0.031623</td>\n",
       "      <td>dental_informatics</td>\n",
       "    </tr>\n",
       "    <tr>\n",
       "      <th>1</th>\n",
       "      <td>10.14219/jada.archive.2008.0105</td>\n",
       "      <td>0.078961</td>\n",
       "      <td>dental_informatics</td>\n",
       "    </tr>\n",
       "    <tr>\n",
       "      <th>2</th>\n",
       "      <td>10.1177/0022034513487560</td>\n",
       "      <td>0.031623</td>\n",
       "      <td>dental_informatics</td>\n",
       "    </tr>\n",
       "    <tr>\n",
       "      <th>3</th>\n",
       "      <td>10.14219/jada.archive.2013.0013</td>\n",
       "      <td>0.058503</td>\n",
       "      <td>dental_informatics</td>\n",
       "    </tr>\n",
       "    <tr>\n",
       "      <th>4</th>\n",
       "      <td>10.1016/j.cden.2011.02.010</td>\n",
       "      <td>0.031623</td>\n",
       "      <td>dental_informatics</td>\n",
       "    </tr>\n",
       "    <tr>\n",
       "      <th>...</th>\n",
       "      <td>...</td>\n",
       "      <td>...</td>\n",
       "      <td>...</td>\n",
       "    </tr>\n",
       "    <tr>\n",
       "      <th>452</th>\n",
       "      <td>10.1590/s0104-11692011000600015</td>\n",
       "      <td>0.001154</td>\n",
       "      <td>nursing_informatics</td>\n",
       "    </tr>\n",
       "    <tr>\n",
       "      <th>453</th>\n",
       "      <td>10.1016/j.outlook.2008.07.003</td>\n",
       "      <td>0.001154</td>\n",
       "      <td>nursing_informatics</td>\n",
       "    </tr>\n",
       "    <tr>\n",
       "      <th>454</th>\n",
       "      <td>10.1016/j.apnr.2005.02.001</td>\n",
       "      <td>0.002135</td>\n",
       "      <td>nursing_informatics</td>\n",
       "    </tr>\n",
       "    <tr>\n",
       "      <th>455</th>\n",
       "      <td>10.1097/00006216-200010000-00026</td>\n",
       "      <td>0.009236</td>\n",
       "      <td>nursing_informatics</td>\n",
       "    </tr>\n",
       "    <tr>\n",
       "      <th>456</th>\n",
       "      <td>10.12927/cjnl.2020.26188</td>\n",
       "      <td>0.001276</td>\n",
       "      <td>nursing_informatics</td>\n",
       "    </tr>\n",
       "  </tbody>\n",
       "</table>\n",
       "<p>949426 rows × 3 columns</p>\n",
       "</div>"
      ],
      "text/plain": [
       "                                  doi  pagerank                field\n",
       "0          10.1016/j.oooo.2015.02.484  0.031623   dental_informatics\n",
       "1     10.14219/jada.archive.2008.0105  0.078961   dental_informatics\n",
       "2            10.1177/0022034513487560  0.031623   dental_informatics\n",
       "3     10.14219/jada.archive.2013.0013  0.058503   dental_informatics\n",
       "4          10.1016/j.cden.2011.02.010  0.031623   dental_informatics\n",
       "..                                ...       ...                  ...\n",
       "452   10.1590/s0104-11692011000600015  0.001154  nursing_informatics\n",
       "453     10.1016/j.outlook.2008.07.003  0.001154  nursing_informatics\n",
       "454        10.1016/j.apnr.2005.02.001  0.002135  nursing_informatics\n",
       "455  10.1097/00006216-200010000-00026  0.009236  nursing_informatics\n",
       "456          10.12927/cjnl.2020.26188  0.001276  nursing_informatics\n",
       "\n",
       "[949426 rows x 3 columns]"
      ]
     },
     "execution_count": 3,
     "metadata": {},
     "output_type": "execute_result"
    }
   ],
   "source": [
    "metric_files = glob.glob('../output/*-pagerank.pkl')\n",
    "metric_files = [f for f in metric_files if 'first_degree' not in f]\n",
    "\n",
    "all_results = pd.DataFrame()\n",
    "\n",
    "for file in metric_files:\n",
    "    field = os.path.basename(file).split('-')[0]\n",
    "    print(field)\n",
    "    \n",
    "    with open(file, 'rb') as in_file:\n",
    "        results = pickle.load(in_file)\n",
    "    result_df = reformat_results(results, field)\n",
    "    all_results = pd.concat([all_results, result_df])\n",
    "all_results"
   ]
  },
  {
   "cell_type": "code",
   "execution_count": 4,
   "id": "386c46bd",
   "metadata": {},
   "outputs": [
    {
     "data": {
      "text/plain": [
       "10.1038/s41556-021-00787-7        5\n",
       "10.1016/j.tig.2017.11.002         5\n",
       "10.1371/journal.pbio.3000999      5\n",
       "10.1126/scisignal.2004657         5\n",
       "10.1093/bib/bbx035                5\n",
       "                                 ..\n",
       "10.1016/j.virusres.2012.10.023    1\n",
       "10.1016/j.virusres.2012.07.028    1\n",
       "10.1016/j.virusres.2012.06.023    1\n",
       "10.1097/coh.0b013e32832c0672      1\n",
       "10.12927/cjnl.2020.26188          1\n",
       "Name: doi, Length: 754771, dtype: int64"
      ]
     },
     "execution_count": 4,
     "metadata": {},
     "output_type": "execute_result"
    }
   ],
   "source": [
    "all_results['doi'].value_counts()"
   ]
  },
  {
   "cell_type": "code",
   "execution_count": 5,
   "id": "466bb55a",
   "metadata": {},
   "outputs": [
    {
     "data": {
      "text/plain": [
       "array(['dental_informatics', 'artificial_intelligence', 'sociobiology',\n",
       "       'natural_history', 'synthetic_biology', 'cellular_automata',\n",
       "       'public_health_informatics', 'computational_biology', 'zoology',\n",
       "       'developmental_biology', 'cryobiology',\n",
       "       'consumer_health_informatics', 'exobiology',\n",
       "       'latent_class_analysis', 'radiobiology', 'genetics',\n",
       "       'neurobiology', 'parasitology', 'botany', 'photobiology',\n",
       "       'laboratory_animal_science', 'cheminformatics', 'cell_biology',\n",
       "       'ecology', 'microbiology', 'medical_informatics',\n",
       "       'nursing_informatics'], dtype=object)"
      ]
     },
     "execution_count": 5,
     "metadata": {},
     "output_type": "execute_result"
    }
   ],
   "source": [
    "fields = all_results['field'].unique()\n",
    "fields"
   ]
  },
  {
   "cell_type": "code",
   "execution_count": 6,
   "id": "ac44b04e",
   "metadata": {},
   "outputs": [],
   "source": [
    "groups = all_results.groupby(\"field\")"
   ]
  },
  {
   "cell_type": "code",
   "execution_count": 7,
   "id": "45f4dd24",
   "metadata": {},
   "outputs": [
    {
     "name": "stdout",
     "output_type": "stream",
     "text": [
      "CPU times: user 30.2 s, sys: 3.32 ms, total: 30.2 s\n",
      "Wall time: 30.2 s\n"
     ]
    }
   ],
   "source": [
    "%%time\n",
    "pairs = []\n",
    "intersections = []\n",
    "correlations = []\n",
    "intersection_counts = []\n",
    "for field1, field2 in itertools.combinations_with_replacement(fields, 2):\n",
    "    if field1 == field2:\n",
    "        continue\n",
    "    \n",
    "    group1 = groups.get_group(field1)\n",
    "    group2 = groups.get_group(field2)\n",
    "    intersect_count = len(np.intersect1d(group1.doi, group2.doi))\n",
    "    intersect_percent = intersect_count / (len(group1) + len(group2) - intersect_count)\n",
    "    \n",
    "    if intersect_count < 100:\n",
    "        continue\n",
    "    \n",
    "    merged = group1.merge(group2, on='doi')\n",
    "    correlation = merged['pagerank_x'].corr(merged['pagerank_y'])\n",
    "    pairs.append((field1, field2))\n",
    "    intersections.append(intersect_percent)\n",
    "    intersection_counts.append(intersect_count)\n",
    "    correlations.append(correlation)"
   ]
  },
  {
   "cell_type": "code",
   "execution_count": 8,
   "id": "ee93aff9",
   "metadata": {},
   "outputs": [],
   "source": [
    "fields1 = [pair[0] for pair in pairs]\n",
    "fields2 = [pair[1] for pair in pairs]"
   ]
  },
  {
   "cell_type": "code",
   "execution_count": 9,
   "id": "645f8cd8",
   "metadata": {},
   "outputs": [],
   "source": [
    "overlap_df = pd.DataFrame({'field1': fields1, 'field2': fields2, 'intersection': intersections, \n",
    "                           'correlation': correlations, 'intersection_counts': intersection_counts})"
   ]
  },
  {
   "cell_type": "code",
   "execution_count": 10,
   "id": "c2a49d78",
   "metadata": {},
   "outputs": [
    {
     "data": {
      "text/html": [
       "<div>\n",
       "<style scoped>\n",
       "    .dataframe tbody tr th:only-of-type {\n",
       "        vertical-align: middle;\n",
       "    }\n",
       "\n",
       "    .dataframe tbody tr th {\n",
       "        vertical-align: top;\n",
       "    }\n",
       "\n",
       "    .dataframe thead th {\n",
       "        text-align: right;\n",
       "    }\n",
       "</style>\n",
       "<table border=\"1\" class=\"dataframe\">\n",
       "  <thead>\n",
       "    <tr style=\"text-align: right;\">\n",
       "      <th></th>\n",
       "      <th>field1</th>\n",
       "      <th>field2</th>\n",
       "      <th>intersection</th>\n",
       "      <th>correlation</th>\n",
       "      <th>intersection_counts</th>\n",
       "    </tr>\n",
       "  </thead>\n",
       "  <tbody>\n",
       "    <tr>\n",
       "      <th>0</th>\n",
       "      <td>artificial_intelligence</td>\n",
       "      <td>computational_biology</td>\n",
       "      <td>0.030411</td>\n",
       "      <td>0.800098</td>\n",
       "      <td>8816</td>\n",
       "    </tr>\n",
       "    <tr>\n",
       "      <th>1</th>\n",
       "      <td>artificial_intelligence</td>\n",
       "      <td>genetics</td>\n",
       "      <td>0.025441</td>\n",
       "      <td>0.456514</td>\n",
       "      <td>7709</td>\n",
       "    </tr>\n",
       "    <tr>\n",
       "      <th>2</th>\n",
       "      <td>artificial_intelligence</td>\n",
       "      <td>microbiology</td>\n",
       "      <td>0.000862</td>\n",
       "      <td>0.371046</td>\n",
       "      <td>176</td>\n",
       "    </tr>\n",
       "    <tr>\n",
       "      <th>3</th>\n",
       "      <td>artificial_intelligence</td>\n",
       "      <td>medical_informatics</td>\n",
       "      <td>0.080909</td>\n",
       "      <td>0.702763</td>\n",
       "      <td>30607</td>\n",
       "    </tr>\n",
       "    <tr>\n",
       "      <th>4</th>\n",
       "      <td>synthetic_biology</td>\n",
       "      <td>computational_biology</td>\n",
       "      <td>0.001760</td>\n",
       "      <td>0.475627</td>\n",
       "      <td>351</td>\n",
       "    </tr>\n",
       "    <tr>\n",
       "      <th>5</th>\n",
       "      <td>synthetic_biology</td>\n",
       "      <td>genetics</td>\n",
       "      <td>0.000652</td>\n",
       "      <td>0.446581</td>\n",
       "      <td>138</td>\n",
       "    </tr>\n",
       "    <tr>\n",
       "      <th>6</th>\n",
       "      <td>synthetic_biology</td>\n",
       "      <td>microbiology</td>\n",
       "      <td>0.000968</td>\n",
       "      <td>0.858166</td>\n",
       "      <td>102</td>\n",
       "    </tr>\n",
       "    <tr>\n",
       "      <th>7</th>\n",
       "      <td>computational_biology</td>\n",
       "      <td>genetics</td>\n",
       "      <td>0.382290</td>\n",
       "      <td>0.933075</td>\n",
       "      <td>112008</td>\n",
       "    </tr>\n",
       "    <tr>\n",
       "      <th>8</th>\n",
       "      <td>computational_biology</td>\n",
       "      <td>ecology</td>\n",
       "      <td>0.002125</td>\n",
       "      <td>0.453726</td>\n",
       "      <td>453</td>\n",
       "    </tr>\n",
       "    <tr>\n",
       "      <th>9</th>\n",
       "      <td>computational_biology</td>\n",
       "      <td>microbiology</td>\n",
       "      <td>0.004703</td>\n",
       "      <td>0.843605</td>\n",
       "      <td>1398</td>\n",
       "    </tr>\n",
       "    <tr>\n",
       "      <th>10</th>\n",
       "      <td>computational_biology</td>\n",
       "      <td>medical_informatics</td>\n",
       "      <td>0.061023</td>\n",
       "      <td>0.781383</td>\n",
       "      <td>28939</td>\n",
       "    </tr>\n",
       "    <tr>\n",
       "      <th>11</th>\n",
       "      <td>developmental_biology</td>\n",
       "      <td>genetics</td>\n",
       "      <td>0.000667</td>\n",
       "      <td>0.461025</td>\n",
       "      <td>140</td>\n",
       "    </tr>\n",
       "    <tr>\n",
       "      <th>12</th>\n",
       "      <td>radiobiology</td>\n",
       "      <td>medical_informatics</td>\n",
       "      <td>0.000400</td>\n",
       "      <td>0.331100</td>\n",
       "      <td>123</td>\n",
       "    </tr>\n",
       "    <tr>\n",
       "      <th>13</th>\n",
       "      <td>genetics</td>\n",
       "      <td>ecology</td>\n",
       "      <td>0.003754</td>\n",
       "      <td>0.368776</td>\n",
       "      <td>844</td>\n",
       "    </tr>\n",
       "    <tr>\n",
       "      <th>14</th>\n",
       "      <td>genetics</td>\n",
       "      <td>microbiology</td>\n",
       "      <td>0.021620</td>\n",
       "      <td>0.849018</td>\n",
       "      <td>6575</td>\n",
       "    </tr>\n",
       "    <tr>\n",
       "      <th>15</th>\n",
       "      <td>genetics</td>\n",
       "      <td>medical_informatics</td>\n",
       "      <td>0.042368</td>\n",
       "      <td>0.871949</td>\n",
       "      <td>20940</td>\n",
       "    </tr>\n",
       "    <tr>\n",
       "      <th>16</th>\n",
       "      <td>ecology</td>\n",
       "      <td>microbiology</td>\n",
       "      <td>0.007768</td>\n",
       "      <td>0.473840</td>\n",
       "      <td>920</td>\n",
       "    </tr>\n",
       "    <tr>\n",
       "      <th>17</th>\n",
       "      <td>ecology</td>\n",
       "      <td>medical_informatics</td>\n",
       "      <td>0.001234</td>\n",
       "      <td>0.535123</td>\n",
       "      <td>399</td>\n",
       "    </tr>\n",
       "    <tr>\n",
       "      <th>18</th>\n",
       "      <td>microbiology</td>\n",
       "      <td>medical_informatics</td>\n",
       "      <td>0.001090</td>\n",
       "      <td>0.363989</td>\n",
       "      <td>445</td>\n",
       "    </tr>\n",
       "    <tr>\n",
       "      <th>19</th>\n",
       "      <td>medical_informatics</td>\n",
       "      <td>nursing_informatics</td>\n",
       "      <td>0.000511</td>\n",
       "      <td>0.521256</td>\n",
       "      <td>157</td>\n",
       "    </tr>\n",
       "  </tbody>\n",
       "</table>\n",
       "</div>"
      ],
      "text/plain": [
       "                     field1                 field2  intersection  correlation  \\\n",
       "0   artificial_intelligence  computational_biology      0.030411     0.800098   \n",
       "1   artificial_intelligence               genetics      0.025441     0.456514   \n",
       "2   artificial_intelligence           microbiology      0.000862     0.371046   \n",
       "3   artificial_intelligence    medical_informatics      0.080909     0.702763   \n",
       "4         synthetic_biology  computational_biology      0.001760     0.475627   \n",
       "5         synthetic_biology               genetics      0.000652     0.446581   \n",
       "6         synthetic_biology           microbiology      0.000968     0.858166   \n",
       "7     computational_biology               genetics      0.382290     0.933075   \n",
       "8     computational_biology                ecology      0.002125     0.453726   \n",
       "9     computational_biology           microbiology      0.004703     0.843605   \n",
       "10    computational_biology    medical_informatics      0.061023     0.781383   \n",
       "11    developmental_biology               genetics      0.000667     0.461025   \n",
       "12             radiobiology    medical_informatics      0.000400     0.331100   \n",
       "13                 genetics                ecology      0.003754     0.368776   \n",
       "14                 genetics           microbiology      0.021620     0.849018   \n",
       "15                 genetics    medical_informatics      0.042368     0.871949   \n",
       "16                  ecology           microbiology      0.007768     0.473840   \n",
       "17                  ecology    medical_informatics      0.001234     0.535123   \n",
       "18             microbiology    medical_informatics      0.001090     0.363989   \n",
       "19      medical_informatics    nursing_informatics      0.000511     0.521256   \n",
       "\n",
       "    intersection_counts  \n",
       "0                  8816  \n",
       "1                  7709  \n",
       "2                   176  \n",
       "3                 30607  \n",
       "4                   351  \n",
       "5                   138  \n",
       "6                   102  \n",
       "7                112008  \n",
       "8                   453  \n",
       "9                  1398  \n",
       "10                28939  \n",
       "11                  140  \n",
       "12                  123  \n",
       "13                  844  \n",
       "14                 6575  \n",
       "15                20940  \n",
       "16                  920  \n",
       "17                  399  \n",
       "18                  445  \n",
       "19                  157  "
      ]
     },
     "execution_count": 10,
     "metadata": {},
     "output_type": "execute_result"
    }
   ],
   "source": [
    "overlap_df"
   ]
  },
  {
   "cell_type": "code",
   "execution_count": 18,
   "id": "c4e432f6",
   "metadata": {},
   "outputs": [
    {
     "data": {
      "application/vnd.plotly.v1+json": {
       "config": {
        "plotlyServerURL": "https://plot.ly"
       },
       "data": [
        {
         "customdata": [
          [
           "artificial_intelligence",
           "computational_biology"
          ],
          [
           "artificial_intelligence",
           "genetics"
          ],
          [
           "artificial_intelligence",
           "microbiology"
          ],
          [
           "artificial_intelligence",
           "medical_informatics"
          ],
          [
           "synthetic_biology",
           "computational_biology"
          ],
          [
           "synthetic_biology",
           "genetics"
          ],
          [
           "synthetic_biology",
           "microbiology"
          ],
          [
           "computational_biology",
           "genetics"
          ],
          [
           "computational_biology",
           "ecology"
          ],
          [
           "computational_biology",
           "microbiology"
          ],
          [
           "computational_biology",
           "medical_informatics"
          ],
          [
           "developmental_biology",
           "genetics"
          ],
          [
           "radiobiology",
           "medical_informatics"
          ],
          [
           "genetics",
           "ecology"
          ],
          [
           "genetics",
           "microbiology"
          ],
          [
           "genetics",
           "medical_informatics"
          ],
          [
           "ecology",
           "microbiology"
          ],
          [
           "ecology",
           "medical_informatics"
          ],
          [
           "microbiology",
           "medical_informatics"
          ],
          [
           "medical_informatics",
           "nursing_informatics"
          ]
         ],
         "hovertemplate": "intersection=%{x}<br>correlation=%{y}<br>field1=%{customdata[0]}<br>field2=%{customdata[1]}<extra></extra>",
         "legendgroup": "",
         "marker": {
          "color": "#636efa",
          "symbol": "circle"
         },
         "mode": "markers",
         "name": "",
         "orientation": "v",
         "showlegend": false,
         "type": "scatter",
         "x": [
          0.03041059127489229,
          0.025440732893755487,
          0.0008617819299998041,
          0.08090904044262455,
          0.001760086650419713,
          0.0006520290861670612,
          0.0009681093394077448,
          0.3822903014416776,
          0.002124645892351275,
          0.004702653063283986,
          0.0610231322354132,
          0.0006672735678641049,
          0.00039994797424725237,
          0.0037538973371346734,
          0.02162018190546966,
          0.042367994561357716,
          0.007768039583227789,
          0.0012335869555135772,
          0.001089583338434379,
          0.0005114422998615522
         ],
         "xaxis": "x",
         "y": [
          0.8000979175888133,
          0.45651389190485003,
          0.3710455798494907,
          0.7027626655320042,
          0.47562695688454915,
          0.4465813783569728,
          0.8581659194583675,
          0.9330749244491514,
          0.45372577350219684,
          0.8436051932241287,
          0.7813830343573837,
          0.4610245669272356,
          0.3311003700793223,
          0.36877611400235,
          0.8490182992824071,
          0.8719491819658813,
          0.4738395047914447,
          0.53512302209407,
          0.36398884934246445,
          0.5212563087659534
         ],
         "yaxis": "y"
        },
        {
         "hovertemplate": "<b>OLS trendline</b><br>correlation = 0.160305 * log10(intersection) + 0.964953<br>R<sup>2</sup>=0.459398<br><br>intersection=%{x}<br>correlation=%{y} <b>(trend)</b><extra></extra>",
         "legendgroup": "",
         "marker": {
          "color": "#636efa",
          "symbol": "circle"
         },
         "mode": "lines",
         "name": "",
         "showlegend": false,
         "type": "scatter",
         "x": [
          0.00039994797424725237,
          0.0005114422998615522,
          0.0006520290861670612,
          0.0006672735678641049,
          0.0008617819299998041,
          0.0009681093394077448,
          0.001089583338434379,
          0.0012335869555135772,
          0.001760086650419713,
          0.002124645892351275,
          0.0037538973371346734,
          0.004702653063283986,
          0.007768039583227789,
          0.02162018190546966,
          0.025440732893755487,
          0.03041059127489229,
          0.042367994561357716,
          0.0610231322354132,
          0.08090904044262455,
          0.3822903014416776
         ],
         "xaxis": "x",
         "y": [
          0.42023823437310304,
          0.4373576683483109,
          0.45426504851206184,
          0.4558740183283966,
          0.47368281324387784,
          0.48178252889195894,
          0.4900119337637157,
          0.4986538458711139,
          0.523399152900673,
          0.5365044576190166,
          0.5761310912046425,
          0.5918185890825951,
          0.6267599445713942,
          0.6980230280139366,
          0.7093517993814507,
          0.7217746451755956,
          0.7448606010740499,
          0.7702619238578163,
          0.7898996491218848,
          0.898008479023439
         ],
         "yaxis": "y"
        }
       ],
       "layout": {
        "legend": {
         "tracegroupgap": 0
        },
        "template": {
         "data": {
          "bar": [
           {
            "error_x": {
             "color": "#2a3f5f"
            },
            "error_y": {
             "color": "#2a3f5f"
            },
            "marker": {
             "line": {
              "color": "#E5ECF6",
              "width": 0.5
             },
             "pattern": {
              "fillmode": "overlay",
              "size": 10,
              "solidity": 0.2
             }
            },
            "type": "bar"
           }
          ],
          "barpolar": [
           {
            "marker": {
             "line": {
              "color": "#E5ECF6",
              "width": 0.5
             },
             "pattern": {
              "fillmode": "overlay",
              "size": 10,
              "solidity": 0.2
             }
            },
            "type": "barpolar"
           }
          ],
          "carpet": [
           {
            "aaxis": {
             "endlinecolor": "#2a3f5f",
             "gridcolor": "white",
             "linecolor": "white",
             "minorgridcolor": "white",
             "startlinecolor": "#2a3f5f"
            },
            "baxis": {
             "endlinecolor": "#2a3f5f",
             "gridcolor": "white",
             "linecolor": "white",
             "minorgridcolor": "white",
             "startlinecolor": "#2a3f5f"
            },
            "type": "carpet"
           }
          ],
          "choropleth": [
           {
            "colorbar": {
             "outlinewidth": 0,
             "ticks": ""
            },
            "type": "choropleth"
           }
          ],
          "contour": [
           {
            "colorbar": {
             "outlinewidth": 0,
             "ticks": ""
            },
            "colorscale": [
             [
              0,
              "#0d0887"
             ],
             [
              0.1111111111111111,
              "#46039f"
             ],
             [
              0.2222222222222222,
              "#7201a8"
             ],
             [
              0.3333333333333333,
              "#9c179e"
             ],
             [
              0.4444444444444444,
              "#bd3786"
             ],
             [
              0.5555555555555556,
              "#d8576b"
             ],
             [
              0.6666666666666666,
              "#ed7953"
             ],
             [
              0.7777777777777778,
              "#fb9f3a"
             ],
             [
              0.8888888888888888,
              "#fdca26"
             ],
             [
              1,
              "#f0f921"
             ]
            ],
            "type": "contour"
           }
          ],
          "contourcarpet": [
           {
            "colorbar": {
             "outlinewidth": 0,
             "ticks": ""
            },
            "type": "contourcarpet"
           }
          ],
          "heatmap": [
           {
            "colorbar": {
             "outlinewidth": 0,
             "ticks": ""
            },
            "colorscale": [
             [
              0,
              "#0d0887"
             ],
             [
              0.1111111111111111,
              "#46039f"
             ],
             [
              0.2222222222222222,
              "#7201a8"
             ],
             [
              0.3333333333333333,
              "#9c179e"
             ],
             [
              0.4444444444444444,
              "#bd3786"
             ],
             [
              0.5555555555555556,
              "#d8576b"
             ],
             [
              0.6666666666666666,
              "#ed7953"
             ],
             [
              0.7777777777777778,
              "#fb9f3a"
             ],
             [
              0.8888888888888888,
              "#fdca26"
             ],
             [
              1,
              "#f0f921"
             ]
            ],
            "type": "heatmap"
           }
          ],
          "heatmapgl": [
           {
            "colorbar": {
             "outlinewidth": 0,
             "ticks": ""
            },
            "colorscale": [
             [
              0,
              "#0d0887"
             ],
             [
              0.1111111111111111,
              "#46039f"
             ],
             [
              0.2222222222222222,
              "#7201a8"
             ],
             [
              0.3333333333333333,
              "#9c179e"
             ],
             [
              0.4444444444444444,
              "#bd3786"
             ],
             [
              0.5555555555555556,
              "#d8576b"
             ],
             [
              0.6666666666666666,
              "#ed7953"
             ],
             [
              0.7777777777777778,
              "#fb9f3a"
             ],
             [
              0.8888888888888888,
              "#fdca26"
             ],
             [
              1,
              "#f0f921"
             ]
            ],
            "type": "heatmapgl"
           }
          ],
          "histogram": [
           {
            "marker": {
             "pattern": {
              "fillmode": "overlay",
              "size": 10,
              "solidity": 0.2
             }
            },
            "type": "histogram"
           }
          ],
          "histogram2d": [
           {
            "colorbar": {
             "outlinewidth": 0,
             "ticks": ""
            },
            "colorscale": [
             [
              0,
              "#0d0887"
             ],
             [
              0.1111111111111111,
              "#46039f"
             ],
             [
              0.2222222222222222,
              "#7201a8"
             ],
             [
              0.3333333333333333,
              "#9c179e"
             ],
             [
              0.4444444444444444,
              "#bd3786"
             ],
             [
              0.5555555555555556,
              "#d8576b"
             ],
             [
              0.6666666666666666,
              "#ed7953"
             ],
             [
              0.7777777777777778,
              "#fb9f3a"
             ],
             [
              0.8888888888888888,
              "#fdca26"
             ],
             [
              1,
              "#f0f921"
             ]
            ],
            "type": "histogram2d"
           }
          ],
          "histogram2dcontour": [
           {
            "colorbar": {
             "outlinewidth": 0,
             "ticks": ""
            },
            "colorscale": [
             [
              0,
              "#0d0887"
             ],
             [
              0.1111111111111111,
              "#46039f"
             ],
             [
              0.2222222222222222,
              "#7201a8"
             ],
             [
              0.3333333333333333,
              "#9c179e"
             ],
             [
              0.4444444444444444,
              "#bd3786"
             ],
             [
              0.5555555555555556,
              "#d8576b"
             ],
             [
              0.6666666666666666,
              "#ed7953"
             ],
             [
              0.7777777777777778,
              "#fb9f3a"
             ],
             [
              0.8888888888888888,
              "#fdca26"
             ],
             [
              1,
              "#f0f921"
             ]
            ],
            "type": "histogram2dcontour"
           }
          ],
          "mesh3d": [
           {
            "colorbar": {
             "outlinewidth": 0,
             "ticks": ""
            },
            "type": "mesh3d"
           }
          ],
          "parcoords": [
           {
            "line": {
             "colorbar": {
              "outlinewidth": 0,
              "ticks": ""
             }
            },
            "type": "parcoords"
           }
          ],
          "pie": [
           {
            "automargin": true,
            "type": "pie"
           }
          ],
          "scatter": [
           {
            "marker": {
             "colorbar": {
              "outlinewidth": 0,
              "ticks": ""
             }
            },
            "type": "scatter"
           }
          ],
          "scatter3d": [
           {
            "line": {
             "colorbar": {
              "outlinewidth": 0,
              "ticks": ""
             }
            },
            "marker": {
             "colorbar": {
              "outlinewidth": 0,
              "ticks": ""
             }
            },
            "type": "scatter3d"
           }
          ],
          "scattercarpet": [
           {
            "marker": {
             "colorbar": {
              "outlinewidth": 0,
              "ticks": ""
             }
            },
            "type": "scattercarpet"
           }
          ],
          "scattergeo": [
           {
            "marker": {
             "colorbar": {
              "outlinewidth": 0,
              "ticks": ""
             }
            },
            "type": "scattergeo"
           }
          ],
          "scattergl": [
           {
            "marker": {
             "colorbar": {
              "outlinewidth": 0,
              "ticks": ""
             }
            },
            "type": "scattergl"
           }
          ],
          "scattermapbox": [
           {
            "marker": {
             "colorbar": {
              "outlinewidth": 0,
              "ticks": ""
             }
            },
            "type": "scattermapbox"
           }
          ],
          "scatterpolar": [
           {
            "marker": {
             "colorbar": {
              "outlinewidth": 0,
              "ticks": ""
             }
            },
            "type": "scatterpolar"
           }
          ],
          "scatterpolargl": [
           {
            "marker": {
             "colorbar": {
              "outlinewidth": 0,
              "ticks": ""
             }
            },
            "type": "scatterpolargl"
           }
          ],
          "scatterternary": [
           {
            "marker": {
             "colorbar": {
              "outlinewidth": 0,
              "ticks": ""
             }
            },
            "type": "scatterternary"
           }
          ],
          "surface": [
           {
            "colorbar": {
             "outlinewidth": 0,
             "ticks": ""
            },
            "colorscale": [
             [
              0,
              "#0d0887"
             ],
             [
              0.1111111111111111,
              "#46039f"
             ],
             [
              0.2222222222222222,
              "#7201a8"
             ],
             [
              0.3333333333333333,
              "#9c179e"
             ],
             [
              0.4444444444444444,
              "#bd3786"
             ],
             [
              0.5555555555555556,
              "#d8576b"
             ],
             [
              0.6666666666666666,
              "#ed7953"
             ],
             [
              0.7777777777777778,
              "#fb9f3a"
             ],
             [
              0.8888888888888888,
              "#fdca26"
             ],
             [
              1,
              "#f0f921"
             ]
            ],
            "type": "surface"
           }
          ],
          "table": [
           {
            "cells": {
             "fill": {
              "color": "#EBF0F8"
             },
             "line": {
              "color": "white"
             }
            },
            "header": {
             "fill": {
              "color": "#C8D4E3"
             },
             "line": {
              "color": "white"
             }
            },
            "type": "table"
           }
          ]
         },
         "layout": {
          "annotationdefaults": {
           "arrowcolor": "#2a3f5f",
           "arrowhead": 0,
           "arrowwidth": 1
          },
          "autotypenumbers": "strict",
          "coloraxis": {
           "colorbar": {
            "outlinewidth": 0,
            "ticks": ""
           }
          },
          "colorscale": {
           "diverging": [
            [
             0,
             "#8e0152"
            ],
            [
             0.1,
             "#c51b7d"
            ],
            [
             0.2,
             "#de77ae"
            ],
            [
             0.3,
             "#f1b6da"
            ],
            [
             0.4,
             "#fde0ef"
            ],
            [
             0.5,
             "#f7f7f7"
            ],
            [
             0.6,
             "#e6f5d0"
            ],
            [
             0.7,
             "#b8e186"
            ],
            [
             0.8,
             "#7fbc41"
            ],
            [
             0.9,
             "#4d9221"
            ],
            [
             1,
             "#276419"
            ]
           ],
           "sequential": [
            [
             0,
             "#0d0887"
            ],
            [
             0.1111111111111111,
             "#46039f"
            ],
            [
             0.2222222222222222,
             "#7201a8"
            ],
            [
             0.3333333333333333,
             "#9c179e"
            ],
            [
             0.4444444444444444,
             "#bd3786"
            ],
            [
             0.5555555555555556,
             "#d8576b"
            ],
            [
             0.6666666666666666,
             "#ed7953"
            ],
            [
             0.7777777777777778,
             "#fb9f3a"
            ],
            [
             0.8888888888888888,
             "#fdca26"
            ],
            [
             1,
             "#f0f921"
            ]
           ],
           "sequentialminus": [
            [
             0,
             "#0d0887"
            ],
            [
             0.1111111111111111,
             "#46039f"
            ],
            [
             0.2222222222222222,
             "#7201a8"
            ],
            [
             0.3333333333333333,
             "#9c179e"
            ],
            [
             0.4444444444444444,
             "#bd3786"
            ],
            [
             0.5555555555555556,
             "#d8576b"
            ],
            [
             0.6666666666666666,
             "#ed7953"
            ],
            [
             0.7777777777777778,
             "#fb9f3a"
            ],
            [
             0.8888888888888888,
             "#fdca26"
            ],
            [
             1,
             "#f0f921"
            ]
           ]
          },
          "colorway": [
           "#636efa",
           "#EF553B",
           "#00cc96",
           "#ab63fa",
           "#FFA15A",
           "#19d3f3",
           "#FF6692",
           "#B6E880",
           "#FF97FF",
           "#FECB52"
          ],
          "font": {
           "color": "#2a3f5f"
          },
          "geo": {
           "bgcolor": "white",
           "lakecolor": "white",
           "landcolor": "#E5ECF6",
           "showlakes": true,
           "showland": true,
           "subunitcolor": "white"
          },
          "hoverlabel": {
           "align": "left"
          },
          "hovermode": "closest",
          "mapbox": {
           "style": "light"
          },
          "paper_bgcolor": "white",
          "plot_bgcolor": "#E5ECF6",
          "polar": {
           "angularaxis": {
            "gridcolor": "white",
            "linecolor": "white",
            "ticks": ""
           },
           "bgcolor": "#E5ECF6",
           "radialaxis": {
            "gridcolor": "white",
            "linecolor": "white",
            "ticks": ""
           }
          },
          "scene": {
           "xaxis": {
            "backgroundcolor": "#E5ECF6",
            "gridcolor": "white",
            "gridwidth": 2,
            "linecolor": "white",
            "showbackground": true,
            "ticks": "",
            "zerolinecolor": "white"
           },
           "yaxis": {
            "backgroundcolor": "#E5ECF6",
            "gridcolor": "white",
            "gridwidth": 2,
            "linecolor": "white",
            "showbackground": true,
            "ticks": "",
            "zerolinecolor": "white"
           },
           "zaxis": {
            "backgroundcolor": "#E5ECF6",
            "gridcolor": "white",
            "gridwidth": 2,
            "linecolor": "white",
            "showbackground": true,
            "ticks": "",
            "zerolinecolor": "white"
           }
          },
          "shapedefaults": {
           "line": {
            "color": "#2a3f5f"
           }
          },
          "ternary": {
           "aaxis": {
            "gridcolor": "white",
            "linecolor": "white",
            "ticks": ""
           },
           "baxis": {
            "gridcolor": "white",
            "linecolor": "white",
            "ticks": ""
           },
           "bgcolor": "#E5ECF6",
           "caxis": {
            "gridcolor": "white",
            "linecolor": "white",
            "ticks": ""
           }
          },
          "title": {
           "x": 0.05
          },
          "xaxis": {
           "automargin": true,
           "gridcolor": "white",
           "linecolor": "white",
           "ticks": "",
           "title": {
            "standoff": 15
           },
           "zerolinecolor": "white",
           "zerolinewidth": 2
          },
          "yaxis": {
           "automargin": true,
           "gridcolor": "white",
           "linecolor": "white",
           "ticks": "",
           "title": {
            "standoff": 15
           },
           "zerolinecolor": "white",
           "zerolinewidth": 2
          }
         }
        },
        "title": {
         "text": "Correlation vs Doi Overlap"
        },
        "xaxis": {
         "anchor": "y",
         "domain": [
          0,
          1
         ],
         "title": {
          "text": "intersection"
         },
         "type": "log"
        },
        "yaxis": {
         "anchor": "x",
         "domain": [
          0,
          1
         ],
         "title": {
          "text": "correlation"
         }
        }
       }
      },
      "text/html": [
       "<div>                            <div id=\"033b2437-8f33-4fe5-b300-cf0cc8ea877d\" class=\"plotly-graph-div\" style=\"height:525px; width:100%;\"></div>            <script type=\"text/javascript\">                require([\"plotly\"], function(Plotly) {                    window.PLOTLYENV=window.PLOTLYENV || {};                                    if (document.getElementById(\"033b2437-8f33-4fe5-b300-cf0cc8ea877d\")) {                    Plotly.newPlot(                        \"033b2437-8f33-4fe5-b300-cf0cc8ea877d\",                        [{\"customdata\":[[\"artificial_intelligence\",\"computational_biology\"],[\"artificial_intelligence\",\"genetics\"],[\"artificial_intelligence\",\"microbiology\"],[\"artificial_intelligence\",\"medical_informatics\"],[\"synthetic_biology\",\"computational_biology\"],[\"synthetic_biology\",\"genetics\"],[\"synthetic_biology\",\"microbiology\"],[\"computational_biology\",\"genetics\"],[\"computational_biology\",\"ecology\"],[\"computational_biology\",\"microbiology\"],[\"computational_biology\",\"medical_informatics\"],[\"developmental_biology\",\"genetics\"],[\"radiobiology\",\"medical_informatics\"],[\"genetics\",\"ecology\"],[\"genetics\",\"microbiology\"],[\"genetics\",\"medical_informatics\"],[\"ecology\",\"microbiology\"],[\"ecology\",\"medical_informatics\"],[\"microbiology\",\"medical_informatics\"],[\"medical_informatics\",\"nursing_informatics\"]],\"hovertemplate\":\"intersection=%{x}<br>correlation=%{y}<br>field1=%{customdata[0]}<br>field2=%{customdata[1]}<extra></extra>\",\"legendgroup\":\"\",\"marker\":{\"color\":\"#636efa\",\"symbol\":\"circle\"},\"mode\":\"markers\",\"name\":\"\",\"orientation\":\"v\",\"showlegend\":false,\"x\":[0.03041059127489229,0.025440732893755487,0.0008617819299998041,0.08090904044262455,0.001760086650419713,0.0006520290861670612,0.0009681093394077448,0.3822903014416776,0.002124645892351275,0.004702653063283986,0.0610231322354132,0.0006672735678641049,0.00039994797424725237,0.0037538973371346734,0.02162018190546966,0.042367994561357716,0.007768039583227789,0.0012335869555135772,0.001089583338434379,0.0005114422998615522],\"xaxis\":\"x\",\"y\":[0.8000979175888133,0.45651389190485003,0.3710455798494907,0.7027626655320042,0.47562695688454915,0.4465813783569728,0.8581659194583675,0.9330749244491514,0.45372577350219684,0.8436051932241287,0.7813830343573837,0.4610245669272356,0.3311003700793223,0.36877611400235,0.8490182992824071,0.8719491819658813,0.4738395047914447,0.53512302209407,0.36398884934246445,0.5212563087659534],\"yaxis\":\"y\",\"type\":\"scatter\"},{\"hovertemplate\":\"<b>OLS trendline</b><br>correlation = 0.160305 * log10(intersection) + 0.964953<br>R<sup>2</sup>=0.459398<br><br>intersection=%{x}<br>correlation=%{y} <b>(trend)</b><extra></extra>\",\"legendgroup\":\"\",\"marker\":{\"color\":\"#636efa\",\"symbol\":\"circle\"},\"mode\":\"lines\",\"name\":\"\",\"showlegend\":false,\"x\":[0.00039994797424725237,0.0005114422998615522,0.0006520290861670612,0.0006672735678641049,0.0008617819299998041,0.0009681093394077448,0.001089583338434379,0.0012335869555135772,0.001760086650419713,0.002124645892351275,0.0037538973371346734,0.004702653063283986,0.007768039583227789,0.02162018190546966,0.025440732893755487,0.03041059127489229,0.042367994561357716,0.0610231322354132,0.08090904044262455,0.3822903014416776],\"xaxis\":\"x\",\"y\":[0.42023823437310304,0.4373576683483109,0.45426504851206184,0.4558740183283966,0.47368281324387784,0.48178252889195894,0.4900119337637157,0.4986538458711139,0.523399152900673,0.5365044576190166,0.5761310912046425,0.5918185890825951,0.6267599445713942,0.6980230280139366,0.7093517993814507,0.7217746451755956,0.7448606010740499,0.7702619238578163,0.7898996491218848,0.898008479023439],\"yaxis\":\"y\",\"type\":\"scatter\"}],                        {\"template\":{\"data\":{\"bar\":[{\"error_x\":{\"color\":\"#2a3f5f\"},\"error_y\":{\"color\":\"#2a3f5f\"},\"marker\":{\"line\":{\"color\":\"#E5ECF6\",\"width\":0.5},\"pattern\":{\"fillmode\":\"overlay\",\"size\":10,\"solidity\":0.2}},\"type\":\"bar\"}],\"barpolar\":[{\"marker\":{\"line\":{\"color\":\"#E5ECF6\",\"width\":0.5},\"pattern\":{\"fillmode\":\"overlay\",\"size\":10,\"solidity\":0.2}},\"type\":\"barpolar\"}],\"carpet\":[{\"aaxis\":{\"endlinecolor\":\"#2a3f5f\",\"gridcolor\":\"white\",\"linecolor\":\"white\",\"minorgridcolor\":\"white\",\"startlinecolor\":\"#2a3f5f\"},\"baxis\":{\"endlinecolor\":\"#2a3f5f\",\"gridcolor\":\"white\",\"linecolor\":\"white\",\"minorgridcolor\":\"white\",\"startlinecolor\":\"#2a3f5f\"},\"type\":\"carpet\"}],\"choropleth\":[{\"colorbar\":{\"outlinewidth\":0,\"ticks\":\"\"},\"type\":\"choropleth\"}],\"contour\":[{\"colorbar\":{\"outlinewidth\":0,\"ticks\":\"\"},\"colorscale\":[[0.0,\"#0d0887\"],[0.1111111111111111,\"#46039f\"],[0.2222222222222222,\"#7201a8\"],[0.3333333333333333,\"#9c179e\"],[0.4444444444444444,\"#bd3786\"],[0.5555555555555556,\"#d8576b\"],[0.6666666666666666,\"#ed7953\"],[0.7777777777777778,\"#fb9f3a\"],[0.8888888888888888,\"#fdca26\"],[1.0,\"#f0f921\"]],\"type\":\"contour\"}],\"contourcarpet\":[{\"colorbar\":{\"outlinewidth\":0,\"ticks\":\"\"},\"type\":\"contourcarpet\"}],\"heatmap\":[{\"colorbar\":{\"outlinewidth\":0,\"ticks\":\"\"},\"colorscale\":[[0.0,\"#0d0887\"],[0.1111111111111111,\"#46039f\"],[0.2222222222222222,\"#7201a8\"],[0.3333333333333333,\"#9c179e\"],[0.4444444444444444,\"#bd3786\"],[0.5555555555555556,\"#d8576b\"],[0.6666666666666666,\"#ed7953\"],[0.7777777777777778,\"#fb9f3a\"],[0.8888888888888888,\"#fdca26\"],[1.0,\"#f0f921\"]],\"type\":\"heatmap\"}],\"heatmapgl\":[{\"colorbar\":{\"outlinewidth\":0,\"ticks\":\"\"},\"colorscale\":[[0.0,\"#0d0887\"],[0.1111111111111111,\"#46039f\"],[0.2222222222222222,\"#7201a8\"],[0.3333333333333333,\"#9c179e\"],[0.4444444444444444,\"#bd3786\"],[0.5555555555555556,\"#d8576b\"],[0.6666666666666666,\"#ed7953\"],[0.7777777777777778,\"#fb9f3a\"],[0.8888888888888888,\"#fdca26\"],[1.0,\"#f0f921\"]],\"type\":\"heatmapgl\"}],\"histogram\":[{\"marker\":{\"pattern\":{\"fillmode\":\"overlay\",\"size\":10,\"solidity\":0.2}},\"type\":\"histogram\"}],\"histogram2d\":[{\"colorbar\":{\"outlinewidth\":0,\"ticks\":\"\"},\"colorscale\":[[0.0,\"#0d0887\"],[0.1111111111111111,\"#46039f\"],[0.2222222222222222,\"#7201a8\"],[0.3333333333333333,\"#9c179e\"],[0.4444444444444444,\"#bd3786\"],[0.5555555555555556,\"#d8576b\"],[0.6666666666666666,\"#ed7953\"],[0.7777777777777778,\"#fb9f3a\"],[0.8888888888888888,\"#fdca26\"],[1.0,\"#f0f921\"]],\"type\":\"histogram2d\"}],\"histogram2dcontour\":[{\"colorbar\":{\"outlinewidth\":0,\"ticks\":\"\"},\"colorscale\":[[0.0,\"#0d0887\"],[0.1111111111111111,\"#46039f\"],[0.2222222222222222,\"#7201a8\"],[0.3333333333333333,\"#9c179e\"],[0.4444444444444444,\"#bd3786\"],[0.5555555555555556,\"#d8576b\"],[0.6666666666666666,\"#ed7953\"],[0.7777777777777778,\"#fb9f3a\"],[0.8888888888888888,\"#fdca26\"],[1.0,\"#f0f921\"]],\"type\":\"histogram2dcontour\"}],\"mesh3d\":[{\"colorbar\":{\"outlinewidth\":0,\"ticks\":\"\"},\"type\":\"mesh3d\"}],\"parcoords\":[{\"line\":{\"colorbar\":{\"outlinewidth\":0,\"ticks\":\"\"}},\"type\":\"parcoords\"}],\"pie\":[{\"automargin\":true,\"type\":\"pie\"}],\"scatter\":[{\"marker\":{\"colorbar\":{\"outlinewidth\":0,\"ticks\":\"\"}},\"type\":\"scatter\"}],\"scatter3d\":[{\"line\":{\"colorbar\":{\"outlinewidth\":0,\"ticks\":\"\"}},\"marker\":{\"colorbar\":{\"outlinewidth\":0,\"ticks\":\"\"}},\"type\":\"scatter3d\"}],\"scattercarpet\":[{\"marker\":{\"colorbar\":{\"outlinewidth\":0,\"ticks\":\"\"}},\"type\":\"scattercarpet\"}],\"scattergeo\":[{\"marker\":{\"colorbar\":{\"outlinewidth\":0,\"ticks\":\"\"}},\"type\":\"scattergeo\"}],\"scattergl\":[{\"marker\":{\"colorbar\":{\"outlinewidth\":0,\"ticks\":\"\"}},\"type\":\"scattergl\"}],\"scattermapbox\":[{\"marker\":{\"colorbar\":{\"outlinewidth\":0,\"ticks\":\"\"}},\"type\":\"scattermapbox\"}],\"scatterpolar\":[{\"marker\":{\"colorbar\":{\"outlinewidth\":0,\"ticks\":\"\"}},\"type\":\"scatterpolar\"}],\"scatterpolargl\":[{\"marker\":{\"colorbar\":{\"outlinewidth\":0,\"ticks\":\"\"}},\"type\":\"scatterpolargl\"}],\"scatterternary\":[{\"marker\":{\"colorbar\":{\"outlinewidth\":0,\"ticks\":\"\"}},\"type\":\"scatterternary\"}],\"surface\":[{\"colorbar\":{\"outlinewidth\":0,\"ticks\":\"\"},\"colorscale\":[[0.0,\"#0d0887\"],[0.1111111111111111,\"#46039f\"],[0.2222222222222222,\"#7201a8\"],[0.3333333333333333,\"#9c179e\"],[0.4444444444444444,\"#bd3786\"],[0.5555555555555556,\"#d8576b\"],[0.6666666666666666,\"#ed7953\"],[0.7777777777777778,\"#fb9f3a\"],[0.8888888888888888,\"#fdca26\"],[1.0,\"#f0f921\"]],\"type\":\"surface\"}],\"table\":[{\"cells\":{\"fill\":{\"color\":\"#EBF0F8\"},\"line\":{\"color\":\"white\"}},\"header\":{\"fill\":{\"color\":\"#C8D4E3\"},\"line\":{\"color\":\"white\"}},\"type\":\"table\"}]},\"layout\":{\"annotationdefaults\":{\"arrowcolor\":\"#2a3f5f\",\"arrowhead\":0,\"arrowwidth\":1},\"autotypenumbers\":\"strict\",\"coloraxis\":{\"colorbar\":{\"outlinewidth\":0,\"ticks\":\"\"}},\"colorscale\":{\"diverging\":[[0,\"#8e0152\"],[0.1,\"#c51b7d\"],[0.2,\"#de77ae\"],[0.3,\"#f1b6da\"],[0.4,\"#fde0ef\"],[0.5,\"#f7f7f7\"],[0.6,\"#e6f5d0\"],[0.7,\"#b8e186\"],[0.8,\"#7fbc41\"],[0.9,\"#4d9221\"],[1,\"#276419\"]],\"sequential\":[[0.0,\"#0d0887\"],[0.1111111111111111,\"#46039f\"],[0.2222222222222222,\"#7201a8\"],[0.3333333333333333,\"#9c179e\"],[0.4444444444444444,\"#bd3786\"],[0.5555555555555556,\"#d8576b\"],[0.6666666666666666,\"#ed7953\"],[0.7777777777777778,\"#fb9f3a\"],[0.8888888888888888,\"#fdca26\"],[1.0,\"#f0f921\"]],\"sequentialminus\":[[0.0,\"#0d0887\"],[0.1111111111111111,\"#46039f\"],[0.2222222222222222,\"#7201a8\"],[0.3333333333333333,\"#9c179e\"],[0.4444444444444444,\"#bd3786\"],[0.5555555555555556,\"#d8576b\"],[0.6666666666666666,\"#ed7953\"],[0.7777777777777778,\"#fb9f3a\"],[0.8888888888888888,\"#fdca26\"],[1.0,\"#f0f921\"]]},\"colorway\":[\"#636efa\",\"#EF553B\",\"#00cc96\",\"#ab63fa\",\"#FFA15A\",\"#19d3f3\",\"#FF6692\",\"#B6E880\",\"#FF97FF\",\"#FECB52\"],\"font\":{\"color\":\"#2a3f5f\"},\"geo\":{\"bgcolor\":\"white\",\"lakecolor\":\"white\",\"landcolor\":\"#E5ECF6\",\"showlakes\":true,\"showland\":true,\"subunitcolor\":\"white\"},\"hoverlabel\":{\"align\":\"left\"},\"hovermode\":\"closest\",\"mapbox\":{\"style\":\"light\"},\"paper_bgcolor\":\"white\",\"plot_bgcolor\":\"#E5ECF6\",\"polar\":{\"angularaxis\":{\"gridcolor\":\"white\",\"linecolor\":\"white\",\"ticks\":\"\"},\"bgcolor\":\"#E5ECF6\",\"radialaxis\":{\"gridcolor\":\"white\",\"linecolor\":\"white\",\"ticks\":\"\"}},\"scene\":{\"xaxis\":{\"backgroundcolor\":\"#E5ECF6\",\"gridcolor\":\"white\",\"gridwidth\":2,\"linecolor\":\"white\",\"showbackground\":true,\"ticks\":\"\",\"zerolinecolor\":\"white\"},\"yaxis\":{\"backgroundcolor\":\"#E5ECF6\",\"gridcolor\":\"white\",\"gridwidth\":2,\"linecolor\":\"white\",\"showbackground\":true,\"ticks\":\"\",\"zerolinecolor\":\"white\"},\"zaxis\":{\"backgroundcolor\":\"#E5ECF6\",\"gridcolor\":\"white\",\"gridwidth\":2,\"linecolor\":\"white\",\"showbackground\":true,\"ticks\":\"\",\"zerolinecolor\":\"white\"}},\"shapedefaults\":{\"line\":{\"color\":\"#2a3f5f\"}},\"ternary\":{\"aaxis\":{\"gridcolor\":\"white\",\"linecolor\":\"white\",\"ticks\":\"\"},\"baxis\":{\"gridcolor\":\"white\",\"linecolor\":\"white\",\"ticks\":\"\"},\"bgcolor\":\"#E5ECF6\",\"caxis\":{\"gridcolor\":\"white\",\"linecolor\":\"white\",\"ticks\":\"\"}},\"title\":{\"x\":0.05},\"xaxis\":{\"automargin\":true,\"gridcolor\":\"white\",\"linecolor\":\"white\",\"ticks\":\"\",\"title\":{\"standoff\":15},\"zerolinecolor\":\"white\",\"zerolinewidth\":2},\"yaxis\":{\"automargin\":true,\"gridcolor\":\"white\",\"linecolor\":\"white\",\"ticks\":\"\",\"title\":{\"standoff\":15},\"zerolinecolor\":\"white\",\"zerolinewidth\":2}}},\"xaxis\":{\"anchor\":\"y\",\"domain\":[0.0,1.0],\"title\":{\"text\":\"intersection\"},\"type\":\"log\"},\"yaxis\":{\"anchor\":\"x\",\"domain\":[0.0,1.0],\"title\":{\"text\":\"correlation\"}},\"legend\":{\"tracegroupgap\":0},\"title\":{\"text\":\"Correlation vs Doi Overlap\"}},                        {\"responsive\": true}                    ).then(function(){\n",
       "                            \n",
       "var gd = document.getElementById('033b2437-8f33-4fe5-b300-cf0cc8ea877d');\n",
       "var x = new MutationObserver(function (mutations, observer) {{\n",
       "        var display = window.getComputedStyle(gd).display;\n",
       "        if (!display || display === 'none') {{\n",
       "            console.log([gd, 'removed!']);\n",
       "            Plotly.purge(gd);\n",
       "            observer.disconnect();\n",
       "        }}\n",
       "}});\n",
       "\n",
       "// Listen for the removal of the full notebook cells\n",
       "var notebookContainer = gd.closest('#notebook-container');\n",
       "if (notebookContainer) {{\n",
       "    x.observe(notebookContainer, {childList: true});\n",
       "}}\n",
       "\n",
       "// Listen for the clearing of the current output cell\n",
       "var outputEl = gd.closest('.output');\n",
       "if (outputEl) {{\n",
       "    x.observe(outputEl, {childList: true});\n",
       "}}\n",
       "\n",
       "                        })                };                });            </script>        </div>"
      ]
     },
     "metadata": {},
     "output_type": "display_data"
    }
   ],
   "source": [
    "px.scatter(overlap_df, x='intersection', y='correlation', \n",
    "           hover_data=['field1', 'field2'], log_x=True, trendline='ols', \n",
    "           trendline_options=dict(log_x=True),\n",
    "           title='Correlation vs Doi Overlap')"
   ]
  },
  {
   "cell_type": "code",
   "execution_count": null,
   "id": "a456f6a2",
   "metadata": {},
   "outputs": [],
   "source": []
  }
 ],
 "metadata": {
  "kernelspec": {
   "display_name": "Python 3 (ipykernel)",
   "language": "python",
   "name": "python3"
  },
  "language_info": {
   "codemirror_mode": {
    "name": "ipython",
    "version": 3
   },
   "file_extension": ".py",
   "mimetype": "text/x-python",
   "name": "python",
   "nbconvert_exporter": "python",
   "pygments_lexer": "ipython3",
   "version": "3.10.4"
  }
 },
 "nbformat": 4,
 "nbformat_minor": 5
}
