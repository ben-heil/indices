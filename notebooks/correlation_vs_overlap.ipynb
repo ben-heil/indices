{
 "cells": [
  {
   "cell_type": "code",
   "execution_count": 1,
   "id": "3c999ac1",
   "metadata": {},
   "outputs": [],
   "source": [
    "import glob\n",
    "import itertools\n",
    "import os\n",
    "import pickle\n",
    "\n",
    "import numpy as np\n",
    "import pandas as pd\n",
    "import plotly.express as px"
   ]
  },
  {
   "cell_type": "code",
   "execution_count": 2,
   "id": "f0ab8571",
   "metadata": {},
   "outputs": [],
   "source": [
    "def reformat_results(results, field):\n",
    "\n",
    "    reformatted_results = {'doi': [], 'pagerank': []}\n",
    "\n",
    "    for doi, score in results.items():\n",
    "        reformatted_results['doi'].append(doi)\n",
    "        reformatted_results['pagerank'].append(score)\n",
    "    result_df = pd.DataFrame(reformatted_results)\n",
    "    result_df['field'] = field\n",
    "    \n",
    "    return result_df"
   ]
  },
  {
   "cell_type": "code",
   "execution_count": 3,
   "id": "32b7e6d6",
   "metadata": {},
   "outputs": [
    {
     "name": "stdout",
     "output_type": "stream",
     "text": [
      "dental_informatics\n",
      "artificial_intelligence\n",
      "sociobiology\n",
      "natural_history\n",
      "synthetic_biology\n",
      "cellular_automata\n",
      "public_health_informatics\n",
      "computational_biology\n",
      "zoology\n",
      "developmental_biology\n",
      "cryobiology\n",
      "consumer_health_informatics\n",
      "exobiology\n",
      "latent_class_analysis\n",
      "radiobiology\n",
      "genetics\n",
      "neurobiology\n",
      "parasitology\n",
      "botany\n",
      "photobiology\n",
      "laboratory_animal_science\n",
      "cheminformatics\n",
      "cell_biology\n",
      "ecology\n",
      "microbiology\n",
      "medical_informatics\n",
      "nursing_informatics\n"
     ]
    },
    {
     "data": {
      "text/html": [
       "<div>\n",
       "<style scoped>\n",
       "    .dataframe tbody tr th:only-of-type {\n",
       "        vertical-align: middle;\n",
       "    }\n",
       "\n",
       "    .dataframe tbody tr th {\n",
       "        vertical-align: top;\n",
       "    }\n",
       "\n",
       "    .dataframe thead th {\n",
       "        text-align: right;\n",
       "    }\n",
       "</style>\n",
       "<table border=\"1\" class=\"dataframe\">\n",
       "  <thead>\n",
       "    <tr style=\"text-align: right;\">\n",
       "      <th></th>\n",
       "      <th>doi</th>\n",
       "      <th>pagerank</th>\n",
       "      <th>field</th>\n",
       "    </tr>\n",
       "  </thead>\n",
       "  <tbody>\n",
       "    <tr>\n",
       "      <th>0</th>\n",
       "      <td>10.1016/j.oooo.2015.02.484</td>\n",
       "      <td>0.031623</td>\n",
       "      <td>dental_informatics</td>\n",
       "    </tr>\n",
       "    <tr>\n",
       "      <th>1</th>\n",
       "      <td>10.14219/jada.archive.2008.0105</td>\n",
       "      <td>0.078961</td>\n",
       "      <td>dental_informatics</td>\n",
       "    </tr>\n",
       "    <tr>\n",
       "      <th>2</th>\n",
       "      <td>10.1177/0022034513487560</td>\n",
       "      <td>0.031623</td>\n",
       "      <td>dental_informatics</td>\n",
       "    </tr>\n",
       "    <tr>\n",
       "      <th>3</th>\n",
       "      <td>10.14219/jada.archive.2013.0013</td>\n",
       "      <td>0.058503</td>\n",
       "      <td>dental_informatics</td>\n",
       "    </tr>\n",
       "    <tr>\n",
       "      <th>4</th>\n",
       "      <td>10.1016/j.cden.2011.02.010</td>\n",
       "      <td>0.031623</td>\n",
       "      <td>dental_informatics</td>\n",
       "    </tr>\n",
       "    <tr>\n",
       "      <th>...</th>\n",
       "      <td>...</td>\n",
       "      <td>...</td>\n",
       "      <td>...</td>\n",
       "    </tr>\n",
       "    <tr>\n",
       "      <th>452</th>\n",
       "      <td>10.1590/s0104-11692011000600015</td>\n",
       "      <td>0.001154</td>\n",
       "      <td>nursing_informatics</td>\n",
       "    </tr>\n",
       "    <tr>\n",
       "      <th>453</th>\n",
       "      <td>10.1016/j.outlook.2008.07.003</td>\n",
       "      <td>0.001154</td>\n",
       "      <td>nursing_informatics</td>\n",
       "    </tr>\n",
       "    <tr>\n",
       "      <th>454</th>\n",
       "      <td>10.1016/j.apnr.2005.02.001</td>\n",
       "      <td>0.002135</td>\n",
       "      <td>nursing_informatics</td>\n",
       "    </tr>\n",
       "    <tr>\n",
       "      <th>455</th>\n",
       "      <td>10.1097/00006216-200010000-00026</td>\n",
       "      <td>0.009236</td>\n",
       "      <td>nursing_informatics</td>\n",
       "    </tr>\n",
       "    <tr>\n",
       "      <th>456</th>\n",
       "      <td>10.12927/cjnl.2020.26188</td>\n",
       "      <td>0.001276</td>\n",
       "      <td>nursing_informatics</td>\n",
       "    </tr>\n",
       "  </tbody>\n",
       "</table>\n",
       "<p>949426 rows × 3 columns</p>\n",
       "</div>"
      ],
      "text/plain": [
       "                                  doi  pagerank                field\n",
       "0          10.1016/j.oooo.2015.02.484  0.031623   dental_informatics\n",
       "1     10.14219/jada.archive.2008.0105  0.078961   dental_informatics\n",
       "2            10.1177/0022034513487560  0.031623   dental_informatics\n",
       "3     10.14219/jada.archive.2013.0013  0.058503   dental_informatics\n",
       "4          10.1016/j.cden.2011.02.010  0.031623   dental_informatics\n",
       "..                                ...       ...                  ...\n",
       "452   10.1590/s0104-11692011000600015  0.001154  nursing_informatics\n",
       "453     10.1016/j.outlook.2008.07.003  0.001154  nursing_informatics\n",
       "454        10.1016/j.apnr.2005.02.001  0.002135  nursing_informatics\n",
       "455  10.1097/00006216-200010000-00026  0.009236  nursing_informatics\n",
       "456          10.12927/cjnl.2020.26188  0.001276  nursing_informatics\n",
       "\n",
       "[949426 rows x 3 columns]"
      ]
     },
     "execution_count": 3,
     "metadata": {},
     "output_type": "execute_result"
    }
   ],
   "source": [
    "metric_files = glob.glob('../output/*-pagerank.pkl')\n",
    "metric_files = [f for f in metric_files if 'first_degree' not in f]\n",
    "\n",
    "all_results = pd.DataFrame()\n",
    "\n",
    "for file in metric_files:\n",
    "    field = os.path.basename(file).split('-')[0]\n",
    "    print(field)\n",
    "    \n",
    "    with open(file, 'rb') as in_file:\n",
    "        results = pickle.load(in_file)\n",
    "    result_df = reformat_results(results, field)\n",
    "    all_results = pd.concat([all_results, result_df])\n",
    "all_results"
   ]
  },
  {
   "cell_type": "code",
   "execution_count": 4,
   "id": "386c46bd",
   "metadata": {},
   "outputs": [
    {
     "data": {
      "text/plain": [
       "10.1038/s41556-021-00787-7        5\n",
       "10.1016/j.tig.2017.11.002         5\n",
       "10.1371/journal.pbio.3000999      5\n",
       "10.1126/scisignal.2004657         5\n",
       "10.1093/bib/bbx035                5\n",
       "                                 ..\n",
       "10.1016/j.virusres.2012.10.023    1\n",
       "10.1016/j.virusres.2012.07.028    1\n",
       "10.1016/j.virusres.2012.06.023    1\n",
       "10.1097/coh.0b013e32832c0672      1\n",
       "10.12927/cjnl.2020.26188          1\n",
       "Name: doi, Length: 754771, dtype: int64"
      ]
     },
     "execution_count": 4,
     "metadata": {},
     "output_type": "execute_result"
    }
   ],
   "source": [
    "all_results['doi'].value_counts()"
   ]
  },
  {
   "cell_type": "code",
   "execution_count": 5,
   "id": "466bb55a",
   "metadata": {},
   "outputs": [
    {
     "data": {
      "text/plain": [
       "array(['dental_informatics', 'artificial_intelligence', 'sociobiology',\n",
       "       'natural_history', 'synthetic_biology', 'cellular_automata',\n",
       "       'public_health_informatics', 'computational_biology', 'zoology',\n",
       "       'developmental_biology', 'cryobiology',\n",
       "       'consumer_health_informatics', 'exobiology',\n",
       "       'latent_class_analysis', 'radiobiology', 'genetics',\n",
       "       'neurobiology', 'parasitology', 'botany', 'photobiology',\n",
       "       'laboratory_animal_science', 'cheminformatics', 'cell_biology',\n",
       "       'ecology', 'microbiology', 'medical_informatics',\n",
       "       'nursing_informatics'], dtype=object)"
      ]
     },
     "execution_count": 5,
     "metadata": {},
     "output_type": "execute_result"
    }
   ],
   "source": [
    "fields = all_results['field'].unique()\n",
    "fields"
   ]
  },
  {
   "cell_type": "code",
   "execution_count": 6,
   "id": "ac44b04e",
   "metadata": {},
   "outputs": [],
   "source": [
    "groups = all_results.groupby(\"field\")"
   ]
  },
  {
   "cell_type": "code",
   "execution_count": 7,
   "id": "45f4dd24",
   "metadata": {},
   "outputs": [
    {
     "name": "stdout",
     "output_type": "stream",
     "text": [
      "dental_informatics dental_informatics 21 21 21\n",
      "dental_informatics artificial_intelligence 21 102221 1\n",
      "dental_informatics sociobiology 21 24 0\n",
      "dental_informatics natural_history 21 74 0\n",
      "dental_informatics synthetic_biology 21 3279 0\n",
      "dental_informatics cellular_automata 21 3 0\n",
      "dental_informatics public_health_informatics 21 242 0\n",
      "dental_informatics computational_biology 21 196494 0\n",
      "dental_informatics zoology 21 1174 0\n",
      "dental_informatics developmental_biology 21 1443 0\n",
      "dental_informatics cryobiology 21 5 0\n",
      "dental_informatics consumer_health_informatics 21 19 0\n",
      "dental_informatics exobiology 21 1259 0\n",
      "dental_informatics latent_class_analysis 21 529 0\n",
      "dental_informatics radiobiology 21 988 0\n",
      "dental_informatics genetics 21 208506 0\n",
      "dental_informatics neurobiology 21 486 0\n",
      "dental_informatics parasitology 21 2211 0\n",
      "dental_informatics botany 21 2542 0\n",
      "dental_informatics photobiology 21 260 0\n",
      "dental_informatics laboratory_animal_science 21 173 0\n",
      "dental_informatics cheminformatics 21 60 0\n",
      "dental_informatics cell_biology 21 927 0\n",
      "dental_informatics ecology 21 17171 0\n",
      "dental_informatics microbiology 21 102183 0\n",
      "dental_informatics medical_informatics 21 306675 14\n",
      "dental_informatics nursing_informatics 21 457 0\n",
      "artificial_intelligence artificial_intelligence 102221 102221 102221\n",
      "artificial_intelligence sociobiology 102221 24 0\n",
      "artificial_intelligence natural_history 102221 74 0\n",
      "artificial_intelligence synthetic_biology 102221 3279 72\n",
      "artificial_intelligence cellular_automata 102221 3 1\n",
      "artificial_intelligence public_health_informatics 102221 242 10\n",
      "artificial_intelligence computational_biology 102221 196494 8816\n",
      "artificial_intelligence zoology 102221 1174 6\n",
      "artificial_intelligence developmental_biology 102221 1443 10\n",
      "artificial_intelligence cryobiology 102221 5 0\n",
      "artificial_intelligence consumer_health_informatics 102221 19 0\n",
      "artificial_intelligence exobiology 102221 1259 9\n",
      "artificial_intelligence latent_class_analysis 102221 529 1\n",
      "artificial_intelligence radiobiology 102221 988 3\n",
      "artificial_intelligence genetics 102221 208506 7709\n",
      "artificial_intelligence neurobiology 102221 486 4\n",
      "artificial_intelligence parasitology 102221 2211 5\n",
      "artificial_intelligence botany 102221 2542 6\n",
      "artificial_intelligence photobiology 102221 260 2\n",
      "artificial_intelligence laboratory_animal_science 102221 173 1\n",
      "artificial_intelligence cheminformatics 102221 60 18\n",
      "artificial_intelligence cell_biology 102221 927 5\n",
      "artificial_intelligence ecology 102221 17171 78\n",
      "artificial_intelligence microbiology 102221 102183 176\n",
      "artificial_intelligence medical_informatics 102221 306675 30607\n",
      "artificial_intelligence nursing_informatics 102221 457 5\n",
      "sociobiology sociobiology 24 24 24\n",
      "sociobiology natural_history 24 74 0\n",
      "sociobiology synthetic_biology 24 3279 0\n",
      "sociobiology cellular_automata 24 3 0\n",
      "sociobiology public_health_informatics 24 242 0\n",
      "sociobiology computational_biology 24 196494 2\n",
      "sociobiology zoology 24 1174 0\n",
      "sociobiology developmental_biology 24 1443 0\n",
      "sociobiology cryobiology 24 5 0\n",
      "sociobiology consumer_health_informatics 24 19 0\n",
      "sociobiology exobiology 24 1259 0\n",
      "sociobiology latent_class_analysis 24 529 0\n",
      "sociobiology radiobiology 24 988 0\n",
      "sociobiology genetics 24 208506 6\n",
      "sociobiology neurobiology 24 486 0\n",
      "sociobiology parasitology 24 2211 0\n",
      "sociobiology botany 24 2542 0\n",
      "sociobiology photobiology 24 260 0\n",
      "sociobiology laboratory_animal_science 24 173 0\n",
      "sociobiology cheminformatics 24 60 0\n",
      "sociobiology cell_biology 24 927 0\n",
      "sociobiology ecology 24 17171 2\n",
      "sociobiology microbiology 24 102183 1\n",
      "sociobiology medical_informatics 24 306675 0\n",
      "sociobiology nursing_informatics 24 457 0\n",
      "natural_history natural_history 74 74 74\n",
      "natural_history synthetic_biology 74 3279 0\n",
      "natural_history cellular_automata 74 3 0\n",
      "natural_history public_health_informatics 74 242 0\n",
      "natural_history computational_biology 74 196494 2\n",
      "natural_history zoology 74 1174 3\n",
      "natural_history developmental_biology 74 1443 0\n",
      "natural_history cryobiology 74 5 0\n",
      "natural_history consumer_health_informatics 74 19 0\n",
      "natural_history exobiology 74 1259 0\n",
      "natural_history latent_class_analysis 74 529 0\n",
      "natural_history radiobiology 74 988 0\n",
      "natural_history genetics 74 208506 1\n",
      "natural_history neurobiology 74 486 0\n",
      "natural_history parasitology 74 2211 0\n",
      "natural_history botany 74 2542 6\n",
      "natural_history photobiology 74 260 0\n",
      "natural_history laboratory_animal_science 74 173 0\n",
      "natural_history cheminformatics 74 60 0\n",
      "natural_history cell_biology 74 927 0\n",
      "natural_history ecology 74 17171 4\n",
      "natural_history microbiology 74 102183 0\n",
      "natural_history medical_informatics 74 306675 6\n",
      "natural_history nursing_informatics 74 457 0\n",
      "synthetic_biology synthetic_biology 3279 3279 3279\n",
      "synthetic_biology cellular_automata 3279 3 1\n",
      "synthetic_biology public_health_informatics 3279 242 0\n",
      "synthetic_biology computational_biology 3279 196494 351\n",
      "synthetic_biology zoology 3279 1174 0\n",
      "synthetic_biology developmental_biology 3279 1443 13\n",
      "synthetic_biology cryobiology 3279 5 0\n",
      "synthetic_biology consumer_health_informatics 3279 19 0\n",
      "synthetic_biology exobiology 3279 1259 0\n",
      "synthetic_biology latent_class_analysis 3279 529 0\n",
      "synthetic_biology radiobiology 3279 988 0\n",
      "synthetic_biology genetics 3279 208506 138\n",
      "synthetic_biology neurobiology 3279 486 0\n",
      "synthetic_biology parasitology 3279 2211 0\n",
      "synthetic_biology botany 3279 2542 2\n",
      "synthetic_biology photobiology 3279 260 2\n",
      "synthetic_biology laboratory_animal_science 3279 173 0\n",
      "synthetic_biology cheminformatics 3279 60 0\n",
      "synthetic_biology cell_biology 3279 927 0\n",
      "synthetic_biology ecology 3279 17171 5\n",
      "synthetic_biology microbiology 3279 102183 102\n",
      "synthetic_biology medical_informatics 3279 306675 60\n",
      "synthetic_biology nursing_informatics 3279 457 0\n",
      "cellular_automata cellular_automata 3 3 3\n",
      "cellular_automata public_health_informatics 3 242 0\n",
      "cellular_automata computational_biology 3 196494 0\n",
      "cellular_automata zoology 3 1174 0\n",
      "cellular_automata developmental_biology 3 1443 0\n",
      "cellular_automata cryobiology 3 5 0\n",
      "cellular_automata consumer_health_informatics 3 19 0\n",
      "cellular_automata exobiology 3 1259 0\n",
      "cellular_automata latent_class_analysis 3 529 0\n",
      "cellular_automata radiobiology 3 988 0\n",
      "cellular_automata genetics 3 208506 0\n",
      "cellular_automata neurobiology 3 486 0\n",
      "cellular_automata parasitology 3 2211 0\n",
      "cellular_automata botany 3 2542 0\n",
      "cellular_automata photobiology 3 260 0\n",
      "cellular_automata laboratory_animal_science 3 173 0\n",
      "cellular_automata cheminformatics 3 60 0\n",
      "cellular_automata cell_biology 3 927 0\n",
      "cellular_automata ecology 3 17171 0\n",
      "cellular_automata microbiology 3 102183 0\n",
      "cellular_automata medical_informatics 3 306675 0\n",
      "cellular_automata nursing_informatics 3 457 0\n",
      "public_health_informatics public_health_informatics 242 242 242\n",
      "public_health_informatics computational_biology 242 196494 4\n",
      "public_health_informatics zoology 242 1174 0\n",
      "public_health_informatics developmental_biology 242 1443 0\n",
      "public_health_informatics cryobiology 242 5 0\n",
      "public_health_informatics consumer_health_informatics 242 19 0\n",
      "public_health_informatics exobiology 242 1259 0\n",
      "public_health_informatics latent_class_analysis 242 529 0\n",
      "public_health_informatics radiobiology 242 988 0\n",
      "public_health_informatics genetics 242 208506 3\n",
      "public_health_informatics neurobiology 242 486 0\n",
      "public_health_informatics parasitology 242 2211 0\n",
      "public_health_informatics botany 242 2542 0\n",
      "public_health_informatics photobiology 242 260 0\n",
      "public_health_informatics laboratory_animal_science 242 173 0\n",
      "public_health_informatics cheminformatics 242 60 0\n",
      "public_health_informatics cell_biology 242 927 0\n",
      "public_health_informatics ecology 242 17171 0\n",
      "public_health_informatics microbiology 242 102183 3\n",
      "public_health_informatics medical_informatics 242 306675 85\n",
      "public_health_informatics nursing_informatics 242 457 0\n",
      "computational_biology computational_biology 196494 196494 196494\n",
      "computational_biology zoology 196494 1174 8\n",
      "computational_biology developmental_biology 196494 1443 96\n",
      "computational_biology cryobiology 196494 5 0\n",
      "computational_biology consumer_health_informatics 196494 19 0\n",
      "computational_biology exobiology 196494 1259 5\n",
      "computational_biology latent_class_analysis 196494 529 2\n",
      "computational_biology radiobiology 196494 988 26\n",
      "computational_biology genetics 196494 208506 112008\n",
      "computational_biology neurobiology 196494 486 13\n"
     ]
    },
    {
     "name": "stdout",
     "output_type": "stream",
     "text": [
      "computational_biology parasitology 196494 2211 29\n",
      "computational_biology botany 196494 2542 30\n",
      "computational_biology photobiology 196494 260 0\n",
      "computational_biology laboratory_animal_science 196494 173 1\n",
      "computational_biology cheminformatics 196494 60 5\n",
      "computational_biology cell_biology 196494 927 37\n",
      "computational_biology ecology 196494 17171 453\n",
      "computational_biology microbiology 196494 102183 1398\n",
      "computational_biology medical_informatics 196494 306675 28939\n",
      "computational_biology nursing_informatics 196494 457 5\n",
      "zoology zoology 1174 1174 1174\n",
      "zoology developmental_biology 1174 1443 6\n",
      "zoology cryobiology 1174 5 0\n",
      "zoology consumer_health_informatics 1174 19 0\n",
      "zoology exobiology 1174 1259 0\n",
      "zoology latent_class_analysis 1174 529 0\n",
      "zoology radiobiology 1174 988 0\n",
      "zoology genetics 1174 208506 23\n",
      "zoology neurobiology 1174 486 0\n",
      "zoology parasitology 1174 2211 7\n",
      "zoology botany 1174 2542 5\n",
      "zoology photobiology 1174 260 0\n",
      "zoology laboratory_animal_science 1174 173 0\n",
      "zoology cheminformatics 1174 60 0\n",
      "zoology cell_biology 1174 927 0\n",
      "zoology ecology 1174 17171 22\n",
      "zoology microbiology 1174 102183 7\n",
      "zoology medical_informatics 1174 306675 8\n",
      "zoology nursing_informatics 1174 457 0\n",
      "developmental_biology developmental_biology 1443 1443 1443\n",
      "developmental_biology cryobiology 1443 5 0\n",
      "developmental_biology consumer_health_informatics 1443 19 0\n",
      "developmental_biology exobiology 1443 1259 0\n",
      "developmental_biology latent_class_analysis 1443 529 0\n",
      "developmental_biology radiobiology 1443 988 0\n",
      "developmental_biology genetics 1443 208506 140\n",
      "developmental_biology neurobiology 1443 486 1\n",
      "developmental_biology parasitology 1443 2211 0\n",
      "developmental_biology botany 1443 2542 1\n",
      "developmental_biology photobiology 1443 260 0\n",
      "developmental_biology laboratory_animal_science 1443 173 1\n",
      "developmental_biology cheminformatics 1443 60 0\n",
      "developmental_biology cell_biology 1443 927 14\n",
      "developmental_biology ecology 1443 17171 15\n",
      "developmental_biology microbiology 1443 102183 53\n",
      "developmental_biology medical_informatics 1443 306675 24\n",
      "developmental_biology nursing_informatics 1443 457 0\n",
      "cryobiology cryobiology 5 5 5\n",
      "cryobiology consumer_health_informatics 5 19 0\n",
      "cryobiology exobiology 5 1259 0\n",
      "cryobiology latent_class_analysis 5 529 0\n",
      "cryobiology radiobiology 5 988 0\n",
      "cryobiology genetics 5 208506 0\n",
      "cryobiology neurobiology 5 486 0\n",
      "cryobiology parasitology 5 2211 0\n",
      "cryobiology botany 5 2542 0\n",
      "cryobiology photobiology 5 260 0\n",
      "cryobiology laboratory_animal_science 5 173 0\n",
      "cryobiology cheminformatics 5 60 0\n",
      "cryobiology cell_biology 5 927 0\n",
      "cryobiology ecology 5 17171 0\n",
      "cryobiology microbiology 5 102183 0\n",
      "cryobiology medical_informatics 5 306675 0\n",
      "cryobiology nursing_informatics 5 457 0\n",
      "consumer_health_informatics consumer_health_informatics 19 19 19\n",
      "consumer_health_informatics exobiology 19 1259 0\n",
      "consumer_health_informatics latent_class_analysis 19 529 0\n",
      "consumer_health_informatics radiobiology 19 988 0\n",
      "consumer_health_informatics genetics 19 208506 0\n",
      "consumer_health_informatics neurobiology 19 486 0\n",
      "consumer_health_informatics parasitology 19 2211 0\n",
      "consumer_health_informatics botany 19 2542 0\n",
      "consumer_health_informatics photobiology 19 260 0\n",
      "consumer_health_informatics laboratory_animal_science 19 173 0\n",
      "consumer_health_informatics cheminformatics 19 60 0\n",
      "consumer_health_informatics cell_biology 19 927 0\n",
      "consumer_health_informatics ecology 19 17171 0\n",
      "consumer_health_informatics microbiology 19 102183 0\n",
      "consumer_health_informatics medical_informatics 19 306675 5\n",
      "consumer_health_informatics nursing_informatics 19 457 0\n",
      "exobiology exobiology 1259 1259 1259\n",
      "exobiology latent_class_analysis 1259 529 0\n",
      "exobiology radiobiology 1259 988 0\n",
      "exobiology genetics 1259 208506 4\n",
      "exobiology neurobiology 1259 486 0\n",
      "exobiology parasitology 1259 2211 0\n",
      "exobiology botany 1259 2542 0\n",
      "exobiology photobiology 1259 260 0\n",
      "exobiology laboratory_animal_science 1259 173 0\n",
      "exobiology cheminformatics 1259 60 0\n",
      "exobiology cell_biology 1259 927 0\n",
      "exobiology ecology 1259 17171 4\n",
      "exobiology microbiology 1259 102183 98\n",
      "exobiology medical_informatics 1259 306675 2\n",
      "exobiology nursing_informatics 1259 457 0\n",
      "latent_class_analysis latent_class_analysis 529 529 529\n",
      "latent_class_analysis radiobiology 529 988 0\n",
      "latent_class_analysis genetics 529 208506 2\n",
      "latent_class_analysis neurobiology 529 486 0\n",
      "latent_class_analysis parasitology 529 2211 0\n",
      "latent_class_analysis botany 529 2542 0\n",
      "latent_class_analysis photobiology 529 260 0\n",
      "latent_class_analysis laboratory_animal_science 529 173 0\n",
      "latent_class_analysis cheminformatics 529 60 0\n",
      "latent_class_analysis cell_biology 529 927 0\n",
      "latent_class_analysis ecology 529 17171 0\n",
      "latent_class_analysis microbiology 529 102183 0\n",
      "latent_class_analysis medical_informatics 529 306675 10\n",
      "latent_class_analysis nursing_informatics 529 457 0\n",
      "radiobiology radiobiology 988 988 988\n",
      "radiobiology genetics 988 208506 23\n",
      "radiobiology neurobiology 988 486 0\n",
      "radiobiology parasitology 988 2211 0\n",
      "radiobiology botany 988 2542 0\n",
      "radiobiology photobiology 988 260 0\n",
      "radiobiology laboratory_animal_science 988 173 0\n",
      "radiobiology cheminformatics 988 60 0\n",
      "radiobiology cell_biology 988 927 2\n",
      "radiobiology ecology 988 17171 7\n",
      "radiobiology microbiology 988 102183 0\n",
      "radiobiology medical_informatics 988 306675 123\n",
      "radiobiology nursing_informatics 988 457 0\n",
      "genetics genetics 208506 208506 208506\n",
      "genetics neurobiology 208506 486 13\n",
      "genetics parasitology 208506 2211 56\n",
      "genetics botany 208506 2542 22\n",
      "genetics photobiology 208506 260 0\n",
      "genetics laboratory_animal_science 208506 173 0\n",
      "genetics cheminformatics 208506 60 0\n",
      "genetics cell_biology 208506 927 56\n",
      "genetics ecology 208506 17171 844\n",
      "genetics microbiology 208506 102183 6575\n",
      "genetics medical_informatics 208506 306675 20940\n",
      "genetics nursing_informatics 208506 457 2\n",
      "neurobiology neurobiology 486 486 486\n",
      "neurobiology parasitology 486 2211 0\n",
      "neurobiology botany 486 2542 0\n",
      "neurobiology photobiology 486 260 0\n",
      "neurobiology laboratory_animal_science 486 173 0\n",
      "neurobiology cheminformatics 486 60 0\n",
      "neurobiology cell_biology 486 927 0\n",
      "neurobiology ecology 486 17171 3\n",
      "neurobiology microbiology 486 102183 0\n",
      "neurobiology medical_informatics 486 306675 5\n",
      "neurobiology nursing_informatics 486 457 0\n",
      "parasitology parasitology 2211 2211 2211\n",
      "parasitology botany 2211 2542 0\n",
      "parasitology photobiology 2211 260 0\n",
      "parasitology laboratory_animal_science 2211 173 0\n",
      "parasitology cheminformatics 2211 60 0\n",
      "parasitology cell_biology 2211 927 0\n",
      "parasitology ecology 2211 17171 12\n",
      "parasitology microbiology 2211 102183 72\n",
      "parasitology medical_informatics 2211 306675 11\n",
      "parasitology nursing_informatics 2211 457 0\n",
      "botany botany 2542 2542 2542\n",
      "botany photobiology 2542 260 0\n",
      "botany laboratory_animal_science 2542 173 0\n",
      "botany cheminformatics 2542 60 0\n",
      "botany cell_biology 2542 927 0\n",
      "botany ecology 2542 17171 15\n",
      "botany microbiology 2542 102183 5\n",
      "botany medical_informatics 2542 306675 33\n",
      "botany nursing_informatics 2542 457 0\n",
      "photobiology photobiology 260 260 260\n",
      "photobiology laboratory_animal_science 260 173 0\n",
      "photobiology cheminformatics 260 60 0\n",
      "photobiology cell_biology 260 927 0\n",
      "photobiology ecology 260 17171 2\n",
      "photobiology microbiology 260 102183 2\n",
      "photobiology medical_informatics 260 306675 0\n",
      "photobiology nursing_informatics 260 457 0\n",
      "laboratory_animal_science laboratory_animal_science 173 173 173\n",
      "laboratory_animal_science cheminformatics 173 60 0\n",
      "laboratory_animal_science cell_biology 173 927 0\n",
      "laboratory_animal_science ecology 173 17171 0\n",
      "laboratory_animal_science microbiology 173 102183 0\n",
      "laboratory_animal_science medical_informatics 173 306675 8\n",
      "laboratory_animal_science nursing_informatics 173 457 0\n",
      "cheminformatics cheminformatics 60 60 60\n",
      "cheminformatics cell_biology 60 927 0\n",
      "cheminformatics ecology 60 17171 0\n",
      "cheminformatics microbiology 60 102183 0\n",
      "cheminformatics medical_informatics 60 306675 15\n",
      "cheminformatics nursing_informatics 60 457 0\n",
      "cell_biology cell_biology 927 927 927\n",
      "cell_biology ecology 927 17171 4\n",
      "cell_biology microbiology 927 102183 4\n",
      "cell_biology medical_informatics 927 306675 7\n",
      "cell_biology nursing_informatics 927 457 0\n",
      "ecology ecology 17171 17171 17171\n",
      "ecology microbiology 17171 102183 920\n",
      "ecology medical_informatics 17171 306675 399\n",
      "ecology nursing_informatics 17171 457 0\n",
      "microbiology microbiology 102183 102183 102183\n"
     ]
    },
    {
     "name": "stdout",
     "output_type": "stream",
     "text": [
      "microbiology medical_informatics 102183 306675 445\n",
      "microbiology nursing_informatics 102183 457 0\n",
      "medical_informatics medical_informatics 306675 306675 306675\n",
      "medical_informatics nursing_informatics 306675 457 157\n",
      "nursing_informatics nursing_informatics 457 457 457\n",
      "CPU times: user 34.6 s, sys: 57.3 ms, total: 34.6 s\n",
      "Wall time: 34.6 s\n"
     ]
    }
   ],
   "source": [
    "%%time\n",
    "pairs = []\n",
    "intersections = []\n",
    "correlations = []\n",
    "intersection_counts = []\n",
    "for field1, field2 in itertools.combinations_with_replacement(fields, 2):\n",
    "#     if field1 == field2:\n",
    "#         continue\n",
    "    \n",
    "    group1 = groups.get_group(field1)\n",
    "    group2 = groups.get_group(field2)\n",
    "    intersect_count = len(np.intersect1d(group1.doi, group2.doi))\n",
    "    intersect_percent = intersect_count / (len(group1) + len(group2) - intersect_count)\n",
    "    \n",
    "    if intersect_count < 100:\n",
    "        continue\n",
    "    \n",
    "    merged = group1.merge(group2, on='doi')\n",
    "    correlation = merged['pagerank_x'].corr(merged['pagerank_y'])\n",
    "    pairs.append((field1, field2))\n",
    "    intersections.append(intersect_percent)\n",
    "    intersection_counts.append(intersect_count)\n",
    "    correlations.append(correlation)"
   ]
  },
  {
   "cell_type": "code",
   "execution_count": 8,
   "id": "ee93aff9",
   "metadata": {},
   "outputs": [],
   "source": [
    "fields1 = [pair[0] for pair in pairs]\n",
    "fields2 = [pair[1] for pair in pairs]"
   ]
  },
  {
   "cell_type": "code",
   "execution_count": 9,
   "id": "645f8cd8",
   "metadata": {},
   "outputs": [],
   "source": [
    "overlap_df = pd.DataFrame({'field1': fields1, 'field2': fields2, 'intersection': intersections, \n",
    "                           'correlation': correlations, 'intersection_counts': intersection_counts})"
   ]
  },
  {
   "cell_type": "code",
   "execution_count": 10,
   "id": "c2a49d78",
   "metadata": {},
   "outputs": [
    {
     "data": {
      "text/html": [
       "<div>\n",
       "<style scoped>\n",
       "    .dataframe tbody tr th:only-of-type {\n",
       "        vertical-align: middle;\n",
       "    }\n",
       "\n",
       "    .dataframe tbody tr th {\n",
       "        vertical-align: top;\n",
       "    }\n",
       "\n",
       "    .dataframe thead th {\n",
       "        text-align: right;\n",
       "    }\n",
       "</style>\n",
       "<table border=\"1\" class=\"dataframe\">\n",
       "  <thead>\n",
       "    <tr style=\"text-align: right;\">\n",
       "      <th></th>\n",
       "      <th>field1</th>\n",
       "      <th>field2</th>\n",
       "      <th>intersection</th>\n",
       "      <th>correlation</th>\n",
       "      <th>intersection_counts</th>\n",
       "    </tr>\n",
       "  </thead>\n",
       "  <tbody>\n",
       "    <tr>\n",
       "      <th>0</th>\n",
       "      <td>artificial_intelligence</td>\n",
       "      <td>artificial_intelligence</td>\n",
       "      <td>1.000000</td>\n",
       "      <td>1.000000</td>\n",
       "      <td>102221</td>\n",
       "    </tr>\n",
       "    <tr>\n",
       "      <th>1</th>\n",
       "      <td>artificial_intelligence</td>\n",
       "      <td>computational_biology</td>\n",
       "      <td>0.030411</td>\n",
       "      <td>0.800098</td>\n",
       "      <td>8816</td>\n",
       "    </tr>\n",
       "    <tr>\n",
       "      <th>2</th>\n",
       "      <td>artificial_intelligence</td>\n",
       "      <td>genetics</td>\n",
       "      <td>0.025441</td>\n",
       "      <td>0.456514</td>\n",
       "      <td>7709</td>\n",
       "    </tr>\n",
       "    <tr>\n",
       "      <th>3</th>\n",
       "      <td>artificial_intelligence</td>\n",
       "      <td>microbiology</td>\n",
       "      <td>0.000862</td>\n",
       "      <td>0.371046</td>\n",
       "      <td>176</td>\n",
       "    </tr>\n",
       "    <tr>\n",
       "      <th>4</th>\n",
       "      <td>artificial_intelligence</td>\n",
       "      <td>medical_informatics</td>\n",
       "      <td>0.080909</td>\n",
       "      <td>0.702763</td>\n",
       "      <td>30607</td>\n",
       "    </tr>\n",
       "    <tr>\n",
       "      <th>5</th>\n",
       "      <td>synthetic_biology</td>\n",
       "      <td>synthetic_biology</td>\n",
       "      <td>1.000000</td>\n",
       "      <td>1.000000</td>\n",
       "      <td>3279</td>\n",
       "    </tr>\n",
       "    <tr>\n",
       "      <th>6</th>\n",
       "      <td>synthetic_biology</td>\n",
       "      <td>computational_biology</td>\n",
       "      <td>0.001760</td>\n",
       "      <td>0.475627</td>\n",
       "      <td>351</td>\n",
       "    </tr>\n",
       "    <tr>\n",
       "      <th>7</th>\n",
       "      <td>synthetic_biology</td>\n",
       "      <td>genetics</td>\n",
       "      <td>0.000652</td>\n",
       "      <td>0.446581</td>\n",
       "      <td>138</td>\n",
       "    </tr>\n",
       "    <tr>\n",
       "      <th>8</th>\n",
       "      <td>synthetic_biology</td>\n",
       "      <td>microbiology</td>\n",
       "      <td>0.000968</td>\n",
       "      <td>0.858166</td>\n",
       "      <td>102</td>\n",
       "    </tr>\n",
       "    <tr>\n",
       "      <th>9</th>\n",
       "      <td>public_health_informatics</td>\n",
       "      <td>public_health_informatics</td>\n",
       "      <td>1.000000</td>\n",
       "      <td>1.000000</td>\n",
       "      <td>242</td>\n",
       "    </tr>\n",
       "    <tr>\n",
       "      <th>10</th>\n",
       "      <td>computational_biology</td>\n",
       "      <td>computational_biology</td>\n",
       "      <td>1.000000</td>\n",
       "      <td>1.000000</td>\n",
       "      <td>196494</td>\n",
       "    </tr>\n",
       "    <tr>\n",
       "      <th>11</th>\n",
       "      <td>computational_biology</td>\n",
       "      <td>genetics</td>\n",
       "      <td>0.382290</td>\n",
       "      <td>0.933075</td>\n",
       "      <td>112008</td>\n",
       "    </tr>\n",
       "    <tr>\n",
       "      <th>12</th>\n",
       "      <td>computational_biology</td>\n",
       "      <td>ecology</td>\n",
       "      <td>0.002125</td>\n",
       "      <td>0.453726</td>\n",
       "      <td>453</td>\n",
       "    </tr>\n",
       "    <tr>\n",
       "      <th>13</th>\n",
       "      <td>computational_biology</td>\n",
       "      <td>microbiology</td>\n",
       "      <td>0.004703</td>\n",
       "      <td>0.843605</td>\n",
       "      <td>1398</td>\n",
       "    </tr>\n",
       "    <tr>\n",
       "      <th>14</th>\n",
       "      <td>computational_biology</td>\n",
       "      <td>medical_informatics</td>\n",
       "      <td>0.061023</td>\n",
       "      <td>0.781383</td>\n",
       "      <td>28939</td>\n",
       "    </tr>\n",
       "    <tr>\n",
       "      <th>15</th>\n",
       "      <td>zoology</td>\n",
       "      <td>zoology</td>\n",
       "      <td>1.000000</td>\n",
       "      <td>1.000000</td>\n",
       "      <td>1174</td>\n",
       "    </tr>\n",
       "    <tr>\n",
       "      <th>16</th>\n",
       "      <td>developmental_biology</td>\n",
       "      <td>developmental_biology</td>\n",
       "      <td>1.000000</td>\n",
       "      <td>1.000000</td>\n",
       "      <td>1443</td>\n",
       "    </tr>\n",
       "    <tr>\n",
       "      <th>17</th>\n",
       "      <td>developmental_biology</td>\n",
       "      <td>genetics</td>\n",
       "      <td>0.000667</td>\n",
       "      <td>0.461025</td>\n",
       "      <td>140</td>\n",
       "    </tr>\n",
       "    <tr>\n",
       "      <th>18</th>\n",
       "      <td>exobiology</td>\n",
       "      <td>exobiology</td>\n",
       "      <td>1.000000</td>\n",
       "      <td>1.000000</td>\n",
       "      <td>1259</td>\n",
       "    </tr>\n",
       "    <tr>\n",
       "      <th>19</th>\n",
       "      <td>latent_class_analysis</td>\n",
       "      <td>latent_class_analysis</td>\n",
       "      <td>1.000000</td>\n",
       "      <td>1.000000</td>\n",
       "      <td>529</td>\n",
       "    </tr>\n",
       "    <tr>\n",
       "      <th>20</th>\n",
       "      <td>radiobiology</td>\n",
       "      <td>radiobiology</td>\n",
       "      <td>1.000000</td>\n",
       "      <td>1.000000</td>\n",
       "      <td>988</td>\n",
       "    </tr>\n",
       "    <tr>\n",
       "      <th>21</th>\n",
       "      <td>radiobiology</td>\n",
       "      <td>medical_informatics</td>\n",
       "      <td>0.000400</td>\n",
       "      <td>0.331100</td>\n",
       "      <td>123</td>\n",
       "    </tr>\n",
       "    <tr>\n",
       "      <th>22</th>\n",
       "      <td>genetics</td>\n",
       "      <td>genetics</td>\n",
       "      <td>1.000000</td>\n",
       "      <td>1.000000</td>\n",
       "      <td>208506</td>\n",
       "    </tr>\n",
       "    <tr>\n",
       "      <th>23</th>\n",
       "      <td>genetics</td>\n",
       "      <td>ecology</td>\n",
       "      <td>0.003754</td>\n",
       "      <td>0.368776</td>\n",
       "      <td>844</td>\n",
       "    </tr>\n",
       "    <tr>\n",
       "      <th>24</th>\n",
       "      <td>genetics</td>\n",
       "      <td>microbiology</td>\n",
       "      <td>0.021620</td>\n",
       "      <td>0.849018</td>\n",
       "      <td>6575</td>\n",
       "    </tr>\n",
       "    <tr>\n",
       "      <th>25</th>\n",
       "      <td>genetics</td>\n",
       "      <td>medical_informatics</td>\n",
       "      <td>0.042368</td>\n",
       "      <td>0.871949</td>\n",
       "      <td>20940</td>\n",
       "    </tr>\n",
       "    <tr>\n",
       "      <th>26</th>\n",
       "      <td>neurobiology</td>\n",
       "      <td>neurobiology</td>\n",
       "      <td>1.000000</td>\n",
       "      <td>1.000000</td>\n",
       "      <td>486</td>\n",
       "    </tr>\n",
       "    <tr>\n",
       "      <th>27</th>\n",
       "      <td>parasitology</td>\n",
       "      <td>parasitology</td>\n",
       "      <td>1.000000</td>\n",
       "      <td>1.000000</td>\n",
       "      <td>2211</td>\n",
       "    </tr>\n",
       "    <tr>\n",
       "      <th>28</th>\n",
       "      <td>botany</td>\n",
       "      <td>botany</td>\n",
       "      <td>1.000000</td>\n",
       "      <td>1.000000</td>\n",
       "      <td>2542</td>\n",
       "    </tr>\n",
       "    <tr>\n",
       "      <th>29</th>\n",
       "      <td>photobiology</td>\n",
       "      <td>photobiology</td>\n",
       "      <td>1.000000</td>\n",
       "      <td>1.000000</td>\n",
       "      <td>260</td>\n",
       "    </tr>\n",
       "    <tr>\n",
       "      <th>30</th>\n",
       "      <td>laboratory_animal_science</td>\n",
       "      <td>laboratory_animal_science</td>\n",
       "      <td>1.000000</td>\n",
       "      <td>1.000000</td>\n",
       "      <td>173</td>\n",
       "    </tr>\n",
       "    <tr>\n",
       "      <th>31</th>\n",
       "      <td>cell_biology</td>\n",
       "      <td>cell_biology</td>\n",
       "      <td>1.000000</td>\n",
       "      <td>1.000000</td>\n",
       "      <td>927</td>\n",
       "    </tr>\n",
       "    <tr>\n",
       "      <th>32</th>\n",
       "      <td>ecology</td>\n",
       "      <td>ecology</td>\n",
       "      <td>1.000000</td>\n",
       "      <td>1.000000</td>\n",
       "      <td>17171</td>\n",
       "    </tr>\n",
       "    <tr>\n",
       "      <th>33</th>\n",
       "      <td>ecology</td>\n",
       "      <td>microbiology</td>\n",
       "      <td>0.007768</td>\n",
       "      <td>0.473840</td>\n",
       "      <td>920</td>\n",
       "    </tr>\n",
       "    <tr>\n",
       "      <th>34</th>\n",
       "      <td>ecology</td>\n",
       "      <td>medical_informatics</td>\n",
       "      <td>0.001234</td>\n",
       "      <td>0.535123</td>\n",
       "      <td>399</td>\n",
       "    </tr>\n",
       "    <tr>\n",
       "      <th>35</th>\n",
       "      <td>microbiology</td>\n",
       "      <td>microbiology</td>\n",
       "      <td>1.000000</td>\n",
       "      <td>1.000000</td>\n",
       "      <td>102183</td>\n",
       "    </tr>\n",
       "    <tr>\n",
       "      <th>36</th>\n",
       "      <td>microbiology</td>\n",
       "      <td>medical_informatics</td>\n",
       "      <td>0.001090</td>\n",
       "      <td>0.363989</td>\n",
       "      <td>445</td>\n",
       "    </tr>\n",
       "    <tr>\n",
       "      <th>37</th>\n",
       "      <td>medical_informatics</td>\n",
       "      <td>medical_informatics</td>\n",
       "      <td>1.000000</td>\n",
       "      <td>1.000000</td>\n",
       "      <td>306675</td>\n",
       "    </tr>\n",
       "    <tr>\n",
       "      <th>38</th>\n",
       "      <td>medical_informatics</td>\n",
       "      <td>nursing_informatics</td>\n",
       "      <td>0.000511</td>\n",
       "      <td>0.521256</td>\n",
       "      <td>157</td>\n",
       "    </tr>\n",
       "    <tr>\n",
       "      <th>39</th>\n",
       "      <td>nursing_informatics</td>\n",
       "      <td>nursing_informatics</td>\n",
       "      <td>1.000000</td>\n",
       "      <td>1.000000</td>\n",
       "      <td>457</td>\n",
       "    </tr>\n",
       "  </tbody>\n",
       "</table>\n",
       "</div>"
      ],
      "text/plain": [
       "                       field1                     field2  intersection  \\\n",
       "0     artificial_intelligence    artificial_intelligence      1.000000   \n",
       "1     artificial_intelligence      computational_biology      0.030411   \n",
       "2     artificial_intelligence                   genetics      0.025441   \n",
       "3     artificial_intelligence               microbiology      0.000862   \n",
       "4     artificial_intelligence        medical_informatics      0.080909   \n",
       "5           synthetic_biology          synthetic_biology      1.000000   \n",
       "6           synthetic_biology      computational_biology      0.001760   \n",
       "7           synthetic_biology                   genetics      0.000652   \n",
       "8           synthetic_biology               microbiology      0.000968   \n",
       "9   public_health_informatics  public_health_informatics      1.000000   \n",
       "10      computational_biology      computational_biology      1.000000   \n",
       "11      computational_biology                   genetics      0.382290   \n",
       "12      computational_biology                    ecology      0.002125   \n",
       "13      computational_biology               microbiology      0.004703   \n",
       "14      computational_biology        medical_informatics      0.061023   \n",
       "15                    zoology                    zoology      1.000000   \n",
       "16      developmental_biology      developmental_biology      1.000000   \n",
       "17      developmental_biology                   genetics      0.000667   \n",
       "18                 exobiology                 exobiology      1.000000   \n",
       "19      latent_class_analysis      latent_class_analysis      1.000000   \n",
       "20               radiobiology               radiobiology      1.000000   \n",
       "21               radiobiology        medical_informatics      0.000400   \n",
       "22                   genetics                   genetics      1.000000   \n",
       "23                   genetics                    ecology      0.003754   \n",
       "24                   genetics               microbiology      0.021620   \n",
       "25                   genetics        medical_informatics      0.042368   \n",
       "26               neurobiology               neurobiology      1.000000   \n",
       "27               parasitology               parasitology      1.000000   \n",
       "28                     botany                     botany      1.000000   \n",
       "29               photobiology               photobiology      1.000000   \n",
       "30  laboratory_animal_science  laboratory_animal_science      1.000000   \n",
       "31               cell_biology               cell_biology      1.000000   \n",
       "32                    ecology                    ecology      1.000000   \n",
       "33                    ecology               microbiology      0.007768   \n",
       "34                    ecology        medical_informatics      0.001234   \n",
       "35               microbiology               microbiology      1.000000   \n",
       "36               microbiology        medical_informatics      0.001090   \n",
       "37        medical_informatics        medical_informatics      1.000000   \n",
       "38        medical_informatics        nursing_informatics      0.000511   \n",
       "39        nursing_informatics        nursing_informatics      1.000000   \n",
       "\n",
       "    correlation  intersection_counts  \n",
       "0      1.000000               102221  \n",
       "1      0.800098                 8816  \n",
       "2      0.456514                 7709  \n",
       "3      0.371046                  176  \n",
       "4      0.702763                30607  \n",
       "5      1.000000                 3279  \n",
       "6      0.475627                  351  \n",
       "7      0.446581                  138  \n",
       "8      0.858166                  102  \n",
       "9      1.000000                  242  \n",
       "10     1.000000               196494  \n",
       "11     0.933075               112008  \n",
       "12     0.453726                  453  \n",
       "13     0.843605                 1398  \n",
       "14     0.781383                28939  \n",
       "15     1.000000                 1174  \n",
       "16     1.000000                 1443  \n",
       "17     0.461025                  140  \n",
       "18     1.000000                 1259  \n",
       "19     1.000000                  529  \n",
       "20     1.000000                  988  \n",
       "21     0.331100                  123  \n",
       "22     1.000000               208506  \n",
       "23     0.368776                  844  \n",
       "24     0.849018                 6575  \n",
       "25     0.871949                20940  \n",
       "26     1.000000                  486  \n",
       "27     1.000000                 2211  \n",
       "28     1.000000                 2542  \n",
       "29     1.000000                  260  \n",
       "30     1.000000                  173  \n",
       "31     1.000000                  927  \n",
       "32     1.000000                17171  \n",
       "33     0.473840                  920  \n",
       "34     0.535123                  399  \n",
       "35     1.000000               102183  \n",
       "36     0.363989                  445  \n",
       "37     1.000000               306675  \n",
       "38     0.521256                  157  \n",
       "39     1.000000                  457  "
      ]
     },
     "execution_count": 10,
     "metadata": {},
     "output_type": "execute_result"
    }
   ],
   "source": [
    "overlap_df"
   ]
  },
  {
   "cell_type": "code",
   "execution_count": 23,
   "id": "c4e432f6",
   "metadata": {},
   "outputs": [
    {
     "data": {
      "application/vnd.plotly.v1+json": {
       "config": {
        "plotlyServerURL": "https://plot.ly"
       },
       "data": [
        {
         "customdata": [
          [
           "artificial_intelligence",
           "artificial_intelligence"
          ],
          [
           "artificial_intelligence",
           "computational_biology"
          ],
          [
           "artificial_intelligence",
           "genetics"
          ],
          [
           "artificial_intelligence",
           "microbiology"
          ],
          [
           "artificial_intelligence",
           "medical_informatics"
          ],
          [
           "synthetic_biology",
           "synthetic_biology"
          ],
          [
           "synthetic_biology",
           "computational_biology"
          ],
          [
           "synthetic_biology",
           "genetics"
          ],
          [
           "synthetic_biology",
           "microbiology"
          ],
          [
           "public_health_informatics",
           "public_health_informatics"
          ],
          [
           "computational_biology",
           "computational_biology"
          ],
          [
           "computational_biology",
           "genetics"
          ],
          [
           "computational_biology",
           "ecology"
          ],
          [
           "computational_biology",
           "microbiology"
          ],
          [
           "computational_biology",
           "medical_informatics"
          ],
          [
           "zoology",
           "zoology"
          ],
          [
           "developmental_biology",
           "developmental_biology"
          ],
          [
           "developmental_biology",
           "genetics"
          ],
          [
           "exobiology",
           "exobiology"
          ],
          [
           "latent_class_analysis",
           "latent_class_analysis"
          ],
          [
           "radiobiology",
           "radiobiology"
          ],
          [
           "radiobiology",
           "medical_informatics"
          ],
          [
           "genetics",
           "genetics"
          ],
          [
           "genetics",
           "ecology"
          ],
          [
           "genetics",
           "microbiology"
          ],
          [
           "genetics",
           "medical_informatics"
          ],
          [
           "neurobiology",
           "neurobiology"
          ],
          [
           "parasitology",
           "parasitology"
          ],
          [
           "botany",
           "botany"
          ],
          [
           "photobiology",
           "photobiology"
          ],
          [
           "laboratory_animal_science",
           "laboratory_animal_science"
          ],
          [
           "cell_biology",
           "cell_biology"
          ],
          [
           "ecology",
           "ecology"
          ],
          [
           "ecology",
           "microbiology"
          ],
          [
           "ecology",
           "medical_informatics"
          ],
          [
           "microbiology",
           "microbiology"
          ],
          [
           "microbiology",
           "medical_informatics"
          ],
          [
           "medical_informatics",
           "medical_informatics"
          ],
          [
           "medical_informatics",
           "nursing_informatics"
          ],
          [
           "nursing_informatics",
           "nursing_informatics"
          ]
         ],
         "hovertemplate": "intersection=%{marker.color}<br>correlation=%{y}<br>field1=%{customdata[0]}<br>field2=%{customdata[1]}<extra></extra>",
         "legendgroup": "",
         "marker": {
          "color": [
           1,
           0.03041059127489229,
           0.025440732893755487,
           0.0008617819299998041,
           0.08090904044262455,
           1,
           0.001760086650419713,
           0.0006520290861670612,
           0.0009681093394077448,
           1,
           1,
           0.3822903014416776,
           0.002124645892351275,
           0.004702653063283986,
           0.0610231322354132,
           1,
           1,
           0.0006672735678641049,
           1,
           1,
           1,
           0.00039994797424725237,
           1,
           0.0037538973371346734,
           0.02162018190546966,
           0.042367994561357716,
           1,
           1,
           1,
           1,
           1,
           1,
           1,
           0.007768039583227789,
           0.0012335869555135772,
           1,
           0.001089583338434379,
           1,
           0.0005114422998615522,
           1
          ],
          "coloraxis": "coloraxis",
          "symbol": "circle"
         },
         "mode": "markers",
         "name": "",
         "orientation": "v",
         "showlegend": false,
         "type": "scatter",
         "x": [
          1,
          0.03041059127489229,
          0.025440732893755487,
          0.0008617819299998041,
          0.08090904044262455,
          1,
          0.001760086650419713,
          0.0006520290861670612,
          0.0009681093394077448,
          1,
          1,
          0.3822903014416776,
          0.002124645892351275,
          0.004702653063283986,
          0.0610231322354132,
          1,
          1,
          0.0006672735678641049,
          1,
          1,
          1,
          0.00039994797424725237,
          1,
          0.0037538973371346734,
          0.02162018190546966,
          0.042367994561357716,
          1,
          1,
          1,
          1,
          1,
          1,
          1,
          0.007768039583227789,
          0.0012335869555135772,
          1,
          0.001089583338434379,
          1,
          0.0005114422998615522,
          1
         ],
         "xaxis": "x",
         "y": [
          0.9999999999999998,
          0.8000979175888133,
          0.45651389190485003,
          0.3710455798494907,
          0.7027626655320042,
          0.9999999999999999,
          0.47562695688454915,
          0.4465813783569728,
          0.8581659194583675,
          1,
          0.9999999999999999,
          0.9330749244491514,
          0.45372577350219684,
          0.8436051932241287,
          0.7813830343573837,
          1,
          1,
          0.4610245669272356,
          1,
          0.9999999999999999,
          1,
          0.3311003700793223,
          1,
          0.36877611400235,
          0.8490182992824071,
          0.8719491819658813,
          1,
          1,
          0.9999999999999998,
          1,
          0.9999999999999999,
          1,
          1,
          0.4738395047914447,
          0.53512302209407,
          1,
          0.36398884934246445,
          1,
          0.5212563087659534,
          1
         ],
         "yaxis": "y"
        },
        {
         "hovertemplate": "<b>OLS trendline</b><br>correlation = 0.172223 * log10(intersection) + 0.996232<br>R<sup>2</sup>=0.819310<br><br>intersection=%{x}<br>correlation=%{y} <b>(trend)</b><extra></extra>",
         "legendgroup": "",
         "marker": {
          "symbol": "circle"
         },
         "mode": "lines",
         "name": "",
         "showlegend": false,
         "type": "scatter",
         "x": [
          0.00039994797424725237,
          0.0005114422998615522,
          0.0006520290861670612,
          0.0006672735678641049,
          0.0008617819299998041,
          0.0009681093394077448,
          0.001089583338434379,
          0.0012335869555135772,
          0.001760086650419713,
          0.002124645892351275,
          0.0037538973371346734,
          0.004702653063283986,
          0.007768039583227789,
          0.02162018190546966,
          0.025440732893755487,
          0.03041059127489229,
          0.042367994561357716,
          0.0610231322354132,
          0.08090904044262455,
          0.3822903014416776,
          1,
          1,
          1,
          1,
          1,
          1,
          1,
          1,
          1,
          1,
          1,
          1,
          1,
          1,
          1,
          1,
          1,
          1,
          1,
          1
         ],
         "xaxis": "x",
         "y": [
          0.41101776452709815,
          0.42941003070096184,
          0.4475744768342128,
          0.44930307377092205,
          0.4684359549628836,
          0.4771378855493653,
          0.48597914777059503,
          0.49526358719543717,
          0.5218487111020298,
          0.5359283969735622,
          0.5785012760498488,
          0.5953551414867007,
          0.6328943914149556,
          0.7094558946132283,
          0.7216269616424253,
          0.7349734476777501,
          0.7597758474753926,
          0.7870657619949868,
          0.808163554750811,
          0.9243102905701065,
          0.996231892764788,
          0.996231892764788,
          0.996231892764788,
          0.996231892764788,
          0.996231892764788,
          0.996231892764788,
          0.996231892764788,
          0.996231892764788,
          0.996231892764788,
          0.996231892764788,
          0.996231892764788,
          0.996231892764788,
          0.996231892764788,
          0.996231892764788,
          0.996231892764788,
          0.996231892764788,
          0.996231892764788,
          0.996231892764788,
          0.996231892764788,
          0.996231892764788
         ],
         "yaxis": "y"
        }
       ],
       "layout": {
        "coloraxis": {
         "colorbar": {
          "title": {
           "text": "intersection"
          }
         },
         "colorscale": [
          [
           0,
           "#0d0887"
          ],
          [
           0.1111111111111111,
           "#46039f"
          ],
          [
           0.2222222222222222,
           "#7201a8"
          ],
          [
           0.3333333333333333,
           "#9c179e"
          ],
          [
           0.4444444444444444,
           "#bd3786"
          ],
          [
           0.5555555555555556,
           "#d8576b"
          ],
          [
           0.6666666666666666,
           "#ed7953"
          ],
          [
           0.7777777777777778,
           "#fb9f3a"
          ],
          [
           0.8888888888888888,
           "#fdca26"
          ],
          [
           1,
           "#f0f921"
          ]
         ]
        },
        "legend": {
         "tracegroupgap": 0
        },
        "margin": {
         "t": 60
        },
        "template": {
         "data": {
          "bar": [
           {
            "error_x": {
             "color": "#2a3f5f"
            },
            "error_y": {
             "color": "#2a3f5f"
            },
            "marker": {
             "line": {
              "color": "#E5ECF6",
              "width": 0.5
             },
             "pattern": {
              "fillmode": "overlay",
              "size": 10,
              "solidity": 0.2
             }
            },
            "type": "bar"
           }
          ],
          "barpolar": [
           {
            "marker": {
             "line": {
              "color": "#E5ECF6",
              "width": 0.5
             },
             "pattern": {
              "fillmode": "overlay",
              "size": 10,
              "solidity": 0.2
             }
            },
            "type": "barpolar"
           }
          ],
          "carpet": [
           {
            "aaxis": {
             "endlinecolor": "#2a3f5f",
             "gridcolor": "white",
             "linecolor": "white",
             "minorgridcolor": "white",
             "startlinecolor": "#2a3f5f"
            },
            "baxis": {
             "endlinecolor": "#2a3f5f",
             "gridcolor": "white",
             "linecolor": "white",
             "minorgridcolor": "white",
             "startlinecolor": "#2a3f5f"
            },
            "type": "carpet"
           }
          ],
          "choropleth": [
           {
            "colorbar": {
             "outlinewidth": 0,
             "ticks": ""
            },
            "type": "choropleth"
           }
          ],
          "contour": [
           {
            "colorbar": {
             "outlinewidth": 0,
             "ticks": ""
            },
            "colorscale": [
             [
              0,
              "#0d0887"
             ],
             [
              0.1111111111111111,
              "#46039f"
             ],
             [
              0.2222222222222222,
              "#7201a8"
             ],
             [
              0.3333333333333333,
              "#9c179e"
             ],
             [
              0.4444444444444444,
              "#bd3786"
             ],
             [
              0.5555555555555556,
              "#d8576b"
             ],
             [
              0.6666666666666666,
              "#ed7953"
             ],
             [
              0.7777777777777778,
              "#fb9f3a"
             ],
             [
              0.8888888888888888,
              "#fdca26"
             ],
             [
              1,
              "#f0f921"
             ]
            ],
            "type": "contour"
           }
          ],
          "contourcarpet": [
           {
            "colorbar": {
             "outlinewidth": 0,
             "ticks": ""
            },
            "type": "contourcarpet"
           }
          ],
          "heatmap": [
           {
            "colorbar": {
             "outlinewidth": 0,
             "ticks": ""
            },
            "colorscale": [
             [
              0,
              "#0d0887"
             ],
             [
              0.1111111111111111,
              "#46039f"
             ],
             [
              0.2222222222222222,
              "#7201a8"
             ],
             [
              0.3333333333333333,
              "#9c179e"
             ],
             [
              0.4444444444444444,
              "#bd3786"
             ],
             [
              0.5555555555555556,
              "#d8576b"
             ],
             [
              0.6666666666666666,
              "#ed7953"
             ],
             [
              0.7777777777777778,
              "#fb9f3a"
             ],
             [
              0.8888888888888888,
              "#fdca26"
             ],
             [
              1,
              "#f0f921"
             ]
            ],
            "type": "heatmap"
           }
          ],
          "heatmapgl": [
           {
            "colorbar": {
             "outlinewidth": 0,
             "ticks": ""
            },
            "colorscale": [
             [
              0,
              "#0d0887"
             ],
             [
              0.1111111111111111,
              "#46039f"
             ],
             [
              0.2222222222222222,
              "#7201a8"
             ],
             [
              0.3333333333333333,
              "#9c179e"
             ],
             [
              0.4444444444444444,
              "#bd3786"
             ],
             [
              0.5555555555555556,
              "#d8576b"
             ],
             [
              0.6666666666666666,
              "#ed7953"
             ],
             [
              0.7777777777777778,
              "#fb9f3a"
             ],
             [
              0.8888888888888888,
              "#fdca26"
             ],
             [
              1,
              "#f0f921"
             ]
            ],
            "type": "heatmapgl"
           }
          ],
          "histogram": [
           {
            "marker": {
             "pattern": {
              "fillmode": "overlay",
              "size": 10,
              "solidity": 0.2
             }
            },
            "type": "histogram"
           }
          ],
          "histogram2d": [
           {
            "colorbar": {
             "outlinewidth": 0,
             "ticks": ""
            },
            "colorscale": [
             [
              0,
              "#0d0887"
             ],
             [
              0.1111111111111111,
              "#46039f"
             ],
             [
              0.2222222222222222,
              "#7201a8"
             ],
             [
              0.3333333333333333,
              "#9c179e"
             ],
             [
              0.4444444444444444,
              "#bd3786"
             ],
             [
              0.5555555555555556,
              "#d8576b"
             ],
             [
              0.6666666666666666,
              "#ed7953"
             ],
             [
              0.7777777777777778,
              "#fb9f3a"
             ],
             [
              0.8888888888888888,
              "#fdca26"
             ],
             [
              1,
              "#f0f921"
             ]
            ],
            "type": "histogram2d"
           }
          ],
          "histogram2dcontour": [
           {
            "colorbar": {
             "outlinewidth": 0,
             "ticks": ""
            },
            "colorscale": [
             [
              0,
              "#0d0887"
             ],
             [
              0.1111111111111111,
              "#46039f"
             ],
             [
              0.2222222222222222,
              "#7201a8"
             ],
             [
              0.3333333333333333,
              "#9c179e"
             ],
             [
              0.4444444444444444,
              "#bd3786"
             ],
             [
              0.5555555555555556,
              "#d8576b"
             ],
             [
              0.6666666666666666,
              "#ed7953"
             ],
             [
              0.7777777777777778,
              "#fb9f3a"
             ],
             [
              0.8888888888888888,
              "#fdca26"
             ],
             [
              1,
              "#f0f921"
             ]
            ],
            "type": "histogram2dcontour"
           }
          ],
          "mesh3d": [
           {
            "colorbar": {
             "outlinewidth": 0,
             "ticks": ""
            },
            "type": "mesh3d"
           }
          ],
          "parcoords": [
           {
            "line": {
             "colorbar": {
              "outlinewidth": 0,
              "ticks": ""
             }
            },
            "type": "parcoords"
           }
          ],
          "pie": [
           {
            "automargin": true,
            "type": "pie"
           }
          ],
          "scatter": [
           {
            "marker": {
             "colorbar": {
              "outlinewidth": 0,
              "ticks": ""
             }
            },
            "type": "scatter"
           }
          ],
          "scatter3d": [
           {
            "line": {
             "colorbar": {
              "outlinewidth": 0,
              "ticks": ""
             }
            },
            "marker": {
             "colorbar": {
              "outlinewidth": 0,
              "ticks": ""
             }
            },
            "type": "scatter3d"
           }
          ],
          "scattercarpet": [
           {
            "marker": {
             "colorbar": {
              "outlinewidth": 0,
              "ticks": ""
             }
            },
            "type": "scattercarpet"
           }
          ],
          "scattergeo": [
           {
            "marker": {
             "colorbar": {
              "outlinewidth": 0,
              "ticks": ""
             }
            },
            "type": "scattergeo"
           }
          ],
          "scattergl": [
           {
            "marker": {
             "colorbar": {
              "outlinewidth": 0,
              "ticks": ""
             }
            },
            "type": "scattergl"
           }
          ],
          "scattermapbox": [
           {
            "marker": {
             "colorbar": {
              "outlinewidth": 0,
              "ticks": ""
             }
            },
            "type": "scattermapbox"
           }
          ],
          "scatterpolar": [
           {
            "marker": {
             "colorbar": {
              "outlinewidth": 0,
              "ticks": ""
             }
            },
            "type": "scatterpolar"
           }
          ],
          "scatterpolargl": [
           {
            "marker": {
             "colorbar": {
              "outlinewidth": 0,
              "ticks": ""
             }
            },
            "type": "scatterpolargl"
           }
          ],
          "scatterternary": [
           {
            "marker": {
             "colorbar": {
              "outlinewidth": 0,
              "ticks": ""
             }
            },
            "type": "scatterternary"
           }
          ],
          "surface": [
           {
            "colorbar": {
             "outlinewidth": 0,
             "ticks": ""
            },
            "colorscale": [
             [
              0,
              "#0d0887"
             ],
             [
              0.1111111111111111,
              "#46039f"
             ],
             [
              0.2222222222222222,
              "#7201a8"
             ],
             [
              0.3333333333333333,
              "#9c179e"
             ],
             [
              0.4444444444444444,
              "#bd3786"
             ],
             [
              0.5555555555555556,
              "#d8576b"
             ],
             [
              0.6666666666666666,
              "#ed7953"
             ],
             [
              0.7777777777777778,
              "#fb9f3a"
             ],
             [
              0.8888888888888888,
              "#fdca26"
             ],
             [
              1,
              "#f0f921"
             ]
            ],
            "type": "surface"
           }
          ],
          "table": [
           {
            "cells": {
             "fill": {
              "color": "#EBF0F8"
             },
             "line": {
              "color": "white"
             }
            },
            "header": {
             "fill": {
              "color": "#C8D4E3"
             },
             "line": {
              "color": "white"
             }
            },
            "type": "table"
           }
          ]
         },
         "layout": {
          "annotationdefaults": {
           "arrowcolor": "#2a3f5f",
           "arrowhead": 0,
           "arrowwidth": 1
          },
          "autotypenumbers": "strict",
          "coloraxis": {
           "colorbar": {
            "outlinewidth": 0,
            "ticks": ""
           }
          },
          "colorscale": {
           "diverging": [
            [
             0,
             "#8e0152"
            ],
            [
             0.1,
             "#c51b7d"
            ],
            [
             0.2,
             "#de77ae"
            ],
            [
             0.3,
             "#f1b6da"
            ],
            [
             0.4,
             "#fde0ef"
            ],
            [
             0.5,
             "#f7f7f7"
            ],
            [
             0.6,
             "#e6f5d0"
            ],
            [
             0.7,
             "#b8e186"
            ],
            [
             0.8,
             "#7fbc41"
            ],
            [
             0.9,
             "#4d9221"
            ],
            [
             1,
             "#276419"
            ]
           ],
           "sequential": [
            [
             0,
             "#0d0887"
            ],
            [
             0.1111111111111111,
             "#46039f"
            ],
            [
             0.2222222222222222,
             "#7201a8"
            ],
            [
             0.3333333333333333,
             "#9c179e"
            ],
            [
             0.4444444444444444,
             "#bd3786"
            ],
            [
             0.5555555555555556,
             "#d8576b"
            ],
            [
             0.6666666666666666,
             "#ed7953"
            ],
            [
             0.7777777777777778,
             "#fb9f3a"
            ],
            [
             0.8888888888888888,
             "#fdca26"
            ],
            [
             1,
             "#f0f921"
            ]
           ],
           "sequentialminus": [
            [
             0,
             "#0d0887"
            ],
            [
             0.1111111111111111,
             "#46039f"
            ],
            [
             0.2222222222222222,
             "#7201a8"
            ],
            [
             0.3333333333333333,
             "#9c179e"
            ],
            [
             0.4444444444444444,
             "#bd3786"
            ],
            [
             0.5555555555555556,
             "#d8576b"
            ],
            [
             0.6666666666666666,
             "#ed7953"
            ],
            [
             0.7777777777777778,
             "#fb9f3a"
            ],
            [
             0.8888888888888888,
             "#fdca26"
            ],
            [
             1,
             "#f0f921"
            ]
           ]
          },
          "colorway": [
           "#636efa",
           "#EF553B",
           "#00cc96",
           "#ab63fa",
           "#FFA15A",
           "#19d3f3",
           "#FF6692",
           "#B6E880",
           "#FF97FF",
           "#FECB52"
          ],
          "font": {
           "color": "#2a3f5f"
          },
          "geo": {
           "bgcolor": "white",
           "lakecolor": "white",
           "landcolor": "#E5ECF6",
           "showlakes": true,
           "showland": true,
           "subunitcolor": "white"
          },
          "hoverlabel": {
           "align": "left"
          },
          "hovermode": "closest",
          "mapbox": {
           "style": "light"
          },
          "paper_bgcolor": "white",
          "plot_bgcolor": "#E5ECF6",
          "polar": {
           "angularaxis": {
            "gridcolor": "white",
            "linecolor": "white",
            "ticks": ""
           },
           "bgcolor": "#E5ECF6",
           "radialaxis": {
            "gridcolor": "white",
            "linecolor": "white",
            "ticks": ""
           }
          },
          "scene": {
           "xaxis": {
            "backgroundcolor": "#E5ECF6",
            "gridcolor": "white",
            "gridwidth": 2,
            "linecolor": "white",
            "showbackground": true,
            "ticks": "",
            "zerolinecolor": "white"
           },
           "yaxis": {
            "backgroundcolor": "#E5ECF6",
            "gridcolor": "white",
            "gridwidth": 2,
            "linecolor": "white",
            "showbackground": true,
            "ticks": "",
            "zerolinecolor": "white"
           },
           "zaxis": {
            "backgroundcolor": "#E5ECF6",
            "gridcolor": "white",
            "gridwidth": 2,
            "linecolor": "white",
            "showbackground": true,
            "ticks": "",
            "zerolinecolor": "white"
           }
          },
          "shapedefaults": {
           "line": {
            "color": "#2a3f5f"
           }
          },
          "ternary": {
           "aaxis": {
            "gridcolor": "white",
            "linecolor": "white",
            "ticks": ""
           },
           "baxis": {
            "gridcolor": "white",
            "linecolor": "white",
            "ticks": ""
           },
           "bgcolor": "#E5ECF6",
           "caxis": {
            "gridcolor": "white",
            "linecolor": "white",
            "ticks": ""
           }
          },
          "title": {
           "x": 0.05
          },
          "xaxis": {
           "automargin": true,
           "gridcolor": "white",
           "linecolor": "white",
           "ticks": "",
           "title": {
            "standoff": 15
           },
           "zerolinecolor": "white",
           "zerolinewidth": 2
          },
          "yaxis": {
           "automargin": true,
           "gridcolor": "white",
           "linecolor": "white",
           "ticks": "",
           "title": {
            "standoff": 15
           },
           "zerolinecolor": "white",
           "zerolinewidth": 2
          }
         }
        },
        "xaxis": {
         "anchor": "y",
         "domain": [
          0,
          1
         ],
         "title": {
          "text": "intersection"
         },
         "type": "log"
        },
        "yaxis": {
         "anchor": "x",
         "domain": [
          0,
          1
         ],
         "title": {
          "text": "correlation"
         }
        }
       }
      },
      "text/html": [
       "<div>                            <div id=\"599c41cc-dc64-48d7-aee7-778c4d6885a2\" class=\"plotly-graph-div\" style=\"height:525px; width:100%;\"></div>            <script type=\"text/javascript\">                require([\"plotly\"], function(Plotly) {                    window.PLOTLYENV=window.PLOTLYENV || {};                                    if (document.getElementById(\"599c41cc-dc64-48d7-aee7-778c4d6885a2\")) {                    Plotly.newPlot(                        \"599c41cc-dc64-48d7-aee7-778c4d6885a2\",                        [{\"customdata\":[[\"artificial_intelligence\",\"artificial_intelligence\"],[\"artificial_intelligence\",\"computational_biology\"],[\"artificial_intelligence\",\"genetics\"],[\"artificial_intelligence\",\"microbiology\"],[\"artificial_intelligence\",\"medical_informatics\"],[\"synthetic_biology\",\"synthetic_biology\"],[\"synthetic_biology\",\"computational_biology\"],[\"synthetic_biology\",\"genetics\"],[\"synthetic_biology\",\"microbiology\"],[\"public_health_informatics\",\"public_health_informatics\"],[\"computational_biology\",\"computational_biology\"],[\"computational_biology\",\"genetics\"],[\"computational_biology\",\"ecology\"],[\"computational_biology\",\"microbiology\"],[\"computational_biology\",\"medical_informatics\"],[\"zoology\",\"zoology\"],[\"developmental_biology\",\"developmental_biology\"],[\"developmental_biology\",\"genetics\"],[\"exobiology\",\"exobiology\"],[\"latent_class_analysis\",\"latent_class_analysis\"],[\"radiobiology\",\"radiobiology\"],[\"radiobiology\",\"medical_informatics\"],[\"genetics\",\"genetics\"],[\"genetics\",\"ecology\"],[\"genetics\",\"microbiology\"],[\"genetics\",\"medical_informatics\"],[\"neurobiology\",\"neurobiology\"],[\"parasitology\",\"parasitology\"],[\"botany\",\"botany\"],[\"photobiology\",\"photobiology\"],[\"laboratory_animal_science\",\"laboratory_animal_science\"],[\"cell_biology\",\"cell_biology\"],[\"ecology\",\"ecology\"],[\"ecology\",\"microbiology\"],[\"ecology\",\"medical_informatics\"],[\"microbiology\",\"microbiology\"],[\"microbiology\",\"medical_informatics\"],[\"medical_informatics\",\"medical_informatics\"],[\"medical_informatics\",\"nursing_informatics\"],[\"nursing_informatics\",\"nursing_informatics\"]],\"hovertemplate\":\"intersection=%{marker.color}<br>correlation=%{y}<br>field1=%{customdata[0]}<br>field2=%{customdata[1]}<extra></extra>\",\"legendgroup\":\"\",\"marker\":{\"color\":[1.0,0.03041059127489229,0.025440732893755487,0.0008617819299998041,0.08090904044262455,1.0,0.001760086650419713,0.0006520290861670612,0.0009681093394077448,1.0,1.0,0.3822903014416776,0.002124645892351275,0.004702653063283986,0.0610231322354132,1.0,1.0,0.0006672735678641049,1.0,1.0,1.0,0.00039994797424725237,1.0,0.0037538973371346734,0.02162018190546966,0.042367994561357716,1.0,1.0,1.0,1.0,1.0,1.0,1.0,0.007768039583227789,0.0012335869555135772,1.0,0.001089583338434379,1.0,0.0005114422998615522,1.0],\"coloraxis\":\"coloraxis\",\"symbol\":\"circle\"},\"mode\":\"markers\",\"name\":\"\",\"orientation\":\"v\",\"showlegend\":false,\"x\":[1.0,0.03041059127489229,0.025440732893755487,0.0008617819299998041,0.08090904044262455,1.0,0.001760086650419713,0.0006520290861670612,0.0009681093394077448,1.0,1.0,0.3822903014416776,0.002124645892351275,0.004702653063283986,0.0610231322354132,1.0,1.0,0.0006672735678641049,1.0,1.0,1.0,0.00039994797424725237,1.0,0.0037538973371346734,0.02162018190546966,0.042367994561357716,1.0,1.0,1.0,1.0,1.0,1.0,1.0,0.007768039583227789,0.0012335869555135772,1.0,0.001089583338434379,1.0,0.0005114422998615522,1.0],\"xaxis\":\"x\",\"y\":[0.9999999999999998,0.8000979175888133,0.45651389190485003,0.3710455798494907,0.7027626655320042,0.9999999999999999,0.47562695688454915,0.4465813783569728,0.8581659194583675,1.0,0.9999999999999999,0.9330749244491514,0.45372577350219684,0.8436051932241287,0.7813830343573837,1.0,1.0,0.4610245669272356,1.0,0.9999999999999999,1.0,0.3311003700793223,1.0,0.36877611400235,0.8490182992824071,0.8719491819658813,1.0,1.0,0.9999999999999998,1.0,0.9999999999999999,1.0,1.0,0.4738395047914447,0.53512302209407,1.0,0.36398884934246445,1.0,0.5212563087659534,1.0],\"yaxis\":\"y\",\"type\":\"scatter\"},{\"hovertemplate\":\"<b>OLS trendline</b><br>correlation = 0.172223 * log10(intersection) + 0.996232<br>R<sup>2</sup>=0.819310<br><br>intersection=%{x}<br>correlation=%{y} <b>(trend)</b><extra></extra>\",\"legendgroup\":\"\",\"marker\":{\"symbol\":\"circle\"},\"mode\":\"lines\",\"name\":\"\",\"showlegend\":false,\"x\":[0.00039994797424725237,0.0005114422998615522,0.0006520290861670612,0.0006672735678641049,0.0008617819299998041,0.0009681093394077448,0.001089583338434379,0.0012335869555135772,0.001760086650419713,0.002124645892351275,0.0037538973371346734,0.004702653063283986,0.007768039583227789,0.02162018190546966,0.025440732893755487,0.03041059127489229,0.042367994561357716,0.0610231322354132,0.08090904044262455,0.3822903014416776,1.0,1.0,1.0,1.0,1.0,1.0,1.0,1.0,1.0,1.0,1.0,1.0,1.0,1.0,1.0,1.0,1.0,1.0,1.0,1.0],\"xaxis\":\"x\",\"y\":[0.41101776452709815,0.42941003070096184,0.4475744768342128,0.44930307377092205,0.4684359549628836,0.4771378855493653,0.48597914777059503,0.49526358719543717,0.5218487111020298,0.5359283969735622,0.5785012760498488,0.5953551414867007,0.6328943914149556,0.7094558946132283,0.7216269616424253,0.7349734476777501,0.7597758474753926,0.7870657619949868,0.808163554750811,0.9243102905701065,0.996231892764788,0.996231892764788,0.996231892764788,0.996231892764788,0.996231892764788,0.996231892764788,0.996231892764788,0.996231892764788,0.996231892764788,0.996231892764788,0.996231892764788,0.996231892764788,0.996231892764788,0.996231892764788,0.996231892764788,0.996231892764788,0.996231892764788,0.996231892764788,0.996231892764788,0.996231892764788],\"yaxis\":\"y\",\"type\":\"scatter\"}],                        {\"template\":{\"data\":{\"bar\":[{\"error_x\":{\"color\":\"#2a3f5f\"},\"error_y\":{\"color\":\"#2a3f5f\"},\"marker\":{\"line\":{\"color\":\"#E5ECF6\",\"width\":0.5},\"pattern\":{\"fillmode\":\"overlay\",\"size\":10,\"solidity\":0.2}},\"type\":\"bar\"}],\"barpolar\":[{\"marker\":{\"line\":{\"color\":\"#E5ECF6\",\"width\":0.5},\"pattern\":{\"fillmode\":\"overlay\",\"size\":10,\"solidity\":0.2}},\"type\":\"barpolar\"}],\"carpet\":[{\"aaxis\":{\"endlinecolor\":\"#2a3f5f\",\"gridcolor\":\"white\",\"linecolor\":\"white\",\"minorgridcolor\":\"white\",\"startlinecolor\":\"#2a3f5f\"},\"baxis\":{\"endlinecolor\":\"#2a3f5f\",\"gridcolor\":\"white\",\"linecolor\":\"white\",\"minorgridcolor\":\"white\",\"startlinecolor\":\"#2a3f5f\"},\"type\":\"carpet\"}],\"choropleth\":[{\"colorbar\":{\"outlinewidth\":0,\"ticks\":\"\"},\"type\":\"choropleth\"}],\"contour\":[{\"colorbar\":{\"outlinewidth\":0,\"ticks\":\"\"},\"colorscale\":[[0.0,\"#0d0887\"],[0.1111111111111111,\"#46039f\"],[0.2222222222222222,\"#7201a8\"],[0.3333333333333333,\"#9c179e\"],[0.4444444444444444,\"#bd3786\"],[0.5555555555555556,\"#d8576b\"],[0.6666666666666666,\"#ed7953\"],[0.7777777777777778,\"#fb9f3a\"],[0.8888888888888888,\"#fdca26\"],[1.0,\"#f0f921\"]],\"type\":\"contour\"}],\"contourcarpet\":[{\"colorbar\":{\"outlinewidth\":0,\"ticks\":\"\"},\"type\":\"contourcarpet\"}],\"heatmap\":[{\"colorbar\":{\"outlinewidth\":0,\"ticks\":\"\"},\"colorscale\":[[0.0,\"#0d0887\"],[0.1111111111111111,\"#46039f\"],[0.2222222222222222,\"#7201a8\"],[0.3333333333333333,\"#9c179e\"],[0.4444444444444444,\"#bd3786\"],[0.5555555555555556,\"#d8576b\"],[0.6666666666666666,\"#ed7953\"],[0.7777777777777778,\"#fb9f3a\"],[0.8888888888888888,\"#fdca26\"],[1.0,\"#f0f921\"]],\"type\":\"heatmap\"}],\"heatmapgl\":[{\"colorbar\":{\"outlinewidth\":0,\"ticks\":\"\"},\"colorscale\":[[0.0,\"#0d0887\"],[0.1111111111111111,\"#46039f\"],[0.2222222222222222,\"#7201a8\"],[0.3333333333333333,\"#9c179e\"],[0.4444444444444444,\"#bd3786\"],[0.5555555555555556,\"#d8576b\"],[0.6666666666666666,\"#ed7953\"],[0.7777777777777778,\"#fb9f3a\"],[0.8888888888888888,\"#fdca26\"],[1.0,\"#f0f921\"]],\"type\":\"heatmapgl\"}],\"histogram\":[{\"marker\":{\"pattern\":{\"fillmode\":\"overlay\",\"size\":10,\"solidity\":0.2}},\"type\":\"histogram\"}],\"histogram2d\":[{\"colorbar\":{\"outlinewidth\":0,\"ticks\":\"\"},\"colorscale\":[[0.0,\"#0d0887\"],[0.1111111111111111,\"#46039f\"],[0.2222222222222222,\"#7201a8\"],[0.3333333333333333,\"#9c179e\"],[0.4444444444444444,\"#bd3786\"],[0.5555555555555556,\"#d8576b\"],[0.6666666666666666,\"#ed7953\"],[0.7777777777777778,\"#fb9f3a\"],[0.8888888888888888,\"#fdca26\"],[1.0,\"#f0f921\"]],\"type\":\"histogram2d\"}],\"histogram2dcontour\":[{\"colorbar\":{\"outlinewidth\":0,\"ticks\":\"\"},\"colorscale\":[[0.0,\"#0d0887\"],[0.1111111111111111,\"#46039f\"],[0.2222222222222222,\"#7201a8\"],[0.3333333333333333,\"#9c179e\"],[0.4444444444444444,\"#bd3786\"],[0.5555555555555556,\"#d8576b\"],[0.6666666666666666,\"#ed7953\"],[0.7777777777777778,\"#fb9f3a\"],[0.8888888888888888,\"#fdca26\"],[1.0,\"#f0f921\"]],\"type\":\"histogram2dcontour\"}],\"mesh3d\":[{\"colorbar\":{\"outlinewidth\":0,\"ticks\":\"\"},\"type\":\"mesh3d\"}],\"parcoords\":[{\"line\":{\"colorbar\":{\"outlinewidth\":0,\"ticks\":\"\"}},\"type\":\"parcoords\"}],\"pie\":[{\"automargin\":true,\"type\":\"pie\"}],\"scatter\":[{\"marker\":{\"colorbar\":{\"outlinewidth\":0,\"ticks\":\"\"}},\"type\":\"scatter\"}],\"scatter3d\":[{\"line\":{\"colorbar\":{\"outlinewidth\":0,\"ticks\":\"\"}},\"marker\":{\"colorbar\":{\"outlinewidth\":0,\"ticks\":\"\"}},\"type\":\"scatter3d\"}],\"scattercarpet\":[{\"marker\":{\"colorbar\":{\"outlinewidth\":0,\"ticks\":\"\"}},\"type\":\"scattercarpet\"}],\"scattergeo\":[{\"marker\":{\"colorbar\":{\"outlinewidth\":0,\"ticks\":\"\"}},\"type\":\"scattergeo\"}],\"scattergl\":[{\"marker\":{\"colorbar\":{\"outlinewidth\":0,\"ticks\":\"\"}},\"type\":\"scattergl\"}],\"scattermapbox\":[{\"marker\":{\"colorbar\":{\"outlinewidth\":0,\"ticks\":\"\"}},\"type\":\"scattermapbox\"}],\"scatterpolar\":[{\"marker\":{\"colorbar\":{\"outlinewidth\":0,\"ticks\":\"\"}},\"type\":\"scatterpolar\"}],\"scatterpolargl\":[{\"marker\":{\"colorbar\":{\"outlinewidth\":0,\"ticks\":\"\"}},\"type\":\"scatterpolargl\"}],\"scatterternary\":[{\"marker\":{\"colorbar\":{\"outlinewidth\":0,\"ticks\":\"\"}},\"type\":\"scatterternary\"}],\"surface\":[{\"colorbar\":{\"outlinewidth\":0,\"ticks\":\"\"},\"colorscale\":[[0.0,\"#0d0887\"],[0.1111111111111111,\"#46039f\"],[0.2222222222222222,\"#7201a8\"],[0.3333333333333333,\"#9c179e\"],[0.4444444444444444,\"#bd3786\"],[0.5555555555555556,\"#d8576b\"],[0.6666666666666666,\"#ed7953\"],[0.7777777777777778,\"#fb9f3a\"],[0.8888888888888888,\"#fdca26\"],[1.0,\"#f0f921\"]],\"type\":\"surface\"}],\"table\":[{\"cells\":{\"fill\":{\"color\":\"#EBF0F8\"},\"line\":{\"color\":\"white\"}},\"header\":{\"fill\":{\"color\":\"#C8D4E3\"},\"line\":{\"color\":\"white\"}},\"type\":\"table\"}]},\"layout\":{\"annotationdefaults\":{\"arrowcolor\":\"#2a3f5f\",\"arrowhead\":0,\"arrowwidth\":1},\"autotypenumbers\":\"strict\",\"coloraxis\":{\"colorbar\":{\"outlinewidth\":0,\"ticks\":\"\"}},\"colorscale\":{\"diverging\":[[0,\"#8e0152\"],[0.1,\"#c51b7d\"],[0.2,\"#de77ae\"],[0.3,\"#f1b6da\"],[0.4,\"#fde0ef\"],[0.5,\"#f7f7f7\"],[0.6,\"#e6f5d0\"],[0.7,\"#b8e186\"],[0.8,\"#7fbc41\"],[0.9,\"#4d9221\"],[1,\"#276419\"]],\"sequential\":[[0.0,\"#0d0887\"],[0.1111111111111111,\"#46039f\"],[0.2222222222222222,\"#7201a8\"],[0.3333333333333333,\"#9c179e\"],[0.4444444444444444,\"#bd3786\"],[0.5555555555555556,\"#d8576b\"],[0.6666666666666666,\"#ed7953\"],[0.7777777777777778,\"#fb9f3a\"],[0.8888888888888888,\"#fdca26\"],[1.0,\"#f0f921\"]],\"sequentialminus\":[[0.0,\"#0d0887\"],[0.1111111111111111,\"#46039f\"],[0.2222222222222222,\"#7201a8\"],[0.3333333333333333,\"#9c179e\"],[0.4444444444444444,\"#bd3786\"],[0.5555555555555556,\"#d8576b\"],[0.6666666666666666,\"#ed7953\"],[0.7777777777777778,\"#fb9f3a\"],[0.8888888888888888,\"#fdca26\"],[1.0,\"#f0f921\"]]},\"colorway\":[\"#636efa\",\"#EF553B\",\"#00cc96\",\"#ab63fa\",\"#FFA15A\",\"#19d3f3\",\"#FF6692\",\"#B6E880\",\"#FF97FF\",\"#FECB52\"],\"font\":{\"color\":\"#2a3f5f\"},\"geo\":{\"bgcolor\":\"white\",\"lakecolor\":\"white\",\"landcolor\":\"#E5ECF6\",\"showlakes\":true,\"showland\":true,\"subunitcolor\":\"white\"},\"hoverlabel\":{\"align\":\"left\"},\"hovermode\":\"closest\",\"mapbox\":{\"style\":\"light\"},\"paper_bgcolor\":\"white\",\"plot_bgcolor\":\"#E5ECF6\",\"polar\":{\"angularaxis\":{\"gridcolor\":\"white\",\"linecolor\":\"white\",\"ticks\":\"\"},\"bgcolor\":\"#E5ECF6\",\"radialaxis\":{\"gridcolor\":\"white\",\"linecolor\":\"white\",\"ticks\":\"\"}},\"scene\":{\"xaxis\":{\"backgroundcolor\":\"#E5ECF6\",\"gridcolor\":\"white\",\"gridwidth\":2,\"linecolor\":\"white\",\"showbackground\":true,\"ticks\":\"\",\"zerolinecolor\":\"white\"},\"yaxis\":{\"backgroundcolor\":\"#E5ECF6\",\"gridcolor\":\"white\",\"gridwidth\":2,\"linecolor\":\"white\",\"showbackground\":true,\"ticks\":\"\",\"zerolinecolor\":\"white\"},\"zaxis\":{\"backgroundcolor\":\"#E5ECF6\",\"gridcolor\":\"white\",\"gridwidth\":2,\"linecolor\":\"white\",\"showbackground\":true,\"ticks\":\"\",\"zerolinecolor\":\"white\"}},\"shapedefaults\":{\"line\":{\"color\":\"#2a3f5f\"}},\"ternary\":{\"aaxis\":{\"gridcolor\":\"white\",\"linecolor\":\"white\",\"ticks\":\"\"},\"baxis\":{\"gridcolor\":\"white\",\"linecolor\":\"white\",\"ticks\":\"\"},\"bgcolor\":\"#E5ECF6\",\"caxis\":{\"gridcolor\":\"white\",\"linecolor\":\"white\",\"ticks\":\"\"}},\"title\":{\"x\":0.05},\"xaxis\":{\"automargin\":true,\"gridcolor\":\"white\",\"linecolor\":\"white\",\"ticks\":\"\",\"title\":{\"standoff\":15},\"zerolinecolor\":\"white\",\"zerolinewidth\":2},\"yaxis\":{\"automargin\":true,\"gridcolor\":\"white\",\"linecolor\":\"white\",\"ticks\":\"\",\"title\":{\"standoff\":15},\"zerolinecolor\":\"white\",\"zerolinewidth\":2}}},\"xaxis\":{\"anchor\":\"y\",\"domain\":[0.0,1.0],\"title\":{\"text\":\"intersection\"},\"type\":\"log\"},\"yaxis\":{\"anchor\":\"x\",\"domain\":[0.0,1.0],\"title\":{\"text\":\"correlation\"}},\"coloraxis\":{\"colorbar\":{\"title\":{\"text\":\"intersection\"}},\"colorscale\":[[0.0,\"#0d0887\"],[0.1111111111111111,\"#46039f\"],[0.2222222222222222,\"#7201a8\"],[0.3333333333333333,\"#9c179e\"],[0.4444444444444444,\"#bd3786\"],[0.5555555555555556,\"#d8576b\"],[0.6666666666666666,\"#ed7953\"],[0.7777777777777778,\"#fb9f3a\"],[0.8888888888888888,\"#fdca26\"],[1.0,\"#f0f921\"]]},\"legend\":{\"tracegroupgap\":0},\"margin\":{\"t\":60}},                        {\"responsive\": true}                    ).then(function(){\n",
       "                            \n",
       "var gd = document.getElementById('599c41cc-dc64-48d7-aee7-778c4d6885a2');\n",
       "var x = new MutationObserver(function (mutations, observer) {{\n",
       "        var display = window.getComputedStyle(gd).display;\n",
       "        if (!display || display === 'none') {{\n",
       "            console.log([gd, 'removed!']);\n",
       "            Plotly.purge(gd);\n",
       "            observer.disconnect();\n",
       "        }}\n",
       "}});\n",
       "\n",
       "// Listen for the removal of the full notebook cells\n",
       "var notebookContainer = gd.closest('#notebook-container');\n",
       "if (notebookContainer) {{\n",
       "    x.observe(notebookContainer, {childList: true});\n",
       "}}\n",
       "\n",
       "// Listen for the clearing of the current output cell\n",
       "var outputEl = gd.closest('.output');\n",
       "if (outputEl) {{\n",
       "    x.observe(outputEl, {childList: true});\n",
       "}}\n",
       "\n",
       "                        })                };                });            </script>        </div>"
      ]
     },
     "metadata": {},
     "output_type": "display_data"
    }
   ],
   "source": [
    "px.scatter(overlap_df, x='intersection', y='correlation', hover_data=['field1', 'field2'], log_x=True, trendline='ols', trendline_options=dict(log_x=True), color='intersection')"
   ]
  },
  {
   "cell_type": "code",
   "execution_count": 13,
   "id": "d7a50b68",
   "metadata": {},
   "outputs": [
    {
     "name": "stdout",
     "output_type": "stream",
     "text": [
      "0           10.1016/j.oooo.2015.02.484\n",
      "1      10.14219/jada.archive.2008.0105\n",
      "2             10.1177/0022034513487560\n",
      "3      10.14219/jada.archive.2013.0013\n",
      "4           10.1016/j.cden.2011.02.010\n",
      "5      10.14219/jada.archive.2004.0120\n",
      "6      10.14219/jada.archive.2007.0138\n",
      "7             10.1038/sj.bdj.2008.1151\n",
      "8                 10.1038/bdj.2008.150\n",
      "9                  10.1197/jamia.m2827\n",
      "10                   10.2196/jmir.1799\n",
      "11                    10.2196/jmir.971\n",
      "12         10.1016/j.ajodo.2006.07.024\n",
      "13         10.1016/j.ajodo.2005.04.017\n",
      "14     10.14219/jada.archive.2011.0082\n",
      "15    10.1111/j.1600-0757.2011.00403.x\n",
      "16    10.1111/j.1601-0825.2011.01794.x\n",
      "17                   10.1159/000328669\n",
      "18                10.1038/bdj.2008.193\n",
      "19         10.1016/j.ajodo.2006.07.023\n",
      "20         10.1016/j.ajodo.2004.11.027\n",
      "Name: doi, dtype: object\n",
      "21\n"
     ]
    }
   ],
   "source": [
    "group1 = groups.get_group('dental_informatics')\n",
    "print(group1.doi)\n",
    "print(len(group1.doi))"
   ]
  },
  {
   "cell_type": "code",
   "execution_count": 14,
   "id": "eac78291",
   "metadata": {},
   "outputs": [
    {
     "name": "stdout",
     "output_type": "stream",
     "text": [
      "0          10.1016/j.neubiorev.2016.10.031\n",
      "1         10.1016/j.jpsychires.2011.03.015\n",
      "2                10.1016/j.jad.2011.07.003\n",
      "3             10.1080/13811118.2010.524025\n",
      "4                     10.1038/npp.2009.236\n",
      "                        ...               \n",
      "196489                 10.1093/jac/dkab417\n",
      "196490                10.1155/2022/2204981\n",
      "196491              10.1093/plphys/kiab466\n",
      "196492                10.1155/2022/6192190\n",
      "196493               10.1631/jzus.b1900070\n",
      "Name: doi, Length: 196494, dtype: object\n",
      "196494\n",
      "10.1016/j.neubiorev.2016.10.031       1\n",
      "10.1186/s12859-020-03782-1            1\n",
      "10.1093/bioinformatics/btw304         1\n",
      "10.1109/tcbb.2018.2865729             1\n",
      "10.1186/s12859-020-03738-5            1\n",
      "                                     ..\n",
      "10.1007/s10969-010-9098-3             1\n",
      "10.1152/physiolgenomics.00009.2013    1\n",
      "10.1007/s11033-010-0532-1             1\n",
      "10.1371/journal.pone.0049463          1\n",
      "10.1631/jzus.b1900070                 1\n",
      "Name: doi, Length: 196494, dtype: int64\n"
     ]
    }
   ],
   "source": [
    "group1 = groups.get_group('computational_biology')\n",
    "print(group1.doi)\n",
    "print(len(group1.doi))\n",
    "print(group1.doi.value_counts())"
   ]
  },
  {
   "cell_type": "markdown",
   "id": "26c6055f",
   "metadata": {},
   "source": [
    "There appears to be some duplicate nodes in the network. These are probably coming from upstream, maybe in the graph building step?"
   ]
  },
  {
   "cell_type": "code",
   "execution_count": 15,
   "id": "e7d38386",
   "metadata": {},
   "outputs": [
    {
     "name": "stdout",
     "output_type": "stream",
     "text": [
      "                               doi  pagerank                  field\n",
      "189484  10.1007/s00284-020-02191-0  0.000001  computational_biology\n"
     ]
    }
   ],
   "source": [
    "print(group1[group1['doi'] == '10.1007/s00284-020-02191-0'])"
   ]
  },
  {
   "cell_type": "markdown",
   "id": "8ee3c051",
   "metadata": {},
   "source": [
    "### Do these duplications appear upstream?"
   ]
  },
  {
   "cell_type": "markdown",
   "id": "eb6113e8",
   "metadata": {},
   "source": [
    "Check graph for duplicate nodes:"
   ]
  },
  {
   "cell_type": "code",
   "execution_count": 16,
   "id": "cc59d7bc",
   "metadata": {},
   "outputs": [],
   "source": [
    "with open('../data/networks/computational_biology.pkl', 'rb') as in_file:\n",
    "    network = pickle.load(in_file)"
   ]
  },
  {
   "cell_type": "code",
   "execution_count": 17,
   "id": "d2b81ef7",
   "metadata": {},
   "outputs": [],
   "source": [
    "dois = set()\n",
    "\n",
    "for node in network.nodes:\n",
    "    if node not in dois:\n",
    "        dois.add(node)\n",
    "    else:\n",
    "        print(f'{node} is duplicated')"
   ]
  },
  {
   "cell_type": "markdown",
   "id": "2ce7fc6c",
   "metadata": {},
   "source": [
    "Turns out duplication was from the file loading (there were four of many comp bio dois because they were counted from the first-degree and intrafield graphs for pagerank and betweenness centrality)"
   ]
  }
 ],
 "metadata": {
  "kernelspec": {
   "display_name": "Python 3 (ipykernel)",
   "language": "python",
   "name": "python3"
  },
  "language_info": {
   "codemirror_mode": {
    "name": "ipython",
    "version": 3
   },
   "file_extension": ".py",
   "mimetype": "text/x-python",
   "name": "python",
   "nbconvert_exporter": "python",
   "pygments_lexer": "ipython3",
   "version": "3.10.4"
  }
 },
 "nbformat": 4,
 "nbformat_minor": 5
}
