{
 "cells": [
  {
   "cell_type": "markdown",
   "id": "43aba320",
   "metadata": {},
   "source": [
    "# Figures\n",
    "Visualize the results of the analyses for the indices paper"
   ]
  },
  {
   "cell_type": "code",
   "execution_count": 94,
   "id": "c7d40740",
   "metadata": {},
   "outputs": [],
   "source": [
    "import os\n",
    "import pickle as pkl\n",
    "import string\n",
    "import sys\n",
    "from glob import glob\n",
    "\n",
    "import numpy as np\n",
    "import pandas as pd\n",
    "import plotly.express as px\n",
    "import seaborn as sns\n",
    "import svgutils.transform as sg\n",
    "import umap\n",
    "from plotnine import *\n",
    "from matplotlib import pyplot as plt\n",
    "from scipy.cluster.hierarchy import dendrogram\n",
    "from sklearn.cluster import AgglomerativeClustering\n",
    "from svgutils.compose import SVG, Figure, Panel, Text\n",
    "from tqdm import tqdm\n",
    "\n",
    "sys.path.append('../indices')\n",
    "from utils import load_percentile_data, load_journal_data, load_single_heading, parse_metadata"
   ]
  },
  {
   "cell_type": "code",
   "execution_count": 3,
   "id": "ecc50c0e",
   "metadata": {},
   "outputs": [],
   "source": [
    "headings = [('nanotechnology', 'microscopy'), ('immunochemistry', 'anatomy'), \n",
    "            ('proteomics', 'metabolomics'), ('computational_biology', 'human_genetics')]"
   ]
  },
  {
   "cell_type": "code",
   "execution_count": null,
   "id": "5031693f",
   "metadata": {},
   "outputs": [],
   "source": [
    "for heading1, heading2 in headings:\n",
    "    percentile_data = load_percentile_data(heading1, heading2, base_dir='../viz_dataframes')\n",
    "    \n",
    "    hist_data = percentile_data.melt(id_vars='doi', value_vars=[f'{heading1}_pagerank', f'{heading2}_pagerank'],\n",
    "                                     value_name='PageRank',)\n",
    "    \n",
    "    h1 = string.capwords(heading1.replace('_', ' '))\n",
    "    h2 = string.capwords(heading2.replace('_', ' '))\n",
    "    \n",
    "    new_names = {f'{heading1}_pagerank': f'{h1}',\n",
    "                 f'{heading2}_pagerank': f'{h2}'}\n",
    "    \n",
    "    hist_data['Field'] = hist_data['variable'].map(new_names)\n",
    "        \n",
    "    plot = ggplot(hist_data, aes(x='PageRank', fill='Field'))\n",
    "    plot += geom_histogram(position='identity', alpha=.7)\n",
    "    plot += scale_x_log10()\n",
    "    plot += scale_y_continuous(name='Count')\n",
    "    plot += ggtitle(f'{h1} and {h2} Pagerank Distribution')\n",
    "    plot += theme_classic()\n",
    "    ggsave(plot, f'../figures/{heading1}-{heading2}-hist.svg')\n",
    "\n",
    "    plot = ggplot(percentile_data, aes(x=f'{heading1}_pagerank', y=f'{heading2}_pagerank',))\n",
    "    plot += geom_bin2d()\n",
    "    plot += scale_x_log10(name=f'{h1} Pagerank')\n",
    "    plot += scale_y_log10(name=f'{h2} Pagerank')\n",
    "    plot += ggtitle(f'{h1} vs {h2} Pageranks')\n",
    "    plot += scale_fill_gradient(trans='log')\n",
    "    plot += theme_classic()\n",
    "\n",
    "    ggsave(plot, f'../figures/{heading1}-{heading2}-heatmap.svg')\n",
    "    \n",
    "    plot = ggplot(percentile_data, aes(x=f'{heading1}_pagerank', y=f'{heading2}_pagerank', \n",
    "              color=f'{heading1}-{heading2}'))\n",
    "    plot += geom_point()\n",
    "    plot += scale_x_log10(name=f'{h1} Pagerank')\n",
    "    plot += scale_y_log10(name=f'{h2} Pagerank')\n",
    "    plot += ggtitle(f'{h1} and {h2} Percentile Scores')\n",
    "    plot += scale_color_gradient2(low='purple', mid='#e2e2e2', high='green')\n",
    "    plot += theme_classic()\n",
    "\n",
    "    ggsave(plot, f'../figures/{heading1}-{heading2}-difference.svg')"
   ]
  },
  {
   "cell_type": "markdown",
   "id": "71efeaa1",
   "metadata": {},
   "source": [
    "## Combine histograms"
   ]
  },
  {
   "cell_type": "code",
   "execution_count": 48,
   "id": "f0bb233a",
   "metadata": {},
   "outputs": [],
   "source": [
    "plot1 = f'../figures/{headings[0][0]}-{headings[0][1]}-hist.svg'\n",
    "plot2 = f'../figures/{headings[1][0]}-{headings[1][1]}-hist.svg'\n",
    "plot3 = f'../figures/{headings[2][0]}-{headings[2][1]}-hist.svg'\n",
    "plot4 = f'../figures/{headings[3][0]}-{headings[3][1]}-hist.svg'\n",
    "\n",
    "y_2 = 310\n",
    "x_2 = 520\n",
    "\n",
    "fig = Figure(\"160cm\", \"160cm\",\n",
    "       Panel(\n",
    "          SVG(plot1),\n",
    "          Text(\"A\", 0, 40, size=30),\n",
    "          ),\n",
    "       Panel(\n",
    "          SVG(plot2).move(x_2, 0),\n",
    "          Text(\"B\", 20, 40, size=30).move(x_2-20, 0),\n",
    "          ),\n",
    "       Panel(\n",
    "          SVG(plot3).move(0, y_2),\n",
    "          Text(\"C\", 0, 50, size=30).move(0, y_2),\n",
    "          ),\n",
    "       Panel(\n",
    "          SVG(plot4).move(x_2, y_2),\n",
    "          Text(\"D\", 20, 50, size=30).move(x_2-20, y_2),\n",
    "          )\n",
    "       )\n",
    "fig.save('../figures/combined_histogram.svg')"
   ]
  },
  {
   "cell_type": "code",
   "execution_count": 49,
   "id": "eff2affd",
   "metadata": {},
   "outputs": [
    {
     "name": "stdout",
     "output_type": "stream",
     "text": [
      "Background RRGGBBAA: ffffffff\n",
      "Area -18.8976:-18082.4:41184.5:6066.14 exported to 1060 x 636 pixels (2.52835 dpi)\n",
      "Bitmap saved as: ../figures/combined_histogram.png\n"
     ]
    }
   ],
   "source": [
    "!inkscape --export-area-drawing -w 1060 -h 636 --export-png=../figures/combined_histogram.png ../figures/combined_histogram.svg -b \"#ffffffff\""
   ]
  },
  {
   "cell_type": "markdown",
   "id": "1f7ae0b3",
   "metadata": {},
   "source": [
    "## Combine heatmaps"
   ]
  },
  {
   "cell_type": "code",
   "execution_count": null,
   "id": "0f912237",
   "metadata": {},
   "outputs": [],
   "source": [
    "plot1 = f'../figures/{headings[0][0]}-{headings[0][1]}-heatmap.svg'\n",
    "plot2 = f'../figures/{headings[1][0]}-{headings[1][1]}-heatmap.svg'\n",
    "plot3 = f'../figures/{headings[2][0]}-{headings[2][1]}-heatmap.svg'\n",
    "plot4 = f'../figures/{headings[3][0]}-{headings[3][1]}-heatmap.svg'\n",
    "\n",
    "y_2 = 325\n",
    "x_2 = 500\n",
    "\n",
    "fig = Figure(\"1007\", \"656\",\n",
    "       Panel(\n",
    "          SVG(plot1),\n",
    "          Text(\"A\", 25, 20, size=30),\n",
    "          ),\n",
    "       Panel(\n",
    "          SVG(plot2).move(x_2, 0),\n",
    "          Text(\"B\", 25, 20, size=30).move(x_2-20, 0),\n",
    "          ),\n",
    "       Panel(\n",
    "          SVG(plot3).move(0, y_2),\n",
    "          Text(\"C\", 25, 20, size=30).move(0, y_2),\n",
    "          ),\n",
    "       Panel(\n",
    "          SVG(plot4).move(x_2, y_2),\n",
    "          Text(\"D\", 25, 20, size=30).move(x_2-20, y_2),\n",
    "          )\n",
    "       )\n",
    "fig.save('../figures/combined_heatmap.svg')"
   ]
  },
  {
   "cell_type": "code",
   "execution_count": null,
   "id": "e1ee986b",
   "metadata": {},
   "outputs": [],
   "source": [
    "!inkscape --export-area-drawing -w 1007 -h 656 --export-png=../figures/combined_heatmap.png ../figures/combined_heatmap.svg -b \"#ffffffff\""
   ]
  },
  {
   "cell_type": "markdown",
   "id": "56b03945",
   "metadata": {},
   "source": [
    "## Combine percentile plots"
   ]
  },
  {
   "cell_type": "code",
   "execution_count": null,
   "id": "ec61bc1a",
   "metadata": {},
   "outputs": [],
   "source": [
    "plot1 = f'../figures/{headings[0][0]}-{headings[0][1]}-difference.svg'\n",
    "plot2 = f'../figures/{headings[1][0]}-{headings[1][1]}-difference.svg'\n",
    "plot3 = f'../figures/{headings[2][0]}-{headings[2][1]}-difference.svg'\n",
    "plot4 = f'../figures/{headings[3][0]}-{headings[3][1]}-difference.svg'\n",
    "\n",
    "y_2 = 325\n",
    "x_2 = 550\n",
    "\n",
    "fig = Figure(\"1007\", \"656\",\n",
    "       Panel(\n",
    "          SVG(plot1),\n",
    "          Text(\"A\", 25, 20, size=30),\n",
    "          ),\n",
    "       Panel(\n",
    "          SVG(plot2).move(x_2, 0),\n",
    "          Text(\"B\", 25, 20, size=30).move(x_2-20, 0),\n",
    "          ),\n",
    "       Panel(\n",
    "          SVG(plot3).move(0, y_2),\n",
    "          Text(\"C\", 25, 20, size=30).move(0, y_2-25),\n",
    "          ),\n",
    "       Panel(\n",
    "          SVG(plot4).move(x_2, y_2),\n",
    "          Text(\"D\", 25, 20, size=30).move(x_2-20, y_2-25),\n",
    "          )\n",
    "       )\n",
    "fig.save('../figures/combined_difference.svg')"
   ]
  },
  {
   "cell_type": "code",
   "execution_count": null,
   "id": "4f656096",
   "metadata": {},
   "outputs": [],
   "source": [
    "# The SVG version is ~150MB due to all the plotted points; we'll convert to a PNG to allow fast loading\n",
    "!inkscape --export-area-drawing -w 1007 -h 656 --export-png=../figures/combined_difference.png ../figures/combined_difference.svg -b \"#ffffffff\""
   ]
  },
  {
   "cell_type": "markdown",
   "id": "2f553d2f",
   "metadata": {},
   "source": [
    "## Build journal plots"
   ]
  },
  {
   "cell_type": "code",
   "execution_count": null,
   "id": "56698d71",
   "metadata": {},
   "outputs": [],
   "source": [
    "with open('../viz_dataframes/journals/nanotechnology-microscopy.pkl', 'rb') as in_file:\n",
    "    nanotech_df = pkl.load(in_file)\n",
    "nanotech_df.head()\n",
    "science_row = nanotech_df[nanotech_df['journal_title'] == 'Science']\n",
    "science_x_loc = science_row['nanotechnology_pagerank']\n",
    "science_y_loc = science_row['microscopy_pagerank']"
   ]
  },
  {
   "cell_type": "code",
   "execution_count": null,
   "id": "1d313c82",
   "metadata": {},
   "outputs": [],
   "source": [
    "plot = ggplot(nanotech_df, aes(x='nanotechnology_pagerank', y='microscopy_pagerank'))\n",
    "plot += geom_point()\n",
    "plot += scale_x_log10()\n",
    "plot += scale_y_log10()\n",
    "plot += ggtitle('Common microscopy/nanotechnology journals')\n",
    "plot += annotate('text', x=science_x_loc - 5e-5, y=science_y_loc, label='Science',)\n",
    "plot += annotate('point', x=science_x_loc, y=science_y_loc, fill='red', size=2, color='red')\n",
    "ggsave(plot, '../figures/microscopy_journals.svg')\n",
    "plot"
   ]
  },
  {
   "cell_type": "code",
   "execution_count": null,
   "id": "7939f189",
   "metadata": {},
   "outputs": [],
   "source": [
    "with open('../viz_dataframes/journals/immunochemistry-anatomy.pkl', 'rb') as in_file:\n",
    "    immunochem_df = pkl.load(in_file)\n",
    "immunochem_df.head()\n",
    "science_row = immunochem_df[immunochem_df['journal_title'] == 'Science']\n",
    "science_x_loc = science_row['immunochemistry_pagerank']\n",
    "science_y_loc = science_row['anatomy_pagerank']"
   ]
  },
  {
   "cell_type": "code",
   "execution_count": null,
   "id": "c637e613",
   "metadata": {},
   "outputs": [],
   "source": [
    "nature_row = immunochem_df[immunochem_df['journal_title'] == 'Nature']\n",
    "nature_x_loc = nature_row['immunochemistry_pagerank']\n",
    "nature_y_loc = nature_row['anatomy_pagerank']"
   ]
  },
  {
   "cell_type": "code",
   "execution_count": null,
   "id": "fa41869c",
   "metadata": {},
   "outputs": [],
   "source": [
    "cell_row = immunochem_df[immunochem_df['journal_title'] == 'Cell']\n",
    "cell_x_loc = cell_row['immunochemistry_pagerank']\n",
    "cell_y_loc = cell_row['anatomy_pagerank']"
   ]
  },
  {
   "cell_type": "code",
   "execution_count": null,
   "id": "9e639cc8",
   "metadata": {},
   "outputs": [],
   "source": [
    "plot = ggplot(immunochem_df, aes(x='immunochemistry_pagerank', y='anatomy_pagerank'))\n",
    "plot += geom_point()\n",
    "plot += scale_x_log10()\n",
    "plot += scale_y_log10()\n",
    "plot += ggtitle('Common immunochemistry/anatomy journals')\n",
    "plot += annotate('text', x=science_x_loc - 1.9e-6, y=science_y_loc, label='Science',)\n",
    "plot += annotate('point', x=science_x_loc, y=science_y_loc, fill='red', size=2, color='red')\n",
    "plot += annotate('text', x=nature_x_loc - 2.7e-6, y=nature_y_loc, label='Nature',)\n",
    "plot += annotate('point', x=nature_x_loc, y=nature_y_loc, fill='red', size=2, color='red')\n",
    "plot += annotate('text', x=cell_x_loc - 1.6e-6, y=cell_y_loc, label='Cell',)\n",
    "plot += annotate('point', x=cell_x_loc, y=cell_y_loc, fill='red', size=2, color='red')\n",
    "ggsave(plot, '../figures/immunochemistry_journals.svg')\n",
    "plot"
   ]
  },
  {
   "cell_type": "markdown",
   "id": "503138d7",
   "metadata": {},
   "source": [
    "## Combine journal plots"
   ]
  },
  {
   "cell_type": "code",
   "execution_count": null,
   "id": "dec6f417",
   "metadata": {},
   "outputs": [],
   "source": [
    "plot1 = f'../figures/microscopy_journals.svg'\n",
    "plot2 = f'../figures/immunochemistry_journals.svg'\n",
    "\n",
    "y_2 = 325\n",
    "x_2 = 415\n",
    "\n",
    "fig = Figure(\"828\", \"331\",\n",
    "       Panel(\n",
    "          SVG(plot1),\n",
    "          Text(\"A\", 25, 20, size=30),\n",
    "          ),\n",
    "       Panel(\n",
    "          SVG(plot2).move(x_2, 0),\n",
    "          Text(\"B\", 25, 20, size=30).move(x_2-20, 0),\n",
    "          ),\n",
    "       )\n",
    "fig.save('../figures/combined_journals.svg')"
   ]
  },
  {
   "cell_type": "code",
   "execution_count": null,
   "id": "7950ce35",
   "metadata": {},
   "outputs": [],
   "source": [
    "# The SVG version is ~150MB due to all the plotted points; we'll convert to a PNG to allow fast loading\n",
    "!inkscape --export-area-drawing -w 828 -h 331 --export-png=../figures/combined_journals.png ../figures/combined_journals.svg -b \"#ffffffff\""
   ]
  },
  {
   "cell_type": "markdown",
   "id": "27fa6d5e",
   "metadata": {},
   "source": [
    "## Create per-field distribution plots"
   ]
  },
  {
   "cell_type": "code",
   "execution_count": 67,
   "id": "82a25d48",
   "metadata": {},
   "outputs": [
    {
     "name": "stdout",
     "output_type": "stream",
     "text": [
      "                                pagerank\n",
      "10.1021/la4040722               0.000016\n",
      "10.1021/la804132z               0.000015\n",
      "10.1021/acs.est.5b00904         0.000010\n",
      "10.1038/nmat1194                0.000020\n",
      "10.1088/0957-4484/25/33/335102  0.000010\n",
      "...                                  ...\n",
      "10.1109/tnb.2006.880834         0.000010\n",
      "10.1021/am1010699               0.000012\n",
      "10.1016/s0014-5793(03)01400-5   0.000023\n",
      "10.1016/j.ejpb.2021.02.010      0.000010\n",
      "10.1038/s41593-020-0704-9       0.000010\n",
      "\n",
      "[36609 rows x 1 columns]\n"
     ]
    },
    {
     "name": "stderr",
     "output_type": "stream",
     "text": [
      "/home/heil/anaconda3/envs/indices/lib/python3.10/site-packages/plotnine/ggplot.py:718: PlotnineWarning: Saving 6.4 x 4.8 in image.\n",
      "/home/heil/anaconda3/envs/indices/lib/python3.10/site-packages/plotnine/ggplot.py:719: PlotnineWarning: Filename: ../figures/nanotechnology-hist.svg\n",
      "/home/heil/anaconda3/envs/indices/lib/python3.10/site-packages/plotnine/stats/stat_bin.py:95: PlotnineWarning: 'stat_bin()' using 'bins = 140'. Pick better value with 'binwidth'.\n",
      "/home/heil/anaconda3/envs/indices/lib/python3.10/site-packages/plotnine/ggplot.py:718: PlotnineWarning: Saving 6.4 x 4.8 in image.\n",
      "/home/heil/anaconda3/envs/indices/lib/python3.10/site-packages/plotnine/ggplot.py:719: PlotnineWarning: Filename: ../figures/microscopy-hist.svg\n",
      "/home/heil/anaconda3/envs/indices/lib/python3.10/site-packages/plotnine/stats/stat_bin.py:95: PlotnineWarning: 'stat_bin()' using 'bins = 322'. Pick better value with 'binwidth'.\n"
     ]
    },
    {
     "name": "stdout",
     "output_type": "stream",
     "text": [
      "                                pagerank\n",
      "10.1080/00034983.1990.11812447  0.000002\n",
      "10.1080/00034983.1989.11812400  0.000005\n",
      "10.1080/00071660020009054       0.000003\n",
      "10.1007/s003600050142           0.000008\n",
      "10.1080/00071660120103738       0.000003\n",
      "...                                  ...\n",
      "10.1038/cddis.2016.389          0.000002\n",
      "10.1038/cddis.2016.4            0.000002\n",
      "10.1038/cddis.2016.54           0.000002\n",
      "10.1038/cddis.2016.66           0.000002\n",
      "10.1038/cddis.2017.302          0.000002\n",
      "\n",
      "[225607 rows x 1 columns]\n"
     ]
    },
    {
     "name": "stderr",
     "output_type": "stream",
     "text": [
      "/home/heil/anaconda3/envs/indices/lib/python3.10/site-packages/plotnine/ggplot.py:718: PlotnineWarning: Saving 6.4 x 4.8 in image.\n",
      "/home/heil/anaconda3/envs/indices/lib/python3.10/site-packages/plotnine/ggplot.py:719: PlotnineWarning: Filename: ../figures/immunochemistry-hist.svg\n",
      "/home/heil/anaconda3/envs/indices/lib/python3.10/site-packages/plotnine/stats/stat_bin.py:95: PlotnineWarning: 'stat_bin()' using 'bins = 275'. Pick better value with 'binwidth'.\n",
      "/home/heil/anaconda3/envs/indices/lib/python3.10/site-packages/plotnine/ggplot.py:718: PlotnineWarning: Saving 6.4 x 4.8 in image.\n",
      "/home/heil/anaconda3/envs/indices/lib/python3.10/site-packages/plotnine/ggplot.py:719: PlotnineWarning: Filename: ../figures/anatomy-hist.svg\n",
      "/home/heil/anaconda3/envs/indices/lib/python3.10/site-packages/plotnine/stats/stat_bin.py:95: PlotnineWarning: 'stat_bin()' using 'bins = 271'. Pick better value with 'binwidth'.\n"
     ]
    },
    {
     "name": "stdout",
     "output_type": "stream",
     "text": [
      "                                    pagerank\n",
      "10.1080/00071668.2019.1621989       0.000006\n",
      "10.18632/oncotarget.11298           0.000011\n",
      "10.1002/jez.1766                    0.000006\n",
      "10.1016/j.chroma.2008.11.053        0.000027\n",
      "10.1152/physiolgenomics.00176.2009  0.000014\n",
      "...                                      ...\n",
      "10.1038/aps.2017.200                0.000006\n",
      "10.1038/bjc.2013.613                0.000006\n",
      "10.1038/bjc.2015.342                0.000006\n",
      "10.1038/cddis.2012.141              0.000006\n",
      "10.1038/cddis.2017.112              0.000006\n",
      "\n",
      "[54744 rows x 1 columns]\n"
     ]
    },
    {
     "name": "stderr",
     "output_type": "stream",
     "text": [
      "/home/heil/anaconda3/envs/indices/lib/python3.10/site-packages/plotnine/ggplot.py:718: PlotnineWarning: Saving 6.4 x 4.8 in image.\n",
      "/home/heil/anaconda3/envs/indices/lib/python3.10/site-packages/plotnine/ggplot.py:719: PlotnineWarning: Filename: ../figures/proteomics-hist.svg\n",
      "/home/heil/anaconda3/envs/indices/lib/python3.10/site-packages/plotnine/stats/stat_bin.py:95: PlotnineWarning: 'stat_bin()' using 'bins = 200'. Pick better value with 'binwidth'.\n",
      "/home/heil/anaconda3/envs/indices/lib/python3.10/site-packages/plotnine/ggplot.py:718: PlotnineWarning: Saving 6.4 x 4.8 in image.\n",
      "/home/heil/anaconda3/envs/indices/lib/python3.10/site-packages/plotnine/ggplot.py:719: PlotnineWarning: Filename: ../figures/metabolomics-hist.svg\n",
      "/home/heil/anaconda3/envs/indices/lib/python3.10/site-packages/plotnine/stats/stat_bin.py:95: PlotnineWarning: 'stat_bin()' using 'bins = 116'. Pick better value with 'binwidth'.\n"
     ]
    },
    {
     "name": "stdout",
     "output_type": "stream",
     "text": [
      "                                 pagerank\n",
      "10.1080/00029157.2003.10403526   0.000001\n",
      "10.1080/00029157.2002.10403508   0.000003\n",
      "10.1080/00029157.2009.10401678   0.000002\n",
      "10.1126/science.1072241          0.000092\n",
      "10.1038/nature744                0.000084\n",
      "...                                   ...\n",
      "10.1038/cddis.2014.199           0.000002\n",
      "10.1093/bioinformatics/18.6.884  0.000002\n",
      "10.1038/cddis.2014.28            0.000001\n",
      "10.1038/cddis.2014.444           0.000001\n",
      "10.1038/cddis.2017.112           0.000001\n",
      "\n",
      "[198282 rows x 1 columns]\n"
     ]
    },
    {
     "name": "stderr",
     "output_type": "stream",
     "text": [
      "/home/heil/anaconda3/envs/indices/lib/python3.10/site-packages/plotnine/ggplot.py:718: PlotnineWarning: Saving 6.4 x 4.8 in image.\n",
      "/home/heil/anaconda3/envs/indices/lib/python3.10/site-packages/plotnine/ggplot.py:719: PlotnineWarning: Filename: ../figures/computational_biology-hist.svg\n",
      "/home/heil/anaconda3/envs/indices/lib/python3.10/site-packages/plotnine/stats/stat_bin.py:95: PlotnineWarning: 'stat_bin()' using 'bins = 333'. Pick better value with 'binwidth'.\n",
      "/home/heil/anaconda3/envs/indices/lib/python3.10/site-packages/plotnine/ggplot.py:718: PlotnineWarning: Saving 6.4 x 4.8 in image.\n",
      "/home/heil/anaconda3/envs/indices/lib/python3.10/site-packages/plotnine/ggplot.py:719: PlotnineWarning: Filename: ../figures/human_genetics-hist.svg\n",
      "/home/heil/anaconda3/envs/indices/lib/python3.10/site-packages/plotnine/stats/stat_bin.py:95: PlotnineWarning: 'stat_bin()' using 'bins = 81'. Pick better value with 'binwidth'.\n"
     ]
    }
   ],
   "source": [
    "for heading1, heading2 in headings:\n",
    "    with open(f'../output/{heading1}-{heading2}-pagerank.pkl', 'rb') as in_file:\n",
    "        h1_dict = pkl.load(in_file)\n",
    "        h1_df = pd.DataFrame.from_dict(h1_dict, orient='index', columns=['pagerank'])\n",
    "    with open(f'../output/{heading2}-{heading1}-pagerank.pkl', 'rb') as in_file:\n",
    "        h2_dict = pkl.load(in_file)\n",
    "        h2_df = pd.DataFrame.from_dict(h2_dict, orient='index', columns=['pagerank'])\n",
    "    \n",
    "    h1_text = string.capwords(heading1.replace('_', ' '))\n",
    "    h2_text = string.capwords(heading2.replace('_', ' '))\n",
    "    \n",
    "    plot = ggplot(h1_df, aes(x='pagerank'))\n",
    "    plot += geom_histogram()\n",
    "    plot += ggtitle(f'{h1_text} PageRank Distribution')\n",
    "    plot += scale_x_log10(name='PageRank')\n",
    "    plot += scale_y_continuous(name='Count')\n",
    "    plot += theme_classic()\n",
    "    ggsave(plot, f'../figures/{heading1}-hist.svg')\n",
    "    \n",
    "    plot = ggplot(h2_df, aes(x='pagerank'))\n",
    "    plot += geom_histogram()\n",
    "    plot += ggtitle(f'{h2_text} PageRank Distribution')\n",
    "    plot += scale_x_log10(name='PageRank')\n",
    "    plot += scale_y_continuous(name='Count')\n",
    "    plot += theme_classic()\n",
    "    ggsave(plot, f'../figures/{heading2}-hist.svg')\n",
    "    "
   ]
  },
  {
   "cell_type": "code",
   "execution_count": 70,
   "id": "ada22f85",
   "metadata": {},
   "outputs": [],
   "source": [
    "plot1 = f'../figures/{headings[0][0]}-hist.svg'\n",
    "plot5 = f'../figures/{headings[0][1]}-hist.svg'\n",
    "plot2 = f'../figures/{headings[1][0]}-hist.svg'\n",
    "plot6 = f'../figures/{headings[1][1]}-hist.svg'\n",
    "plot3 = f'../figures/{headings[2][0]}-hist.svg'\n",
    "plot7 = f'../figures/{headings[2][1]}-hist.svg'\n",
    "plot4 = f'../figures/{headings[3][0]}-hist.svg'\n",
    "plot8 = f'../figures/{headings[3][1]}-hist.svg'\n",
    "\n",
    "y_2 = 325\n",
    "x_2 = 420\n",
    "x_3 = 840\n",
    "x_4 = 1260\n",
    "\n",
    "fig = Figure(\"1693\", \"654\",\n",
    "       Panel(\n",
    "          SVG(plot1),\n",
    "          Text(\"A\", 0, 30, size=30),\n",
    "          ),\n",
    "       Panel(\n",
    "          SVG(plot2).move(x_2, 0),\n",
    "          Text(\"B\", 20, 30, size=30).move(x_2-20, 0),\n",
    "          ),\n",
    "       Panel(\n",
    "          SVG(plot3).move(x_3, 0),\n",
    "          Text(\"C\", 0, 30, size=30).move(x_3, 0)\n",
    "          ),\n",
    "       Panel(\n",
    "          SVG(plot4).move(x_4, 0),\n",
    "          Text(\"D\", 20, 30, size=30).move(x_4, 0),\n",
    "          ),\n",
    "       Panel(\n",
    "          SVG(plot5).move(0, y_2),\n",
    "          Text(\"E\", 0, 30, size=30).move(0, y_2),\n",
    "          ),\n",
    "       Panel(\n",
    "          SVG(plot6).move(x_2, y_2),\n",
    "          Text(\"F\", 20, 30, size=30).move(x_2-20, y_2),\n",
    "          ),\n",
    "       Panel(\n",
    "          SVG(plot7).move(x_3, y_2),\n",
    "          Text(\"G\", 0, 30, size=30).move(x_3, y_2),\n",
    "          ),\n",
    "       Panel(\n",
    "          SVG(plot8).move(x_4, y_2),\n",
    "          Text(\"H\", 20, 30, size=30).move(x_4, y_2),\n",
    "          ),\n",
    "     )\n",
    "\n",
    "fig.save('../figures/per-field.svg')"
   ]
  },
  {
   "cell_type": "code",
   "execution_count": 71,
   "id": "2dd32b29",
   "metadata": {},
   "outputs": [
    {
     "name": "stdout",
     "output_type": "stream",
     "text": [
      "Background RRGGBBAA: ffffffff\n",
      "Area -0.5:0.569942:1682.52:654.5 exported to 1693 x 654 pixels (96.0103 dpi)\n",
      "Bitmap saved as: ../figures/per-field.png\n"
     ]
    }
   ],
   "source": [
    "# The SVG version is ~150MB due to all the plotted points; we'll convert to a PNG to allow fast loading\n",
    "!inkscape  --export-area-drawing -w 1693 -h 654 --export-png=../figures/per-field.png ../figures/per-field.svg -b \"#ffffffff\""
   ]
  },
  {
   "cell_type": "markdown",
   "id": "ff4ecb48",
   "metadata": {},
   "source": [
    "## Specialty journal analysis"
   ]
  },
  {
   "cell_type": "code",
   "execution_count": 75,
   "id": "ba0fa274",
   "metadata": {},
   "outputs": [
    {
     "name": "stdout",
     "output_type": "stream",
     "text": [
      "1980\n"
     ]
    }
   ],
   "source": [
    "output_files = glob('../output/*-*-pagerank.pkl')\n",
    "print(len(output_files))"
   ]
  },
  {
   "cell_type": "code",
   "execution_count": 105,
   "id": "7be08c3e",
   "metadata": {},
   "outputs": [
    {
     "name": "stderr",
     "output_type": "stream",
     "text": [
      "100%|██████████████████████████████████████████████████████████████████████████████████████████████████████████████████████████████████████████████████████████████████| 1980/1980 [00:13<00:00, 148.39it/s]\n"
     ]
    }
   ],
   "source": [
    "journal_info = {'journal': [], 'count': [], 'field': []}\n",
    "headings_seen = set()\n",
    "\n",
    "for file in tqdm(output_files):\n",
    "    heading = os.path.basename(file).split('-')[0]\n",
    "    if heading in headings_seen:\n",
    "        continue\n",
    "    else:\n",
    "        headings_seen.add(heading)\n",
    "    \n",
    "    with open(file, 'rb') as in_file:\n",
    "        heading_dict = pkl.load(in_file)\n",
    "    pagerank_df = pd.DataFrame.from_dict(heading_dict, orient='index', columns=['pagerank'])\n",
    "    pagerank_df = pagerank_df.reset_index()\n",
    "    pagerank_df = pagerank_df.rename({'index': 'doi'}, axis='columns')\n",
    "    \n",
    "    \n",
    "    metadata_path = f'../data/pubmed/efetch/{heading}.xml.xz'\n",
    "    metadata = parse_metadata(metadata_path)\n",
    "    \n",
    "    doi_to_journal = dict(zip(metadata['doi'], metadata['journal']))\n",
    "    \n",
    "    pagerank_df['journal'] = pagerank_df['doi'].map(doi_to_journal)\n",
    "    for journal, count in pagerank_df['journal'].value_counts().iteritems():\n",
    "        journal_info['journal'].append(journal)\n",
    "        journal_info['count'].append(count)\n",
    "        journal_info['field'].append(heading)\n",
    "    \n",
    "# Find count of each journal for full dataset\n",
    "# Set cutoff # of articles for inclusion\n",
    "# Find overlap \n",
    "\n"
   ]
  },
  {
   "cell_type": "code",
   "execution_count": 106,
   "id": "2f43579c",
   "metadata": {},
   "outputs": [
    {
     "data": {
      "text/html": [
       "<div>\n",
       "<style scoped>\n",
       "    .dataframe tbody tr th:only-of-type {\n",
       "        vertical-align: middle;\n",
       "    }\n",
       "\n",
       "    .dataframe tbody tr th {\n",
       "        vertical-align: top;\n",
       "    }\n",
       "\n",
       "    .dataframe thead th {\n",
       "        text-align: right;\n",
       "    }\n",
       "</style>\n",
       "<table border=\"1\" class=\"dataframe\">\n",
       "  <thead>\n",
       "    <tr style=\"text-align: right;\">\n",
       "      <th></th>\n",
       "      <th>journal</th>\n",
       "      <th>count</th>\n",
       "      <th>field</th>\n",
       "    </tr>\n",
       "  </thead>\n",
       "  <tbody>\n",
       "    <tr>\n",
       "      <th>0</th>\n",
       "      <td>Brain Res</td>\n",
       "      <td>6342</td>\n",
       "      <td>histocytochemistry</td>\n",
       "    </tr>\n",
       "    <tr>\n",
       "      <th>1</th>\n",
       "      <td>Neuroscience</td>\n",
       "      <td>4569</td>\n",
       "      <td>histocytochemistry</td>\n",
       "    </tr>\n",
       "    <tr>\n",
       "      <th>2</th>\n",
       "      <td>PLoS One</td>\n",
       "      <td>4510</td>\n",
       "      <td>histocytochemistry</td>\n",
       "    </tr>\n",
       "    <tr>\n",
       "      <th>3</th>\n",
       "      <td>J Comp Neurol</td>\n",
       "      <td>4496</td>\n",
       "      <td>histocytochemistry</td>\n",
       "    </tr>\n",
       "    <tr>\n",
       "      <th>4</th>\n",
       "      <td>J Histochem Cytochem</td>\n",
       "      <td>4428</td>\n",
       "      <td>histocytochemistry</td>\n",
       "    </tr>\n",
       "    <tr>\n",
       "      <th>...</th>\n",
       "      <td>...</td>\n",
       "      <td>...</td>\n",
       "      <td>...</td>\n",
       "    </tr>\n",
       "    <tr>\n",
       "      <th>89853</th>\n",
       "      <td>J Immunotoxicol</td>\n",
       "      <td>1</td>\n",
       "      <td>crystallography</td>\n",
       "    </tr>\n",
       "    <tr>\n",
       "      <th>89854</th>\n",
       "      <td>Pathol Biol (Paris)</td>\n",
       "      <td>1</td>\n",
       "      <td>crystallography</td>\n",
       "    </tr>\n",
       "    <tr>\n",
       "      <th>89855</th>\n",
       "      <td>Cancer Sci</td>\n",
       "      <td>1</td>\n",
       "      <td>crystallography</td>\n",
       "    </tr>\n",
       "    <tr>\n",
       "      <th>89856</th>\n",
       "      <td>Biogr Mem Fellows R Soc</td>\n",
       "      <td>1</td>\n",
       "      <td>crystallography</td>\n",
       "    </tr>\n",
       "    <tr>\n",
       "      <th>89857</th>\n",
       "      <td>Am Rev Respir Dis</td>\n",
       "      <td>1</td>\n",
       "      <td>crystallography</td>\n",
       "    </tr>\n",
       "  </tbody>\n",
       "</table>\n",
       "<p>89858 rows × 3 columns</p>\n",
       "</div>"
      ],
      "text/plain": [
       "                       journal  count               field\n",
       "0                    Brain Res   6342  histocytochemistry\n",
       "1                 Neuroscience   4569  histocytochemistry\n",
       "2                     PLoS One   4510  histocytochemistry\n",
       "3                J Comp Neurol   4496  histocytochemistry\n",
       "4         J Histochem Cytochem   4428  histocytochemistry\n",
       "...                        ...    ...                 ...\n",
       "89853          J Immunotoxicol      1     crystallography\n",
       "89854      Pathol Biol (Paris)      1     crystallography\n",
       "89855               Cancer Sci      1     crystallography\n",
       "89856  Biogr Mem Fellows R Soc      1     crystallography\n",
       "89857        Am Rev Respir Dis      1     crystallography\n",
       "\n",
       "[89858 rows x 3 columns]"
      ]
     },
     "execution_count": 106,
     "metadata": {},
     "output_type": "execute_result"
    }
   ],
   "source": [
    "journal_df = pd.DataFrame(journal_info)\n",
    "journal_df"
   ]
  },
  {
   "cell_type": "code",
   "execution_count": 109,
   "id": "8310ab90",
   "metadata": {},
   "outputs": [
    {
     "data": {
      "text/plain": [
       "45"
      ]
     },
     "execution_count": 109,
     "metadata": {},
     "output_type": "execute_result"
    }
   ],
   "source": [
    "journal_df['field'].nunique()"
   ]
  },
  {
   "cell_type": "code",
   "execution_count": 158,
   "id": "0975be6a",
   "metadata": {},
   "outputs": [
    {
     "data": {
      "text/plain": [
       "count    5178\n",
       "dtype: int64"
      ]
     },
     "execution_count": 158,
     "metadata": {},
     "output_type": "execute_result"
    }
   ],
   "source": [
    "# There are 5178 journals with at least 100 articles in the dataset\n",
    "(journal_df.groupby('journal').sum() > 50 ).sum()"
   ]
  },
  {
   "cell_type": "code",
   "execution_count": 165,
   "id": "c583915b",
   "metadata": {},
   "outputs": [],
   "source": [
    "journal_series = journal_df.groupby('journal').sum() > 50 \n",
    "common_journals = set(journal_series[journal_series['count']].index)"
   ]
  },
  {
   "cell_type": "code",
   "execution_count": 166,
   "id": "886aca60",
   "metadata": {},
   "outputs": [
    {
     "data": {
      "text/html": [
       "<div>\n",
       "<style scoped>\n",
       "    .dataframe tbody tr th:only-of-type {\n",
       "        vertical-align: middle;\n",
       "    }\n",
       "\n",
       "    .dataframe tbody tr th {\n",
       "        vertical-align: top;\n",
       "    }\n",
       "\n",
       "    .dataframe thead th {\n",
       "        text-align: right;\n",
       "    }\n",
       "</style>\n",
       "<table border=\"1\" class=\"dataframe\">\n",
       "  <thead>\n",
       "    <tr style=\"text-align: right;\">\n",
       "      <th></th>\n",
       "      <th>journal</th>\n",
       "      <th>count</th>\n",
       "      <th>field</th>\n",
       "    </tr>\n",
       "  </thead>\n",
       "  <tbody>\n",
       "    <tr>\n",
       "      <th>0</th>\n",
       "      <td>Brain Res</td>\n",
       "      <td>6342</td>\n",
       "      <td>histocytochemistry</td>\n",
       "    </tr>\n",
       "    <tr>\n",
       "      <th>1</th>\n",
       "      <td>Neuroscience</td>\n",
       "      <td>4569</td>\n",
       "      <td>histocytochemistry</td>\n",
       "    </tr>\n",
       "    <tr>\n",
       "      <th>2</th>\n",
       "      <td>PLoS One</td>\n",
       "      <td>4510</td>\n",
       "      <td>histocytochemistry</td>\n",
       "    </tr>\n",
       "    <tr>\n",
       "      <th>3</th>\n",
       "      <td>J Comp Neurol</td>\n",
       "      <td>4496</td>\n",
       "      <td>histocytochemistry</td>\n",
       "    </tr>\n",
       "    <tr>\n",
       "      <th>4</th>\n",
       "      <td>J Histochem Cytochem</td>\n",
       "      <td>4428</td>\n",
       "      <td>histocytochemistry</td>\n",
       "    </tr>\n",
       "    <tr>\n",
       "      <th>...</th>\n",
       "      <td>...</td>\n",
       "      <td>...</td>\n",
       "      <td>...</td>\n",
       "    </tr>\n",
       "    <tr>\n",
       "      <th>89852</th>\n",
       "      <td>J Tongji Med Univ</td>\n",
       "      <td>1</td>\n",
       "      <td>crystallography</td>\n",
       "    </tr>\n",
       "    <tr>\n",
       "      <th>89853</th>\n",
       "      <td>J Immunotoxicol</td>\n",
       "      <td>1</td>\n",
       "      <td>crystallography</td>\n",
       "    </tr>\n",
       "    <tr>\n",
       "      <th>89854</th>\n",
       "      <td>Pathol Biol (Paris)</td>\n",
       "      <td>1</td>\n",
       "      <td>crystallography</td>\n",
       "    </tr>\n",
       "    <tr>\n",
       "      <th>89855</th>\n",
       "      <td>Cancer Sci</td>\n",
       "      <td>1</td>\n",
       "      <td>crystallography</td>\n",
       "    </tr>\n",
       "    <tr>\n",
       "      <th>89857</th>\n",
       "      <td>Am Rev Respir Dis</td>\n",
       "      <td>1</td>\n",
       "      <td>crystallography</td>\n",
       "    </tr>\n",
       "  </tbody>\n",
       "</table>\n",
       "<p>81780 rows × 3 columns</p>\n",
       "</div>"
      ],
      "text/plain": [
       "                    journal  count               field\n",
       "0                 Brain Res   6342  histocytochemistry\n",
       "1              Neuroscience   4569  histocytochemistry\n",
       "2                  PLoS One   4510  histocytochemistry\n",
       "3             J Comp Neurol   4496  histocytochemistry\n",
       "4      J Histochem Cytochem   4428  histocytochemistry\n",
       "...                     ...    ...                 ...\n",
       "89852     J Tongji Med Univ      1     crystallography\n",
       "89853       J Immunotoxicol      1     crystallography\n",
       "89854   Pathol Biol (Paris)      1     crystallography\n",
       "89855            Cancer Sci      1     crystallography\n",
       "89857     Am Rev Respir Dis      1     crystallography\n",
       "\n",
       "[81780 rows x 3 columns]"
      ]
     },
     "execution_count": 166,
     "metadata": {},
     "output_type": "execute_result"
    }
   ],
   "source": [
    "common_journal_df = journal_df.loc[journal_df['journal'].isin(common_journals)]\n",
    "common_journal_df"
   ]
  },
  {
   "cell_type": "code",
   "execution_count": 167,
   "id": "009320c3",
   "metadata": {},
   "outputs": [
    {
     "data": {
      "text/plain": [
       "journal\n",
       "A A Case Rep           100\n",
       "A A Pract              114\n",
       "AACN Adv Crit Care     134\n",
       "AACN Clin Issues       188\n",
       "AAOHN J                141\n",
       "                      ... \n",
       "Zootaxa                171\n",
       "Zygote                 350\n",
       "eNeuro                 100\n",
       "mBio                  1157\n",
       "mSphere                325\n",
       "Name: count, Length: 5178, dtype: int64"
      ]
     },
     "execution_count": 167,
     "metadata": {},
     "output_type": "execute_result"
    }
   ],
   "source": [
    "journal_total_articles = common_journal_df.groupby('journal').sum()['count']\n",
    "journal_total_articles"
   ]
  },
  {
   "cell_type": "code",
   "execution_count": 168,
   "id": "2b255309",
   "metadata": {},
   "outputs": [
    {
     "data": {
      "text/plain": [
       "journal\n",
       "A A Case Rep          0.730000\n",
       "A A Pract             0.868421\n",
       "AACN Adv Crit Care    0.447761\n",
       "AACN Clin Issues      0.356383\n",
       "AAOHN J               0.574468\n",
       "                        ...   \n",
       "Zootaxa               0.473684\n",
       "Zygote                0.511429\n",
       "eNeuro                0.430000\n",
       "mBio                  0.261884\n",
       "mSphere               0.301538\n",
       "Name: count, Length: 5178, dtype: float64"
      ]
     },
     "execution_count": 168,
     "metadata": {},
     "output_type": "execute_result"
    }
   ],
   "source": [
    "largest_field_percent = common_journal_df.groupby('journal')['count'].max() / journal_total_articles\n",
    "largest_field_percent"
   ]
  },
  {
   "cell_type": "code",
   "execution_count": 169,
   "id": "e0ab9409",
   "metadata": {},
   "outputs": [
    {
     "data": {
      "text/plain": [
       "56"
      ]
     },
     "execution_count": 169,
     "metadata": {},
     "output_type": "execute_result"
    }
   ],
   "source": [
    "field_specific_journals = largest_field_percent[largest_field_percent > .9].index\n",
    "largest_field_percent[largest_field_percent > .9].count()"
   ]
  },
  {
   "cell_type": "code",
   "execution_count": 170,
   "id": "c57ff478",
   "metadata": {},
   "outputs": [
    {
     "data": {
      "text/plain": [
       "journal          count  field              \n",
       "Accid Anal Prev  1      biotechnology          1\n",
       "                        physiology             1\n",
       "                 3606   statistics_as_topic    1\n",
       "                 54     research_design        1\n",
       "                 31     operations_research    1\n",
       "                                              ..\n",
       "Ultraschall Med  2      research_design        1\n",
       "                 1      rheology               1\n",
       "                        human_genetics         1\n",
       "                        anatomy                1\n",
       "                 271    statistics_as_topic    1\n",
       "Length: 440, dtype: int64"
      ]
     },
     "execution_count": 170,
     "metadata": {},
     "output_type": "execute_result"
    }
   ],
   "source": [
    "common_journal_df[common_journal_df['journal'].isin(field_specific_journals)].groupby('journal').value_counts()"
   ]
  },
  {
   "cell_type": "markdown",
   "id": "c5efd6d3",
   "metadata": {},
   "source": [
    "#### Result\n",
    "Of the 5178 journals with at least 50 articles in the dataset, only 56 (1.1%) of journals have more than 90 percent of their articles from one field"
   ]
  },
  {
   "cell_type": "markdown",
   "id": "09cbec7a",
   "metadata": {},
   "source": [
    "## Scratch"
   ]
  },
  {
   "cell_type": "code",
   "execution_count": null,
   "id": "2d896bc5",
   "metadata": {},
   "outputs": [],
   "source": [
    "heading1 = 'nanotechnology'\n",
    "heading2 = 'microscopy'\n",
    "percentile_data = load_percentile_data(heading1, heading2, base_dir='../viz_dataframes')\n",
    "percentile_data.sort_values(by='nanotechnology-microscopy')"
   ]
  },
  {
   "cell_type": "code",
   "execution_count": null,
   "id": "d7e07974",
   "metadata": {},
   "outputs": [],
   "source": [
    "plot = ggplot(percentile_data, aes(x=f'{heading1}_pagerank', y=f'{heading2}_pagerank',))\n",
    "plot += geom_bin2d()\n",
    "plot += scale_x_log10()\n",
    "plot += scale_y_log10()\n",
    "plot += ggtitle(f'{heading1} vs {heading2} pageranks')\n",
    "plot += scale_fill_gradient(trans='log')\n",
    "plot += theme_dark()\n",
    "\n",
    "plot"
   ]
  },
  {
   "cell_type": "code",
   "execution_count": null,
   "id": "a2064d9a",
   "metadata": {},
   "outputs": [],
   "source": [
    "plot = ggplot(percentile_data, aes(x=f'{heading1}_pagerank', y=f'{heading2}_pagerank', \n",
    "              color=f'{heading1}-{heading2}'))\n",
    "plot += geom_point()\n",
    "plot += scale_x_log10()\n",
    "plot += scale_y_log10()\n",
    "plot += ggtitle(f'{heading1} vs {heading2} pageranks')\n",
    "plot += scale_color_gradient2(low='red', mid='white', high='blue')\n",
    "plot += theme_dark()\n",
    "\n",
    "plot"
   ]
  },
  {
   "cell_type": "code",
   "execution_count": null,
   "id": "4170f0a9",
   "metadata": {},
   "outputs": [],
   "source": [
    "heading1 = 'immunochemistry'\n",
    "heading2 = 'anatomy'\n",
    "percentile_data = load_percentile_data(heading1, heading2, base_dir='../viz_dataframes')\n",
    "percentile_data.sort_values(by='immunochemistry-anatomy')"
   ]
  },
  {
   "cell_type": "code",
   "execution_count": null,
   "id": "02cf75eb",
   "metadata": {},
   "outputs": [],
   "source": [
    "plot = ggplot(percentile_data, aes(x=f'{heading1}_pagerank', y=f'{heading2}_pagerank',))\n",
    "plot += geom_bin2d()\n",
    "plot += scale_x_log10()\n",
    "plot += scale_y_log10()\n",
    "plot += ggtitle(f'{heading1} vs {heading2} pageranks')\n",
    "plot += scale_fill_gradient(trans='log')\n",
    "plot += theme_dark()\n",
    "\n",
    "plot"
   ]
  },
  {
   "cell_type": "code",
   "execution_count": null,
   "id": "97939f48",
   "metadata": {},
   "outputs": [],
   "source": [
    "plot = ggplot(percentile_data, aes(x=f'{heading1}_pagerank', y=f'{heading2}_pagerank', \n",
    "              color=f'{heading1}-{heading2}'))\n",
    "plot += geom_point()\n",
    "plot += scale_x_log10()\n",
    "plot += scale_y_log10()\n",
    "plot += ggtitle(f'{heading1} vs {heading2} pageranks')\n",
    "plot += scale_color_gradient2(low='red', mid='white', high='blue')\n",
    "plot += theme_dark()\n",
    "\n",
    "plot"
   ]
  },
  {
   "cell_type": "markdown",
   "id": "27ac6526",
   "metadata": {},
   "source": [
    "## Plotly plots"
   ]
  },
  {
   "cell_type": "code",
   "execution_count": null,
   "id": "8377633f",
   "metadata": {},
   "outputs": [],
   "source": [
    "heading1 = 'nanotechnology'\n",
    "heading2 = 'microscopy'\n",
    "percentile_data = load_percentile_data(heading1, heading2, base_dir='../viz_dataframes')\n",
    "percentile_data.sort_values(by='nanotechnology-microscopy')"
   ]
  },
  {
   "cell_type": "code",
   "execution_count": null,
   "id": "a2a78ad6",
   "metadata": {},
   "outputs": [],
   "source": [
    "plot = px.scatter(percentile_data, x=f'{heading1}_pagerank', y=f'{heading2}_pagerank', log_x=True, log_y=True,\n",
    "                 opacity=1, color=f'{heading1}-{heading2}', color_continuous_scale='oxy', hover_data=['doi', 'title'],\n",
    "                 title=f'Relative importance of papers in {heading1} and {heading2}',)\n",
    "plot"
   ]
  },
  {
   "cell_type": "code",
   "execution_count": null,
   "id": "1a13b916",
   "metadata": {},
   "outputs": [],
   "source": [
    "largest_dois = set(percentile_data.nlargest(5, 'nanotechnology-microscopy')['doi'])\n",
    "percentile_data['top_five'] = percentile_data['doi'].isin(largest_dois)"
   ]
  },
  {
   "cell_type": "code",
   "execution_count": null,
   "id": "c1c47448",
   "metadata": {},
   "outputs": [],
   "source": [
    "plot = px.scatter(percentile_data, x=f'{heading1}_pagerank', y=f'{heading2}_pagerank', log_x=True, log_y=True,\n",
    "                 opacity=1, color='top_five', hover_data=['doi', 'title'],\n",
    "                 title=f'Relative importance of papers in {heading1} and {heading2}',)\n",
    "plot"
   ]
  },
  {
   "cell_type": "code",
   "execution_count": null,
   "id": "ee55682f",
   "metadata": {},
   "outputs": [],
   "source": [
    "main_data = percentile_data[percentile_data['nanotechnology_pagerank'] > 0.000015]\n",
    "smallest_dois = set(main_data.nsmallest(5, 'nanotechnology-microscopy')['doi'])\n",
    "percentile_data['bot_five'] = percentile_data['doi'].isin(smallest_dois)"
   ]
  },
  {
   "cell_type": "code",
   "execution_count": null,
   "id": "3530c93b",
   "metadata": {
    "scrolled": true
   },
   "outputs": [],
   "source": [
    "plot = px.scatter(percentile_data, x=f'{heading1}_pagerank', y=f'{heading2}_pagerank', log_x=True, log_y=True,\n",
    "                 opacity=1, color='bot_five', hover_data=['doi', 'title'],\n",
    "                 title=f'Relative importance of papers in {heading1} and {heading2}',)\n",
    "plot"
   ]
  },
  {
   "cell_type": "code",
   "execution_count": null,
   "id": "5eda3910",
   "metadata": {},
   "outputs": [],
   "source": [
    "heading1 = 'immunochemistry'\n",
    "heading2 = 'anatomy'\n",
    "percentile_data = load_percentile_data(heading1, heading2, base_dir='../viz_dataframes')\n",
    "percentile_data.sort_values(by=f'{heading1}-{heading2}')"
   ]
  },
  {
   "cell_type": "code",
   "execution_count": null,
   "id": "4c744b11",
   "metadata": {},
   "outputs": [],
   "source": [
    "plot = px.scatter(percentile_data, x=f'{heading1}_pagerank', y=f'{heading2}_pagerank', log_x=True, log_y=True,\n",
    "                  opacity=1, color=f'{heading1}-{heading2}', color_continuous_scale='oxy', hover_data=['doi', 'title'],\n",
    "                  title=f'Relative importance of papers in {heading1} and {heading2}',)\n",
    "plot"
   ]
  },
  {
   "cell_type": "code",
   "execution_count": null,
   "id": "fcfc5c02",
   "metadata": {},
   "outputs": [],
   "source": [
    "heading1 = 'proteomics'\n",
    "heading2 = 'metabolomics'\n",
    "percentile_data = load_percentile_data(heading1, heading2, base_dir='../viz_dataframes')\n",
    "percentile_data.sort_values(by=f'{heading1}-{heading2}')"
   ]
  },
  {
   "cell_type": "code",
   "execution_count": null,
   "id": "3227b6ef",
   "metadata": {
    "scrolled": true
   },
   "outputs": [],
   "source": [
    "plot = px.scatter(percentile_data, x=f'{heading1}_pagerank', y=f'{heading2}_pagerank', log_x=True, log_y=True,\n",
    "                 opacity=1, color=f'{heading1}-{heading2}', color_continuous_scale='oxy', hover_data=['doi', 'title'],\n",
    "                 title=f'Relative importance of papers in {heading1} and {heading2}',)\n",
    "plot"
   ]
  },
  {
   "cell_type": "code",
   "execution_count": null,
   "id": "44c217e9",
   "metadata": {},
   "outputs": [],
   "source": []
  },
  {
   "cell_type": "markdown",
   "id": "31cd510a",
   "metadata": {},
   "source": [
    "## Journal plots"
   ]
  },
  {
   "cell_type": "code",
   "execution_count": null,
   "id": "c05d1262",
   "metadata": {},
   "outputs": [],
   "source": [
    "journal_data_files = glob('../viz_dataframes/journals/*')\n",
    "\n",
    "results = {'percentile': [], 'journal': [], 'heading': []}\n",
    "\n",
    "for file in journal_data_files:\n",
    "    file_base = os.path.basename(file)\n",
    "    file_base = os.path.splitext(file_base)[0]\n",
    "    heading1, heading2 = file_base.split('-')\n",
    "        \n",
    "    with open(file, 'rb') as in_file:\n",
    "        df = pkl.load(in_file)\n",
    "        for _, row in df.iterrows():\n",
    "            results['percentile'].append(row[f'{heading1}_percentile'])\n",
    "            results['journal'].append(row[f'journal_title'])\n",
    "            results['heading'].append(heading1)\n",
    "            \n",
    "            results['percentile'].append(row[f'{heading2}_percentile'])\n",
    "            results['journal'].append(row[f'journal_title'])\n",
    "            results['heading'].append(heading2)\n",
    "\n"
   ]
  },
  {
   "cell_type": "code",
   "execution_count": null,
   "id": "4b1a5ea4",
   "metadata": {},
   "outputs": [],
   "source": [
    "result_df = pd.DataFrame(results)\n",
    "\n",
    "# Consolidate multiples\n",
    "result_df = result_df.groupby(['journal', 'heading']).mean().reset_index()\n",
    "\n",
    "result_df[result_df['journal'] == 'ACS Appl Mater Interfaces']"
   ]
  },
  {
   "cell_type": "code",
   "execution_count": null,
   "id": "61e071a7",
   "metadata": {},
   "outputs": [],
   "source": [
    "plot = ggplot(result_df, aes(x='journal', y='heading', fill='percentile'))\n",
    "plot += geom_tile()\n",
    "plot"
   ]
  },
  {
   "cell_type": "code",
   "execution_count": null,
   "id": "508dc8c9",
   "metadata": {},
   "outputs": [],
   "source": [
    "frequent_headings = result_df.heading.value_counts()[result_df.heading.value_counts() > 250].index\n",
    "frequent_headings"
   ]
  },
  {
   "cell_type": "code",
   "execution_count": null,
   "id": "1245bae5",
   "metadata": {},
   "outputs": [],
   "source": [
    "frequent_df = result_df[result_df['heading'].isin(set(frequent_headings))]"
   ]
  },
  {
   "cell_type": "code",
   "execution_count": null,
   "id": "bbc4b96b",
   "metadata": {},
   "outputs": [],
   "source": [
    "plot = ggplot(frequent_df, aes(x='journal', y='heading', fill='percentile'))\n",
    "plot += geom_tile()\n",
    "plot += theme(axis_text_x=element_text(rotation=90, hjust=1))\n",
    "plot += ggtitle('Headings with many journals')\n",
    "plot"
   ]
  },
  {
   "cell_type": "code",
   "execution_count": null,
   "id": "20416320",
   "metadata": {},
   "outputs": [],
   "source": [
    "unmelted_df = frequent_df.pivot(index='journal', columns='heading', values='percentile')\n",
    "# Remove journals not shared by all fields\n",
    "unmelted_df = unmelted_df.dropna(axis='index')\n",
    "unmelted_df "
   ]
  },
  {
   "cell_type": "code",
   "execution_count": null,
   "id": "67b048d1",
   "metadata": {},
   "outputs": [],
   "source": [
    "sns.set()"
   ]
  },
  {
   "cell_type": "code",
   "execution_count": null,
   "id": "0ce3f299",
   "metadata": {},
   "outputs": [],
   "source": [
    "%matplotlib inline\n",
    "sns.clustermap(unmelted_df)"
   ]
  },
  {
   "cell_type": "markdown",
   "id": "081544e3",
   "metadata": {},
   "source": [
    "## Cluster by paper"
   ]
  },
  {
   "cell_type": "code",
   "execution_count": null,
   "id": "4954a6a0",
   "metadata": {},
   "outputs": [],
   "source": [
    "percentile_data_files = glob('../raw_dataframes/percentiles/*')\n",
    "\n",
    "results = {'doi': [], 'percentile': [], 'heading': []}\n",
    "\n",
    "for file in percentile_data_files:\n",
    "    file_base = os.path.basename(file)\n",
    "    file_base = os.path.splitext(file_base)[0]\n",
    "    heading1, heading2 = file_base.split('-')\n",
    "        \n",
    "    with open(file, 'rb') as in_file:\n",
    "        df = pkl.load(in_file)\n",
    "        \n",
    "        for _, row in df.iterrows():\n",
    "            results['percentile'].append(row[f'{heading1}_percentile'])\n",
    "            results['doi'].append(row['doi'])\n",
    "            results['heading'].append(heading1)\n",
    "            \n",
    "            results['percentile'].append(row[f'{heading2}_percentile'])\n",
    "            results['doi'].append(row['doi'])\n",
    "            results['heading'].append(heading2)"
   ]
  },
  {
   "cell_type": "code",
   "execution_count": null,
   "id": "ebb5af45",
   "metadata": {},
   "outputs": [],
   "source": [
    "results_df = pd.DataFrame(results)\n",
    "results_df"
   ]
  },
  {
   "cell_type": "code",
   "execution_count": null,
   "id": "a8051d7f",
   "metadata": {},
   "outputs": [],
   "source": [
    "# Some papers will have multiple percentile scores for the same heading as a result of\n",
    "# being in multiple pairwise networks\n",
    "mean_df = results_df.groupby(['heading', 'doi']).mean().reset_index()\n",
    "mean_df"
   ]
  },
  {
   "cell_type": "code",
   "execution_count": null,
   "id": "d844662c",
   "metadata": {},
   "outputs": [],
   "source": [
    "compare_df = mean_df.pivot(index='heading', columns='doi', values='percentile').fillna(0)\n",
    "compare_df"
   ]
  },
  {
   "cell_type": "code",
   "execution_count": null,
   "id": "0dbb3358",
   "metadata": {},
   "outputs": [],
   "source": [
    "compare_df.to_numpy().shape"
   ]
  },
  {
   "cell_type": "code",
   "execution_count": null,
   "id": "21370527",
   "metadata": {},
   "outputs": [],
   "source": [
    "# https://scikit-learn.org/stable/auto_examples/cluster/plot_agglomerative_dendrogram.html\n",
    "def plot_dendrogram(model, **kwargs):\n",
    "    # Create linkage matrix and then plot the dendrogram\n",
    "\n",
    "    # create the counts of samples under each node\n",
    "    counts = np.zeros(model.children_.shape[0])\n",
    "    n_samples = len(model.labels_)\n",
    "    for i, merge in enumerate(model.children_):\n",
    "        current_count = 0\n",
    "        for child_idx in merge:\n",
    "            if child_idx < n_samples:\n",
    "                current_count += 1  # leaf node\n",
    "            else:\n",
    "                current_count += counts[child_idx - n_samples]\n",
    "        counts[i] = current_count\n",
    "\n",
    "    linkage_matrix = np.column_stack(\n",
    "        [model.children_, model.distances_, counts]\n",
    "    ).astype(float)\n",
    "\n",
    "    # Plot the corresponding dendrogram\n",
    "    dendrogram(linkage_matrix, **kwargs)\n",
    "\n",
    "# setting distance_threshold=0 ensures we compute the full tree.\n",
    "model = AgglomerativeClustering(distance_threshold=0, n_clusters=None)\n",
    "model = model.fit(compare_df)"
   ]
  },
  {
   "cell_type": "code",
   "execution_count": null,
   "id": "e11ffd94",
   "metadata": {},
   "outputs": [],
   "source": [
    "sns.set_theme(style=\"white\", palette=None)\n",
    "plt.title(\"MeSH Terms Clustered by Single Field Mean Percentile\")\n",
    "# plot the top three levels of the dendrogram\n",
    "plot_dendrogram(model, truncate_mode=None, labels=list(compare_df.index))\n",
    "plt.xlabel(\"MeSH Heading\")\n",
    "# Prevent label truncation\n",
    "plt.gcf().subplots_adjust(bottom=0.5)\n",
    "#plt.show()\n",
    "plt.savefig('../figures/heading_clusters.svg')"
   ]
  },
  {
   "cell_type": "code",
   "execution_count": null,
   "id": "881bef33",
   "metadata": {},
   "outputs": [],
   "source": [
    "print(model.n_leaves_)"
   ]
  },
  {
   "cell_type": "code",
   "execution_count": null,
   "id": "b0f7a324",
   "metadata": {},
   "outputs": [],
   "source": [
    "journal_data_files = glob('../viz_dataframes/journals/*')\n",
    "\n",
    "results = {'percentile': [], 'journal': [], 'heading': []}\n",
    "\n",
    "for file in journal_data_files:\n",
    "    file_base = os.path.basename(file)\n",
    "    file_base = os.path.splitext(file_base)[0]\n",
    "    heading1, heading2 = file_base.split('-')\n",
    "        \n",
    "    with open(file, 'rb') as in_file:\n",
    "        df = pkl.load(in_file)\n",
    "        for _, row in df.iterrows():\n",
    "            results['percentile'].append(row[f'{heading1}_percentile'])\n",
    "            results['journal'].append(row[f'journal_title'])\n",
    "            results['heading'].append(heading1)\n",
    "            \n",
    "            results['percentile'].append(row[f'{heading2}_percentile'])\n",
    "            results['journal'].append(row[f'journal_title'])\n",
    "            results['heading'].append(heading2)"
   ]
  },
  {
   "cell_type": "code",
   "execution_count": null,
   "id": "6130d69b",
   "metadata": {},
   "outputs": [],
   "source": [
    "journal_df = pd.DataFrame(results)\n",
    "\n",
    "# Consolidate multiples\n",
    "journal_df = journal_df.groupby(['journal', 'heading']).mean().reset_index()\n",
    "\n",
    "journal_df[journal_df['journal'] == 'ACS Appl Mater Interfaces']\n",
    "\n",
    "journal_comparison_df = journal_df.pivot(index='journal', columns='heading', values='percentile')\n",
    "journal_comparison_df"
   ]
  },
  {
   "cell_type": "code",
   "execution_count": null,
   "id": "58031171",
   "metadata": {},
   "outputs": [],
   "source": [
    "c1 = ['immunochemistry', 'anatomy', 'histocytochemistry']\n",
    "c1_df = journal_comparison_df.loc[:, c1].dropna()\n",
    "c1_df"
   ]
  },
  {
   "cell_type": "code",
   "execution_count": null,
   "id": "b57d10f2",
   "metadata": {},
   "outputs": [],
   "source": [
    "sns.set()"
   ]
  },
  {
   "cell_type": "code",
   "execution_count": null,
   "id": "741fc38b",
   "metadata": {},
   "outputs": [],
   "source": [
    "%matplotlib inline\n",
    "g = sns.clustermap(c1_df)\n",
    "g.savefig('../figures/immunochem_heatmap.svg')"
   ]
  },
  {
   "cell_type": "code",
   "execution_count": null,
   "id": "f062f937",
   "metadata": {},
   "outputs": [],
   "source": [
    "c2 = ['computational_biology', 'proteomics', 'biophysics', 'physiology']\n",
    "c2_df = journal_comparison_df.loc[:, c2].dropna()\n",
    "c2_df"
   ]
  },
  {
   "cell_type": "code",
   "execution_count": null,
   "id": "8e2d8734",
   "metadata": {},
   "outputs": [],
   "source": [
    "g = sns.clustermap(c2_df)\n",
    "g.savefig('../figures/cb_heatmap.svg')"
   ]
  },
  {
   "cell_type": "markdown",
   "id": "b541aa68",
   "metadata": {},
   "source": [
    "### Look for clusters of papers in a few fields to see how they fall along journal lines"
   ]
  },
  {
   "cell_type": "code",
   "execution_count": null,
   "id": "c6e6339f",
   "metadata": {},
   "outputs": [],
   "source": [
    "umap_model = umap.UMAP(random_state=42)"
   ]
  },
  {
   "cell_type": "code",
   "execution_count": null,
   "id": "0d6eacfb",
   "metadata": {},
   "outputs": [],
   "source": [
    "percentile_data_files = glob('../raw_dataframes/percentiles/*')\n",
    "\n",
    "results = {'doi': [], 'journal': []}\n",
    "\n",
    "for file in percentile_data_files:\n",
    "    file_base = os.path.basename(file)\n",
    "    file_base = os.path.splitext(file_base)[0]\n",
    "    heading1, heading2 = file_base.split('-')\n",
    "        \n",
    "    with open(file, 'rb') as in_file:\n",
    "        df = pkl.load(in_file)\n",
    "        \n",
    "        for _, row in df.iterrows():\n",
    "            results['journal'].append(row['journal'])\n",
    "            results['doi'].append(row['doi'])\n",
    "            \n",
    "            results['journal'].append(row['journal'])\n",
    "            results['doi'].append(row['doi'])\n"
   ]
  },
  {
   "cell_type": "code",
   "execution_count": null,
   "id": "5d83797b",
   "metadata": {},
   "outputs": [],
   "source": [
    "doi_df = pd.DataFrame(results).drop_duplicates()\n",
    "doi_to_journal = dict(zip(doi_df.doi, doi_df.journal))"
   ]
  },
  {
   "cell_type": "code",
   "execution_count": null,
   "id": "f0b152fa",
   "metadata": {},
   "outputs": [],
   "source": [
    "compare_df"
   ]
  },
  {
   "cell_type": "code",
   "execution_count": null,
   "id": "cda46dea",
   "metadata": {},
   "outputs": [],
   "source": [
    "multi_field_df = compare_df.loc[:, (compare_df!=0).sum(axis=0) > 1]\n",
    "random_subset_df = multi_field_df.sample(n=75000, random_state=42, axis='columns')\n",
    "random_subset_df"
   ]
  },
  {
   "cell_type": "code",
   "execution_count": null,
   "id": "26b3b784",
   "metadata": {},
   "outputs": [],
   "source": [
    "(compare_df!=0).sum(axis=0).value_counts()"
   ]
  },
  {
   "cell_type": "code",
   "execution_count": null,
   "id": "01f95f75",
   "metadata": {},
   "outputs": [],
   "source": [
    "%%time\n",
    "umap_data = umap_model.fit_transform(random_subset_df.T)\n",
    "umap_data"
   ]
  },
  {
   "cell_type": "code",
   "execution_count": null,
   "id": "cc2ee9f7",
   "metadata": {},
   "outputs": [],
   "source": [
    "umap_data.shape"
   ]
  },
  {
   "cell_type": "code",
   "execution_count": null,
   "id": "5f09b96d",
   "metadata": {},
   "outputs": [],
   "source": [
    "random_umap_df = pd.DataFrame(umap_data, columns=['UMAP1', 'UMAP2'])\n",
    "random_umap_df['doi'] =random_subset_df.columns\n",
    "random_umap_df['journal'] = random_umap_df['doi'].map(doi_to_journal)\n",
    "random_umap_df['num_fields'] = (random_subset_df!=0).sum(axis=0).values\n",
    "random_umap_df"
   ]
  },
  {
   "cell_type": "code",
   "execution_count": null,
   "id": "01cf52fd",
   "metadata": {},
   "outputs": [],
   "source": [
    "print(random_umap_df.journal.value_counts()[:100])"
   ]
  },
  {
   "cell_type": "code",
   "execution_count": null,
   "id": "65f3c4aa",
   "metadata": {},
   "outputs": [],
   "source": [
    "plot = ggplot(random_umap_df, aes(x='UMAP1', y='UMAP2', color='journal'))\n",
    "plot += geom_point(alpha=1)\n",
    "plot += scale_color_discrete(guide=False)\n",
    "plot"
   ]
  },
  {
   "cell_type": "code",
   "execution_count": null,
   "id": "f6e62dfa",
   "metadata": {},
   "outputs": [],
   "source": [
    "plot = ggplot(random_umap_df, aes(x='UMAP1', y='UMAP2', color='num_fields'))\n",
    "plot += geom_point(alpha=1)\n",
    "plot"
   ]
  },
  {
   "cell_type": "code",
   "execution_count": null,
   "id": "5901d6ef",
   "metadata": {},
   "outputs": [],
   "source": [
    "highlight_journals = [\"Genet Epidemiol\", \"Genome Res\", \"Am J Hum Genet\", \"Bioinformatics\", \"Nature\"]\n",
    "viz_df = random_umap_df\n",
    "viz_df['journal'] = np.where(viz_df['journal'].isin(highlight_journals), viz_df['journal'], 'other')\n",
    "plot = ggplot(viz_df, aes(x='UMAP1', y='UMAP2', color='journal'))\n",
    "plot += geom_point(viz_df[viz_df['journal'] == 'other'], alpha=.005, color='grey')\n",
    "plot += geom_point(viz_df[viz_df['journal'].isin(highlight_journals)], alpha=1)\n",
    "plot"
   ]
  },
  {
   "cell_type": "code",
   "execution_count": null,
   "id": "bc66010e",
   "metadata": {
    "scrolled": true
   },
   "outputs": [],
   "source": [
    "viz_df = random_umap_df\n",
    "viz_df['journal'] = np.where(viz_df['journal'].isin(highlight_journals), viz_df['journal'], 'other')\n",
    "plot = ggplot(viz_df, aes(x='UMAP1', y='UMAP2', color='journal'))\n",
    "#plot += geom_point(viz_df[viz_df['journal'] == 'other'], alpha=.005, color='grey')\n",
    "plot += geom_point(viz_df[viz_df['journal'].isin(highlight_journals)], alpha=1)\n",
    "plot"
   ]
  },
  {
   "cell_type": "code",
   "execution_count": null,
   "id": "2589d116",
   "metadata": {},
   "outputs": [],
   "source": []
  }
 ],
 "metadata": {
  "kernelspec": {
   "display_name": "Python 3 (ipykernel)",
   "language": "python",
   "name": "python3"
  },
  "language_info": {
   "codemirror_mode": {
    "name": "ipython",
    "version": 3
   },
   "file_extension": ".py",
   "mimetype": "text/x-python",
   "name": "python",
   "nbconvert_exporter": "python",
   "pygments_lexer": "ipython3",
   "version": "3.10.4"
  }
 },
 "nbformat": 4,
 "nbformat_minor": 5
}
