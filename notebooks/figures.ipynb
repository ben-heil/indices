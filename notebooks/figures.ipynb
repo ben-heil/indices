{
 "cells": [
  {
   "cell_type": "markdown",
   "id": "43aba320",
   "metadata": {},
   "source": [
    "# Figures\n",
    "Visualize the results of the analyses for the indices paper"
   ]
  },
  {
   "cell_type": "code",
   "execution_count": null,
   "id": "c7d40740",
   "metadata": {},
   "outputs": [],
   "source": [
    "import os\n",
    "import pickle as pkl\n",
    "import string\n",
    "import sys\n",
    "from glob import glob\n",
    "\n",
    "import numpy as np\n",
    "import pandas as pd\n",
    "import plotly.express as px\n",
    "import seaborn as sns\n",
    "import svgutils.transform as sg\n",
    "import umap\n",
    "from plotnine import *\n",
    "from matplotlib import pyplot as plt\n",
    "from scipy.cluster.hierarchy import dendrogram\n",
    "from sklearn.cluster import AgglomerativeClustering\n",
    "from svgutils.compose import SVG, Figure, Panel, Text\n",
    "from tqdm import tqdm\n",
    "\n",
    "sys.path.append('../indices')\n",
    "from utils import load_percentile_data, load_journal_data, load_single_heading, parse_metadata"
   ]
  },
  {
   "cell_type": "code",
   "execution_count": null,
   "id": "ecc50c0e",
   "metadata": {},
   "outputs": [],
   "source": [
    "headings = [('nanotechnology', 'microscopy'), ('immunochemistry', 'anatomy'), \n",
    "            ('proteomics', 'metabolomics'), ('computational_biology', 'human_genetics')]"
   ]
  },
  {
   "cell_type": "code",
   "execution_count": null,
   "id": "5031693f",
   "metadata": {},
   "outputs": [],
   "source": [
    "for heading1, heading2 in headings:\n",
    "    percentile_data = load_percentile_data(heading1, heading2, base_dir='../viz_dataframes')\n",
    "    \n",
    "    hist_data = percentile_data.melt(id_vars='doi', value_vars=[f'{heading1}_pagerank', f'{heading2}_pagerank'],\n",
    "                                     value_name='PageRank',)\n",
    "    \n",
    "    h1 = string.capwords(heading1.replace('_', ' '))\n",
    "    h2 = string.capwords(heading2.replace('_', ' '))\n",
    "    \n",
    "    new_names = {f'{heading1}_pagerank': f'{h1}',\n",
    "                 f'{heading2}_pagerank': f'{h2}'}\n",
    "    \n",
    "    hist_data['Field'] = hist_data['variable'].map(new_names)\n",
    "        \n",
    "    plot = ggplot(hist_data, aes(x='PageRank', fill='Field'))\n",
    "    plot += geom_histogram(position='identity', alpha=.7)\n",
    "    plot += scale_x_log10()\n",
    "    plot += scale_y_continuous(name='Count')\n",
    "    plot += ggtitle(f'{h1} and {h2} Pagerank Distribution')\n",
    "    plot += theme_classic()\n",
    "    ggsave(plot, f'../figures/{heading1}-{heading2}-hist.svg')\n",
    "\n",
    "    plot = ggplot(percentile_data, aes(x=f'{heading1}_pagerank', y=f'{heading2}_pagerank',))\n",
    "    plot += geom_bin2d()\n",
    "    plot += scale_x_log10(name=f'{h1} Pagerank')\n",
    "    plot += scale_y_log10(name=f'{h2} Pagerank')\n",
    "    plot += ggtitle(f'{h1} vs {h2} Pageranks')\n",
    "    plot += scale_fill_gradient(trans='log')\n",
    "    plot += theme_classic()\n",
    "\n",
    "    ggsave(plot, f'../figures/{heading1}-{heading2}-heatmap.svg')\n",
    "    \n",
    "    plot = ggplot(percentile_data, aes(x=f'{heading1}_pagerank', y=f'{heading2}_pagerank', \n",
    "              color=f'{heading1}-{heading2}'))\n",
    "    plot += geom_point()\n",
    "    plot += scale_x_log10(name=f'{h1} Pagerank')\n",
    "    plot += scale_y_log10(name=f'{h2} Pagerank')\n",
    "    plot += ggtitle(f'{h1} and {h2} Percentile Scores')\n",
    "    plot += scale_color_gradient2(low='purple', mid='#e2e2e2', high='green')\n",
    "    plot += theme_classic()\n",
    "\n",
    "    ggsave(plot, f'../figures/{heading1}-{heading2}-difference.svg')"
   ]
  },
  {
   "cell_type": "markdown",
   "id": "71efeaa1",
   "metadata": {},
   "source": [
    "## Combine histograms"
   ]
  },
  {
   "cell_type": "code",
   "execution_count": null,
   "id": "f0bb233a",
   "metadata": {},
   "outputs": [],
   "source": [
    "plot1 = f'../figures/{headings[0][0]}-{headings[0][1]}-hist.svg'\n",
    "plot2 = f'../figures/{headings[1][0]}-{headings[1][1]}-hist.svg'\n",
    "plot3 = f'../figures/{headings[2][0]}-{headings[2][1]}-hist.svg'\n",
    "plot4 = f'../figures/{headings[3][0]}-{headings[3][1]}-hist.svg'\n",
    "\n",
    "y_2 = 310\n",
    "x_2 = 520\n",
    "\n",
    "fig = Figure(\"160cm\", \"160cm\",\n",
    "       Panel(\n",
    "          SVG(plot1),\n",
    "          Text(\"A\", 0, 40, size=30),\n",
    "          ),\n",
    "       Panel(\n",
    "          SVG(plot2).move(x_2, 0),\n",
    "          Text(\"B\", 20, 40, size=30).move(x_2-20, 0),\n",
    "          ),\n",
    "       Panel(\n",
    "          SVG(plot3).move(0, y_2),\n",
    "          Text(\"C\", 0, 50, size=30).move(0, y_2),\n",
    "          ),\n",
    "       Panel(\n",
    "          SVG(plot4).move(x_2, y_2),\n",
    "          Text(\"D\", 20, 50, size=30).move(x_2-20, y_2),\n",
    "          )\n",
    "       )\n",
    "fig.save('../figures/combined_histogram.svg')"
   ]
  },
  {
   "cell_type": "code",
   "execution_count": null,
   "id": "eff2affd",
   "metadata": {},
   "outputs": [],
   "source": [
    "!inkscape --export-area-drawing -w 1060 -h 636 --export-png=../figures/combined_histogram.png ../figures/combined_histogram.svg -b \"#ffffffff\""
   ]
  },
  {
   "cell_type": "markdown",
   "id": "1f7ae0b3",
   "metadata": {},
   "source": [
    "## Combine heatmaps"
   ]
  },
  {
   "cell_type": "code",
   "execution_count": null,
   "id": "0f912237",
   "metadata": {},
   "outputs": [],
   "source": [
    "plot1 = f'../figures/{headings[0][0]}-{headings[0][1]}-heatmap.svg'\n",
    "plot2 = f'../figures/{headings[1][0]}-{headings[1][1]}-heatmap.svg'\n",
    "plot3 = f'../figures/{headings[2][0]}-{headings[2][1]}-heatmap.svg'\n",
    "plot4 = f'../figures/{headings[3][0]}-{headings[3][1]}-heatmap.svg'\n",
    "\n",
    "y_2 = 325\n",
    "x_2 = 500\n",
    "\n",
    "fig = Figure(\"1007\", \"656\",\n",
    "       Panel(\n",
    "          SVG(plot1),\n",
    "          Text(\"A\", 25, 20, size=30),\n",
    "          ),\n",
    "       Panel(\n",
    "          SVG(plot2).move(x_2, 0),\n",
    "          Text(\"B\", 25, 20, size=30).move(x_2-20, 0),\n",
    "          ),\n",
    "       Panel(\n",
    "          SVG(plot3).move(0, y_2),\n",
    "          Text(\"C\", 25, 20, size=30).move(0, y_2),\n",
    "          ),\n",
    "       Panel(\n",
    "          SVG(plot4).move(x_2, y_2),\n",
    "          Text(\"D\", 25, 20, size=30).move(x_2-20, y_2),\n",
    "          )\n",
    "       )\n",
    "fig.save('../figures/combined_heatmap.svg')"
   ]
  },
  {
   "cell_type": "code",
   "execution_count": null,
   "id": "e1ee986b",
   "metadata": {},
   "outputs": [],
   "source": [
    "!inkscape --export-area-drawing -w 1007 -h 656 --export-png=../figures/combined_heatmap.png ../figures/combined_heatmap.svg -b \"#ffffffff\""
   ]
  },
  {
   "cell_type": "markdown",
   "id": "56b03945",
   "metadata": {},
   "source": [
    "## Combine percentile plots"
   ]
  },
  {
   "cell_type": "code",
   "execution_count": null,
   "id": "ec61bc1a",
   "metadata": {},
   "outputs": [],
   "source": [
    "plot1 = f'../figures/{headings[0][0]}-{headings[0][1]}-difference.svg'\n",
    "plot2 = f'../figures/{headings[1][0]}-{headings[1][1]}-difference.svg'\n",
    "plot3 = f'../figures/{headings[2][0]}-{headings[2][1]}-difference.svg'\n",
    "plot4 = f'../figures/{headings[3][0]}-{headings[3][1]}-difference.svg'\n",
    "\n",
    "y_2 = 325\n",
    "x_2 = 550\n",
    "\n",
    "fig = Figure(\"1007\", \"656\",\n",
    "       Panel(\n",
    "          SVG(plot1),\n",
    "          Text(\"A\", 25, 20, size=30),\n",
    "          ),\n",
    "       Panel(\n",
    "          SVG(plot2).move(x_2, 0),\n",
    "          Text(\"B\", 25, 20, size=30).move(x_2-20, 0),\n",
    "          ),\n",
    "       Panel(\n",
    "          SVG(plot3).move(0, y_2),\n",
    "          Text(\"C\", 25, 20, size=30).move(0, y_2-25),\n",
    "          ),\n",
    "       Panel(\n",
    "          SVG(plot4).move(x_2, y_2),\n",
    "          Text(\"D\", 25, 20, size=30).move(x_2-20, y_2-25),\n",
    "          )\n",
    "       )\n",
    "fig.save('../figures/combined_difference.svg')"
   ]
  },
  {
   "cell_type": "code",
   "execution_count": null,
   "id": "4f656096",
   "metadata": {},
   "outputs": [],
   "source": [
    "# The SVG version is ~150MB due to all the plotted points; we'll convert to a PNG to allow fast loading\n",
    "!inkscape --export-area-drawing -w 1007 -h 656 --export-png=../figures/combined_difference.png ../figures/combined_difference.svg -b \"#ffffffff\""
   ]
  },
  {
   "cell_type": "markdown",
   "id": "2f553d2f",
   "metadata": {},
   "source": [
    "## Build journal plots"
   ]
  },
  {
   "cell_type": "code",
   "execution_count": null,
   "id": "56698d71",
   "metadata": {},
   "outputs": [],
   "source": [
    "with open('../viz_dataframes/journals/nanotechnology-microscopy.pkl', 'rb') as in_file:\n",
    "    nanotech_df = pkl.load(in_file)\n",
    "nanotech_df.head()\n",
    "science_row = nanotech_df[nanotech_df['journal_title'] == 'Science']\n",
    "science_x_loc = science_row['nanotechnology_pagerank']\n",
    "science_y_loc = science_row['microscopy_pagerank']"
   ]
  },
  {
   "cell_type": "code",
   "execution_count": null,
   "id": "1d313c82",
   "metadata": {},
   "outputs": [],
   "source": [
    "plot = ggplot(nanotech_df, aes(x='nanotechnology_pagerank', y='microscopy_pagerank'))\n",
    "plot += geom_point()\n",
    "plot += scale_x_log10()\n",
    "plot += scale_y_log10()\n",
    "plot += ggtitle('Common microscopy/nanotechnology journals')\n",
    "plot += annotate('text', x=science_x_loc - 5e-5, y=science_y_loc, label='Science',)\n",
    "plot += annotate('point', x=science_x_loc, y=science_y_loc, fill='red', size=2, color='red')\n",
    "ggsave(plot, '../figures/microscopy_journals.svg')\n",
    "plot"
   ]
  },
  {
   "cell_type": "code",
   "execution_count": null,
   "id": "7939f189",
   "metadata": {},
   "outputs": [],
   "source": [
    "with open('../viz_dataframes/journals/immunochemistry-anatomy.pkl', 'rb') as in_file:\n",
    "    immunochem_df = pkl.load(in_file)\n",
    "immunochem_df.head()\n",
    "science_row = immunochem_df[immunochem_df['journal_title'] == 'Science']\n",
    "science_x_loc = science_row['immunochemistry_pagerank']\n",
    "science_y_loc = science_row['anatomy_pagerank']"
   ]
  },
  {
   "cell_type": "code",
   "execution_count": null,
   "id": "c637e613",
   "metadata": {},
   "outputs": [],
   "source": [
    "nature_row = immunochem_df[immunochem_df['journal_title'] == 'Nature']\n",
    "nature_x_loc = nature_row['immunochemistry_pagerank']\n",
    "nature_y_loc = nature_row['anatomy_pagerank']"
   ]
  },
  {
   "cell_type": "code",
   "execution_count": null,
   "id": "fa41869c",
   "metadata": {},
   "outputs": [],
   "source": [
    "cell_row = immunochem_df[immunochem_df['journal_title'] == 'Cell']\n",
    "cell_x_loc = cell_row['immunochemistry_pagerank']\n",
    "cell_y_loc = cell_row['anatomy_pagerank']"
   ]
  },
  {
   "cell_type": "code",
   "execution_count": null,
   "id": "9e639cc8",
   "metadata": {},
   "outputs": [],
   "source": [
    "plot = ggplot(immunochem_df, aes(x='immunochemistry_pagerank', y='anatomy_pagerank'))\n",
    "plot += geom_point()\n",
    "plot += scale_x_log10()\n",
    "plot += scale_y_log10()\n",
    "plot += ggtitle('Common immunochemistry/anatomy journals')\n",
    "plot += annotate('text', x=science_x_loc - 1.9e-6, y=science_y_loc, label='Science',)\n",
    "plot += annotate('point', x=science_x_loc, y=science_y_loc, fill='red', size=2, color='red')\n",
    "plot += annotate('text', x=nature_x_loc - 2.7e-6, y=nature_y_loc, label='Nature',)\n",
    "plot += annotate('point', x=nature_x_loc, y=nature_y_loc, fill='red', size=2, color='red')\n",
    "plot += annotate('text', x=cell_x_loc - 1.6e-6, y=cell_y_loc, label='Cell',)\n",
    "plot += annotate('point', x=cell_x_loc, y=cell_y_loc, fill='red', size=2, color='red')\n",
    "ggsave(plot, '../figures/immunochemistry_journals.svg')\n",
    "plot"
   ]
  },
  {
   "cell_type": "markdown",
   "id": "503138d7",
   "metadata": {},
   "source": [
    "## Combine journal plots"
   ]
  },
  {
   "cell_type": "code",
   "execution_count": null,
   "id": "dec6f417",
   "metadata": {},
   "outputs": [],
   "source": [
    "plot1 = f'../figures/microscopy_journals.svg'\n",
    "plot2 = f'../figures/immunochemistry_journals.svg'\n",
    "\n",
    "y_2 = 325\n",
    "x_2 = 415\n",
    "\n",
    "fig = Figure(\"828\", \"331\",\n",
    "       Panel(\n",
    "          SVG(plot1),\n",
    "          Text(\"A\", 25, 20, size=30),\n",
    "          ),\n",
    "       Panel(\n",
    "          SVG(plot2).move(x_2, 0),\n",
    "          Text(\"B\", 25, 20, size=30).move(x_2-20, 0),\n",
    "          ),\n",
    "       )\n",
    "fig.save('../figures/combined_journals.svg')"
   ]
  },
  {
   "cell_type": "code",
   "execution_count": null,
   "id": "7950ce35",
   "metadata": {},
   "outputs": [],
   "source": [
    "# The SVG version is ~150MB due to all the plotted points; we'll convert to a PNG to allow fast loading\n",
    "!inkscape --export-area-drawing -w 828 -h 331 --export-png=../figures/combined_journals.png ../figures/combined_journals.svg -b \"#ffffffff\""
   ]
  },
  {
   "cell_type": "markdown",
   "id": "27fa6d5e",
   "metadata": {},
   "source": [
    "## Create per-field distribution plots"
   ]
  },
  {
   "cell_type": "code",
   "execution_count": null,
   "id": "82a25d48",
   "metadata": {},
   "outputs": [],
   "source": [
    "for heading1, heading2 in headings:\n",
    "    with open(f'../output/{heading1}-{heading2}-pagerank.pkl', 'rb') as in_file:\n",
    "        h1_dict = pkl.load(in_file)\n",
    "        h1_df = pd.DataFrame.from_dict(h1_dict, orient='index', columns=['pagerank'])\n",
    "    with open(f'../output/{heading2}-{heading1}-pagerank.pkl', 'rb') as in_file:\n",
    "        h2_dict = pkl.load(in_file)\n",
    "        h2_df = pd.DataFrame.from_dict(h2_dict, orient='index', columns=['pagerank'])\n",
    "    \n",
    "    h1_text = string.capwords(heading1.replace('_', ' '))\n",
    "    h2_text = string.capwords(heading2.replace('_', ' '))\n",
    "    \n",
    "    plot = ggplot(h1_df, aes(x='pagerank'))\n",
    "    plot += geom_histogram()\n",
    "    plot += ggtitle(f'{h1_text} PageRank Distribution')\n",
    "    plot += scale_x_log10(name='PageRank')\n",
    "    plot += scale_y_continuous(name='Count')\n",
    "    plot += theme_classic()\n",
    "    ggsave(plot, f'../figures/{heading1}-hist.svg')\n",
    "    \n",
    "    plot = ggplot(h2_df, aes(x='pagerank'))\n",
    "    plot += geom_histogram()\n",
    "    plot += ggtitle(f'{h2_text} PageRank Distribution')\n",
    "    plot += scale_x_log10(name='PageRank')\n",
    "    plot += scale_y_continuous(name='Count')\n",
    "    plot += theme_classic()\n",
    "    ggsave(plot, f'../figures/{heading2}-hist.svg')\n",
    "    "
   ]
  },
  {
   "cell_type": "code",
   "execution_count": null,
   "id": "ada22f85",
   "metadata": {},
   "outputs": [],
   "source": [
    "plot1 = f'../figures/{headings[0][0]}-hist.svg'\n",
    "plot5 = f'../figures/{headings[0][1]}-hist.svg'\n",
    "plot2 = f'../figures/{headings[1][0]}-hist.svg'\n",
    "plot6 = f'../figures/{headings[1][1]}-hist.svg'\n",
    "plot3 = f'../figures/{headings[2][0]}-hist.svg'\n",
    "plot7 = f'../figures/{headings[2][1]}-hist.svg'\n",
    "plot4 = f'../figures/{headings[3][0]}-hist.svg'\n",
    "plot8 = f'../figures/{headings[3][1]}-hist.svg'\n",
    "\n",
    "y_2 = 325\n",
    "x_2 = 420\n",
    "x_3 = 840\n",
    "x_4 = 1260\n",
    "\n",
    "fig = Figure(\"1693\", \"654\",\n",
    "       Panel(\n",
    "          SVG(plot1),\n",
    "          Text(\"A\", 0, 30, size=30),\n",
    "          ),\n",
    "       Panel(\n",
    "          SVG(plot2).move(x_2, 0),\n",
    "          Text(\"B\", 20, 30, size=30).move(x_2-20, 0),\n",
    "          ),\n",
    "       Panel(\n",
    "          SVG(plot3).move(x_3, 0),\n",
    "          Text(\"C\", 0, 30, size=30).move(x_3, 0)\n",
    "          ),\n",
    "       Panel(\n",
    "          SVG(plot4).move(x_4, 0),\n",
    "          Text(\"D\", 20, 30, size=30).move(x_4, 0),\n",
    "          ),\n",
    "       Panel(\n",
    "          SVG(plot5).move(0, y_2),\n",
    "          Text(\"E\", 0, 30, size=30).move(0, y_2),\n",
    "          ),\n",
    "       Panel(\n",
    "          SVG(plot6).move(x_2, y_2),\n",
    "          Text(\"F\", 20, 30, size=30).move(x_2-20, y_2),\n",
    "          ),\n",
    "       Panel(\n",
    "          SVG(plot7).move(x_3, y_2),\n",
    "          Text(\"G\", 0, 30, size=30).move(x_3, y_2),\n",
    "          ),\n",
    "       Panel(\n",
    "          SVG(plot8).move(x_4, y_2),\n",
    "          Text(\"H\", 20, 30, size=30).move(x_4, y_2),\n",
    "          ),\n",
    "     )\n",
    "\n",
    "fig.save('../figures/per-field.svg')"
   ]
  },
  {
   "cell_type": "code",
   "execution_count": null,
   "id": "2dd32b29",
   "metadata": {},
   "outputs": [],
   "source": [
    "# The SVG version is ~150MB due to all the plotted points; we'll convert to a PNG to allow fast loading\n",
    "!inkscape  --export-area-drawing -w 1693 -h 654 --export-png=../figures/per-field.png ../figures/per-field.svg -b \"#ffffffff\""
   ]
  },
  {
   "cell_type": "markdown",
   "id": "ff4ecb48",
   "metadata": {},
   "source": [
    "## Specialty journal analysis"
   ]
  },
  {
   "cell_type": "code",
   "execution_count": null,
   "id": "ba0fa274",
   "metadata": {},
   "outputs": [],
   "source": [
    "output_files = glob('../output/*-*-pagerank.pkl')\n",
    "print(len(output_files))"
   ]
  },
  {
   "cell_type": "code",
   "execution_count": null,
   "id": "7be08c3e",
   "metadata": {},
   "outputs": [],
   "source": [
    "journal_info = {'journal': [], 'count': [], 'field': []}\n",
    "headings_seen = set()\n",
    "\n",
    "for file in tqdm(output_files):\n",
    "    heading = os.path.basename(file).split('-')[0]\n",
    "    if heading in headings_seen:\n",
    "        continue\n",
    "    else:\n",
    "        headings_seen.add(heading)\n",
    "    \n",
    "    with open(file, 'rb') as in_file:\n",
    "        heading_dict = pkl.load(in_file)\n",
    "    pagerank_df = pd.DataFrame.from_dict(heading_dict, orient='index', columns=['pagerank'])\n",
    "    pagerank_df = pagerank_df.reset_index()\n",
    "    pagerank_df = pagerank_df.rename({'index': 'doi'}, axis='columns')\n",
    "    \n",
    "    \n",
    "    metadata_path = f'../data/pubmed/efetch/{heading}.xml.xz'\n",
    "    metadata = parse_metadata(metadata_path)\n",
    "    \n",
    "    doi_to_journal = dict(zip(metadata['doi'], metadata['journal']))\n",
    "    \n",
    "    pagerank_df['journal'] = pagerank_df['doi'].map(doi_to_journal)\n",
    "    for journal, count in pagerank_df['journal'].value_counts().iteritems():\n",
    "        journal_info['journal'].append(journal)\n",
    "        journal_info['count'].append(count)\n",
    "        journal_info['field'].append(heading)\n",
    "    \n",
    "# Find count of each journal for full dataset\n",
    "# Set cutoff # of articles for inclusion\n",
    "# Find overlap \n",
    "\n"
   ]
  },
  {
   "cell_type": "code",
   "execution_count": null,
   "id": "2f43579c",
   "metadata": {},
   "outputs": [],
   "source": [
    "journal_df = pd.DataFrame(journal_info)\n",
    "journal_df"
   ]
  },
  {
   "cell_type": "code",
   "execution_count": null,
   "id": "8310ab90",
   "metadata": {},
   "outputs": [],
   "source": [
    "journal_df['field'].nunique()"
   ]
  },
  {
   "cell_type": "code",
   "execution_count": null,
   "id": "0975be6a",
   "metadata": {},
   "outputs": [],
   "source": [
    "# There are 5178 journals with at least 100 articles in the dataset\n",
    "(journal_df.groupby('journal').sum() > 50 ).sum()"
   ]
  },
  {
   "cell_type": "code",
   "execution_count": null,
   "id": "c583915b",
   "metadata": {},
   "outputs": [],
   "source": [
    "journal_series = journal_df.groupby('journal').sum() > 50 \n",
    "common_journals = set(journal_series[journal_series['count']].index)"
   ]
  },
  {
   "cell_type": "code",
   "execution_count": null,
   "id": "886aca60",
   "metadata": {},
   "outputs": [],
   "source": [
    "common_journal_df = journal_df.loc[journal_df['journal'].isin(common_journals)]\n",
    "common_journal_df"
   ]
  },
  {
   "cell_type": "code",
   "execution_count": null,
   "id": "009320c3",
   "metadata": {},
   "outputs": [],
   "source": [
    "journal_total_articles = common_journal_df.groupby('journal').sum()['count']\n",
    "journal_total_articles"
   ]
  },
  {
   "cell_type": "code",
   "execution_count": null,
   "id": "2b255309",
   "metadata": {},
   "outputs": [],
   "source": [
    "largest_field_percent = common_journal_df.groupby('journal')['count'].max() / journal_total_articles\n",
    "largest_field_percent"
   ]
  },
  {
   "cell_type": "code",
   "execution_count": null,
   "id": "e0ab9409",
   "metadata": {},
   "outputs": [],
   "source": [
    "field_specific_journals = largest_field_percent[largest_field_percent > .9].index\n",
    "largest_field_percent[largest_field_percent > .9].count()"
   ]
  },
  {
   "cell_type": "code",
   "execution_count": null,
   "id": "c57ff478",
   "metadata": {},
   "outputs": [],
   "source": [
    "common_journal_df[common_journal_df['journal'].isin(field_specific_journals)].groupby('journal').value_counts()"
   ]
  },
  {
   "cell_type": "markdown",
   "id": "c5efd6d3",
   "metadata": {},
   "source": [
    "#### Result\n",
    "Of the 5178 journals with at least 50 articles in the dataset, only 56 (1.1%) of journals have more than 90 percent of their articles from one field"
   ]
  },
  {
   "cell_type": "markdown",
   "id": "e8806d49",
   "metadata": {},
   "source": [
    "## Top journal analysis"
   ]
  },
  {
   "cell_type": "code",
   "execution_count": null,
   "id": "251d0eee",
   "metadata": {},
   "outputs": [],
   "source": [
    "top_journal_info = {'top_journal': [], 'field': []}\n",
    "headings_seen = set()\n",
    "\n",
    "for file in tqdm(output_files):\n",
    "    heading = os.path.basename(file).split('-')[0]\n",
    "    if heading in headings_seen:\n",
    "        continue\n",
    "    else:\n",
    "        headings_seen.add(heading)\n",
    "    \n",
    "    with open(file, 'rb') as in_file:\n",
    "        heading_dict = pkl.load(in_file)\n",
    "    pagerank_df = pd.DataFrame.from_dict(heading_dict, orient='index', columns=['pagerank'])\n",
    "    pagerank_df = pagerank_df.reset_index()\n",
    "    pagerank_df = pagerank_df.rename({'index': 'doi'}, axis='columns')\n",
    "    \n",
    "    metadata_path = f'../data/pubmed/efetch/{heading}.xml.xz'\n",
    "    metadata = parse_metadata(metadata_path)\n",
    "    \n",
    "    doi_to_journal = dict(zip(metadata['doi'], metadata['journal']))\n",
    "    \n",
    "    pagerank_df['journal'] = pagerank_df['doi'].map(doi_to_journal)\n",
    "        \n",
    "    journal_series = pagerank_df.groupby('journal').count() > 50 \n",
    "    common_journals = set(journal_series[journal_series['doi']].index)\n",
    "    \n",
    "    common_journal_df = pagerank_df[pagerank_df['journal'].isin(common_journals)]\n",
    "    top_journals = common_journal_df.groupby('journal').median().sort_values(by='pagerank', ascending=False)\n",
    "        \n",
    "    top_journal = top_journals.index[0]\n",
    "    \n",
    "    top_journal_info['top_journal'].append(top_journal)\n",
    "    top_journal_info['field'].append(heading)"
   ]
  },
  {
   "cell_type": "code",
   "execution_count": null,
   "id": "23a905f6",
   "metadata": {},
   "outputs": [],
   "source": [
    "top_journal_df = pd.DataFrame(top_journal_info)\n",
    "top_journal_list = top_journal_df['top_journal'].value_counts().index.tolist()\n",
    "tj_categorical = pd.Categorical(top_journal_df['top_journal'], categories=top_journal_list)\n",
    "top_journal_df['cat'] = tj_categorical\n",
    "\n",
    "top_journal_df\n",
    "# count_df = top_journal_counts.to_frame()\n",
    "# count_df = count_df.reset_index()\n",
    "# count_df = count_df.rename({'index': 'journal', 'top_journal': 'count'}, axis=1)\n",
    "# count_df\n",
    "\n",
    "# Sort by count\n",
    "#manufacturer_cat = pd.Categorical(top_journal_df['manufacturer'], categories=manufacturer_list)"
   ]
  },
  {
   "cell_type": "code",
   "execution_count": null,
   "id": "ffbf5005",
   "metadata": {},
   "outputs": [],
   "source": [
    "plot = ggplot(top_journal_df, aes(x='cat'))\n",
    "plot += geom_bar(stat='count')\n",
    "plot += theme_classic()\n",
    "plot += theme(axis_text_x=element_text(rotation=90, hjust=.5))\n",
    "plot += ylab('Count')\n",
    "plot += xlab('Journal')\n",
    "plot += scale_y_continuous(breaks=list(range(0,10, 2)))\n",
    "plot += ggtitle('Top Journal Prevalence')\n",
    "\n",
    "print(plot)"
   ]
  },
  {
   "cell_type": "markdown",
   "id": "09cbec7a",
   "metadata": {},
   "source": [
    "## Scratch"
   ]
  },
  {
   "cell_type": "code",
   "execution_count": null,
   "id": "2d896bc5",
   "metadata": {},
   "outputs": [],
   "source": [
    "heading1 = 'nanotechnology'\n",
    "heading2 = 'microscopy'\n",
    "percentile_data = load_percentile_data(heading1, heading2, base_dir='../viz_dataframes')\n",
    "percentile_data.sort_values(by='nanotechnology-microscopy')"
   ]
  },
  {
   "cell_type": "code",
   "execution_count": null,
   "id": "d7e07974",
   "metadata": {},
   "outputs": [],
   "source": [
    "plot = ggplot(percentile_data, aes(x=f'{heading1}_pagerank', y=f'{heading2}_pagerank',))\n",
    "plot += geom_bin2d()\n",
    "plot += scale_x_log10()\n",
    "plot += scale_y_log10()\n",
    "plot += ggtitle(f'{heading1} vs {heading2} pageranks')\n",
    "plot += scale_fill_gradient(trans='log')\n",
    "plot += theme_dark()\n",
    "\n",
    "plot"
   ]
  },
  {
   "cell_type": "code",
   "execution_count": null,
   "id": "a2064d9a",
   "metadata": {},
   "outputs": [],
   "source": [
    "plot = ggplot(percentile_data, aes(x=f'{heading1}_pagerank', y=f'{heading2}_pagerank', \n",
    "              color=f'{heading1}-{heading2}'))\n",
    "plot += geom_point()\n",
    "plot += scale_x_log10()\n",
    "plot += scale_y_log10()\n",
    "plot += ggtitle(f'{heading1} vs {heading2} pageranks')\n",
    "plot += scale_color_gradient2(low='red', mid='white', high='blue')\n",
    "plot += theme_dark()\n",
    "\n",
    "plot"
   ]
  },
  {
   "cell_type": "code",
   "execution_count": null,
   "id": "4170f0a9",
   "metadata": {},
   "outputs": [],
   "source": [
    "heading1 = 'immunochemistry'\n",
    "heading2 = 'anatomy'\n",
    "percentile_data = load_percentile_data(heading1, heading2, base_dir='../viz_dataframes')\n",
    "percentile_data.sort_values(by='immunochemistry-anatomy')"
   ]
  },
  {
   "cell_type": "code",
   "execution_count": null,
   "id": "02cf75eb",
   "metadata": {},
   "outputs": [],
   "source": [
    "plot = ggplot(percentile_data, aes(x=f'{heading1}_pagerank', y=f'{heading2}_pagerank',))\n",
    "plot += geom_bin2d()\n",
    "plot += scale_x_log10()\n",
    "plot += scale_y_log10()\n",
    "plot += ggtitle(f'{heading1} vs {heading2} pageranks')\n",
    "plot += scale_fill_gradient(trans='log')\n",
    "plot += theme_dark()\n",
    "\n",
    "plot"
   ]
  },
  {
   "cell_type": "code",
   "execution_count": null,
   "id": "97939f48",
   "metadata": {},
   "outputs": [],
   "source": [
    "plot = ggplot(percentile_data, aes(x=f'{heading1}_pagerank', y=f'{heading2}_pagerank', \n",
    "              color=f'{heading1}-{heading2}'))\n",
    "plot += geom_point()\n",
    "plot += scale_x_log10()\n",
    "plot += scale_y_log10()\n",
    "plot += ggtitle(f'{heading1} vs {heading2} pageranks')\n",
    "plot += scale_color_gradient2(low='red', mid='white', high='blue')\n",
    "plot += theme_dark()\n",
    "\n",
    "plot"
   ]
  },
  {
   "cell_type": "markdown",
   "id": "27ac6526",
   "metadata": {},
   "source": [
    "## Plotly plots"
   ]
  },
  {
   "cell_type": "code",
   "execution_count": null,
   "id": "8377633f",
   "metadata": {},
   "outputs": [],
   "source": [
    "heading1 = 'nanotechnology'\n",
    "heading2 = 'microscopy'\n",
    "percentile_data = load_percentile_data(heading1, heading2, base_dir='../viz_dataframes')\n",
    "percentile_data.sort_values(by='nanotechnology-microscopy')"
   ]
  },
  {
   "cell_type": "code",
   "execution_count": null,
   "id": "a2a78ad6",
   "metadata": {},
   "outputs": [],
   "source": [
    "plot = px.scatter(percentile_data, x=f'{heading1}_pagerank', y=f'{heading2}_pagerank', log_x=True, log_y=True,\n",
    "                 opacity=1, color=f'{heading1}-{heading2}', color_continuous_scale='oxy', hover_data=['doi', 'title'],\n",
    "                 title=f'Relative importance of papers in {heading1} and {heading2}',)\n",
    "plot"
   ]
  },
  {
   "cell_type": "code",
   "execution_count": null,
   "id": "1a13b916",
   "metadata": {},
   "outputs": [],
   "source": [
    "largest_dois = set(percentile_data.nlargest(5, 'nanotechnology-microscopy')['doi'])\n",
    "percentile_data['top_five'] = percentile_data['doi'].isin(largest_dois)"
   ]
  },
  {
   "cell_type": "code",
   "execution_count": null,
   "id": "c1c47448",
   "metadata": {},
   "outputs": [],
   "source": [
    "plot = px.scatter(percentile_data, x=f'{heading1}_pagerank', y=f'{heading2}_pagerank', log_x=True, log_y=True,\n",
    "                 opacity=1, color='top_five', hover_data=['doi', 'title'],\n",
    "                 title=f'Relative importance of papers in {heading1} and {heading2}',)\n",
    "plot"
   ]
  },
  {
   "cell_type": "code",
   "execution_count": null,
   "id": "ee55682f",
   "metadata": {},
   "outputs": [],
   "source": [
    "main_data = percentile_data[percentile_data['nanotechnology_pagerank'] > 0.000015]\n",
    "smallest_dois = set(main_data.nsmallest(5, 'nanotechnology-microscopy')['doi'])\n",
    "percentile_data['bot_five'] = percentile_data['doi'].isin(smallest_dois)"
   ]
  },
  {
   "cell_type": "code",
   "execution_count": null,
   "id": "3530c93b",
   "metadata": {
    "scrolled": true
   },
   "outputs": [],
   "source": [
    "plot = px.scatter(percentile_data, x=f'{heading1}_pagerank', y=f'{heading2}_pagerank', log_x=True, log_y=True,\n",
    "                 opacity=1, color='bot_five', hover_data=['doi', 'title'],\n",
    "                 title=f'Relative importance of papers in {heading1} and {heading2}',)\n",
    "plot"
   ]
  },
  {
   "cell_type": "code",
   "execution_count": null,
   "id": "5eda3910",
   "metadata": {},
   "outputs": [],
   "source": [
    "heading1 = 'immunochemistry'\n",
    "heading2 = 'anatomy'\n",
    "percentile_data = load_percentile_data(heading1, heading2, base_dir='../viz_dataframes')\n",
    "percentile_data.sort_values(by=f'{heading1}-{heading2}')"
   ]
  },
  {
   "cell_type": "code",
   "execution_count": null,
   "id": "4c744b11",
   "metadata": {},
   "outputs": [],
   "source": [
    "plot = px.scatter(percentile_data, x=f'{heading1}_pagerank', y=f'{heading2}_pagerank', log_x=True, log_y=True,\n",
    "                  opacity=1, color=f'{heading1}-{heading2}', color_continuous_scale='oxy', hover_data=['doi', 'title'],\n",
    "                  title=f'Relative importance of papers in {heading1} and {heading2}',)\n",
    "plot"
   ]
  },
  {
   "cell_type": "code",
   "execution_count": null,
   "id": "fcfc5c02",
   "metadata": {},
   "outputs": [],
   "source": [
    "heading1 = 'proteomics'\n",
    "heading2 = 'metabolomics'\n",
    "percentile_data = load_percentile_data(heading1, heading2, base_dir='../viz_dataframes')\n",
    "percentile_data.sort_values(by=f'{heading1}-{heading2}')"
   ]
  },
  {
   "cell_type": "code",
   "execution_count": null,
   "id": "3227b6ef",
   "metadata": {
    "scrolled": true
   },
   "outputs": [],
   "source": [
    "plot = px.scatter(percentile_data, x=f'{heading1}_pagerank', y=f'{heading2}_pagerank', log_x=True, log_y=True,\n",
    "                 opacity=1, color=f'{heading1}-{heading2}', color_continuous_scale='oxy', hover_data=['doi', 'title'],\n",
    "                 title=f'Relative importance of papers in {heading1} and {heading2}',)\n",
    "plot"
   ]
  },
  {
   "cell_type": "markdown",
   "id": "525325c6",
   "metadata": {},
   "source": [
    "## Pairwise difference ranks"
   ]
  },
  {
   "cell_type": "code",
   "execution_count": null,
   "id": "f0896fe1",
   "metadata": {},
   "outputs": [],
   "source": []
  }
 ],
 "metadata": {
  "kernelspec": {
   "display_name": "Python 3 (ipykernel)",
   "language": "python",
   "name": "python3"
  },
  "language_info": {
   "codemirror_mode": {
    "name": "ipython",
    "version": 3
   },
   "file_extension": ".py",
   "mimetype": "text/x-python",
   "name": "python",
   "nbconvert_exporter": "python",
   "pygments_lexer": "ipython3",
   "version": "3.10.4"
  }
 },
 "nbformat": 4,
 "nbformat_minor": 5
}
