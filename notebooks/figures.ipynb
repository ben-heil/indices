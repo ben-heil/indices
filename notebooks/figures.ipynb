{
 "cells": [
  {
   "cell_type": "markdown",
   "id": "43aba320",
   "metadata": {},
   "source": [
    "# Figures\n",
    "Visualize the results of the analyses for the indices paper"
   ]
  },
  {
   "cell_type": "code",
   "execution_count": 1,
   "id": "c7d40740",
   "metadata": {},
   "outputs": [],
   "source": [
    "import os\n",
    "import pickle as pkl\n",
    "import string\n",
    "import sys\n",
    "from glob import glob\n",
    "\n",
    "import numpy as np\n",
    "import pandas as pd\n",
    "import plotly.express as px\n",
    "import seaborn as sns\n",
    "import svgutils.transform as sg\n",
    "import umap\n",
    "from plotnine import *\n",
    "from matplotlib import pyplot as plt\n",
    "from scipy.cluster.hierarchy import dendrogram\n",
    "from sklearn.cluster import AgglomerativeClustering\n",
    "from svgutils.compose import SVG, Figure, Panel, Text\n",
    "from tqdm import tqdm\n",
    "\n",
    "sys.path.append('../indices')\n",
    "from utils import load_percentile_data, load_journal_data, load_single_heading, parse_metadata"
   ]
  },
  {
   "cell_type": "code",
   "execution_count": 2,
   "id": "ecc50c0e",
   "metadata": {},
   "outputs": [],
   "source": [
    "headings = [('nanotechnology', 'microscopy'), ('immunochemistry', 'anatomy'), \n",
    "            ('proteomics', 'metabolomics'), ('computational_biology', 'human_genetics')]"
   ]
  },
  {
   "cell_type": "code",
   "execution_count": 3,
   "id": "5031693f",
   "metadata": {},
   "outputs": [
    {
     "name": "stderr",
     "output_type": "stream",
     "text": [
      "/home/heil/anaconda3/envs/indices/lib/python3.10/site-packages/plotnine/ggplot.py:718: PlotnineWarning: Saving 6.4 x 4.8 in image.\n",
      "/home/heil/anaconda3/envs/indices/lib/python3.10/site-packages/plotnine/ggplot.py:719: PlotnineWarning: Filename: ../figures/nanotechnology-microscopy-hist.svg\n",
      "/home/heil/anaconda3/envs/indices/lib/python3.10/site-packages/plotnine/stats/stat_bin.py:95: PlotnineWarning: 'stat_bin()' using 'bins = 41'. Pick better value with 'binwidth'.\n",
      "/home/heil/anaconda3/envs/indices/lib/python3.10/site-packages/plotnine/ggplot.py:718: PlotnineWarning: Saving 6.4 x 4.8 in image.\n",
      "/home/heil/anaconda3/envs/indices/lib/python3.10/site-packages/plotnine/ggplot.py:719: PlotnineWarning: Filename: ../figures/nanotechnology-microscopy-heatmap.svg\n"
     ]
    },
    {
     "ename": "KeyboardInterrupt",
     "evalue": "",
     "output_type": "error",
     "traceback": [
      "\u001b[0;31m---------------------------------------------------------------------------\u001b[0m",
      "\u001b[0;31mKeyboardInterrupt\u001b[0m                         Traceback (most recent call last)",
      "Input \u001b[0;32mIn [3]\u001b[0m, in \u001b[0;36m<cell line: 1>\u001b[0;34m()\u001b[0m\n\u001b[1;32m     28\u001b[0m plot \u001b[38;5;241m+\u001b[39m\u001b[38;5;241m=\u001b[39m scale_fill_gradient(trans\u001b[38;5;241m=\u001b[39m\u001b[38;5;124m'\u001b[39m\u001b[38;5;124mlog\u001b[39m\u001b[38;5;124m'\u001b[39m)\n\u001b[1;32m     29\u001b[0m plot \u001b[38;5;241m+\u001b[39m\u001b[38;5;241m=\u001b[39m theme_classic()\n\u001b[0;32m---> 31\u001b[0m ggsave(plot, \u001b[38;5;124mf\u001b[39m\u001b[38;5;124m'\u001b[39m\u001b[38;5;124m../figures/\u001b[39m\u001b[38;5;132;01m{\u001b[39;00mheading1\u001b[38;5;132;01m}\u001b[39;00m\u001b[38;5;124m-\u001b[39m\u001b[38;5;132;01m{\u001b[39;00mheading2\u001b[38;5;132;01m}\u001b[39;00m\u001b[38;5;124m-heatmap.svg\u001b[39m\u001b[38;5;124m'\u001b[39m)\n\u001b[1;32m     33\u001b[0m plot \u001b[38;5;241m=\u001b[39m ggplot(percentile_data, aes(x\u001b[38;5;241m=\u001b[39m\u001b[38;5;124mf\u001b[39m\u001b[38;5;124m'\u001b[39m\u001b[38;5;132;01m{\u001b[39;00mheading1\u001b[38;5;132;01m}\u001b[39;00m\u001b[38;5;124m_pagerank\u001b[39m\u001b[38;5;124m'\u001b[39m, y\u001b[38;5;241m=\u001b[39m\u001b[38;5;124mf\u001b[39m\u001b[38;5;124m'\u001b[39m\u001b[38;5;132;01m{\u001b[39;00mheading2\u001b[38;5;132;01m}\u001b[39;00m\u001b[38;5;124m_pagerank\u001b[39m\u001b[38;5;124m'\u001b[39m, \n\u001b[1;32m     34\u001b[0m           color\u001b[38;5;241m=\u001b[39m\u001b[38;5;124mf\u001b[39m\u001b[38;5;124m'\u001b[39m\u001b[38;5;132;01m{\u001b[39;00mheading1\u001b[38;5;132;01m}\u001b[39;00m\u001b[38;5;124m-\u001b[39m\u001b[38;5;132;01m{\u001b[39;00mheading2\u001b[38;5;132;01m}\u001b[39;00m\u001b[38;5;124m'\u001b[39m))\n\u001b[1;32m     35\u001b[0m plot \u001b[38;5;241m+\u001b[39m\u001b[38;5;241m=\u001b[39m geom_point()\n",
      "File \u001b[0;32m~/anaconda3/envs/indices/lib/python3.10/site-packages/plotnine/ggplot.py:736\u001b[0m, in \u001b[0;36mggsave\u001b[0;34m(plot, *arg, **kwargs)\u001b[0m\n\u001b[1;32m    730\u001b[0m \u001b[38;5;28;01mdef\u001b[39;00m \u001b[38;5;21mggsave\u001b[39m(plot, \u001b[38;5;241m*\u001b[39marg, \u001b[38;5;241m*\u001b[39m\u001b[38;5;241m*\u001b[39mkwargs):\n\u001b[1;32m    731\u001b[0m     \u001b[38;5;124;03m\"\"\"\u001b[39;00m\n\u001b[1;32m    732\u001b[0m \u001b[38;5;124;03m    Save a ggplot object as an image file\u001b[39;00m\n\u001b[1;32m    733\u001b[0m \n\u001b[1;32m    734\u001b[0m \u001b[38;5;124;03m    Use :meth:`ggplot.save` instead\u001b[39;00m\n\u001b[1;32m    735\u001b[0m \u001b[38;5;124;03m    \"\"\"\u001b[39;00m\n\u001b[0;32m--> 736\u001b[0m     \u001b[38;5;28;01mreturn\u001b[39;00m \u001b[43mplot\u001b[49m\u001b[38;5;241;43m.\u001b[39;49m\u001b[43msave\u001b[49m\u001b[43m(\u001b[49m\u001b[38;5;241;43m*\u001b[39;49m\u001b[43marg\u001b[49m\u001b[43m,\u001b[49m\u001b[43m \u001b[49m\u001b[38;5;241;43m*\u001b[39;49m\u001b[38;5;241;43m*\u001b[39;49m\u001b[43mkwargs\u001b[49m\u001b[43m)\u001b[49m\n",
      "File \u001b[0;32m~/anaconda3/envs/indices/lib/python3.10/site-packages/plotnine/ggplot.py:724\u001b[0m, in \u001b[0;36mggplot.save\u001b[0;34m(self, filename, format, path, width, height, units, dpi, limitsize, verbose, **kwargs)\u001b[0m\n\u001b[1;32m    721\u001b[0m \u001b[38;5;28;01mif\u001b[39;00m dpi \u001b[38;5;129;01mis\u001b[39;00m \u001b[38;5;129;01mnot\u001b[39;00m \u001b[38;5;28;01mNone\u001b[39;00m:\n\u001b[1;32m    722\u001b[0m     \u001b[38;5;28mself\u001b[39m\u001b[38;5;241m.\u001b[39mtheme \u001b[38;5;241m=\u001b[39m \u001b[38;5;28mself\u001b[39m\u001b[38;5;241m.\u001b[39mtheme \u001b[38;5;241m+\u001b[39m theme(dpi\u001b[38;5;241m=\u001b[39mdpi)\n\u001b[0;32m--> 724\u001b[0m fig, p \u001b[38;5;241m=\u001b[39m \u001b[38;5;28;43mself\u001b[39;49m\u001b[38;5;241;43m.\u001b[39;49m\u001b[43mdraw\u001b[49m\u001b[43m(\u001b[49m\u001b[43mreturn_ggplot\u001b[49m\u001b[38;5;241;43m=\u001b[39;49m\u001b[38;5;28;43;01mTrue\u001b[39;49;00m\u001b[43m)\u001b[49m\n\u001b[1;32m    725\u001b[0m \u001b[38;5;28;01mwith\u001b[39;00m plot_context(p):\n\u001b[1;32m    726\u001b[0m     fig\u001b[38;5;241m.\u001b[39msavefig(filename, \u001b[38;5;241m*\u001b[39m\u001b[38;5;241m*\u001b[39mfig_kwargs)\n",
      "File \u001b[0;32m~/anaconda3/envs/indices/lib/python3.10/site-packages/plotnine/ggplot.py:214\u001b[0m, in \u001b[0;36mggplot.draw\u001b[0;34m(self, return_ggplot, show)\u001b[0m\n\u001b[1;32m    212\u001b[0m \u001b[38;5;28mself\u001b[39m\u001b[38;5;241m.\u001b[39m_draw_layers()\n\u001b[1;32m    213\u001b[0m \u001b[38;5;28mself\u001b[39m\u001b[38;5;241m.\u001b[39m_draw_labels()\n\u001b[0;32m--> 214\u001b[0m \u001b[38;5;28;43mself\u001b[39;49m\u001b[38;5;241;43m.\u001b[39;49m\u001b[43m_draw_breaks_and_labels\u001b[49m\u001b[43m(\u001b[49m\u001b[43m)\u001b[49m\n\u001b[1;32m    215\u001b[0m \u001b[38;5;28mself\u001b[39m\u001b[38;5;241m.\u001b[39m_draw_legend()\n\u001b[1;32m    216\u001b[0m \u001b[38;5;28mself\u001b[39m\u001b[38;5;241m.\u001b[39m_draw_title()\n",
      "File \u001b[0;32m~/anaconda3/envs/indices/lib/python3.10/site-packages/plotnine/ggplot.py:406\u001b[0m, in \u001b[0;36mggplot._draw_breaks_and_labels\u001b[0;34m(self)\u001b[0m\n\u001b[1;32m    404\u001b[0m ax \u001b[38;5;241m=\u001b[39m \u001b[38;5;28mself\u001b[39m\u001b[38;5;241m.\u001b[39maxs[pidx]\n\u001b[1;32m    405\u001b[0m panel_params \u001b[38;5;241m=\u001b[39m \u001b[38;5;28mself\u001b[39m\u001b[38;5;241m.\u001b[39mlayout\u001b[38;5;241m.\u001b[39mpanel_params[pidx]\n\u001b[0;32m--> 406\u001b[0m \u001b[38;5;28;43mself\u001b[39;49m\u001b[38;5;241;43m.\u001b[39;49m\u001b[43mfacet\u001b[49m\u001b[38;5;241;43m.\u001b[39;49m\u001b[43mset_limits_breaks_and_labels\u001b[49m\u001b[43m(\u001b[49m\u001b[43mpanel_params\u001b[49m\u001b[43m,\u001b[49m\u001b[43m \u001b[49m\u001b[43max\u001b[49m\u001b[43m)\u001b[49m\n\u001b[1;32m    408\u001b[0m \u001b[38;5;66;03m# Remove unnecessary ticks and labels\u001b[39;00m\n\u001b[1;32m    409\u001b[0m \u001b[38;5;28;01mif\u001b[39;00m \u001b[38;5;129;01mnot\u001b[39;00m layout_info[\u001b[38;5;124m'\u001b[39m\u001b[38;5;124mAXIS_X\u001b[39m\u001b[38;5;124m'\u001b[39m]:\n",
      "File \u001b[0;32m~/anaconda3/envs/indices/lib/python3.10/site-packages/plotnine/facets/facet.py:276\u001b[0m, in \u001b[0;36mfacet.set_limits_breaks_and_labels\u001b[0;34m(self, panel_params, ax)\u001b[0m\n\u001b[1;32m    273\u001b[0m ax\u001b[38;5;241m.\u001b[39mset_yticks(panel_params\u001b[38;5;241m.\u001b[39my\u001b[38;5;241m.\u001b[39mbreaks, panel_params\u001b[38;5;241m.\u001b[39my\u001b[38;5;241m.\u001b[39mlabels)\n\u001b[1;32m    275\u001b[0m \u001b[38;5;66;03m# minor breaks\u001b[39;00m\n\u001b[0;32m--> 276\u001b[0m \u001b[43max\u001b[49m\u001b[38;5;241;43m.\u001b[39;49m\u001b[43mset_xticks\u001b[49m\u001b[43m(\u001b[49m\u001b[43mpanel_params\u001b[49m\u001b[38;5;241;43m.\u001b[39;49m\u001b[43mx\u001b[49m\u001b[38;5;241;43m.\u001b[39;49m\u001b[43mminor_breaks\u001b[49m\u001b[43m,\u001b[49m\u001b[43m \u001b[49m\u001b[43mminor\u001b[49m\u001b[38;5;241;43m=\u001b[39;49m\u001b[38;5;28;43;01mTrue\u001b[39;49;00m\u001b[43m)\u001b[49m\n\u001b[1;32m    277\u001b[0m ax\u001b[38;5;241m.\u001b[39mset_yticks(panel_params\u001b[38;5;241m.\u001b[39my\u001b[38;5;241m.\u001b[39mminor_breaks, minor\u001b[38;5;241m=\u001b[39m\u001b[38;5;28;01mTrue\u001b[39;00m)\n\u001b[1;32m    279\u001b[0m \u001b[38;5;66;03m# When you manually set the tick labels MPL changes the locator\u001b[39;00m\n\u001b[1;32m    280\u001b[0m \u001b[38;5;66;03m# so that it no longer reports the x & y positions\u001b[39;00m\n\u001b[1;32m    281\u001b[0m \u001b[38;5;66;03m# Fixes https://github.com/has2k1/plotnine/issues/187\u001b[39;00m\n",
      "File \u001b[0;32m~/anaconda3/envs/indices/lib/python3.10/site-packages/matplotlib/axes/_base.py:75\u001b[0m, in \u001b[0;36m_axis_method_wrapper.__set_name__.<locals>.wrapper\u001b[0;34m(self, *args, **kwargs)\u001b[0m\n\u001b[1;32m     74\u001b[0m \u001b[38;5;28;01mdef\u001b[39;00m \u001b[38;5;21mwrapper\u001b[39m(\u001b[38;5;28mself\u001b[39m, \u001b[38;5;241m*\u001b[39margs, \u001b[38;5;241m*\u001b[39m\u001b[38;5;241m*\u001b[39mkwargs):\n\u001b[0;32m---> 75\u001b[0m     \u001b[38;5;28;01mreturn\u001b[39;00m \u001b[43mget_method\u001b[49m\u001b[43m(\u001b[49m\u001b[38;5;28;43mself\u001b[39;49m\u001b[43m)\u001b[49m\u001b[43m(\u001b[49m\u001b[38;5;241;43m*\u001b[39;49m\u001b[43margs\u001b[49m\u001b[43m,\u001b[49m\u001b[43m \u001b[49m\u001b[38;5;241;43m*\u001b[39;49m\u001b[38;5;241;43m*\u001b[39;49m\u001b[43mkwargs\u001b[49m\u001b[43m)\u001b[49m\n",
      "File \u001b[0;32m~/anaconda3/envs/indices/lib/python3.10/site-packages/matplotlib/axis.py:1855\u001b[0m, in \u001b[0;36mAxis.set_ticks\u001b[0;34m(self, ticks, labels, minor, **kwargs)\u001b[0m\n\u001b[1;32m   1829\u001b[0m \u001b[38;5;28;01mdef\u001b[39;00m \u001b[38;5;21mset_ticks\u001b[39m(\u001b[38;5;28mself\u001b[39m, ticks, labels\u001b[38;5;241m=\u001b[39m\u001b[38;5;28;01mNone\u001b[39;00m, \u001b[38;5;241m*\u001b[39m, minor\u001b[38;5;241m=\u001b[39m\u001b[38;5;28;01mFalse\u001b[39;00m, \u001b[38;5;241m*\u001b[39m\u001b[38;5;241m*\u001b[39mkwargs):\n\u001b[1;32m   1830\u001b[0m     \u001b[38;5;124;03m\"\"\"\u001b[39;00m\n\u001b[1;32m   1831\u001b[0m \u001b[38;5;124;03m    Set this Axis' tick locations and optionally labels.\u001b[39;00m\n\u001b[1;32m   1832\u001b[0m \n\u001b[0;32m   (...)\u001b[0m\n\u001b[1;32m   1853\u001b[0m \u001b[38;5;124;03m    ticks.\u001b[39;00m\n\u001b[1;32m   1854\u001b[0m \u001b[38;5;124;03m    \"\"\"\u001b[39;00m\n\u001b[0;32m-> 1855\u001b[0m     result \u001b[38;5;241m=\u001b[39m \u001b[38;5;28;43mself\u001b[39;49m\u001b[38;5;241;43m.\u001b[39;49m\u001b[43m_set_tick_locations\u001b[49m\u001b[43m(\u001b[49m\u001b[43mticks\u001b[49m\u001b[43m,\u001b[49m\u001b[43m \u001b[49m\u001b[43mminor\u001b[49m\u001b[38;5;241;43m=\u001b[39;49m\u001b[43mminor\u001b[49m\u001b[43m)\u001b[49m\n\u001b[1;32m   1856\u001b[0m     \u001b[38;5;28;01mif\u001b[39;00m labels \u001b[38;5;129;01mis\u001b[39;00m \u001b[38;5;129;01mnot\u001b[39;00m \u001b[38;5;28;01mNone\u001b[39;00m:\n\u001b[1;32m   1857\u001b[0m         \u001b[38;5;28mself\u001b[39m\u001b[38;5;241m.\u001b[39mset_ticklabels(labels, minor\u001b[38;5;241m=\u001b[39mminor, \u001b[38;5;241m*\u001b[39m\u001b[38;5;241m*\u001b[39mkwargs)\n",
      "File \u001b[0;32m~/anaconda3/envs/indices/lib/python3.10/site-packages/matplotlib/axis.py:1824\u001b[0m, in \u001b[0;36mAxis._set_tick_locations\u001b[0;34m(self, ticks, minor)\u001b[0m\n\u001b[1;32m   1822\u001b[0m \u001b[38;5;28;01mif\u001b[39;00m minor:\n\u001b[1;32m   1823\u001b[0m     \u001b[38;5;28mself\u001b[39m\u001b[38;5;241m.\u001b[39mset_minor_locator(mticker\u001b[38;5;241m.\u001b[39mFixedLocator(ticks))\n\u001b[0;32m-> 1824\u001b[0m     \u001b[38;5;28;01mreturn\u001b[39;00m \u001b[38;5;28;43mself\u001b[39;49m\u001b[38;5;241;43m.\u001b[39;49m\u001b[43mget_minor_ticks\u001b[49m\u001b[43m(\u001b[49m\u001b[38;5;28;43mlen\u001b[39;49m\u001b[43m(\u001b[49m\u001b[43mticks\u001b[49m\u001b[43m)\u001b[49m\u001b[43m)\u001b[49m\n\u001b[1;32m   1825\u001b[0m \u001b[38;5;28;01melse\u001b[39;00m:\n\u001b[1;32m   1826\u001b[0m     \u001b[38;5;28mself\u001b[39m\u001b[38;5;241m.\u001b[39mset_major_locator(mticker\u001b[38;5;241m.\u001b[39mFixedLocator(ticks))\n",
      "File \u001b[0;32m~/anaconda3/envs/indices/lib/python3.10/site-packages/matplotlib/axis.py:1388\u001b[0m, in \u001b[0;36mAxis.get_minor_ticks\u001b[0;34m(self, numticks)\u001b[0m\n\u001b[1;32m   1384\u001b[0m     numticks \u001b[38;5;241m=\u001b[39m \u001b[38;5;28mlen\u001b[39m(\u001b[38;5;28mself\u001b[39m\u001b[38;5;241m.\u001b[39mget_minorticklocs())\n\u001b[1;32m   1386\u001b[0m \u001b[38;5;28;01mwhile\u001b[39;00m \u001b[38;5;28mlen\u001b[39m(\u001b[38;5;28mself\u001b[39m\u001b[38;5;241m.\u001b[39mminorTicks) \u001b[38;5;241m<\u001b[39m numticks:\n\u001b[1;32m   1387\u001b[0m     \u001b[38;5;66;03m# Update the new tick label properties from the old.\u001b[39;00m\n\u001b[0;32m-> 1388\u001b[0m     tick \u001b[38;5;241m=\u001b[39m \u001b[38;5;28;43mself\u001b[39;49m\u001b[38;5;241;43m.\u001b[39;49m\u001b[43m_get_tick\u001b[49m\u001b[43m(\u001b[49m\u001b[43mmajor\u001b[49m\u001b[38;5;241;43m=\u001b[39;49m\u001b[38;5;28;43;01mFalse\u001b[39;49;00m\u001b[43m)\u001b[49m\n\u001b[1;32m   1389\u001b[0m     \u001b[38;5;28mself\u001b[39m\u001b[38;5;241m.\u001b[39mminorTicks\u001b[38;5;241m.\u001b[39mappend(tick)\n\u001b[1;32m   1390\u001b[0m     \u001b[38;5;28mself\u001b[39m\u001b[38;5;241m.\u001b[39m_copy_tick_props(\u001b[38;5;28mself\u001b[39m\u001b[38;5;241m.\u001b[39mminorTicks[\u001b[38;5;241m0\u001b[39m], tick)\n",
      "File \u001b[0;32m~/anaconda3/envs/indices/lib/python3.10/site-packages/matplotlib/axis.py:2057\u001b[0m, in \u001b[0;36mXAxis._get_tick\u001b[0;34m(self, major)\u001b[0m\n\u001b[1;32m   2055\u001b[0m \u001b[38;5;28;01melse\u001b[39;00m:\n\u001b[1;32m   2056\u001b[0m     tick_kw \u001b[38;5;241m=\u001b[39m \u001b[38;5;28mself\u001b[39m\u001b[38;5;241m.\u001b[39m_minor_tick_kw\n\u001b[0;32m-> 2057\u001b[0m \u001b[38;5;28;01mreturn\u001b[39;00m \u001b[43mXTick\u001b[49m\u001b[43m(\u001b[49m\u001b[38;5;28;43mself\u001b[39;49m\u001b[38;5;241;43m.\u001b[39;49m\u001b[43maxes\u001b[49m\u001b[43m,\u001b[49m\u001b[43m \u001b[49m\u001b[38;5;241;43m0\u001b[39;49m\u001b[43m,\u001b[49m\u001b[43m \u001b[49m\u001b[43mmajor\u001b[49m\u001b[38;5;241;43m=\u001b[39;49m\u001b[43mmajor\u001b[49m\u001b[43m,\u001b[49m\u001b[43m \u001b[49m\u001b[38;5;241;43m*\u001b[39;49m\u001b[38;5;241;43m*\u001b[39;49m\u001b[43mtick_kw\u001b[49m\u001b[43m)\u001b[49m\n",
      "File \u001b[0;32m~/anaconda3/envs/indices/lib/python3.10/site-packages/matplotlib/axis.py:431\u001b[0m, in \u001b[0;36mXTick.__init__\u001b[0;34m(self, *args, **kwargs)\u001b[0m\n\u001b[1;32m    426\u001b[0m \u001b[38;5;28mself\u001b[39m\u001b[38;5;241m.\u001b[39mlabel1\u001b[38;5;241m.\u001b[39mset(\n\u001b[1;32m    427\u001b[0m     x\u001b[38;5;241m=\u001b[39m\u001b[38;5;241m0\u001b[39m, y\u001b[38;5;241m=\u001b[39m\u001b[38;5;241m0\u001b[39m,\n\u001b[1;32m    428\u001b[0m     verticalalignment\u001b[38;5;241m=\u001b[39mva, horizontalalignment\u001b[38;5;241m=\u001b[39mha, transform\u001b[38;5;241m=\u001b[39mtrans,\n\u001b[1;32m    429\u001b[0m )\n\u001b[1;32m    430\u001b[0m trans, va, ha \u001b[38;5;241m=\u001b[39m \u001b[38;5;28mself\u001b[39m\u001b[38;5;241m.\u001b[39m_get_text2_transform()\n\u001b[0;32m--> 431\u001b[0m \u001b[38;5;28;43mself\u001b[39;49m\u001b[38;5;241;43m.\u001b[39;49m\u001b[43mlabel2\u001b[49m\u001b[38;5;241;43m.\u001b[39;49m\u001b[43mset\u001b[49m\u001b[43m(\u001b[49m\n\u001b[1;32m    432\u001b[0m \u001b[43m    \u001b[49m\u001b[43mx\u001b[49m\u001b[38;5;241;43m=\u001b[39;49m\u001b[38;5;241;43m0\u001b[39;49m\u001b[43m,\u001b[49m\u001b[43m \u001b[49m\u001b[43my\u001b[49m\u001b[38;5;241;43m=\u001b[39;49m\u001b[38;5;241;43m1\u001b[39;49m\u001b[43m,\u001b[49m\n\u001b[1;32m    433\u001b[0m \u001b[43m    \u001b[49m\u001b[43mverticalalignment\u001b[49m\u001b[38;5;241;43m=\u001b[39;49m\u001b[43mva\u001b[49m\u001b[43m,\u001b[49m\u001b[43m \u001b[49m\u001b[43mhorizontalalignment\u001b[49m\u001b[38;5;241;43m=\u001b[39;49m\u001b[43mha\u001b[49m\u001b[43m,\u001b[49m\u001b[43m \u001b[49m\u001b[43mtransform\u001b[49m\u001b[38;5;241;43m=\u001b[39;49m\u001b[43mtrans\u001b[49m\u001b[43m,\u001b[49m\n\u001b[1;32m    434\u001b[0m \u001b[43m\u001b[49m\u001b[43m)\u001b[49m\n",
      "File \u001b[0;32m~/anaconda3/envs/indices/lib/python3.10/site-packages/matplotlib/artist.py:117\u001b[0m, in \u001b[0;36mArtist.__init_subclass__.<locals>.<lambda>\u001b[0;34m(self, **kwargs)\u001b[0m\n\u001b[1;32m    109\u001b[0m \u001b[38;5;28;01mif\u001b[39;00m \u001b[38;5;129;01mnot\u001b[39;00m \u001b[38;5;28mhasattr\u001b[39m(\u001b[38;5;28mcls\u001b[39m\u001b[38;5;241m.\u001b[39mset, \u001b[38;5;124m'\u001b[39m\u001b[38;5;124m_autogenerated_signature\u001b[39m\u001b[38;5;124m'\u001b[39m):\n\u001b[1;32m    110\u001b[0m     \u001b[38;5;66;03m# Don't overwrite cls.set if the subclass or one of its parents\u001b[39;00m\n\u001b[1;32m    111\u001b[0m     \u001b[38;5;66;03m# has defined a set method set itself.\u001b[39;00m\n\u001b[1;32m    112\u001b[0m     \u001b[38;5;66;03m# If there was no explicit definition, cls.set is inherited from\u001b[39;00m\n\u001b[1;32m    113\u001b[0m     \u001b[38;5;66;03m# the hierarchy of auto-generated set methods, which hold the\u001b[39;00m\n\u001b[1;32m    114\u001b[0m     \u001b[38;5;66;03m# flag _autogenerated_signature.\u001b[39;00m\n\u001b[1;32m    115\u001b[0m     \u001b[38;5;28;01mreturn\u001b[39;00m\n\u001b[0;32m--> 117\u001b[0m \u001b[38;5;28mcls\u001b[39m\u001b[38;5;241m.\u001b[39mset \u001b[38;5;241m=\u001b[39m \u001b[38;5;28;01mlambda\u001b[39;00m \u001b[38;5;28mself\u001b[39m, \u001b[38;5;241m*\u001b[39m\u001b[38;5;241m*\u001b[39mkwargs: \u001b[43mArtist\u001b[49m\u001b[38;5;241;43m.\u001b[39;49m\u001b[43mset\u001b[49m\u001b[43m(\u001b[49m\u001b[38;5;28;43mself\u001b[39;49m\u001b[43m,\u001b[49m\u001b[43m \u001b[49m\u001b[38;5;241;43m*\u001b[39;49m\u001b[38;5;241;43m*\u001b[39;49m\u001b[43mkwargs\u001b[49m\u001b[43m)\u001b[49m\n\u001b[1;32m    118\u001b[0m \u001b[38;5;28mcls\u001b[39m\u001b[38;5;241m.\u001b[39mset\u001b[38;5;241m.\u001b[39m\u001b[38;5;18m__name__\u001b[39m \u001b[38;5;241m=\u001b[39m \u001b[38;5;124m\"\u001b[39m\u001b[38;5;124mset\u001b[39m\u001b[38;5;124m\"\u001b[39m\n\u001b[1;32m    119\u001b[0m \u001b[38;5;28mcls\u001b[39m\u001b[38;5;241m.\u001b[39mset\u001b[38;5;241m.\u001b[39m\u001b[38;5;18m__qualname__\u001b[39m \u001b[38;5;241m=\u001b[39m \u001b[38;5;124mf\u001b[39m\u001b[38;5;124m\"\u001b[39m\u001b[38;5;132;01m{\u001b[39;00m\u001b[38;5;28mcls\u001b[39m\u001b[38;5;241m.\u001b[39m\u001b[38;5;18m__qualname__\u001b[39m\u001b[38;5;132;01m}\u001b[39;00m\u001b[38;5;124m.set\u001b[39m\u001b[38;5;124m\"\u001b[39m\n",
      "File \u001b[0;32m~/anaconda3/envs/indices/lib/python3.10/site-packages/matplotlib/artist.py:1166\u001b[0m, in \u001b[0;36mArtist.set\u001b[0;34m(self, **kwargs)\u001b[0m\n\u001b[1;32m   1162\u001b[0m \u001b[38;5;28;01mdef\u001b[39;00m \u001b[38;5;21mset\u001b[39m(\u001b[38;5;28mself\u001b[39m, \u001b[38;5;241m*\u001b[39m\u001b[38;5;241m*\u001b[39mkwargs):\n\u001b[1;32m   1163\u001b[0m     \u001b[38;5;66;03m# docstring and signature are auto-generated via\u001b[39;00m\n\u001b[1;32m   1164\u001b[0m     \u001b[38;5;66;03m# Artist._update_set_signature_and_docstring() at the end of the\u001b[39;00m\n\u001b[1;32m   1165\u001b[0m     \u001b[38;5;66;03m# module.\u001b[39;00m\n\u001b[0;32m-> 1166\u001b[0m     kwargs \u001b[38;5;241m=\u001b[39m \u001b[43mcbook\u001b[49m\u001b[38;5;241;43m.\u001b[39;49m\u001b[43mnormalize_kwargs\u001b[49m\u001b[43m(\u001b[49m\u001b[43mkwargs\u001b[49m\u001b[43m,\u001b[49m\u001b[43m \u001b[49m\u001b[38;5;28;43mself\u001b[39;49m\u001b[43m)\u001b[49m\n\u001b[1;32m   1167\u001b[0m     \u001b[38;5;28;01mreturn\u001b[39;00m \u001b[38;5;28mself\u001b[39m\u001b[38;5;241m.\u001b[39mupdate(kwargs)\n",
      "File \u001b[0;32m~/anaconda3/envs/indices/lib/python3.10/site-packages/matplotlib/cbook/__init__.py:1698\u001b[0m, in \u001b[0;36mnormalize_kwargs\u001b[0;34m(kw, alias_mapping)\u001b[0m\n\u001b[1;32m   1693\u001b[0m \u001b[38;5;28;01melif\u001b[39;00m (\u001b[38;5;28misinstance\u001b[39m(alias_mapping, \u001b[38;5;28mtype\u001b[39m) \u001b[38;5;129;01mand\u001b[39;00m \u001b[38;5;28missubclass\u001b[39m(alias_mapping, Artist)\n\u001b[1;32m   1694\u001b[0m       \u001b[38;5;129;01mor\u001b[39;00m \u001b[38;5;28misinstance\u001b[39m(alias_mapping, Artist)):\n\u001b[1;32m   1695\u001b[0m     alias_mapping \u001b[38;5;241m=\u001b[39m \u001b[38;5;28mgetattr\u001b[39m(alias_mapping, \u001b[38;5;124m\"\u001b[39m\u001b[38;5;124m_alias_map\u001b[39m\u001b[38;5;124m\"\u001b[39m, {})\n\u001b[1;32m   1697\u001b[0m to_canonical \u001b[38;5;241m=\u001b[39m {alias: canonical\n\u001b[0;32m-> 1698\u001b[0m                 \u001b[38;5;28;01mfor\u001b[39;00m canonical, alias_list \u001b[38;5;129;01min\u001b[39;00m \u001b[43malias_mapping\u001b[49m\u001b[38;5;241;43m.\u001b[39;49m\u001b[43mitems\u001b[49m\u001b[43m(\u001b[49m\u001b[43m)\u001b[49m\n\u001b[1;32m   1699\u001b[0m                 \u001b[38;5;28;01mfor\u001b[39;00m alias \u001b[38;5;129;01min\u001b[39;00m alias_list}\n\u001b[1;32m   1700\u001b[0m canonical_to_seen \u001b[38;5;241m=\u001b[39m {}\n\u001b[1;32m   1701\u001b[0m ret \u001b[38;5;241m=\u001b[39m {}  \u001b[38;5;66;03m# output dictionary\u001b[39;00m\n",
      "\u001b[0;31mKeyboardInterrupt\u001b[0m: "
     ]
    }
   ],
   "source": [
    "for heading1, heading2 in headings:\n",
    "    percentile_data = load_percentile_data(heading1, heading2, base_dir='../viz_dataframes')\n",
    "    \n",
    "    hist_data = percentile_data.melt(id_vars='doi', value_vars=[f'{heading1}_pagerank', f'{heading2}_pagerank'],\n",
    "                                     value_name='PageRank',)\n",
    "    \n",
    "    h1 = string.capwords(heading1.replace('_', ' '))\n",
    "    h2 = string.capwords(heading2.replace('_', ' '))\n",
    "    \n",
    "    new_names = {f'{heading1}_pagerank': f'{h1}',\n",
    "                 f'{heading2}_pagerank': f'{h2}'}\n",
    "    \n",
    "    hist_data['Field'] = hist_data['variable'].map(new_names)\n",
    "        \n",
    "    plot = ggplot(hist_data, aes(x='PageRank', fill='Field'))\n",
    "    plot += geom_histogram(position='identity', alpha=.7)\n",
    "    plot += scale_x_log10()\n",
    "    plot += scale_y_continuous(name='Count')\n",
    "    plot += ggtitle(f'{h1} and {h2} Pagerank Distribution')\n",
    "    plot += theme_classic()\n",
    "    ggsave(plot, f'../figures/{heading1}-{heading2}-hist.svg')\n",
    "\n",
    "    plot = ggplot(percentile_data, aes(x=f'{heading1}_pagerank', y=f'{heading2}_pagerank',))\n",
    "    plot += geom_bin2d()\n",
    "    plot += scale_x_log10(name=f'{h1} Pagerank')\n",
    "    plot += scale_y_log10(name=f'{h2} Pagerank')\n",
    "    plot += ggtitle(f'{h1} vs {h2} Pageranks')\n",
    "    plot += scale_fill_gradient(trans='log')\n",
    "    plot += theme_classic()\n",
    "\n",
    "    ggsave(plot, f'../figures/{heading1}-{heading2}-heatmap.svg')\n",
    "    \n",
    "    plot = ggplot(percentile_data, aes(x=f'{heading1}_pagerank', y=f'{heading2}_pagerank', \n",
    "              color=f'{heading1}-{heading2}'))\n",
    "    plot += geom_point()\n",
    "    plot += scale_x_log10(name=f'{h1} Pagerank')\n",
    "    plot += scale_y_log10(name=f'{h2} Pagerank')\n",
    "    plot += ggtitle(f'{h1} and {h2} Percentile Scores')\n",
    "    plot += scale_color_gradient2(low='purple', mid='#e2e2e2', high='green')\n",
    "    plot += theme_classic()\n",
    "\n",
    "    ggsave(plot, f'../figures/{heading1}-{heading2}-difference.svg')"
   ]
  },
  {
   "cell_type": "markdown",
   "id": "71efeaa1",
   "metadata": {},
   "source": [
    "## Combine histograms"
   ]
  },
  {
   "cell_type": "code",
   "execution_count": null,
   "id": "f0bb233a",
   "metadata": {},
   "outputs": [],
   "source": [
    "plot1 = f'../figures/{headings[0][0]}-{headings[0][1]}-hist.svg'\n",
    "plot2 = f'../figures/{headings[1][0]}-{headings[1][1]}-hist.svg'\n",
    "plot3 = f'../figures/{headings[2][0]}-{headings[2][1]}-hist.svg'\n",
    "plot4 = f'../figures/{headings[3][0]}-{headings[3][1]}-hist.svg'\n",
    "\n",
    "y_2 = 310\n",
    "x_2 = 520\n",
    "\n",
    "fig = Figure(\"160cm\", \"160cm\",\n",
    "       Panel(\n",
    "          SVG(plot1),\n",
    "          Text(\"A\", 0, 40, size=30),\n",
    "          ),\n",
    "       Panel(\n",
    "          SVG(plot2).move(x_2, 0),\n",
    "          Text(\"B\", 20, 40, size=30).move(x_2-20, 0),\n",
    "          ),\n",
    "       Panel(\n",
    "          SVG(plot3).move(0, y_2),\n",
    "          Text(\"C\", 0, 50, size=30).move(0, y_2),\n",
    "          ),\n",
    "       Panel(\n",
    "          SVG(plot4).move(x_2, y_2),\n",
    "          Text(\"D\", 20, 50, size=30).move(x_2-20, y_2),\n",
    "          )\n",
    "       )\n",
    "fig.save('../figures/combined_histogram.svg')"
   ]
  },
  {
   "cell_type": "code",
   "execution_count": null,
   "id": "eff2affd",
   "metadata": {},
   "outputs": [],
   "source": [
    "!inkscape --export-area-drawing -w 1060 -h 636 --export-png=../figures/combined_histogram.png ../figures/combined_histogram.svg -b \"#ffffffff\""
   ]
  },
  {
   "cell_type": "markdown",
   "id": "1f7ae0b3",
   "metadata": {},
   "source": [
    "## Combine heatmaps"
   ]
  },
  {
   "cell_type": "code",
   "execution_count": null,
   "id": "0f912237",
   "metadata": {},
   "outputs": [],
   "source": [
    "plot1 = f'../figures/{headings[0][0]}-{headings[0][1]}-heatmap.svg'\n",
    "plot2 = f'../figures/{headings[1][0]}-{headings[1][1]}-heatmap.svg'\n",
    "plot3 = f'../figures/{headings[2][0]}-{headings[2][1]}-heatmap.svg'\n",
    "plot4 = f'../figures/{headings[3][0]}-{headings[3][1]}-heatmap.svg'\n",
    "\n",
    "y_2 = 325\n",
    "x_2 = 500\n",
    "\n",
    "fig = Figure(\"1007\", \"656\",\n",
    "       Panel(\n",
    "          SVG(plot1),\n",
    "          Text(\"A\", 25, 20, size=30),\n",
    "          ),\n",
    "       Panel(\n",
    "          SVG(plot2).move(x_2, 0),\n",
    "          Text(\"B\", 25, 20, size=30).move(x_2-20, 0),\n",
    "          ),\n",
    "       Panel(\n",
    "          SVG(plot3).move(0, y_2),\n",
    "          Text(\"C\", 25, 20, size=30).move(0, y_2),\n",
    "          ),\n",
    "       Panel(\n",
    "          SVG(plot4).move(x_2, y_2),\n",
    "          Text(\"D\", 25, 20, size=30).move(x_2-20, y_2),\n",
    "          )\n",
    "       )\n",
    "fig.save('../figures/combined_heatmap.svg')"
   ]
  },
  {
   "cell_type": "code",
   "execution_count": null,
   "id": "e1ee986b",
   "metadata": {},
   "outputs": [],
   "source": [
    "!inkscape --export-area-drawing -w 1007 -h 656 --export-png=../figures/combined_heatmap.png ../figures/combined_heatmap.svg -b \"#ffffffff\""
   ]
  },
  {
   "cell_type": "markdown",
   "id": "56b03945",
   "metadata": {},
   "source": [
    "## Combine percentile plots"
   ]
  },
  {
   "cell_type": "code",
   "execution_count": null,
   "id": "ec61bc1a",
   "metadata": {},
   "outputs": [],
   "source": [
    "plot1 = f'../figures/{headings[0][0]}-{headings[0][1]}-difference.svg'\n",
    "plot2 = f'../figures/{headings[1][0]}-{headings[1][1]}-difference.svg'\n",
    "plot3 = f'../figures/{headings[2][0]}-{headings[2][1]}-difference.svg'\n",
    "plot4 = f'../figures/{headings[3][0]}-{headings[3][1]}-difference.svg'\n",
    "\n",
    "y_2 = 325\n",
    "x_2 = 550\n",
    "\n",
    "fig = Figure(\"1007\", \"656\",\n",
    "       Panel(\n",
    "          SVG(plot1),\n",
    "          Text(\"A\", 25, 20, size=30),\n",
    "          ),\n",
    "       Panel(\n",
    "          SVG(plot2).move(x_2, 0),\n",
    "          Text(\"B\", 25, 20, size=30).move(x_2-20, 0),\n",
    "          ),\n",
    "       Panel(\n",
    "          SVG(plot3).move(0, y_2),\n",
    "          Text(\"C\", 25, 20, size=30).move(0, y_2-25),\n",
    "          ),\n",
    "       Panel(\n",
    "          SVG(plot4).move(x_2, y_2),\n",
    "          Text(\"D\", 25, 20, size=30).move(x_2-20, y_2-25),\n",
    "          )\n",
    "       )\n",
    "fig.save('../figures/combined_difference.svg')"
   ]
  },
  {
   "cell_type": "code",
   "execution_count": null,
   "id": "4f656096",
   "metadata": {},
   "outputs": [],
   "source": [
    "# The SVG version is ~150MB due to all the plotted points; we'll convert to a PNG to allow fast loading\n",
    "!inkscape --export-area-drawing -w 1007 -h 656 --export-png=../figures/combined_difference.png ../figures/combined_difference.svg -b \"#ffffffff\""
   ]
  },
  {
   "cell_type": "markdown",
   "id": "2f553d2f",
   "metadata": {},
   "source": [
    "## Build journal plots"
   ]
  },
  {
   "cell_type": "code",
   "execution_count": null,
   "id": "56698d71",
   "metadata": {},
   "outputs": [],
   "source": [
    "with open('../viz_dataframes/journals/nanotechnology-microscopy.pkl', 'rb') as in_file:\n",
    "    nanotech_df = pkl.load(in_file)\n",
    "nanotech_df.head()\n",
    "science_row = nanotech_df[nanotech_df['journal_title'] == 'Science']\n",
    "science_x_loc = science_row['nanotechnology_pagerank']\n",
    "science_y_loc = science_row['microscopy_pagerank']"
   ]
  },
  {
   "cell_type": "code",
   "execution_count": null,
   "id": "1d313c82",
   "metadata": {},
   "outputs": [],
   "source": [
    "plot = ggplot(nanotech_df, aes(x='nanotechnology_pagerank', y='microscopy_pagerank'))\n",
    "plot += geom_point()\n",
    "plot += scale_x_log10()\n",
    "plot += scale_y_log10()\n",
    "plot += ggtitle('Common microscopy/nanotechnology journals')\n",
    "plot += annotate('text', x=science_x_loc - 5e-5, y=science_y_loc, label='Science',)\n",
    "plot += annotate('point', x=science_x_loc, y=science_y_loc, fill='red', size=2, color='red')\n",
    "ggsave(plot, '../figures/microscopy_journals.svg')\n",
    "plot"
   ]
  },
  {
   "cell_type": "code",
   "execution_count": null,
   "id": "7939f189",
   "metadata": {},
   "outputs": [],
   "source": [
    "with open('../viz_dataframes/journals/immunochemistry-anatomy.pkl', 'rb') as in_file:\n",
    "    immunochem_df = pkl.load(in_file)\n",
    "immunochem_df.head()\n",
    "science_row = immunochem_df[immunochem_df['journal_title'] == 'Science']\n",
    "science_x_loc = science_row['immunochemistry_pagerank']\n",
    "science_y_loc = science_row['anatomy_pagerank']"
   ]
  },
  {
   "cell_type": "code",
   "execution_count": null,
   "id": "c637e613",
   "metadata": {},
   "outputs": [],
   "source": [
    "nature_row = immunochem_df[immunochem_df['journal_title'] == 'Nature']\n",
    "nature_x_loc = nature_row['immunochemistry_pagerank']\n",
    "nature_y_loc = nature_row['anatomy_pagerank']"
   ]
  },
  {
   "cell_type": "code",
   "execution_count": null,
   "id": "fa41869c",
   "metadata": {},
   "outputs": [],
   "source": [
    "cell_row = immunochem_df[immunochem_df['journal_title'] == 'Cell']\n",
    "cell_x_loc = cell_row['immunochemistry_pagerank']\n",
    "cell_y_loc = cell_row['anatomy_pagerank']"
   ]
  },
  {
   "cell_type": "code",
   "execution_count": null,
   "id": "9e639cc8",
   "metadata": {},
   "outputs": [],
   "source": [
    "plot = ggplot(immunochem_df, aes(x='immunochemistry_pagerank', y='anatomy_pagerank'))\n",
    "plot += geom_point()\n",
    "plot += scale_x_log10()\n",
    "plot += scale_y_log10()\n",
    "plot += ggtitle('Common immunochemistry/anatomy journals')\n",
    "plot += annotate('text', x=science_x_loc - 1.9e-6, y=science_y_loc, label='Science',)\n",
    "plot += annotate('point', x=science_x_loc, y=science_y_loc, fill='red', size=2, color='red')\n",
    "plot += annotate('text', x=nature_x_loc - 2.7e-6, y=nature_y_loc, label='Nature',)\n",
    "plot += annotate('point', x=nature_x_loc, y=nature_y_loc, fill='red', size=2, color='red')\n",
    "plot += annotate('text', x=cell_x_loc - 1.6e-6, y=cell_y_loc, label='Cell',)\n",
    "plot += annotate('point', x=cell_x_loc, y=cell_y_loc, fill='red', size=2, color='red')\n",
    "ggsave(plot, '../figures/immunochemistry_journals.svg')\n",
    "plot"
   ]
  },
  {
   "cell_type": "markdown",
   "id": "503138d7",
   "metadata": {},
   "source": [
    "## Combine journal plots"
   ]
  },
  {
   "cell_type": "code",
   "execution_count": null,
   "id": "dec6f417",
   "metadata": {},
   "outputs": [],
   "source": [
    "plot1 = f'../figures/microscopy_journals.svg'\n",
    "plot2 = f'../figures/immunochemistry_journals.svg'\n",
    "\n",
    "y_2 = 325\n",
    "x_2 = 415\n",
    "\n",
    "fig = Figure(\"828\", \"331\",\n",
    "       Panel(\n",
    "          SVG(plot1),\n",
    "          Text(\"A\", 25, 20, size=30),\n",
    "          ),\n",
    "       Panel(\n",
    "          SVG(plot2).move(x_2, 0),\n",
    "          Text(\"B\", 25, 20, size=30).move(x_2-20, 0),\n",
    "          ),\n",
    "       )\n",
    "fig.save('../figures/combined_journals.svg')"
   ]
  },
  {
   "cell_type": "code",
   "execution_count": null,
   "id": "7950ce35",
   "metadata": {},
   "outputs": [],
   "source": [
    "# The SVG version is ~150MB due to all the plotted points; we'll convert to a PNG to allow fast loading\n",
    "!inkscape --export-area-drawing -w 828 -h 331 --export-png=../figures/combined_journals.png ../figures/combined_journals.svg -b \"#ffffffff\""
   ]
  },
  {
   "cell_type": "markdown",
   "id": "27fa6d5e",
   "metadata": {},
   "source": [
    "## Create per-field distribution plots"
   ]
  },
  {
   "cell_type": "code",
   "execution_count": null,
   "id": "82a25d48",
   "metadata": {},
   "outputs": [],
   "source": [
    "for heading1, heading2 in headings:\n",
    "    with open(f'../output/{heading1}-{heading2}-pagerank.pkl', 'rb') as in_file:\n",
    "        h1_dict = pkl.load(in_file)\n",
    "        h1_df = pd.DataFrame.from_dict(h1_dict, orient='index', columns=['pagerank'])\n",
    "    with open(f'../output/{heading2}-{heading1}-pagerank.pkl', 'rb') as in_file:\n",
    "        h2_dict = pkl.load(in_file)\n",
    "        h2_df = pd.DataFrame.from_dict(h2_dict, orient='index', columns=['pagerank'])\n",
    "    \n",
    "    h1_text = string.capwords(heading1.replace('_', ' '))\n",
    "    h2_text = string.capwords(heading2.replace('_', ' '))\n",
    "    \n",
    "    plot = ggplot(h1_df, aes(x='pagerank'))\n",
    "    plot += geom_histogram()\n",
    "    plot += ggtitle(f'{h1_text} PageRank Distribution')\n",
    "    plot += scale_x_log10(name='PageRank')\n",
    "    plot += scale_y_continuous(name='Count')\n",
    "    plot += theme_classic()\n",
    "    ggsave(plot, f'../figures/{heading1}-hist.svg')\n",
    "    \n",
    "    plot = ggplot(h2_df, aes(x='pagerank'))\n",
    "    plot += geom_histogram()\n",
    "    plot += ggtitle(f'{h2_text} PageRank Distribution')\n",
    "    plot += scale_x_log10(name='PageRank')\n",
    "    plot += scale_y_continuous(name='Count')\n",
    "    plot += theme_classic()\n",
    "    ggsave(plot, f'../figures/{heading2}-hist.svg')\n",
    "    "
   ]
  },
  {
   "cell_type": "code",
   "execution_count": null,
   "id": "ada22f85",
   "metadata": {},
   "outputs": [],
   "source": [
    "plot1 = f'../figures/{headings[0][0]}-hist.svg'\n",
    "plot5 = f'../figures/{headings[0][1]}-hist.svg'\n",
    "plot2 = f'../figures/{headings[1][0]}-hist.svg'\n",
    "plot6 = f'../figures/{headings[1][1]}-hist.svg'\n",
    "plot3 = f'../figures/{headings[2][0]}-hist.svg'\n",
    "plot7 = f'../figures/{headings[2][1]}-hist.svg'\n",
    "plot4 = f'../figures/{headings[3][0]}-hist.svg'\n",
    "plot8 = f'../figures/{headings[3][1]}-hist.svg'\n",
    "\n",
    "y_2 = 325\n",
    "x_2 = 420\n",
    "x_3 = 840\n",
    "x_4 = 1260\n",
    "\n",
    "fig = Figure(\"1693\", \"654\",\n",
    "       Panel(\n",
    "          SVG(plot1),\n",
    "          Text(\"A\", 0, 30, size=30),\n",
    "          ),\n",
    "       Panel(\n",
    "          SVG(plot2).move(x_2, 0),\n",
    "          Text(\"B\", 20, 30, size=30).move(x_2-20, 0),\n",
    "          ),\n",
    "       Panel(\n",
    "          SVG(plot3).move(x_3, 0),\n",
    "          Text(\"C\", 0, 30, size=30).move(x_3, 0)\n",
    "          ),\n",
    "       Panel(\n",
    "          SVG(plot4).move(x_4, 0),\n",
    "          Text(\"D\", 20, 30, size=30).move(x_4, 0),\n",
    "          ),\n",
    "       Panel(\n",
    "          SVG(plot5).move(0, y_2),\n",
    "          Text(\"E\", 0, 30, size=30).move(0, y_2),\n",
    "          ),\n",
    "       Panel(\n",
    "          SVG(plot6).move(x_2, y_2),\n",
    "          Text(\"F\", 20, 30, size=30).move(x_2-20, y_2),\n",
    "          ),\n",
    "       Panel(\n",
    "          SVG(plot7).move(x_3, y_2),\n",
    "          Text(\"G\", 0, 30, size=30).move(x_3, y_2),\n",
    "          ),\n",
    "       Panel(\n",
    "          SVG(plot8).move(x_4, y_2),\n",
    "          Text(\"H\", 20, 30, size=30).move(x_4, y_2),\n",
    "          ),\n",
    "     )\n",
    "\n",
    "fig.save('../figures/per-field.svg')"
   ]
  },
  {
   "cell_type": "code",
   "execution_count": null,
   "id": "2dd32b29",
   "metadata": {},
   "outputs": [],
   "source": [
    "# The SVG version is ~150MB due to all the plotted points; we'll convert to a PNG to allow fast loading\n",
    "!inkscape  --export-area-drawing -w 1693 -h 654 --export-png=../figures/per-field.png ../figures/per-field.svg -b \"#ffffffff\""
   ]
  },
  {
   "cell_type": "markdown",
   "id": "ff4ecb48",
   "metadata": {},
   "source": [
    "## Specialty journal analysis"
   ]
  },
  {
   "cell_type": "code",
   "execution_count": null,
   "id": "ba0fa274",
   "metadata": {},
   "outputs": [],
   "source": [
    "output_files = glob('../output/*-*-pagerank.pkl')\n",
    "print(len(output_files))"
   ]
  },
  {
   "cell_type": "code",
   "execution_count": null,
   "id": "7be08c3e",
   "metadata": {},
   "outputs": [],
   "source": [
    "journal_info = {'journal': [], 'count': [], 'field': []}\n",
    "headings_seen = set()\n",
    "\n",
    "for file in tqdm(output_files):\n",
    "    heading = os.path.basename(file).split('-')[0]\n",
    "    if heading in headings_seen:\n",
    "        continue\n",
    "    else:\n",
    "        headings_seen.add(heading)\n",
    "    \n",
    "    with open(file, 'rb') as in_file:\n",
    "        heading_dict = pkl.load(in_file)\n",
    "    pagerank_df = pd.DataFrame.from_dict(heading_dict, orient='index', columns=['pagerank'])\n",
    "    pagerank_df = pagerank_df.reset_index()\n",
    "    pagerank_df = pagerank_df.rename({'index': 'doi'}, axis='columns')\n",
    "    \n",
    "    \n",
    "    metadata_path = f'../data/pubmed/efetch/{heading}.xml.xz'\n",
    "    metadata = parse_metadata(metadata_path)\n",
    "    \n",
    "    doi_to_journal = dict(zip(metadata['doi'], metadata['journal']))\n",
    "    \n",
    "    pagerank_df['journal'] = pagerank_df['doi'].map(doi_to_journal)\n",
    "    for journal, count in pagerank_df['journal'].value_counts().iteritems():\n",
    "        journal_info['journal'].append(journal)\n",
    "        journal_info['count'].append(count)\n",
    "        journal_info['field'].append(heading)\n",
    "    \n",
    "# Find count of each journal for full dataset\n",
    "# Set cutoff # of articles for inclusion\n",
    "# Find overlap \n",
    "\n"
   ]
  },
  {
   "cell_type": "code",
   "execution_count": null,
   "id": "2f43579c",
   "metadata": {},
   "outputs": [],
   "source": [
    "journal_df = pd.DataFrame(journal_info)\n",
    "journal_df"
   ]
  },
  {
   "cell_type": "code",
   "execution_count": null,
   "id": "8310ab90",
   "metadata": {},
   "outputs": [],
   "source": [
    "journal_df['field'].nunique()"
   ]
  },
  {
   "cell_type": "code",
   "execution_count": null,
   "id": "0975be6a",
   "metadata": {},
   "outputs": [],
   "source": [
    "# There are 5178 journals with at least 100 articles in the dataset\n",
    "(journal_df.groupby('journal').sum() > 50 ).sum()"
   ]
  },
  {
   "cell_type": "code",
   "execution_count": null,
   "id": "c583915b",
   "metadata": {},
   "outputs": [],
   "source": [
    "journal_series = journal_df.groupby('journal').sum() > 50 \n",
    "common_journals = set(journal_series[journal_series['count']].index)"
   ]
  },
  {
   "cell_type": "code",
   "execution_count": null,
   "id": "886aca60",
   "metadata": {},
   "outputs": [],
   "source": [
    "common_journal_df = journal_df.loc[journal_df['journal'].isin(common_journals)]\n",
    "common_journal_df"
   ]
  },
  {
   "cell_type": "code",
   "execution_count": null,
   "id": "009320c3",
   "metadata": {},
   "outputs": [],
   "source": [
    "journal_total_articles = common_journal_df.groupby('journal').sum()['count']\n",
    "journal_total_articles"
   ]
  },
  {
   "cell_type": "code",
   "execution_count": null,
   "id": "2b255309",
   "metadata": {},
   "outputs": [],
   "source": [
    "largest_field_percent = common_journal_df.groupby('journal')['count'].max() / journal_total_articles\n",
    "largest_field_percent"
   ]
  },
  {
   "cell_type": "code",
   "execution_count": null,
   "id": "e0ab9409",
   "metadata": {},
   "outputs": [],
   "source": [
    "field_specific_journals = largest_field_percent[largest_field_percent > .9].index\n",
    "largest_field_percent[largest_field_percent > .9].count()"
   ]
  },
  {
   "cell_type": "code",
   "execution_count": null,
   "id": "c57ff478",
   "metadata": {},
   "outputs": [],
   "source": [
    "common_journal_df[common_journal_df['journal'].isin(field_specific_journals)].groupby('journal').value_counts()"
   ]
  },
  {
   "cell_type": "markdown",
   "id": "c5efd6d3",
   "metadata": {},
   "source": [
    "#### Result\n",
    "Of the 5178 journals with at least 50 articles in the dataset, only 56 (1.1%) of journals have more than 90 percent of their articles from one field"
   ]
  },
  {
   "cell_type": "markdown",
   "id": "532ff895",
   "metadata": {},
   "source": [
    "## Top journal analysis"
   ]
  },
  {
   "cell_type": "code",
   "execution_count": null,
   "id": "7f071dbc",
   "metadata": {},
   "outputs": [],
   "source": [
    "top_journal_info = {'top_journal': [], 'field': []}\n",
    "headings_seen = set()\n",
    "\n",
    "for file in tqdm(output_files):\n",
    "    heading = os.path.basename(file).split('-')[0]\n",
    "    if heading in headings_seen:\n",
    "        continue\n",
    "    else:\n",
    "        headings_seen.add(heading)\n",
    "    \n",
    "    with open(file, 'rb') as in_file:\n",
    "        heading_dict = pkl.load(in_file)\n",
    "    pagerank_df = pd.DataFrame.from_dict(heading_dict, orient='index', columns=['pagerank'])\n",
    "    pagerank_df = pagerank_df.reset_index()\n",
    "    pagerank_df = pagerank_df.rename({'index': 'doi'}, axis='columns')\n",
    "    \n",
    "    metadata_path = f'../data/pubmed/efetch/{heading}.xml.xz'\n",
    "    metadata = parse_metadata(metadata_path)\n",
    "    \n",
    "    doi_to_journal = dict(zip(metadata['doi'], metadata['journal']))\n",
    "    \n",
    "    pagerank_df['journal'] = pagerank_df['doi'].map(doi_to_journal)\n",
    "        \n",
    "    journal_series = pagerank_df.groupby('journal').count() > 50 \n",
    "    common_journals = set(journal_series[journal_series['doi']].index)\n",
    "    \n",
    "    common_journal_df = pagerank_df[pagerank_df['journal'].isin(common_journals)]\n",
    "    top_journals = common_journal_df.groupby('journal').median().sort_values(by='pagerank', ascending=False)\n",
    "        \n",
    "    top_journal = top_journals.index[0]\n",
    "    \n",
    "    top_journal_info['top_journal'].append(top_journal)\n",
    "    top_journal_info['field'].append(heading)"
   ]
  },
  {
   "cell_type": "code",
   "execution_count": null,
   "id": "4a271b98",
   "metadata": {},
   "outputs": [],
   "source": [
    "top_journal_df = pd.DataFrame(top_journal_info)\n",
    "top_journal_list = top_journal_df['top_journal'].value_counts().index.tolist()\n",
    "tj_categorical = pd.Categorical(top_journal_df['top_journal'], categories=top_journal_list)\n",
    "top_journal_df['cat'] = tj_categorical\n",
    "\n",
    "top_journal_df\n",
    "# count_df = top_journal_counts.to_frame()\n",
    "# count_df = count_df.reset_index()\n",
    "# count_df = count_df.rename({'index': 'journal', 'top_journal': 'count'}, axis=1)\n",
    "# count_df\n",
    "\n",
    "# Sort by count\n",
    "#manufacturer_cat = pd.Categorical(top_journal_df['manufacturer'], categories=manufacturer_list)"
   ]
  },
  {
   "cell_type": "code",
   "execution_count": null,
   "id": "72a22e11",
   "metadata": {},
   "outputs": [],
   "source": [
    "plot = ggplot(top_journal_df, aes(x='cat'))\n",
    "plot += geom_bar(stat='count')\n",
    "plot += theme_classic()\n",
    "plot += theme(axis_text_x=element_text(rotation=90, hjust=.5))\n",
    "plot += ylab('Count')\n",
    "plot += xlab('Journal')\n",
    "plot += scale_y_continuous(breaks=list(range(0,10, 2)))\n",
    "plot += ggtitle('Top Journal Prevalence')\n",
    "\n",
    "print(plot)"
   ]
  }
 ],
 "metadata": {
  "kernelspec": {
   "display_name": "Python 3 (ipykernel)",
   "language": "python",
   "name": "python3"
  },
  "language_info": {
   "codemirror_mode": {
    "name": "ipython",
    "version": 3
   },
   "file_extension": ".py",
   "mimetype": "text/x-python",
   "name": "python",
   "nbconvert_exporter": "python",
   "pygments_lexer": "ipython3",
   "version": "3.10.4"
  }
 },
 "nbformat": 4,
 "nbformat_minor": 5
}
