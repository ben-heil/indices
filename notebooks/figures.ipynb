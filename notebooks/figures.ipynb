{
 "cells": [
  {
   "cell_type": "markdown",
   "id": "43aba320",
   "metadata": {},
   "source": [
    "# Figures\n",
    "Visualize the results of the analyses for the indices paper"
   ]
  },
  {
   "cell_type": "code",
   "execution_count": null,
   "id": "c7d40740",
   "metadata": {},
   "outputs": [],
   "source": [
    "import os\n",
    "import pickle as pkl\n",
    "import sys\n",
    "from glob import glob\n",
    "\n",
    "import numpy as np\n",
    "import pandas as pd\n",
    "import plotly.express as px\n",
    "from plotnine import *\n",
    "\n",
    "sys.path.append('../indices')\n",
    "from utils import load_percentile_data, load_journal_data, load_pair_headings"
   ]
  },
  {
   "cell_type": "code",
   "execution_count": null,
   "id": "ecc50c0e",
   "metadata": {},
   "outputs": [],
   "source": [
    "headings = [('nanotechnology', 'microscopy'), ('immunochemistry', 'anatomy'), \n",
    "            ('computational_biology', 'human_genetics')]"
   ]
  },
  {
   "cell_type": "code",
   "execution_count": null,
   "id": "5031693f",
   "metadata": {},
   "outputs": [],
   "source": [
    "for heading1, heading2 in headings:\n",
    "    percentile_data = load_percentile_data(heading1, heading2, base_dir='../viz_dataframes')\n",
    "    \n",
    "    plot = ggplot(percentile_data, aes(x=f'{heading1}_pagerank', y=f'{heading2}_pagerank',))\n",
    "    plot += geom_bin2d()\n",
    "    plot += scale_x_log10()\n",
    "    plot += scale_y_log10()\n",
    "    plot += ggtitle(f'{heading1} vs {heading2} pageranks')\n",
    "    plot += scale_fill_gradient(trans='log')\n",
    "    plot += theme_dark()\n",
    "\n",
    "    ggsave(plot, f'../figures/{heading1}-{heading2}-heatmap.svg')\n",
    "    \n",
    "    plot = ggplot(percentile_data, aes(x=f'{heading1}_pagerank', y=f'{heading2}_pagerank', \n",
    "              color=f'{heading1}-{heading2}'))\n",
    "    plot += geom_point()\n",
    "    plot += scale_x_log10()\n",
    "    plot += scale_y_log10()\n",
    "    plot += ggtitle(f'{heading1} vs {heading2} pageranks')\n",
    "    plot += scale_color_gradient2(low='red', mid='white', high='blue')\n",
    "    plot += theme_dark()\n",
    "\n",
    "    ggsave(plot, f'../figures/{heading1}-{heading2}-difference.svg')"
   ]
  },
  {
   "cell_type": "code",
   "execution_count": null,
   "id": "2d896bc5",
   "metadata": {},
   "outputs": [],
   "source": [
    "heading1 = 'nanotechnology'\n",
    "heading2 = 'microscopy'\n",
    "percentile_data = load_percentile_data(heading1, heading2, base_dir='../viz_dataframes')\n",
    "percentile_data.sort_values(by='nanotechnology-microscopy')"
   ]
  },
  {
   "cell_type": "code",
   "execution_count": null,
   "id": "d7e07974",
   "metadata": {},
   "outputs": [],
   "source": [
    "plot = ggplot(percentile_data, aes(x=f'{heading1}_pagerank', y=f'{heading2}_pagerank',))\n",
    "plot += geom_bin2d()\n",
    "plot += scale_x_log10()\n",
    "plot += scale_y_log10()\n",
    "plot += ggtitle(f'{heading1} vs {heading2} pageranks')\n",
    "plot += scale_fill_gradient(trans='log')\n",
    "plot += theme_dark()\n",
    "\n",
    "plot"
   ]
  },
  {
   "cell_type": "code",
   "execution_count": null,
   "id": "a2064d9a",
   "metadata": {},
   "outputs": [],
   "source": [
    "plot = ggplot(percentile_data, aes(x=f'{heading1}_pagerank', y=f'{heading2}_pagerank', \n",
    "              color=f'{heading1}-{heading2}'))\n",
    "plot += geom_point()\n",
    "plot += scale_x_log10()\n",
    "plot += scale_y_log10()\n",
    "plot += ggtitle(f'{heading1} vs {heading2} pageranks')\n",
    "plot += scale_color_gradient2(low='red', mid='white', high='blue')\n",
    "plot += theme_dark()\n",
    "\n",
    "plot"
   ]
  },
  {
   "cell_type": "code",
   "execution_count": null,
   "id": "4170f0a9",
   "metadata": {},
   "outputs": [],
   "source": [
    "heading1 = 'immunochemistry'\n",
    "heading2 = 'anatomy'\n",
    "percentile_data = load_percentile_data(heading1, heading2, base_dir='../viz_dataframes')\n",
    "percentile_data.sort_values(by='immunochemistry-anatomy')"
   ]
  },
  {
   "cell_type": "code",
   "execution_count": null,
   "id": "02cf75eb",
   "metadata": {},
   "outputs": [],
   "source": [
    "plot = ggplot(percentile_data, aes(x=f'{heading1}_pagerank', y=f'{heading2}_pagerank',))\n",
    "plot += geom_bin2d()\n",
    "plot += scale_x_log10()\n",
    "plot += scale_y_log10()\n",
    "plot += ggtitle(f'{heading1} vs {heading2} pageranks')\n",
    "plot += scale_fill_gradient(trans='log')\n",
    "plot += theme_dark()\n",
    "\n",
    "plot"
   ]
  },
  {
   "cell_type": "code",
   "execution_count": null,
   "id": "97939f48",
   "metadata": {},
   "outputs": [],
   "source": [
    "plot = ggplot(percentile_data, aes(x=f'{heading1}_pagerank', y=f'{heading2}_pagerank', \n",
    "              color=f'{heading1}-{heading2}'))\n",
    "plot += geom_point()\n",
    "plot += scale_x_log10()\n",
    "plot += scale_y_log10()\n",
    "plot += ggtitle(f'{heading1} vs {heading2} pageranks')\n",
    "plot += scale_color_gradient2(low='red', mid='white', high='blue')\n",
    "plot += theme_dark()\n",
    "\n",
    "plot"
   ]
  },
  {
   "cell_type": "markdown",
   "id": "27ac6526",
   "metadata": {},
   "source": [
    "## Plotly plots"
   ]
  },
  {
   "cell_type": "code",
   "execution_count": null,
   "id": "8377633f",
   "metadata": {},
   "outputs": [],
   "source": [
    "heading1 = 'nanotechnology'\n",
    "heading2 = 'microscopy'\n",
    "percentile_data = load_percentile_data(heading1, heading2, base_dir='../viz_dataframes')\n",
    "percentile_data.sort_values(by='nanotechnology-microscopy')"
   ]
  },
  {
   "cell_type": "code",
   "execution_count": null,
   "id": "a2a78ad6",
   "metadata": {},
   "outputs": [],
   "source": [
    "plot = px.scatter(percentile_data, x=f'{heading1}_pagerank', y=f'{heading2}_pagerank', log_x=True, log_y=True,\n",
    "                 opacity=1, color=f'{heading1}-{heading2}', color_continuous_scale='oxy', hover_data=['doi', 'title'],\n",
    "                 title=f'Relative importance of papers in {heading1} and {heading2}',)\n",
    "plot"
   ]
  },
  {
   "cell_type": "code",
   "execution_count": null,
   "id": "1a13b916",
   "metadata": {},
   "outputs": [],
   "source": [
    "largest_dois = set(percentile_data.nlargest(5, 'nanotechnology-microscopy')['doi'])\n",
    "percentile_data['top_five'] = percentile_data['doi'].isin(largest_dois)"
   ]
  },
  {
   "cell_type": "code",
   "execution_count": null,
   "id": "c1c47448",
   "metadata": {},
   "outputs": [],
   "source": [
    "plot = px.scatter(percentile_data, x=f'{heading1}_pagerank', y=f'{heading2}_pagerank', log_x=True, log_y=True,\n",
    "                 opacity=1, color='top_five', hover_data=['doi', 'title'],\n",
    "                 title=f'Relative importance of papers in {heading1} and {heading2}',)\n",
    "plot"
   ]
  },
  {
   "cell_type": "code",
   "execution_count": null,
   "id": "ee55682f",
   "metadata": {},
   "outputs": [],
   "source": [
    "main_data = percentile_data[percentile_data['nanotechnology_pagerank'] > 0.000015]\n",
    "smallest_dois = set(main_data.nsmallest(5, 'nanotechnology-microscopy')['doi'])\n",
    "percentile_data['bot_five'] = percentile_data['doi'].isin(smallest_dois)"
   ]
  },
  {
   "cell_type": "code",
   "execution_count": null,
   "id": "3530c93b",
   "metadata": {
    "scrolled": true
   },
   "outputs": [],
   "source": [
    "plot = px.scatter(percentile_data, x=f'{heading1}_pagerank', y=f'{heading2}_pagerank', log_x=True, log_y=True,\n",
    "                 opacity=1, color='bot_five', hover_data=['doi', 'title'],\n",
    "                 title=f'Relative importance of papers in {heading1} and {heading2}',)\n",
    "plot"
   ]
  },
  {
   "cell_type": "code",
   "execution_count": null,
   "id": "5eda3910",
   "metadata": {},
   "outputs": [],
   "source": [
    "heading1 = 'immunochemistry'\n",
    "heading2 = 'anatomy'\n",
    "percentile_data = load_percentile_data(heading1, heading2, base_dir='../viz_dataframes')\n",
    "percentile_data.sort_values(by=f'{heading1}-{heading2}')"
   ]
  },
  {
   "cell_type": "code",
   "execution_count": null,
   "id": "4c744b11",
   "metadata": {},
   "outputs": [],
   "source": [
    "plot = px.scatter(percentile_data, x=f'{heading1}_pagerank', y=f'{heading2}_pagerank', log_x=True, log_y=True,\n",
    "                  opacity=1, color=f'{heading1}-{heading2}', color_continuous_scale='oxy', hover_data=['doi', 'title'],\n",
    "                  title=f'Relative importance of papers in {heading1} and {heading2}',)\n",
    "plot"
   ]
  },
  {
   "cell_type": "code",
   "execution_count": null,
   "id": "fcfc5c02",
   "metadata": {},
   "outputs": [],
   "source": [
    "heading1 = 'proteomics'\n",
    "heading2 = 'metabolomics'\n",
    "percentile_data = load_percentile_data(heading1, heading2, base_dir='../viz_dataframes')\n",
    "percentile_data.sort_values(by=f'{heading1}-{heading2}')"
   ]
  },
  {
   "cell_type": "code",
   "execution_count": null,
   "id": "3227b6ef",
   "metadata": {
    "scrolled": true
   },
   "outputs": [],
   "source": [
    "plot = px.scatter(percentile_data, x=f'{heading1}_pagerank', y=f'{heading2}_pagerank', log_x=True, log_y=True,\n",
    "                 opacity=1, color=f'{heading1}-{heading2}', color_continuous_scale='oxy', hover_data=['doi', 'title'],\n",
    "                 title=f'Relative importance of papers in {heading1} and {heading2}',)\n",
    "plot"
   ]
  },
  {
   "cell_type": "code",
   "execution_count": null,
   "id": "44c217e9",
   "metadata": {},
   "outputs": [],
   "source": []
  },
  {
   "cell_type": "markdown",
   "id": "31cd510a",
   "metadata": {},
   "source": [
    "## Journal plots"
   ]
  },
  {
   "cell_type": "code",
   "execution_count": null,
   "id": "c05d1262",
   "metadata": {},
   "outputs": [],
   "source": [
    "journal_data_files = glob('../viz_dataframes/journals/*')\n",
    "\n",
    "results = {'percentile': [], 'journal': [], 'heading': []}\n",
    "\n",
    "for file in journal_data_files:\n",
    "    file_base = os.path.basename(file)\n",
    "    file_base = os.path.splitext(file_base)[0]\n",
    "    heading1, heading2 = file_base.split('-')\n",
    "        \n",
    "    with open(file, 'rb') as in_file:\n",
    "        df = pkl.load(in_file)\n",
    "        for _, row in df.iterrows():\n",
    "            results['percentile'].append(row[f'{heading1}_percentile'])\n",
    "            results['journal'].append(row[f'journal_title'])\n",
    "            results['heading'].append(heading1)\n",
    "            \n",
    "            results['percentile'].append(row[f'{heading2}_percentile'])\n",
    "            results['journal'].append(row[f'journal_title'])\n",
    "            results['heading'].append(heading2)\n",
    "\n"
   ]
  },
  {
   "cell_type": "code",
   "execution_count": null,
   "id": "4b1a5ea4",
   "metadata": {},
   "outputs": [],
   "source": [
    "result_df = pd.DataFrame(results)\n",
    "\n",
    "# Consolidate multiples\n",
    "result_df = result_df.groupby(['journal', 'heading']).mean().reset_index()\n",
    "\n",
    "result_df[result_df['journal'] == 'ACS Appl Mater Interfaces']"
   ]
  },
  {
   "cell_type": "code",
   "execution_count": null,
   "id": "61e071a7",
   "metadata": {},
   "outputs": [],
   "source": [
    "plot = ggplot(result_df, aes(x='journal', y='heading', fill='percentile'))\n",
    "plot += geom_tile()\n",
    "plot"
   ]
  },
  {
   "cell_type": "code",
   "execution_count": null,
   "id": "508dc8c9",
   "metadata": {},
   "outputs": [],
   "source": [
    "frequent_headings = result_df.heading.value_counts()[result_df.heading.value_counts() > 250].index\n",
    "frequent_headings"
   ]
  },
  {
   "cell_type": "code",
   "execution_count": null,
   "id": "1245bae5",
   "metadata": {},
   "outputs": [],
   "source": [
    "frequent_df = result_df[result_df['heading'].isin(set(frequent_headings))]"
   ]
  },
  {
   "cell_type": "code",
   "execution_count": null,
   "id": "bbc4b96b",
   "metadata": {},
   "outputs": [],
   "source": [
    "plot = ggplot(frequent_df, aes(x='journal', y='heading', fill='percentile'))\n",
    "plot += geom_tile()\n",
    "plot += theme(axis_text_x=element_text(rotation=90, hjust=1))\n",
    "plot += ggtitle('Headings with many journals')\n",
    "plot"
   ]
  },
  {
   "cell_type": "code",
   "execution_count": null,
   "id": "20416320",
   "metadata": {},
   "outputs": [],
   "source": [
    "unmelted_df = frequent_df.pivot(index='journal', columns='heading', values='percentile')\n",
    "# Remove journals not shared by all fields\n",
    "unmelted_df = unmelted_df.dropna(axis='index')\n",
    "unmelted_df "
   ]
  },
  {
   "cell_type": "code",
   "execution_count": null,
   "id": "67b048d1",
   "metadata": {},
   "outputs": [],
   "source": [
    "import seaborn as sns\n",
    "sns.set()"
   ]
  },
  {
   "cell_type": "code",
   "execution_count": null,
   "id": "0ce3f299",
   "metadata": {},
   "outputs": [],
   "source": [
    "%matplotlib inline\n",
    "sns.clustermap(unmelted_df)"
   ]
  },
  {
   "cell_type": "code",
   "execution_count": null,
   "id": "8e48d258",
   "metadata": {},
   "outputs": [],
   "source": []
  }
 ],
 "metadata": {
  "kernelspec": {
   "display_name": "Python 3 (ipykernel)",
   "language": "python",
   "name": "python3"
  },
  "language_info": {
   "codemirror_mode": {
    "name": "ipython",
    "version": 3
   },
   "file_extension": ".py",
   "mimetype": "text/x-python",
   "name": "python",
   "nbconvert_exporter": "python",
   "pygments_lexer": "ipython3",
   "version": "3.10.4"
  }
 },
 "nbformat": 4,
 "nbformat_minor": 5
}
