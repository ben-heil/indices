{
 "cells": [
  {
   "cell_type": "markdown",
   "id": "43aba320",
   "metadata": {},
   "source": [
    "# Figures\n",
    "Visualize the results of the analyses for the indices paper"
   ]
  },
  {
   "cell_type": "code",
   "execution_count": 2,
   "id": "c7d40740",
   "metadata": {},
   "outputs": [],
   "source": [
    "import os\n",
    "import pickle as pkl\n",
    "import string\n",
    "import sys\n",
    "from glob import glob\n",
    "\n",
    "import numpy as np\n",
    "import pandas as pd\n",
    "import svgutils.transform as sg\n",
    "from plotnine import *\n",
    "from svgutils.compose import SVG, Figure, Panel, Text\n",
    "\n",
    "sys.path.append('../indices')\n",
    "from utils import load_percentile_data, load_journal_data, load_single_heading, parse_metadata"
   ]
  },
  {
   "cell_type": "code",
   "execution_count": 47,
   "id": "ecc50c0e",
   "metadata": {},
   "outputs": [],
   "source": [
    "headings = [('nanotechnology', 'microscopy'), ('immunochemistry', 'anatomy'), \n",
    "            ('proteomics', 'metabolomics'), ('computational_biology', 'human_genetics')]"
   ]
  },
  {
   "cell_type": "code",
   "execution_count": 3,
   "id": "5031693f",
   "metadata": {},
   "outputs": [
    {
     "name": "stderr",
     "output_type": "stream",
     "text": [
      "/home/heil/anaconda3/envs/indices/lib/python3.10/site-packages/plotnine/ggplot.py:718: PlotnineWarning: Saving 6.4 x 4.8 in image.\n",
      "/home/heil/anaconda3/envs/indices/lib/python3.10/site-packages/plotnine/ggplot.py:719: PlotnineWarning: Filename: ../figures/nanotechnology-microscopy-hist.svg\n",
      "/home/heil/anaconda3/envs/indices/lib/python3.10/site-packages/plotnine/stats/stat_bin.py:95: PlotnineWarning: 'stat_bin()' using 'bins = 41'. Pick better value with 'binwidth'.\n",
      "/home/heil/anaconda3/envs/indices/lib/python3.10/site-packages/plotnine/ggplot.py:718: PlotnineWarning: Saving 6.4 x 4.8 in image.\n",
      "/home/heil/anaconda3/envs/indices/lib/python3.10/site-packages/plotnine/ggplot.py:719: PlotnineWarning: Filename: ../figures/nanotechnology-microscopy-heatmap.svg\n",
      "/home/heil/anaconda3/envs/indices/lib/python3.10/site-packages/mizani/formatters.py:499: UserWarning: Formating values as base = 10\n",
      "/home/heil/anaconda3/envs/indices/lib/python3.10/site-packages/plotnine/ggplot.py:718: PlotnineWarning: Saving 6.4 x 4.8 in image.\n",
      "/home/heil/anaconda3/envs/indices/lib/python3.10/site-packages/plotnine/ggplot.py:719: PlotnineWarning: Filename: ../figures/immunochemistry-anatomy-hist.svg\n",
      "/home/heil/anaconda3/envs/indices/lib/python3.10/site-packages/plotnine/stats/stat_bin.py:95: PlotnineWarning: 'stat_bin()' using 'bins = 344'. Pick better value with 'binwidth'.\n",
      "/home/heil/anaconda3/envs/indices/lib/python3.10/site-packages/plotnine/ggplot.py:718: PlotnineWarning: Saving 6.4 x 4.8 in image.\n",
      "/home/heil/anaconda3/envs/indices/lib/python3.10/site-packages/plotnine/ggplot.py:719: PlotnineWarning: Filename: ../figures/immunochemistry-anatomy-heatmap.svg\n",
      "/home/heil/anaconda3/envs/indices/lib/python3.10/site-packages/mizani/formatters.py:499: UserWarning: Formating values as base = 10\n",
      "/home/heil/anaconda3/envs/indices/lib/python3.10/site-packages/plotnine/ggplot.py:718: PlotnineWarning: Saving 6.4 x 4.8 in image.\n",
      "/home/heil/anaconda3/envs/indices/lib/python3.10/site-packages/plotnine/ggplot.py:719: PlotnineWarning: Filename: ../figures/proteomics-metabolomics-hist.svg\n",
      "/home/heil/anaconda3/envs/indices/lib/python3.10/site-packages/plotnine/stats/stat_bin.py:95: PlotnineWarning: 'stat_bin()' using 'bins = 41'. Pick better value with 'binwidth'.\n",
      "/home/heil/anaconda3/envs/indices/lib/python3.10/site-packages/plotnine/ggplot.py:718: PlotnineWarning: Saving 6.4 x 4.8 in image.\n",
      "/home/heil/anaconda3/envs/indices/lib/python3.10/site-packages/plotnine/ggplot.py:719: PlotnineWarning: Filename: ../figures/proteomics-metabolomics-heatmap.svg\n",
      "/home/heil/anaconda3/envs/indices/lib/python3.10/site-packages/mizani/formatters.py:499: UserWarning: Formating values as base = 10\n",
      "/home/heil/anaconda3/envs/indices/lib/python3.10/site-packages/plotnine/ggplot.py:718: PlotnineWarning: Saving 6.4 x 4.8 in image.\n",
      "/home/heil/anaconda3/envs/indices/lib/python3.10/site-packages/plotnine/ggplot.py:719: PlotnineWarning: Filename: ../figures/computational_biology-human_genetics-hist.svg\n",
      "/home/heil/anaconda3/envs/indices/lib/python3.10/site-packages/plotnine/stats/stat_bin.py:95: PlotnineWarning: 'stat_bin()' using 'bins = 22'. Pick better value with 'binwidth'.\n",
      "/home/heil/anaconda3/envs/indices/lib/python3.10/site-packages/plotnine/ggplot.py:718: PlotnineWarning: Saving 6.4 x 4.8 in image.\n",
      "/home/heil/anaconda3/envs/indices/lib/python3.10/site-packages/plotnine/ggplot.py:719: PlotnineWarning: Filename: ../figures/computational_biology-human_genetics-heatmap.svg\n",
      "/home/heil/anaconda3/envs/indices/lib/python3.10/site-packages/mizani/formatters.py:499: UserWarning: Formating values as base = 10\n"
     ]
    }
   ],
   "source": [
    "for heading1, heading2 in headings:\n",
    "    percentile_data = load_percentile_data(heading1, heading2, base_dir='../viz_dataframes')\n",
    "    \n",
    "    hist_data = percentile_data.melt(id_vars='doi', value_vars=[f'{heading1}_pagerank', f'{heading2}_pagerank'],\n",
    "                                     value_name='PageRank',)\n",
    "    \n",
    "    h1 = string.capwords(heading1.replace('_', ' '))\n",
    "    h2 = string.capwords(heading2.replace('_', ' '))\n",
    "    \n",
    "    new_names = {f'{heading1}_pagerank': f'{h1}',\n",
    "                 f'{heading2}_pagerank': f'{h2}'}\n",
    "    \n",
    "    hist_data['Field'] = hist_data['variable'].map(new_names)\n",
    "        \n",
    "    plot = ggplot(hist_data, aes(x='PageRank', fill='Field'))\n",
    "    plot += geom_histogram(position='identity', alpha=.7)\n",
    "    plot += scale_x_log10()\n",
    "    plot += scale_y_continuous(name='Count')\n",
    "    plot += ggtitle(f'{h1} and {h2} Pagerank Distribution')\n",
    "    plot += theme_classic()\n",
    "    ggsave(plot, f'../figures/{heading1}-{heading2}-hist.svg')\n",
    "\n",
    "    plot = ggplot(percentile_data, aes(x=f'{heading1}_pagerank', y=f'{heading2}_pagerank',))\n",
    "    plot += geom_bin2d()\n",
    "    plot += scale_x_log10(name=f'{h1} Pagerank')\n",
    "    plot += scale_y_log10(name=f'{h2} Pagerank')\n",
    "    plot += ggtitle(f'{h1} vs {h2} Pageranks')\n",
    "    plot += scale_fill_gradient(trans='log')\n",
    "    plot += theme_classic()\n",
    "\n",
    "    ggsave(plot, f'../figures/{heading1}-{heading2}-heatmap.svg')\n",
    "    \n"
   ]
  },
  {
   "cell_type": "markdown",
   "id": "35acfea1",
   "metadata": {},
   "source": [
    "## Create annotated difference plots"
   ]
  },
  {
   "cell_type": "code",
   "execution_count": 65,
   "id": "7bdb2950",
   "metadata": {},
   "outputs": [],
   "source": [
    "heading1 = 'nanotechnology'\n",
    "heading2 = 'microscopy'\n",
    "\n",
    "h1 = string.capwords(heading1.replace('_', ' '))\n",
    "h2 = string.capwords(heading2.replace('_', ' '))\n",
    "\n",
    "title1 = 'A robust DNA mechanical device controlled'\n",
    "title2 = 'Bioadhesive poly'\n",
    "title3 = 'DNA-templated self-assembly of protein arrays'\n",
    "title4 = 'Photostable luminescent nanoparticles '\n",
    "title5 = 'WSXM: a software for scanning'\n",
    "title6 = 'Measuring distances in supported bilayers'\n",
    "title7 = 'Toward fluorescence'\n",
    "title8 = 'In vivo imaging of quantum dots encapsulated'\n",
    "title9 = 'Water-soluble quantum dots'\n",
    "\n",
    "percentile_data = load_percentile_data(heading1, heading2, base_dir='../viz_dataframes')\n",
    "percentile_data[f'{heading1}-{heading2}'] *= 100\n",
    "percentile_data = percentile_data.rename({f'{heading1}-{heading2}': f'{h1}-{h2}'}, axis=1)\n",
    "t1_row = percentile_data[percentile_data['title'].str.contains(title1)]\n",
    "t2_row = percentile_data[percentile_data['title'].str.contains(title2)]\n",
    "t3_row = percentile_data[percentile_data['title'].str.contains(title3)]\n",
    "t4_row = percentile_data[percentile_data['title'].str.contains(title4)]\n",
    "t5_row = percentile_data[percentile_data['title'].str.contains(title5)]\n",
    "t6_row = percentile_data[percentile_data['title'].str.contains(title6)]\n",
    "t7_row = percentile_data[percentile_data['title'].str.contains(title7)]\n",
    "t8_row = percentile_data[percentile_data['title'].str.contains(title8)]\n",
    "t9_row = percentile_data[percentile_data['title'].str.contains(title9)]"
   ]
  },
  {
   "cell_type": "code",
   "execution_count": 66,
   "id": "21d15cec",
   "metadata": {},
   "outputs": [
    {
     "name": "stderr",
     "output_type": "stream",
     "text": [
      "/home/heil/anaconda3/envs/indices/lib/python3.10/site-packages/plotnine/ggplot.py:718: PlotnineWarning: Saving 6.4 x 4.8 in image.\n",
      "/home/heil/anaconda3/envs/indices/lib/python3.10/site-packages/plotnine/ggplot.py:719: PlotnineWarning: Filename: ../figures/nanotechnology-microscopy-difference.svg\n"
     ]
    }
   ],
   "source": [
    "plot = ggplot(percentile_data, aes(x=f'{heading1}_pagerank', y=f'{heading2}_pagerank', \n",
    "              color=f'{h1}-{h2}'))\n",
    "plot += geom_point()\n",
    "plot += scale_x_log10(name=f'{h1} Pagerank')\n",
    "plot += scale_y_log10(name=f'{h2} Pagerank')\n",
    "plot += ggtitle(f'{h1} and {h2} Percentile Difference')\n",
    "plot += scale_color_gradient2(low='purple', mid='#e2e2e2', high='green')\n",
    "plot += annotate('text', label='1', \n",
    "                 x=t1_row[f'{heading1}_pagerank'], y=t1_row[f'{heading2}_pagerank'], ha='right', va='bottom')\n",
    "plot += annotate('text', label='2', \n",
    "                 x=t2_row[f'{heading1}_pagerank'], y=t2_row[f'{heading2}_pagerank'], ha='right', va='bottom')\n",
    "plot += annotate('text', label='3', \n",
    "                 x=t3_row[f'{heading1}_pagerank'], y=t3_row[f'{heading2}_pagerank'], ha='right', va='bottom')\n",
    "plot += annotate('text', label='4', \n",
    "                 x=t4_row[f'{heading1}_pagerank'], y=t4_row[f'{heading2}_pagerank'], ha='right', va='bottom')\n",
    "plot += annotate('text', label='5', \n",
    "                 x=t5_row[f'{heading1}_pagerank'], y=t5_row[f'{heading2}_pagerank'], ha='right', va='bottom')\n",
    "plot += annotate('text', label='6', \n",
    "                 x=t6_row[f'{heading1}_pagerank'], y=t6_row[f'{heading2}_pagerank'], ha='right', va='bottom')\n",
    "plot += annotate('text', label='7', \n",
    "                 x=t7_row[f'{heading1}_pagerank'], y=t7_row[f'{heading2}_pagerank'], ha='right', va='bottom')\n",
    "plot += annotate('text', label='8', \n",
    "                 x=t8_row[f'{heading1}_pagerank'], y=t8_row[f'{heading2}_pagerank'], ha='right', va='bottom')\n",
    "plot += annotate('text', label='9', \n",
    "                 x=t9_row[f'{heading1}_pagerank'], y=t9_row[f'{heading2}_pagerank'], ha='right', va='bottom')\n",
    "plot += theme_classic()\n",
    "plot\n",
    "ggsave(plot, f'../figures/{heading1}-{heading2}-difference.svg')"
   ]
  },
  {
   "cell_type": "code",
   "execution_count": 6,
   "id": "88abb3a9",
   "metadata": {},
   "outputs": [],
   "source": [
    "heading1 = 'immunochemistry'\n",
    "heading2 = 'anatomy'\n",
    "\n",
    "h1 = string.capwords(heading1.replace('_', ' '))\n",
    "h2 = string.capwords(heading2.replace('_', ' '))\n",
    "\n",
    "title1 = 'Immunoelectron microscopic exploration'\n",
    "title2 = 'expression in cat posterior temporalis muscle during postnatal development'\n",
    "title3 = 'Electron microscopic demonstration of calcitonin in human'\n",
    "title4 = 'Grafting genetically modified cells into the rat brain:'\n",
    "title5 = 'Vitamin-D-dependent calcium-binding-protein and parvalbumin'\n",
    "title6 = 'Mapping of brain areas containing RNA homologous to cDNAs'\n",
    "title7 = 'Studies of the HER-2/neu proto-oncogene'\n",
    "title8 = 'Expression of c-fos protein in brain'\n",
    "title9 = 'immunolocalization in paraffin sections:'\n",
    "\n",
    "percentile_data = load_percentile_data(heading1, heading2, base_dir='../viz_dataframes')\n",
    "percentile_data[f'{heading1}-{heading2}'] *= 100\n",
    "percentile_data = percentile_data.rename({f'{heading1}-{heading2}': f'{h1}-{h2}'}, axis=1)\n",
    "t1_row = percentile_data[percentile_data['title'].str.contains(title1)]\n",
    "t2_row = percentile_data[percentile_data['title'].str.contains(title2)]\n",
    "t3_row = percentile_data[percentile_data['title'].str.contains(title3)]\n",
    "t4_row = percentile_data[percentile_data['title'].str.contains(title4)]\n",
    "t5_row = percentile_data[percentile_data['title'].str.contains(title5)]\n",
    "t6_row = percentile_data[percentile_data['title'].str.contains(title6)]\n",
    "t7_row = percentile_data[percentile_data['title'].str.contains(title7)]\n",
    "t8_row = percentile_data[percentile_data['title'].str.contains(title8)]\n",
    "t9_row = percentile_data[percentile_data['title'].str.contains(title9)]"
   ]
  },
  {
   "cell_type": "code",
   "execution_count": 7,
   "id": "1b06df00",
   "metadata": {},
   "outputs": [
    {
     "name": "stderr",
     "output_type": "stream",
     "text": [
      "/home/heil/anaconda3/envs/indices/lib/python3.10/site-packages/plotnine/ggplot.py:718: PlotnineWarning: Saving 6.4 x 4.8 in image.\n",
      "/home/heil/anaconda3/envs/indices/lib/python3.10/site-packages/plotnine/ggplot.py:719: PlotnineWarning: Filename: ../figures/immunochemistry-anatomy-difference.svg\n"
     ]
    }
   ],
   "source": [
    "plot = ggplot(percentile_data, aes(x=f'{heading1}_pagerank', y=f'{heading2}_pagerank', \n",
    "              color=f'{h1}-{h2}'))\n",
    "plot += geom_point()\n",
    "plot += scale_x_log10(name=f'{h1} Pagerank')\n",
    "plot += scale_y_log10(name=f'{h2} Pagerank')\n",
    "plot += ggtitle(f'{h1} and {h2} Percentile Difference')\n",
    "plot += scale_color_gradient2(low='purple', mid='#e2e2e2', high='green')\n",
    "plot += annotate('text', label='21', \n",
    "                 x=t1_row[f'{heading1}_pagerank'], y=t1_row[f'{heading2}_pagerank'], ha='right', va='bottom')\n",
    "plot += annotate('text', label='21', \n",
    "                 x=t2_row[f'{heading1}_pagerank'], y=t2_row[f'{heading2}_pagerank'], ha='right', va='bottom')\n",
    "plot += annotate('text', label='21', \n",
    "                 x=t3_row[f'{heading1}_pagerank'], y=t3_row[f'{heading2}_pagerank'], ha='right', va='bottom')\n",
    "plot += annotate('text', label='21', \n",
    "                 x=t4_row[f'{heading1}_pagerank'], y=t4_row[f'{heading2}_pagerank'], ha='right', va='bottom')\n",
    "plot += annotate('text', label='21', \n",
    "                 x=t5_row[f'{heading1}_pagerank'], y=t5_row[f'{heading2}_pagerank'], ha='right', va='bottom')\n",
    "plot += annotate('text', label='21', \n",
    "                 x=t6_row[f'{heading1}_pagerank'], y=t6_row[f'{heading2}_pagerank'], ha='right', va='bottom')\n",
    "plot += annotate('text', label='21', \n",
    "                 x=t7_row[f'{heading1}_pagerank'], y=t7_row[f'{heading2}_pagerank'], ha='right', va='bottom')\n",
    "plot += annotate('text', label='21', \n",
    "                 x=t8_row[f'{heading1}_pagerank'], y=t8_row[f'{heading2}_pagerank'], ha='right', va='bottom')\n",
    "plot += annotate('text', label='21', \n",
    "                 x=t9_row[f'{heading1}_pagerank'], y=t9_row[f'{heading2}_pagerank'], ha='right', va='bottom')\n",
    "plot += theme_classic()\n",
    "ggsave(plot, f'../figures/{heading1}-{heading2}-difference.svg')"
   ]
  },
  {
   "cell_type": "code",
   "execution_count": 8,
   "id": "7d06f5a4",
   "metadata": {},
   "outputs": [],
   "source": [
    "heading1 = 'proteomics'\n",
    "heading2 = 'metabolomics'\n",
    "\n",
    "h1 = string.capwords(heading1.replace('_', ' '))\n",
    "h2 = string.capwords(heading2.replace('_', ' '))\n",
    "\n",
    "title1 = 'Proteomics Standards Initiative:'\n",
    "title2 = 'Limited Environmental Serine and Glycine'\n",
    "title3 = 'A high-throughput processing service for retention'\n",
    "title4 = 'MeltDB: a software platform for the analysis'\n",
    "title5 = 'In silico fragmentation for computer assisted identification'\n",
    "title6 = 'The metabonomic signature of celiac'\n",
    "title7 = 'Visualization of omics data for systems biology'\n",
    "title8 = 'FunRich: An open access standalone functional'\n",
    "title9 = 'Proteomic and Metabolomic Characterization of COVID-19 Patient Sera'\n",
    "\n",
    "percentile_data = load_percentile_data(heading1, heading2, base_dir='../viz_dataframes')\n",
    "percentile_data[f'{heading1}-{heading2}'] *= 100\n",
    "percentile_data = percentile_data.rename({f'{heading1}-{heading2}': f'{h1}-{h2}'}, axis=1)\n",
    "t1_row = percentile_data[percentile_data['title'].str.contains(title1)]\n",
    "t2_row = percentile_data[percentile_data['title'].str.contains(title2)]\n",
    "t3_row = percentile_data[percentile_data['title'].str.contains(title3)]\n",
    "t4_row = percentile_data[percentile_data['title'].str.contains(title4)]\n",
    "t5_row = percentile_data[percentile_data['title'].str.contains(title5)]\n",
    "t6_row = percentile_data[percentile_data['title'].str.contains(title6)]\n",
    "t7_row = percentile_data[percentile_data['title'].str.contains(title7)]\n",
    "t8_row = percentile_data[percentile_data['title'].str.contains(title8)]\n",
    "t9_row = percentile_data[percentile_data['title'].str.contains(title9)]"
   ]
  },
  {
   "cell_type": "code",
   "execution_count": 9,
   "id": "d9b4ebb1",
   "metadata": {},
   "outputs": [
    {
     "name": "stderr",
     "output_type": "stream",
     "text": [
      "/home/heil/anaconda3/envs/indices/lib/python3.10/site-packages/plotnine/ggplot.py:718: PlotnineWarning: Saving 6.4 x 4.8 in image.\n",
      "/home/heil/anaconda3/envs/indices/lib/python3.10/site-packages/plotnine/ggplot.py:719: PlotnineWarning: Filename: ../figures/proteomics-metabolomics-difference.svg\n"
     ]
    }
   ],
   "source": [
    "plot = ggplot(percentile_data, aes(x=f'{heading1}_pagerank', y=f'{heading2}_pagerank', \n",
    "              color=f'{h1}-{h2}'))\n",
    "plot += geom_point()\n",
    "plot += scale_x_log10(name=f'{h1} Pagerank')\n",
    "plot += scale_y_log10(name=f'{h2} Pagerank')\n",
    "plot += ggtitle(f'{h1} and {h2} Percentile Difference')\n",
    "plot += scale_color_gradient2(low='purple', mid='#e2e2e2', high='green')\n",
    "plot += annotate('text', label='21', \n",
    "                 x=t1_row[f'{heading1}_pagerank'], y=t1_row[f'{heading2}_pagerank'], ha='right', va='bottom')\n",
    "plot += annotate('text', label='21', \n",
    "                 x=t2_row[f'{heading1}_pagerank'], y=t2_row[f'{heading2}_pagerank'], ha='right', va='bottom')\n",
    "plot += annotate('text', label='21', \n",
    "                 x=t3_row[f'{heading1}_pagerank'], y=t3_row[f'{heading2}_pagerank'], ha='right', va='bottom')\n",
    "plot += annotate('text', label='21', \n",
    "                 x=t4_row[f'{heading1}_pagerank'], y=t4_row[f'{heading2}_pagerank'], ha='right', va='bottom')\n",
    "plot += annotate('text', label='21', \n",
    "                 x=t5_row[f'{heading1}_pagerank'], y=t5_row[f'{heading2}_pagerank'], ha='right', va='bottom')\n",
    "plot += annotate('text', label='21', \n",
    "                 x=t6_row[f'{heading1}_pagerank'], y=t6_row[f'{heading2}_pagerank'], ha='right', va='bottom')\n",
    "plot += annotate('text', label='21', \n",
    "                 x=t7_row[f'{heading1}_pagerank'], y=t7_row[f'{heading2}_pagerank'], ha='right', va='bottom')\n",
    "plot += annotate('text', label='21', \n",
    "                 x=t8_row[f'{heading1}_pagerank'], y=t8_row[f'{heading2}_pagerank'], ha='right', va='bottom')\n",
    "plot += annotate('text', label='21', \n",
    "                 x=t9_row[f'{heading1}_pagerank'], y=t9_row[f'{heading2}_pagerank'], ha='right', va='bottom')\n",
    "plot += theme_classic()\n",
    "\n",
    "ggsave(plot, f'../figures/{heading1}-{heading2}-difference.svg')"
   ]
  },
  {
   "cell_type": "code",
   "execution_count": 70,
   "id": "de897bf2",
   "metadata": {},
   "outputs": [
    {
     "name": "stdout",
     "output_type": "stream",
     "text": [
      "                               doi  human_genetics_pagerank  \\\n",
      "1168  10.1097/gim.0b013e31821024ca                 0.000282   \n",
      "\n",
      "      human_genetics_percentile  human_genetics_count  \\\n",
      "1168                        1.0                  59.0   \n",
      "\n",
      "      computational_biology_pagerank  computational_biology_percentile  \\\n",
      "1168                        0.000002                              0.23   \n",
      "\n",
      "      computational_biology_count  human_genetics-computational_biology  \\\n",
      "1168                          100                                  0.77   \n",
      "\n",
      "      Computational Biology-Human Genetics      pmid pmcid    journal  \\\n",
      "1168                                 -77.0  21311338  None  Genet Med   \n",
      "\n",
      "                                                  title  \n",
      "1168  Public health genomics: the end of the beginning.  \n"
     ]
    }
   ],
   "source": [
    "heading1 = 'computational_biology'\n",
    "heading2 = 'human_genetics'\n",
    "\n",
    "h1 = string.capwords(heading1.replace('_', ' '))\n",
    "h2 = string.capwords(heading2.replace('_', ' '))\n",
    "\n",
    "title1 = 'Development of human protein reference'\n",
    "title2 = 'A database for post-genome analysis'\n",
    "title3 = 'Use of mass spectrometry-derived data'\n",
    "title4 = 'Genetic discrimination: perspectives'\n",
    "title5 = 'Committee Opinion No. 690:'\n",
    "title6 = 'Public health genomics: the end'\n",
    "title7 = 'Initial sequencing and analysis of the human genome'\n",
    "title8 = 'An STS-based map of the human genome'\n",
    "title9 = 'A new five-year plan'\n",
    "\n",
    "percentile_data = load_percentile_data(heading1, heading2, base_dir='../viz_dataframes')\n",
    "percentile_data[f'{heading1}-{heading2}'] *= 100\n",
    "percentile_data = percentile_data.rename({f'{heading1}-{heading2}': f'{h1}-{h2}'}, axis=1)\n",
    "t1_row = percentile_data[percentile_data['title'].str.contains(title1)]\n",
    "t2_row = percentile_data[percentile_data['title'].str.contains(title2)]\n",
    "t3_row = percentile_data[percentile_data['title'].str.contains(title3)]\n",
    "t4_row = percentile_data[percentile_data['title'].str.contains(title4)]\n",
    "t5_row = percentile_data[percentile_data['title'].str.contains(title5)]\n",
    "t6_row = percentile_data[percentile_data['title'].str.contains(title6)]\n",
    "t7_row = percentile_data[percentile_data['title'].str.contains(title7)]\n",
    "t8_row = percentile_data[percentile_data['title'].str.contains(title8)]\n",
    "t9_row = percentile_data[percentile_data['title'].str.contains(title9)]\n",
    "print(t6_row)"
   ]
  },
  {
   "cell_type": "code",
   "execution_count": 60,
   "id": "15cefe78",
   "metadata": {},
   "outputs": [
    {
     "name": "stderr",
     "output_type": "stream",
     "text": [
      "/home/heil/anaconda3/envs/indices/lib/python3.10/site-packages/plotnine/ggplot.py:718: PlotnineWarning: Saving 6.4 x 4.8 in image.\n",
      "/home/heil/anaconda3/envs/indices/lib/python3.10/site-packages/plotnine/ggplot.py:719: PlotnineWarning: Filename: ../figures/computational_biology-human_genetics-difference.svg\n"
     ]
    }
   ],
   "source": [
    "plot = ggplot(percentile_data, aes(x=f'{heading1}_pagerank', y=f'{heading2}_pagerank', \n",
    "              color=f'{h1}-{h2}'))\n",
    "plot += geom_point()\n",
    "plot += scale_x_log10(name=f'{h1} Pagerank')\n",
    "plot += scale_y_log10(name=f'{h2} Pagerank')\n",
    "plot += ggtitle(f'{h1} and {h2} Percentile Difference')\n",
    "plot += scale_color_gradient2(low='purple', mid='#e2e2e2', high='green')\n",
    "plot += annotate('text', label='21', \n",
    "                 x=t1_row[f'{heading1}_pagerank'], y=t1_row[f'{heading2}_pagerank'], ha='right', va='bottom')\n",
    "plot += annotate('text', label='21', \n",
    "                 x=t2_row[f'{heading1}_pagerank'], y=t2_row[f'{heading2}_pagerank'], ha='right', va='bottom')\n",
    "plot += annotate('text', label='21', \n",
    "                 x=t3_row[f'{heading1}_pagerank'], y=t3_row[f'{heading2}_pagerank'], ha='right', va='bottom')\n",
    "plot += annotate('text', label='21', \n",
    "                 x=t4_row[f'{heading1}_pagerank'], y=t4_row[f'{heading2}_pagerank'], ha='right', va='bottom')\n",
    "plot += annotate('text', label='21', \n",
    "                 x=t5_row[f'{heading1}_pagerank'], y=t5_row[f'{heading2}_pagerank'], ha='right', va='bottom')\n",
    "plot += annotate('text', label='21', \n",
    "                 x=t6_row[f'{heading1}_pagerank'], y=t6_row[f'{heading2}_pagerank'], ha='right', va='bottom')\n",
    "plot += annotate('text', label='21', \n",
    "                 x=t7_row[f'{heading1}_pagerank'], y=t7_row[f'{heading2}_pagerank'], ha='right', va='bottom')\n",
    "plot += annotate('text', label='21', \n",
    "                 x=t8_row[f'{heading1}_pagerank'], y=t8_row[f'{heading2}_pagerank'], ha='right', va='bottom')\n",
    "plot += annotate('text', label='21', \n",
    "                 x=t9_row[f'{heading1}_pagerank'], y=t9_row[f'{heading2}_pagerank'], ha='right', va='bottom')\n",
    "plot += theme_classic()\n",
    "ggsave(plot, f'../figures/{heading1}-{heading2}-difference.svg')"
   ]
  },
  {
   "cell_type": "markdown",
   "id": "71efeaa1",
   "metadata": {},
   "source": [
    "## Combine histograms"
   ]
  },
  {
   "cell_type": "code",
   "execution_count": 12,
   "id": "f0bb233a",
   "metadata": {},
   "outputs": [],
   "source": [
    "plot1 = f'../figures/{headings[0][0]}-{headings[0][1]}-hist.svg'\n",
    "plot2 = f'../figures/{headings[1][0]}-{headings[1][1]}-hist.svg'\n",
    "plot3 = f'../figures/{headings[2][0]}-{headings[2][1]}-hist.svg'\n",
    "plot4 = f'../figures/{headings[3][0]}-{headings[3][1]}-hist.svg'\n",
    "\n",
    "y_2 = 310\n",
    "x_2 = 520\n",
    "\n",
    "fig = Figure(\"1080\", \"636\",\n",
    "       Panel(\n",
    "          SVG(plot1),\n",
    "          Text(\"A\", 0, 40, size=30),\n",
    "          ),\n",
    "       Panel(\n",
    "          SVG(plot2).move(x_2, 0),\n",
    "          Text(\"B\", 20, 40, size=30).move(x_2-20, 0),\n",
    "          ),\n",
    "       Panel(\n",
    "          SVG(plot3).move(0, y_2),\n",
    "          Text(\"C\", 0, 50, size=30).move(0, y_2),\n",
    "          ),\n",
    "       Panel(\n",
    "          SVG(plot4).move(x_2, y_2),\n",
    "          Text(\"D\", 20, 50, size=30).move(x_2-20, y_2),\n",
    "          )\n",
    "       )\n",
    "fig.save('../figures/combined_histogram.svg')"
   ]
  },
  {
   "cell_type": "code",
   "execution_count": 13,
   "id": "eff2affd",
   "metadata": {},
   "outputs": [
    {
     "name": "stdout",
     "output_type": "stream",
     "text": [
      "DPI: 200\n",
      "Background RRGGBBAA: ffffffff\n",
      "Area 0:0:1080:636 exported to 2250 x 1325 pixels (200 dpi)\n",
      "Bitmap saved as: ../figures/combined_histogram.png\n"
     ]
    }
   ],
   "source": [
    "!inkscape --export-dpi 200 --export-png=../figures/combined_histogram.png ../figures/combined_histogram.svg -b \"#ffffffff\""
   ]
  },
  {
   "cell_type": "markdown",
   "id": "1f7ae0b3",
   "metadata": {},
   "source": [
    "## Combine heatmaps"
   ]
  },
  {
   "cell_type": "code",
   "execution_count": 14,
   "id": "0f912237",
   "metadata": {},
   "outputs": [],
   "source": [
    "plot1 = f'../figures/{headings[0][0]}-{headings[0][1]}-heatmap.svg'\n",
    "plot2 = f'../figures/{headings[1][0]}-{headings[1][1]}-heatmap.svg'\n",
    "plot3 = f'../figures/{headings[2][0]}-{headings[2][1]}-heatmap.svg'\n",
    "plot4 = f'../figures/{headings[3][0]}-{headings[3][1]}-heatmap.svg'\n",
    "\n",
    "y_2 = 325\n",
    "x_2 = 500\n",
    "\n",
    "fig = Figure(\"1007\", \"656\",\n",
    "       Panel(\n",
    "          SVG(plot1),\n",
    "          Text(\"A\", 25, 20, size=30),\n",
    "          ),\n",
    "       Panel(\n",
    "          SVG(plot2).move(x_2, 0),\n",
    "          Text(\"B\", 25, 20, size=30).move(x_2-20, 0),\n",
    "          ),\n",
    "       Panel(\n",
    "          SVG(plot3).move(0, y_2),\n",
    "          Text(\"C\", 25, 20, size=30).move(0, y_2),\n",
    "          ),\n",
    "       Panel(\n",
    "          SVG(plot4).move(x_2, y_2),\n",
    "          Text(\"D\", 25, 20, size=30).move(x_2-20, y_2),\n",
    "          )\n",
    "       )\n",
    "fig.save('../figures/combined_heatmap.svg')"
   ]
  },
  {
   "cell_type": "code",
   "execution_count": 15,
   "id": "e1ee986b",
   "metadata": {},
   "outputs": [
    {
     "name": "stdout",
     "output_type": "stream",
     "text": [
      "DPI: 200\n",
      "Background RRGGBBAA: ffffffff\n",
      "Area 0:0:1007:656 exported to 2098 x 1367 pixels (200 dpi)\n",
      "Bitmap saved as: ../figures/combined_heatmap.png\n"
     ]
    }
   ],
   "source": [
    "!inkscape --export-dpi 200 --export-png=../figures/combined_heatmap.png ../figures/combined_heatmap.svg -b \"#ffffffff\""
   ]
  },
  {
   "cell_type": "markdown",
   "id": "56b03945",
   "metadata": {},
   "source": [
    "## Combine percentile plots"
   ]
  },
  {
   "cell_type": "code",
   "execution_count": 67,
   "id": "ec61bc1a",
   "metadata": {},
   "outputs": [],
   "source": [
    "plot1 = f'../figures/{headings[0][0]}-{headings[0][1]}-difference.svg'\n",
    "plot2 = f'../figures/{headings[1][0]}-{headings[1][1]}-difference.svg'\n",
    "plot3 = f'../figures/{headings[2][0]}-{headings[2][1]}-difference.svg'\n",
    "plot4 = f'../figures/{headings[3][0]}-{headings[3][1]}-difference.svg'\n",
    "\n",
    "y_2 = 325\n",
    "x_2 = 630\n",
    "\n",
    "fig = Figure(\"1300\", \"656\",\n",
    "       Panel(\n",
    "          SVG(plot1),\n",
    "          Text(\"A\", 15, 30, size=30),\n",
    "          ),\n",
    "       Panel(\n",
    "          SVG(plot2).move(x_2, 0),\n",
    "          Text(\"B\", 25, 30, size=30).move(x_2-20, 0),\n",
    "          ),\n",
    "       Panel(\n",
    "          SVG(plot3).move(0, y_2),\n",
    "          Text(\"C\", 15, 30, size=30).move(0, y_2-25),\n",
    "          ),\n",
    "       Panel(\n",
    "          SVG(plot4).move(x_2, y_2),\n",
    "          Text(\"D\", 25, 30, size=30).move(x_2-20, y_2-25),\n",
    "          )\n",
    "       )\n",
    "fig.save('../figures/combined_difference.svg')"
   ]
  },
  {
   "cell_type": "code",
   "execution_count": 68,
   "id": "4f656096",
   "metadata": {},
   "outputs": [
    {
     "name": "stdout",
     "output_type": "stream",
     "text": [
      "DPI: 200\n",
      "Background RRGGBBAA: ffffffff\n",
      "Area 0:0:1300:656 exported to 2708 x 1367 pixels (200 dpi)\n",
      "Bitmap saved as: ../figures/combined_difference.png\n"
     ]
    }
   ],
   "source": [
    "!inkscape --export-dpi 200 --export-png=../figures/combined_difference.png ../figures/combined_difference.svg -b \"#ffffffff\""
   ]
  },
  {
   "cell_type": "markdown",
   "id": "2f553d2f",
   "metadata": {},
   "source": [
    "## Build journal plots"
   ]
  },
  {
   "cell_type": "code",
   "execution_count": 18,
   "id": "56698d71",
   "metadata": {},
   "outputs": [],
   "source": [
    "with open('../viz_dataframes/journals/nanotechnology-microscopy.pkl', 'rb') as in_file:\n",
    "    nanotech_df = pkl.load(in_file)\n",
    "nanotech_df.head()\n",
    "science_row = nanotech_df[nanotech_df['journal_title'] == 'Science']\n",
    "science_x_loc = science_row['nanotechnology_pagerank']\n",
    "science_y_loc = science_row['microscopy_pagerank']"
   ]
  },
  {
   "cell_type": "code",
   "execution_count": 19,
   "id": "1d313c82",
   "metadata": {},
   "outputs": [
    {
     "name": "stderr",
     "output_type": "stream",
     "text": [
      "/home/heil/anaconda3/envs/indices/lib/python3.10/site-packages/plotnine/ggplot.py:718: PlotnineWarning: Saving 6.4 x 4.8 in image.\n",
      "/home/heil/anaconda3/envs/indices/lib/python3.10/site-packages/plotnine/ggplot.py:719: PlotnineWarning: Filename: ../figures/microscopy_journals.svg\n"
     ]
    },
    {
     "data": {
      "image/png": "[encoded data removed]",
      "text/plain": [
       "<Figure size 640x480 with 1 Axes>"
      ]
     },
     "metadata": {},
     "output_type": "display_data"
    },
    {
     "data": {
      "text/plain": [
       "<ggplot: (8740113367098)>"
      ]
     },
     "execution_count": 19,
     "metadata": {},
     "output_type": "execute_result"
    }
   ],
   "source": [
    "plot = ggplot(nanotech_df, aes(x='nanotechnology_pagerank', y='microscopy_pagerank'))\n",
    "plot += geom_point()\n",
    "plot += scale_x_log10()\n",
    "plot += scale_y_log10()\n",
    "plot += ggtitle('Common microscopy/nanotechnology journals')\n",
    "plot += annotate('text', x=science_x_loc - 5e-5, y=science_y_loc, label='Science',)\n",
    "plot += annotate('point', x=science_x_loc, y=science_y_loc, fill='red', size=2, color='red')\n",
    "ggsave(plot, '../figures/microscopy_journals.svg')\n",
    "plot"
   ]
  },
  {
   "cell_type": "code",
   "execution_count": 20,
   "id": "7939f189",
   "metadata": {},
   "outputs": [],
   "source": [
    "with open('../viz_dataframes/journals/immunochemistry-anatomy.pkl', 'rb') as in_file:\n",
    "    immunochem_df = pkl.load(in_file)\n",
    "immunochem_df.head()\n",
    "science_row = immunochem_df[immunochem_df['journal_title'] == 'Science']\n",
    "science_x_loc = science_row['immunochemistry_pagerank']\n",
    "science_y_loc = science_row['anatomy_pagerank']"
   ]
  },
  {
   "cell_type": "code",
   "execution_count": 21,
   "id": "c637e613",
   "metadata": {},
   "outputs": [],
   "source": [
    "nature_row = immunochem_df[immunochem_df['journal_title'] == 'Nature']\n",
    "nature_x_loc = nature_row['immunochemistry_pagerank']\n",
    "nature_y_loc = nature_row['anatomy_pagerank']"
   ]
  },
  {
   "cell_type": "code",
   "execution_count": 22,
   "id": "fa41869c",
   "metadata": {},
   "outputs": [],
   "source": [
    "cell_row = immunochem_df[immunochem_df['journal_title'] == 'Cell']\n",
    "cell_x_loc = cell_row['immunochemistry_pagerank']\n",
    "cell_y_loc = cell_row['anatomy_pagerank']"
   ]
  },
  {
   "cell_type": "code",
   "execution_count": 23,
   "id": "9e639cc8",
   "metadata": {},
   "outputs": [
    {
     "name": "stderr",
     "output_type": "stream",
     "text": [
      "/home/heil/anaconda3/envs/indices/lib/python3.10/site-packages/plotnine/ggplot.py:718: PlotnineWarning: Saving 6.4 x 4.8 in image.\n",
      "/home/heil/anaconda3/envs/indices/lib/python3.10/site-packages/plotnine/ggplot.py:719: PlotnineWarning: Filename: ../figures/immunochemistry_journals.svg\n"
     ]
    },
    {
     "data": {
      "image/png": "[encoded data removed]",
      "text/plain": [
       "<Figure size 640x480 with 1 Axes>"
      ]
     },
     "metadata": {},
     "output_type": "display_data"
    },
    {
     "data": {
      "text/plain": [
       "<ggplot: (8740105600652)>"
      ]
     },
     "execution_count": 23,
     "metadata": {},
     "output_type": "execute_result"
    }
   ],
   "source": [
    "plot = ggplot(immunochem_df, aes(x='immunochemistry_pagerank', y='anatomy_pagerank'))\n",
    "plot += geom_point()\n",
    "plot += scale_x_log10()\n",
    "plot += scale_y_log10()\n",
    "plot += ggtitle('Common immunochemistry/anatomy journals')\n",
    "plot += annotate('text', x=science_x_loc - 1.9e-6, y=science_y_loc, label='Science',)\n",
    "plot += annotate('point', x=science_x_loc, y=science_y_loc, fill='red', size=2, color='red')\n",
    "plot += annotate('text', x=nature_x_loc - 2.7e-6, y=nature_y_loc, label='Nature',)\n",
    "plot += annotate('point', x=nature_x_loc, y=nature_y_loc, fill='red', size=2, color='red')\n",
    "plot += annotate('text', x=cell_x_loc - 1.6e-6, y=cell_y_loc, label='Cell',)\n",
    "plot += annotate('point', x=cell_x_loc, y=cell_y_loc, fill='red', size=2, color='red')\n",
    "ggsave(plot, '../figures/immunochemistry_journals.svg')\n",
    "plot"
   ]
  },
  {
   "cell_type": "markdown",
   "id": "503138d7",
   "metadata": {},
   "source": [
    "## Combine journal plots"
   ]
  },
  {
   "cell_type": "code",
   "execution_count": 24,
   "id": "dec6f417",
   "metadata": {},
   "outputs": [],
   "source": [
    "plot1 = f'../figures/microscopy_journals.svg'\n",
    "plot2 = f'../figures/immunochemistry_journals.svg'\n",
    "\n",
    "y_2 = 325\n",
    "x_2 = 415\n",
    "\n",
    "fig = Figure(\"828\", \"331\",\n",
    "       Panel(\n",
    "          SVG(plot1),\n",
    "          Text(\"A\", 25, 20, size=30),\n",
    "          ),\n",
    "       Panel(\n",
    "          SVG(plot2).move(x_2, 0),\n",
    "          Text(\"B\", 25, 20, size=30).move(x_2-20, 0),\n",
    "          ),\n",
    "       )\n",
    "fig.save('../figures/combined_journals.svg')"
   ]
  },
  {
   "cell_type": "code",
   "execution_count": 25,
   "id": "7950ce35",
   "metadata": {},
   "outputs": [
    {
     "name": "stdout",
     "output_type": "stream",
     "text": [
      "DPI: 200\n",
      "Background RRGGBBAA: ffffffff\n",
      "Area 0:0:828:331 exported to 1725 x 690 pixels (200 dpi)\n",
      "Bitmap saved as: ../figures/combined_journals.png\n"
     ]
    }
   ],
   "source": [
    "!inkscape --export-dpi 200 --export-png=../figures/combined_journals.png ../figures/combined_journals.svg -b \"#ffffffff\""
   ]
  },
  {
   "cell_type": "markdown",
   "id": "27fa6d5e",
   "metadata": {},
   "source": [
    "## Create per-field distribution plots"
   ]
  },
  {
   "cell_type": "code",
   "execution_count": 26,
   "id": "82a25d48",
   "metadata": {},
   "outputs": [
    {
     "name": "stderr",
     "output_type": "stream",
     "text": [
      "/home/heil/anaconda3/envs/indices/lib/python3.10/site-packages/plotnine/ggplot.py:718: PlotnineWarning: Saving 6.4 x 4.8 in image.\n",
      "/home/heil/anaconda3/envs/indices/lib/python3.10/site-packages/plotnine/ggplot.py:719: PlotnineWarning: Filename: ../figures/nanotechnology-hist.svg\n",
      "/home/heil/anaconda3/envs/indices/lib/python3.10/site-packages/plotnine/stats/stat_bin.py:95: PlotnineWarning: 'stat_bin()' using 'bins = 140'. Pick better value with 'binwidth'.\n",
      "/home/heil/anaconda3/envs/indices/lib/python3.10/site-packages/plotnine/ggplot.py:718: PlotnineWarning: Saving 6.4 x 4.8 in image.\n",
      "/home/heil/anaconda3/envs/indices/lib/python3.10/site-packages/plotnine/ggplot.py:719: PlotnineWarning: Filename: ../figures/microscopy-hist.svg\n",
      "/home/heil/anaconda3/envs/indices/lib/python3.10/site-packages/plotnine/stats/stat_bin.py:95: PlotnineWarning: 'stat_bin()' using 'bins = 322'. Pick better value with 'binwidth'.\n",
      "/home/heil/anaconda3/envs/indices/lib/python3.10/site-packages/plotnine/ggplot.py:718: PlotnineWarning: Saving 6.4 x 4.8 in image.\n",
      "/home/heil/anaconda3/envs/indices/lib/python3.10/site-packages/plotnine/ggplot.py:719: PlotnineWarning: Filename: ../figures/immunochemistry-hist.svg\n",
      "/home/heil/anaconda3/envs/indices/lib/python3.10/site-packages/plotnine/stats/stat_bin.py:95: PlotnineWarning: 'stat_bin()' using 'bins = 275'. Pick better value with 'binwidth'.\n",
      "/home/heil/anaconda3/envs/indices/lib/python3.10/site-packages/plotnine/ggplot.py:718: PlotnineWarning: Saving 6.4 x 4.8 in image.\n",
      "/home/heil/anaconda3/envs/indices/lib/python3.10/site-packages/plotnine/ggplot.py:719: PlotnineWarning: Filename: ../figures/anatomy-hist.svg\n",
      "/home/heil/anaconda3/envs/indices/lib/python3.10/site-packages/plotnine/stats/stat_bin.py:95: PlotnineWarning: 'stat_bin()' using 'bins = 271'. Pick better value with 'binwidth'.\n",
      "/home/heil/anaconda3/envs/indices/lib/python3.10/site-packages/plotnine/ggplot.py:718: PlotnineWarning: Saving 6.4 x 4.8 in image.\n",
      "/home/heil/anaconda3/envs/indices/lib/python3.10/site-packages/plotnine/ggplot.py:719: PlotnineWarning: Filename: ../figures/proteomics-hist.svg\n",
      "/home/heil/anaconda3/envs/indices/lib/python3.10/site-packages/plotnine/stats/stat_bin.py:95: PlotnineWarning: 'stat_bin()' using 'bins = 200'. Pick better value with 'binwidth'.\n",
      "/home/heil/anaconda3/envs/indices/lib/python3.10/site-packages/plotnine/ggplot.py:718: PlotnineWarning: Saving 6.4 x 4.8 in image.\n",
      "/home/heil/anaconda3/envs/indices/lib/python3.10/site-packages/plotnine/ggplot.py:719: PlotnineWarning: Filename: ../figures/metabolomics-hist.svg\n",
      "/home/heil/anaconda3/envs/indices/lib/python3.10/site-packages/plotnine/stats/stat_bin.py:95: PlotnineWarning: 'stat_bin()' using 'bins = 116'. Pick better value with 'binwidth'.\n",
      "/home/heil/anaconda3/envs/indices/lib/python3.10/site-packages/plotnine/ggplot.py:718: PlotnineWarning: Saving 6.4 x 4.8 in image.\n",
      "/home/heil/anaconda3/envs/indices/lib/python3.10/site-packages/plotnine/ggplot.py:719: PlotnineWarning: Filename: ../figures/computational_biology-hist.svg\n",
      "/home/heil/anaconda3/envs/indices/lib/python3.10/site-packages/plotnine/stats/stat_bin.py:95: PlotnineWarning: 'stat_bin()' using 'bins = 333'. Pick better value with 'binwidth'.\n",
      "/home/heil/anaconda3/envs/indices/lib/python3.10/site-packages/plotnine/ggplot.py:718: PlotnineWarning: Saving 6.4 x 4.8 in image.\n",
      "/home/heil/anaconda3/envs/indices/lib/python3.10/site-packages/plotnine/ggplot.py:719: PlotnineWarning: Filename: ../figures/human_genetics-hist.svg\n",
      "/home/heil/anaconda3/envs/indices/lib/python3.10/site-packages/plotnine/stats/stat_bin.py:95: PlotnineWarning: 'stat_bin()' using 'bins = 81'. Pick better value with 'binwidth'.\n"
     ]
    }
   ],
   "source": [
    "for heading1, heading2 in headings:\n",
    "    with open(f'../output/{heading1}-{heading2}-pagerank.pkl', 'rb') as in_file:\n",
    "        h1_dict = pkl.load(in_file)\n",
    "        h1_df = pd.DataFrame.from_dict(h1_dict, orient='index', columns=['pagerank'])\n",
    "    with open(f'../output/{heading2}-{heading1}-pagerank.pkl', 'rb') as in_file:\n",
    "        h2_dict = pkl.load(in_file)\n",
    "        h2_df = pd.DataFrame.from_dict(h2_dict, orient='index', columns=['pagerank'])\n",
    "    \n",
    "    h1_text = string.capwords(heading1.replace('_', ' '))\n",
    "    h2_text = string.capwords(heading2.replace('_', ' '))\n",
    "    \n",
    "    plot = ggplot(h1_df, aes(x='pagerank'))\n",
    "    plot += geom_histogram()\n",
    "    plot += ggtitle(f'{h1_text} PageRank Distribution')\n",
    "    plot += scale_x_log10(name='PageRank')\n",
    "    plot += scale_y_continuous(name='Count')\n",
    "    plot += theme_classic()\n",
    "    ggsave(plot, f'../figures/{heading1}-hist.svg')\n",
    "    \n",
    "    plot = ggplot(h2_df, aes(x='pagerank'))\n",
    "    plot += geom_histogram()\n",
    "    plot += ggtitle(f'{h2_text} PageRank Distribution')\n",
    "    plot += scale_x_log10(name='PageRank')\n",
    "    plot += scale_y_continuous(name='Count')\n",
    "    plot += theme_classic()\n",
    "    ggsave(plot, f'../figures/{heading2}-hist.svg')\n",
    "    "
   ]
  },
  {
   "cell_type": "code",
   "execution_count": 27,
   "id": "ada22f85",
   "metadata": {},
   "outputs": [],
   "source": [
    "plot1 = f'../figures/{headings[0][0]}-hist.svg'\n",
    "plot5 = f'../figures/{headings[0][1]}-hist.svg'\n",
    "plot2 = f'../figures/{headings[1][0]}-hist.svg'\n",
    "plot6 = f'../figures/{headings[1][1]}-hist.svg'\n",
    "plot3 = f'../figures/{headings[2][0]}-hist.svg'\n",
    "plot7 = f'../figures/{headings[2][1]}-hist.svg'\n",
    "plot4 = f'../figures/{headings[3][0]}-hist.svg'\n",
    "plot8 = f'../figures/{headings[3][1]}-hist.svg'\n",
    "\n",
    "y_2 = 325\n",
    "x_2 = 420\n",
    "x_3 = 840\n",
    "x_4 = 1260\n",
    "\n",
    "fig = Figure(\"1693\", \"654\",\n",
    "       Panel(\n",
    "          SVG(plot1),\n",
    "          Text(\"A\", 0, 30, size=30),\n",
    "          ),\n",
    "       Panel(\n",
    "          SVG(plot2).move(x_2, 0),\n",
    "          Text(\"B\", 20, 30, size=30).move(x_2-20, 0),\n",
    "          ),\n",
    "       Panel(\n",
    "          SVG(plot3).move(x_3, 0),\n",
    "          Text(\"C\", 0, 30, size=30).move(x_3, 0)\n",
    "          ),\n",
    "       Panel(\n",
    "          SVG(plot4).move(x_4, 0),\n",
    "          Text(\"D\", 20, 30, size=30).move(x_4, 0),\n",
    "          ),\n",
    "       Panel(\n",
    "          SVG(plot5).move(0, y_2),\n",
    "          Text(\"E\", 0, 30, size=30).move(0, y_2),\n",
    "          ),\n",
    "       Panel(\n",
    "          SVG(plot6).move(x_2, y_2),\n",
    "          Text(\"F\", 20, 30, size=30).move(x_2-20, y_2),\n",
    "          ),\n",
    "       Panel(\n",
    "          SVG(plot7).move(x_3, y_2),\n",
    "          Text(\"G\", 0, 30, size=30).move(x_3, y_2),\n",
    "          ),\n",
    "       Panel(\n",
    "          SVG(plot8).move(x_4, y_2),\n",
    "          Text(\"H\", 20, 30, size=30).move(x_4, y_2),\n",
    "          ),\n",
    "     )\n",
    "\n",
    "fig.save('../figures/per-field.svg')"
   ]
  },
  {
   "cell_type": "code",
   "execution_count": 28,
   "id": "2dd32b29",
   "metadata": {},
   "outputs": [
    {
     "name": "stdout",
     "output_type": "stream",
     "text": [
      "DPI: 200\n",
      "Background RRGGBBAA: ffffffff\n",
      "Area 0:0:1693:654 exported to 3527 x 1363 pixels (200 dpi)\n",
      "Bitmap saved as: ../figures/per-field.png\n"
     ]
    }
   ],
   "source": [
    "!inkscape  --export-dpi 200 --export-png=../figures/per-field.png ../figures/per-field.svg -b \"#ffffffff\""
   ]
  },
  {
   "cell_type": "markdown",
   "id": "ff4ecb48",
   "metadata": {},
   "source": [
    "## Specialty journal analysis"
   ]
  },
  {
   "cell_type": "code",
   "execution_count": 29,
   "id": "ba0fa274",
   "metadata": {},
   "outputs": [
    {
     "name": "stdout",
     "output_type": "stream",
     "text": [
      "1980\n"
     ]
    }
   ],
   "source": [
    "output_files = glob('../output/*-*-pagerank.pkl')\n",
    "print(len(output_files))"
   ]
  },
  {
   "cell_type": "code",
   "execution_count": 30,
   "id": "7be08c3e",
   "metadata": {},
   "outputs": [],
   "source": [
    "journal_info = {'journal': [], 'count': [], 'field': []}\n",
    "headings_seen = set()\n",
    "\n",
    "for file in output_files:\n",
    "    heading = os.path.basename(file).split('-')[0]\n",
    "    if heading in headings_seen:\n",
    "        continue\n",
    "    else:\n",
    "        headings_seen.add(heading)\n",
    "    \n",
    "    with open(file, 'rb') as in_file:\n",
    "        heading_dict = pkl.load(in_file)\n",
    "    pagerank_df = pd.DataFrame.from_dict(heading_dict, orient='index', columns=['pagerank'])\n",
    "    pagerank_df = pagerank_df.reset_index()\n",
    "    pagerank_df = pagerank_df.rename({'index': 'doi'}, axis='columns')\n",
    "    \n",
    "    \n",
    "    metadata_path = f'../data/pubmed/efetch/{heading}.xml.xz'\n",
    "    metadata = parse_metadata(metadata_path)\n",
    "    \n",
    "    doi_to_journal = dict(zip(metadata['doi'], metadata['journal']))\n",
    "    \n",
    "    pagerank_df['journal'] = pagerank_df['doi'].map(doi_to_journal)\n",
    "    for journal, count in pagerank_df['journal'].value_counts().iteritems():\n",
    "        journal_info['journal'].append(journal)\n",
    "        journal_info['count'].append(count)\n",
    "        journal_info['field'].append(heading)"
   ]
  },
  {
   "cell_type": "code",
   "execution_count": 31,
   "id": "2f43579c",
   "metadata": {},
   "outputs": [
    {
     "data": {
      "text/html": [
       "<div>\n",
       "<style scoped>\n",
       "    .dataframe tbody tr th:only-of-type {\n",
       "        vertical-align: middle;\n",
       "    }\n",
       "\n",
       "    .dataframe tbody tr th {\n",
       "        vertical-align: top;\n",
       "    }\n",
       "\n",
       "    .dataframe thead th {\n",
       "        text-align: right;\n",
       "    }\n",
       "</style>\n",
       "<table border=\"1\" class=\"dataframe\">\n",
       "  <thead>\n",
       "    <tr style=\"text-align: right;\">\n",
       "      <th></th>\n",
       "      <th>journal</th>\n",
       "      <th>count</th>\n",
       "      <th>field</th>\n",
       "    </tr>\n",
       "  </thead>\n",
       "  <tbody>\n",
       "    <tr>\n",
       "      <th>0</th>\n",
       "      <td>Brain Res</td>\n",
       "      <td>6342</td>\n",
       "      <td>histocytochemistry</td>\n",
       "    </tr>\n",
       "    <tr>\n",
       "      <th>1</th>\n",
       "      <td>Neuroscience</td>\n",
       "      <td>4569</td>\n",
       "      <td>histocytochemistry</td>\n",
       "    </tr>\n",
       "    <tr>\n",
       "      <th>2</th>\n",
       "      <td>PLoS One</td>\n",
       "      <td>4510</td>\n",
       "      <td>histocytochemistry</td>\n",
       "    </tr>\n",
       "    <tr>\n",
       "      <th>3</th>\n",
       "      <td>J Comp Neurol</td>\n",
       "      <td>4496</td>\n",
       "      <td>histocytochemistry</td>\n",
       "    </tr>\n",
       "    <tr>\n",
       "      <th>4</th>\n",
       "      <td>J Histochem Cytochem</td>\n",
       "      <td>4428</td>\n",
       "      <td>histocytochemistry</td>\n",
       "    </tr>\n",
       "    <tr>\n",
       "      <th>...</th>\n",
       "      <td>...</td>\n",
       "      <td>...</td>\n",
       "      <td>...</td>\n",
       "    </tr>\n",
       "    <tr>\n",
       "      <th>89853</th>\n",
       "      <td>J Immunotoxicol</td>\n",
       "      <td>1</td>\n",
       "      <td>crystallography</td>\n",
       "    </tr>\n",
       "    <tr>\n",
       "      <th>89854</th>\n",
       "      <td>Pathol Biol (Paris)</td>\n",
       "      <td>1</td>\n",
       "      <td>crystallography</td>\n",
       "    </tr>\n",
       "    <tr>\n",
       "      <th>89855</th>\n",
       "      <td>Cancer Sci</td>\n",
       "      <td>1</td>\n",
       "      <td>crystallography</td>\n",
       "    </tr>\n",
       "    <tr>\n",
       "      <th>89856</th>\n",
       "      <td>Biogr Mem Fellows R Soc</td>\n",
       "      <td>1</td>\n",
       "      <td>crystallography</td>\n",
       "    </tr>\n",
       "    <tr>\n",
       "      <th>89857</th>\n",
       "      <td>Am Rev Respir Dis</td>\n",
       "      <td>1</td>\n",
       "      <td>crystallography</td>\n",
       "    </tr>\n",
       "  </tbody>\n",
       "</table>\n",
       "<p>89858 rows × 3 columns</p>\n",
       "</div>"
      ],
      "text/plain": [
       "                       journal  count               field\n",
       "0                    Brain Res   6342  histocytochemistry\n",
       "1                 Neuroscience   4569  histocytochemistry\n",
       "2                     PLoS One   4510  histocytochemistry\n",
       "3                J Comp Neurol   4496  histocytochemistry\n",
       "4         J Histochem Cytochem   4428  histocytochemistry\n",
       "...                        ...    ...                 ...\n",
       "89853          J Immunotoxicol      1     crystallography\n",
       "89854      Pathol Biol (Paris)      1     crystallography\n",
       "89855               Cancer Sci      1     crystallography\n",
       "89856  Biogr Mem Fellows R Soc      1     crystallography\n",
       "89857        Am Rev Respir Dis      1     crystallography\n",
       "\n",
       "[89858 rows x 3 columns]"
      ]
     },
     "execution_count": 31,
     "metadata": {},
     "output_type": "execute_result"
    }
   ],
   "source": [
    "journal_df = pd.DataFrame(journal_info)\n",
    "journal_df"
   ]
  },
  {
   "cell_type": "code",
   "execution_count": 32,
   "id": "8310ab90",
   "metadata": {},
   "outputs": [
    {
     "data": {
      "text/plain": [
       "45"
      ]
     },
     "execution_count": 32,
     "metadata": {},
     "output_type": "execute_result"
    }
   ],
   "source": [
    "journal_df['field'].nunique()"
   ]
  },
  {
   "cell_type": "code",
   "execution_count": 33,
   "id": "0975be6a",
   "metadata": {},
   "outputs": [
    {
     "data": {
      "text/plain": [
       "count    5178\n",
       "dtype: int64"
      ]
     },
     "execution_count": 33,
     "metadata": {},
     "output_type": "execute_result"
    }
   ],
   "source": [
    "# There are 5178 journals with at least 100 articles in the dataset\n",
    "(journal_df.groupby('journal').sum() > 50 ).sum()"
   ]
  },
  {
   "cell_type": "code",
   "execution_count": 34,
   "id": "c583915b",
   "metadata": {},
   "outputs": [],
   "source": [
    "journal_series = journal_df.groupby('journal').sum() > 50 \n",
    "common_journals = set(journal_series[journal_series['count']].index)"
   ]
  },
  {
   "cell_type": "code",
   "execution_count": 35,
   "id": "886aca60",
   "metadata": {},
   "outputs": [
    {
     "data": {
      "text/html": [
       "<div>\n",
       "<style scoped>\n",
       "    .dataframe tbody tr th:only-of-type {\n",
       "        vertical-align: middle;\n",
       "    }\n",
       "\n",
       "    .dataframe tbody tr th {\n",
       "        vertical-align: top;\n",
       "    }\n",
       "\n",
       "    .dataframe thead th {\n",
       "        text-align: right;\n",
       "    }\n",
       "</style>\n",
       "<table border=\"1\" class=\"dataframe\">\n",
       "  <thead>\n",
       "    <tr style=\"text-align: right;\">\n",
       "      <th></th>\n",
       "      <th>journal</th>\n",
       "      <th>count</th>\n",
       "      <th>field</th>\n",
       "    </tr>\n",
       "  </thead>\n",
       "  <tbody>\n",
       "    <tr>\n",
       "      <th>0</th>\n",
       "      <td>Brain Res</td>\n",
       "      <td>6342</td>\n",
       "      <td>histocytochemistry</td>\n",
       "    </tr>\n",
       "    <tr>\n",
       "      <th>1</th>\n",
       "      <td>Neuroscience</td>\n",
       "      <td>4569</td>\n",
       "      <td>histocytochemistry</td>\n",
       "    </tr>\n",
       "    <tr>\n",
       "      <th>2</th>\n",
       "      <td>PLoS One</td>\n",
       "      <td>4510</td>\n",
       "      <td>histocytochemistry</td>\n",
       "    </tr>\n",
       "    <tr>\n",
       "      <th>3</th>\n",
       "      <td>J Comp Neurol</td>\n",
       "      <td>4496</td>\n",
       "      <td>histocytochemistry</td>\n",
       "    </tr>\n",
       "    <tr>\n",
       "      <th>4</th>\n",
       "      <td>J Histochem Cytochem</td>\n",
       "      <td>4428</td>\n",
       "      <td>histocytochemistry</td>\n",
       "    </tr>\n",
       "    <tr>\n",
       "      <th>...</th>\n",
       "      <td>...</td>\n",
       "      <td>...</td>\n",
       "      <td>...</td>\n",
       "    </tr>\n",
       "    <tr>\n",
       "      <th>89852</th>\n",
       "      <td>J Tongji Med Univ</td>\n",
       "      <td>1</td>\n",
       "      <td>crystallography</td>\n",
       "    </tr>\n",
       "    <tr>\n",
       "      <th>89853</th>\n",
       "      <td>J Immunotoxicol</td>\n",
       "      <td>1</td>\n",
       "      <td>crystallography</td>\n",
       "    </tr>\n",
       "    <tr>\n",
       "      <th>89854</th>\n",
       "      <td>Pathol Biol (Paris)</td>\n",
       "      <td>1</td>\n",
       "      <td>crystallography</td>\n",
       "    </tr>\n",
       "    <tr>\n",
       "      <th>89855</th>\n",
       "      <td>Cancer Sci</td>\n",
       "      <td>1</td>\n",
       "      <td>crystallography</td>\n",
       "    </tr>\n",
       "    <tr>\n",
       "      <th>89857</th>\n",
       "      <td>Am Rev Respir Dis</td>\n",
       "      <td>1</td>\n",
       "      <td>crystallography</td>\n",
       "    </tr>\n",
       "  </tbody>\n",
       "</table>\n",
       "<p>81780 rows × 3 columns</p>\n",
       "</div>"
      ],
      "text/plain": [
       "                    journal  count               field\n",
       "0                 Brain Res   6342  histocytochemistry\n",
       "1              Neuroscience   4569  histocytochemistry\n",
       "2                  PLoS One   4510  histocytochemistry\n",
       "3             J Comp Neurol   4496  histocytochemistry\n",
       "4      J Histochem Cytochem   4428  histocytochemistry\n",
       "...                     ...    ...                 ...\n",
       "89852     J Tongji Med Univ      1     crystallography\n",
       "89853       J Immunotoxicol      1     crystallography\n",
       "89854   Pathol Biol (Paris)      1     crystallography\n",
       "89855            Cancer Sci      1     crystallography\n",
       "89857     Am Rev Respir Dis      1     crystallography\n",
       "\n",
       "[81780 rows x 3 columns]"
      ]
     },
     "execution_count": 35,
     "metadata": {},
     "output_type": "execute_result"
    }
   ],
   "source": [
    "common_journal_df = journal_df.loc[journal_df['journal'].isin(common_journals)]\n",
    "common_journal_df"
   ]
  },
  {
   "cell_type": "code",
   "execution_count": 36,
   "id": "009320c3",
   "metadata": {},
   "outputs": [
    {
     "data": {
      "text/plain": [
       "journal\n",
       "A A Case Rep           100\n",
       "A A Pract              114\n",
       "AACN Adv Crit Care     134\n",
       "AACN Clin Issues       188\n",
       "AAOHN J                141\n",
       "                      ... \n",
       "Zootaxa                171\n",
       "Zygote                 350\n",
       "eNeuro                 100\n",
       "mBio                  1157\n",
       "mSphere                325\n",
       "Name: count, Length: 5178, dtype: int64"
      ]
     },
     "execution_count": 36,
     "metadata": {},
     "output_type": "execute_result"
    }
   ],
   "source": [
    "journal_total_articles = common_journal_df.groupby('journal').sum()['count']\n",
    "journal_total_articles"
   ]
  },
  {
   "cell_type": "code",
   "execution_count": 37,
   "id": "2b255309",
   "metadata": {},
   "outputs": [
    {
     "data": {
      "text/plain": [
       "journal\n",
       "A A Case Rep          0.730000\n",
       "A A Pract             0.868421\n",
       "AACN Adv Crit Care    0.447761\n",
       "AACN Clin Issues      0.356383\n",
       "AAOHN J               0.574468\n",
       "                        ...   \n",
       "Zootaxa               0.473684\n",
       "Zygote                0.511429\n",
       "eNeuro                0.430000\n",
       "mBio                  0.261884\n",
       "mSphere               0.301538\n",
       "Name: count, Length: 5178, dtype: float64"
      ]
     },
     "execution_count": 37,
     "metadata": {},
     "output_type": "execute_result"
    }
   ],
   "source": [
    "largest_field_percent = common_journal_df.groupby('journal')['count'].max() / journal_total_articles\n",
    "largest_field_percent"
   ]
  },
  {
   "cell_type": "code",
   "execution_count": 38,
   "id": "e0ab9409",
   "metadata": {},
   "outputs": [
    {
     "data": {
      "text/plain": [
       "56"
      ]
     },
     "execution_count": 38,
     "metadata": {},
     "output_type": "execute_result"
    }
   ],
   "source": [
    "field_specific_journals = largest_field_percent[largest_field_percent > .9].index\n",
    "largest_field_percent[largest_field_percent > .9].count()"
   ]
  },
  {
   "cell_type": "code",
   "execution_count": 39,
   "id": "c57ff478",
   "metadata": {},
   "outputs": [
    {
     "data": {
      "text/plain": [
       "journal          count  field              \n",
       "Accid Anal Prev  1      biotechnology          1\n",
       "                        physiology             1\n",
       "                 3606   statistics_as_topic    1\n",
       "                 54     research_design        1\n",
       "                 31     operations_research    1\n",
       "                                              ..\n",
       "Ultraschall Med  2      research_design        1\n",
       "                 1      rheology               1\n",
       "                        human_genetics         1\n",
       "                        anatomy                1\n",
       "                 271    statistics_as_topic    1\n",
       "Length: 440, dtype: int64"
      ]
     },
     "execution_count": 39,
     "metadata": {},
     "output_type": "execute_result"
    }
   ],
   "source": [
    "common_journal_df[common_journal_df['journal'].isin(field_specific_journals)].groupby('journal').value_counts()"
   ]
  },
  {
   "cell_type": "markdown",
   "id": "c5efd6d3",
   "metadata": {},
   "source": [
    "#### Result\n",
    "Of the 5178 journals with at least 50 articles in the dataset, only 56 (1.1%) of journals have more than 90 percent of their articles from one field"
   ]
  },
  {
   "cell_type": "markdown",
   "id": "5e54a60e",
   "metadata": {},
   "source": [
    "## Top journal analysis"
   ]
  },
  {
   "cell_type": "code",
   "execution_count": 40,
   "id": "d5df84f1",
   "metadata": {},
   "outputs": [],
   "source": [
    "top_journal_info = {'top_journal': [], 'field': []}\n",
    "headings_seen = set()\n",
    "\n",
    "for file in output_files:\n",
    "    heading = os.path.basename(file).split('-')[0]\n",
    "    if heading in headings_seen:\n",
    "        continue\n",
    "    else:\n",
    "        headings_seen.add(heading)\n",
    "    \n",
    "    with open(file, 'rb') as in_file:\n",
    "        heading_dict = pkl.load(in_file)\n",
    "    pagerank_df = pd.DataFrame.from_dict(heading_dict, orient='index', columns=['pagerank'])\n",
    "    pagerank_df = pagerank_df.reset_index()\n",
    "    pagerank_df = pagerank_df.rename({'index': 'doi'}, axis='columns')\n",
    "    \n",
    "    metadata_path = f'../data/pubmed/efetch/{heading}.xml.xz'\n",
    "    metadata = parse_metadata(metadata_path)\n",
    "    \n",
    "    doi_to_journal = dict(zip(metadata['doi'], metadata['journal']))\n",
    "    \n",
    "    pagerank_df['journal'] = pagerank_df['doi'].map(doi_to_journal)\n",
    "        \n",
    "    journal_series = pagerank_df.groupby('journal').count() > 50 \n",
    "    common_journals = set(journal_series[journal_series['doi']].index)\n",
    "    \n",
    "    common_journal_df = pagerank_df[pagerank_df['journal'].isin(common_journals)]\n",
    "    top_journals = common_journal_df.groupby('journal').median().sort_values(by='pagerank', ascending=False)\n",
    "        \n",
    "    top_journal = top_journals.index[0]\n",
    "    \n",
    "    top_journal_info['top_journal'].append(top_journal)\n",
    "    top_journal_info['field'].append(heading)"
   ]
  },
  {
   "cell_type": "code",
   "execution_count": 41,
   "id": "604bdf2c",
   "metadata": {},
   "outputs": [
    {
     "data": {
      "text/html": [
       "<div>\n",
       "<style scoped>\n",
       "    .dataframe tbody tr th:only-of-type {\n",
       "        vertical-align: middle;\n",
       "    }\n",
       "\n",
       "    .dataframe tbody tr th {\n",
       "        vertical-align: top;\n",
       "    }\n",
       "\n",
       "    .dataframe thead th {\n",
       "        text-align: right;\n",
       "    }\n",
       "</style>\n",
       "<table border=\"1\" class=\"dataframe\">\n",
       "  <thead>\n",
       "    <tr style=\"text-align: right;\">\n",
       "      <th></th>\n",
       "      <th>top_journal</th>\n",
       "      <th>field</th>\n",
       "      <th>cat</th>\n",
       "    </tr>\n",
       "  </thead>\n",
       "  <tbody>\n",
       "    <tr>\n",
       "      <th>0</th>\n",
       "      <td>Cell</td>\n",
       "      <td>histocytochemistry</td>\n",
       "      <td>Cell</td>\n",
       "    </tr>\n",
       "    <tr>\n",
       "      <th>1</th>\n",
       "      <td>Ann Fam Med</td>\n",
       "      <td>empirical_research</td>\n",
       "      <td>Ann Fam Med</td>\n",
       "    </tr>\n",
       "    <tr>\n",
       "      <th>2</th>\n",
       "      <td>Nat Neurosci</td>\n",
       "      <td>neurosciences</td>\n",
       "      <td>Nat Neurosci</td>\n",
       "    </tr>\n",
       "    <tr>\n",
       "      <th>3</th>\n",
       "      <td>Nat Rev Drug Discov</td>\n",
       "      <td>pharmacology</td>\n",
       "      <td>Nat Rev Drug Discov</td>\n",
       "    </tr>\n",
       "    <tr>\n",
       "      <th>4</th>\n",
       "      <td>Sci Transl Med</td>\n",
       "      <td>translational_research_biomedical</td>\n",
       "      <td>Sci Transl Med</td>\n",
       "    </tr>\n",
       "    <tr>\n",
       "      <th>5</th>\n",
       "      <td>Science</td>\n",
       "      <td>rheology</td>\n",
       "      <td>Science</td>\n",
       "    </tr>\n",
       "    <tr>\n",
       "      <th>6</th>\n",
       "      <td>Cell</td>\n",
       "      <td>immunochemistry</td>\n",
       "      <td>Cell</td>\n",
       "    </tr>\n",
       "    <tr>\n",
       "      <th>7</th>\n",
       "      <td>Int J Syst Bacteriol</td>\n",
       "      <td>soil_microbiology</td>\n",
       "      <td>Int J Syst Bacteriol</td>\n",
       "    </tr>\n",
       "    <tr>\n",
       "      <th>8</th>\n",
       "      <td>Mutat Res</td>\n",
       "      <td>toxicology</td>\n",
       "      <td>Mutat Res</td>\n",
       "    </tr>\n",
       "    <tr>\n",
       "      <th>9</th>\n",
       "      <td>Science</td>\n",
       "      <td>magnetics</td>\n",
       "      <td>Science</td>\n",
       "    </tr>\n",
       "    <tr>\n",
       "      <th>10</th>\n",
       "      <td>Science</td>\n",
       "      <td>photochemistry</td>\n",
       "      <td>Science</td>\n",
       "    </tr>\n",
       "    <tr>\n",
       "      <th>11</th>\n",
       "      <td>Chem Rev</td>\n",
       "      <td>nuclear_physics</td>\n",
       "      <td>Chem Rev</td>\n",
       "    </tr>\n",
       "    <tr>\n",
       "      <th>12</th>\n",
       "      <td>Cell</td>\n",
       "      <td>anatomy</td>\n",
       "      <td>Cell</td>\n",
       "    </tr>\n",
       "    <tr>\n",
       "      <th>13</th>\n",
       "      <td>N Engl J Med</td>\n",
       "      <td>statistics_as_topic</td>\n",
       "      <td>N Engl J Med</td>\n",
       "    </tr>\n",
       "    <tr>\n",
       "      <th>14</th>\n",
       "      <td>Nat Neurosci</td>\n",
       "      <td>nonlinear_dynamics</td>\n",
       "      <td>Nat Neurosci</td>\n",
       "    </tr>\n",
       "    <tr>\n",
       "      <th>15</th>\n",
       "      <td>Lancet</td>\n",
       "      <td>water_microbiology</td>\n",
       "      <td>Lancet</td>\n",
       "    </tr>\n",
       "    <tr>\n",
       "      <th>16</th>\n",
       "      <td>J Infect Dis</td>\n",
       "      <td>food_microbiology</td>\n",
       "      <td>J Infect Dis</td>\n",
       "    </tr>\n",
       "    <tr>\n",
       "      <th>17</th>\n",
       "      <td>J Infect Dis</td>\n",
       "      <td>molecular_biology</td>\n",
       "      <td>J Infect Dis</td>\n",
       "    </tr>\n",
       "    <tr>\n",
       "      <th>18</th>\n",
       "      <td>Adv Drug Deliv Rev</td>\n",
       "      <td>chemistry_pharmaceutical</td>\n",
       "      <td>Adv Drug Deliv Rev</td>\n",
       "    </tr>\n",
       "    <tr>\n",
       "      <th>19</th>\n",
       "      <td>Nat Biotechnol</td>\n",
       "      <td>proteomics</td>\n",
       "      <td>Nat Biotechnol</td>\n",
       "    </tr>\n",
       "    <tr>\n",
       "      <th>20</th>\n",
       "      <td>Science</td>\n",
       "      <td>operations_research</td>\n",
       "      <td>Science</td>\n",
       "    </tr>\n",
       "    <tr>\n",
       "      <th>21</th>\n",
       "      <td>Nature</td>\n",
       "      <td>paleontology</td>\n",
       "      <td>Nature</td>\n",
       "    </tr>\n",
       "    <tr>\n",
       "      <th>22</th>\n",
       "      <td>J Adv Nurs</td>\n",
       "      <td>nursing_evaluation_research</td>\n",
       "      <td>J Adv Nurs</td>\n",
       "    </tr>\n",
       "    <tr>\n",
       "      <th>23</th>\n",
       "      <td>Angew Chem Int Ed Engl</td>\n",
       "      <td>microtechnology</td>\n",
       "      <td>Angew Chem Int Ed Engl</td>\n",
       "    </tr>\n",
       "    <tr>\n",
       "      <th>24</th>\n",
       "      <td>N Engl J Med</td>\n",
       "      <td>health_services_research</td>\n",
       "      <td>N Engl J Med</td>\n",
       "    </tr>\n",
       "    <tr>\n",
       "      <th>25</th>\n",
       "      <td>J Adv Nurs</td>\n",
       "      <td>nursing_methodology_research</td>\n",
       "      <td>J Adv Nurs</td>\n",
       "    </tr>\n",
       "    <tr>\n",
       "      <th>26</th>\n",
       "      <td>Nature</td>\n",
       "      <td>electronics</td>\n",
       "      <td>Nature</td>\n",
       "    </tr>\n",
       "    <tr>\n",
       "      <th>27</th>\n",
       "      <td>Anesthesiology</td>\n",
       "      <td>fiber_optic_technology</td>\n",
       "      <td>Anesthesiology</td>\n",
       "    </tr>\n",
       "    <tr>\n",
       "      <th>28</th>\n",
       "      <td>Science</td>\n",
       "      <td>nanotechnology</td>\n",
       "      <td>Science</td>\n",
       "    </tr>\n",
       "    <tr>\n",
       "      <th>29</th>\n",
       "      <td>Nat Rev Genet</td>\n",
       "      <td>genetics_population</td>\n",
       "      <td>Nat Rev Genet</td>\n",
       "    </tr>\n",
       "    <tr>\n",
       "      <th>30</th>\n",
       "      <td>Nature</td>\n",
       "      <td>genetic_research</td>\n",
       "      <td>Nature</td>\n",
       "    </tr>\n",
       "    <tr>\n",
       "      <th>31</th>\n",
       "      <td>N Engl J Med</td>\n",
       "      <td>research_design</td>\n",
       "      <td>N Engl J Med</td>\n",
       "    </tr>\n",
       "    <tr>\n",
       "      <th>32</th>\n",
       "      <td>Mol Cell Proteomics</td>\n",
       "      <td>metabolomics</td>\n",
       "      <td>Mol Cell Proteomics</td>\n",
       "    </tr>\n",
       "    <tr>\n",
       "      <th>33</th>\n",
       "      <td>Nat Struct Biol</td>\n",
       "      <td>microscopy</td>\n",
       "      <td>Nat Struct Biol</td>\n",
       "    </tr>\n",
       "    <tr>\n",
       "      <th>34</th>\n",
       "      <td>J Clin Oncol</td>\n",
       "      <td>human_genetics</td>\n",
       "      <td>J Clin Oncol</td>\n",
       "    </tr>\n",
       "    <tr>\n",
       "      <th>35</th>\n",
       "      <td>Science</td>\n",
       "      <td>geography</td>\n",
       "      <td>Science</td>\n",
       "    </tr>\n",
       "    <tr>\n",
       "      <th>36</th>\n",
       "      <td>Science</td>\n",
       "      <td>electrochemistry</td>\n",
       "      <td>Science</td>\n",
       "    </tr>\n",
       "    <tr>\n",
       "      <th>37</th>\n",
       "      <td>Science</td>\n",
       "      <td>ecology</td>\n",
       "      <td>Science</td>\n",
       "    </tr>\n",
       "    <tr>\n",
       "      <th>38</th>\n",
       "      <td>Physiol Rev</td>\n",
       "      <td>biophysics</td>\n",
       "      <td>Physiol Rev</td>\n",
       "    </tr>\n",
       "    <tr>\n",
       "      <th>39</th>\n",
       "      <td>Nat Rev Drug Discov</td>\n",
       "      <td>computational_biology</td>\n",
       "      <td>Nat Rev Drug Discov</td>\n",
       "    </tr>\n",
       "    <tr>\n",
       "      <th>40</th>\n",
       "      <td>Physiol Rev</td>\n",
       "      <td>physiology</td>\n",
       "      <td>Physiol Rev</td>\n",
       "    </tr>\n",
       "    <tr>\n",
       "      <th>41</th>\n",
       "      <td>Chem Rev</td>\n",
       "      <td>biotechnology</td>\n",
       "      <td>Chem Rev</td>\n",
       "    </tr>\n",
       "    <tr>\n",
       "      <th>42</th>\n",
       "      <td>Science</td>\n",
       "      <td>acoustics</td>\n",
       "      <td>Science</td>\n",
       "    </tr>\n",
       "    <tr>\n",
       "      <th>43</th>\n",
       "      <td>N Engl J Med</td>\n",
       "      <td>outcome_assessment_health_care</td>\n",
       "      <td>N Engl J Med</td>\n",
       "    </tr>\n",
       "    <tr>\n",
       "      <th>44</th>\n",
       "      <td>Nature</td>\n",
       "      <td>crystallography</td>\n",
       "      <td>Nature</td>\n",
       "    </tr>\n",
       "  </tbody>\n",
       "</table>\n",
       "</div>"
      ],
      "text/plain": [
       "               top_journal                              field  \\\n",
       "0                     Cell                 histocytochemistry   \n",
       "1              Ann Fam Med                 empirical_research   \n",
       "2             Nat Neurosci                      neurosciences   \n",
       "3      Nat Rev Drug Discov                       pharmacology   \n",
       "4           Sci Transl Med  translational_research_biomedical   \n",
       "5                  Science                           rheology   \n",
       "6                     Cell                    immunochemistry   \n",
       "7     Int J Syst Bacteriol                  soil_microbiology   \n",
       "8                Mutat Res                         toxicology   \n",
       "9                  Science                          magnetics   \n",
       "10                 Science                     photochemistry   \n",
       "11                Chem Rev                    nuclear_physics   \n",
       "12                    Cell                            anatomy   \n",
       "13            N Engl J Med                statistics_as_topic   \n",
       "14            Nat Neurosci                 nonlinear_dynamics   \n",
       "15                  Lancet                 water_microbiology   \n",
       "16            J Infect Dis                  food_microbiology   \n",
       "17            J Infect Dis                  molecular_biology   \n",
       "18      Adv Drug Deliv Rev           chemistry_pharmaceutical   \n",
       "19          Nat Biotechnol                         proteomics   \n",
       "20                 Science                operations_research   \n",
       "21                  Nature                       paleontology   \n",
       "22              J Adv Nurs        nursing_evaluation_research   \n",
       "23  Angew Chem Int Ed Engl                    microtechnology   \n",
       "24            N Engl J Med           health_services_research   \n",
       "25              J Adv Nurs       nursing_methodology_research   \n",
       "26                  Nature                        electronics   \n",
       "27          Anesthesiology             fiber_optic_technology   \n",
       "28                 Science                     nanotechnology   \n",
       "29           Nat Rev Genet                genetics_population   \n",
       "30                  Nature                   genetic_research   \n",
       "31            N Engl J Med                    research_design   \n",
       "32     Mol Cell Proteomics                       metabolomics   \n",
       "33         Nat Struct Biol                         microscopy   \n",
       "34            J Clin Oncol                     human_genetics   \n",
       "35                 Science                          geography   \n",
       "36                 Science                   electrochemistry   \n",
       "37                 Science                            ecology   \n",
       "38             Physiol Rev                         biophysics   \n",
       "39     Nat Rev Drug Discov              computational_biology   \n",
       "40             Physiol Rev                         physiology   \n",
       "41                Chem Rev                      biotechnology   \n",
       "42                 Science                          acoustics   \n",
       "43            N Engl J Med     outcome_assessment_health_care   \n",
       "44                  Nature                    crystallography   \n",
       "\n",
       "                       cat  \n",
       "0                     Cell  \n",
       "1              Ann Fam Med  \n",
       "2             Nat Neurosci  \n",
       "3      Nat Rev Drug Discov  \n",
       "4           Sci Transl Med  \n",
       "5                  Science  \n",
       "6                     Cell  \n",
       "7     Int J Syst Bacteriol  \n",
       "8                Mutat Res  \n",
       "9                  Science  \n",
       "10                 Science  \n",
       "11                Chem Rev  \n",
       "12                    Cell  \n",
       "13            N Engl J Med  \n",
       "14            Nat Neurosci  \n",
       "15                  Lancet  \n",
       "16            J Infect Dis  \n",
       "17            J Infect Dis  \n",
       "18      Adv Drug Deliv Rev  \n",
       "19          Nat Biotechnol  \n",
       "20                 Science  \n",
       "21                  Nature  \n",
       "22              J Adv Nurs  \n",
       "23  Angew Chem Int Ed Engl  \n",
       "24            N Engl J Med  \n",
       "25              J Adv Nurs  \n",
       "26                  Nature  \n",
       "27          Anesthesiology  \n",
       "28                 Science  \n",
       "29           Nat Rev Genet  \n",
       "30                  Nature  \n",
       "31            N Engl J Med  \n",
       "32     Mol Cell Proteomics  \n",
       "33         Nat Struct Biol  \n",
       "34            J Clin Oncol  \n",
       "35                 Science  \n",
       "36                 Science  \n",
       "37                 Science  \n",
       "38             Physiol Rev  \n",
       "39     Nat Rev Drug Discov  \n",
       "40             Physiol Rev  \n",
       "41                Chem Rev  \n",
       "42                 Science  \n",
       "43            N Engl J Med  \n",
       "44                  Nature  "
      ]
     },
     "execution_count": 41,
     "metadata": {},
     "output_type": "execute_result"
    }
   ],
   "source": [
    "top_journal_df = pd.DataFrame(top_journal_info)\n",
    "top_journal_list = top_journal_df['top_journal'].value_counts().index.tolist()\n",
    "tj_categorical = pd.Categorical(top_journal_df['top_journal'], categories=top_journal_list)\n",
    "top_journal_df['cat'] = tj_categorical\n",
    "\n",
    "top_journal_df"
   ]
  },
  {
   "cell_type": "code",
   "execution_count": 42,
   "id": "8b944e1a",
   "metadata": {},
   "outputs": [
    {
     "data": {
      "image/png": "[encoded data removed]",
      "text/plain": [
       "<Figure size 640x480 with 1 Axes>"
      ]
     },
     "metadata": {},
     "output_type": "display_data"
    },
    {
     "name": "stdout",
     "output_type": "stream",
     "text": [
      "\n"
     ]
    },
    {
     "name": "stderr",
     "output_type": "stream",
     "text": [
      "/home/heil/anaconda3/envs/indices/lib/python3.10/site-packages/plotnine/ggplot.py:718: PlotnineWarning: Saving 6.4 x 4.8 in image.\n",
      "/home/heil/anaconda3/envs/indices/lib/python3.10/site-packages/plotnine/ggplot.py:719: PlotnineWarning: Filename: ../figures/journal_hist.svg\n"
     ]
    }
   ],
   "source": [
    "plot = ggplot(top_journal_df, aes(x='cat'))\n",
    "plot += geom_bar(stat='count')\n",
    "plot += theme_classic()\n",
    "plot += theme(axis_text_x=element_text(rotation=90, hjust=.5))\n",
    "plot += ylab('Field Count')\n",
    "plot += xlab('Journal')\n",
    "plot += scale_y_continuous(breaks=list(range(0,10, 2)))\n",
    "plot += ggtitle('Top Journal Frequency')\n",
    "\n",
    "ggsave(plot, '../figures/journal_hist.svg')"
   ]
  },
  {
   "cell_type": "code",
   "execution_count": 43,
   "id": "4a966092",
   "metadata": {},
   "outputs": [
    {
     "name": "stdout",
     "output_type": "stream",
     "text": [
      "DPI: 200\n",
      "Background RRGGBBAA: ffffffff\n",
      "Area 0:0:529.487:570.723 exported to 1103 x 1189 pixels (200 dpi)\n",
      "Bitmap saved as: ../figures/journal_hist.png\n"
     ]
    }
   ],
   "source": [
    "!inkscape  --export-dpi 200 --export-png=../figures/journal_hist.png ../figures/journal_hist.svg -b \"#ffffffff\""
   ]
  },
  {
   "cell_type": "markdown",
   "id": "294d41d1",
   "metadata": {},
   "source": [
    "## Scratch"
   ]
  },
  {
   "cell_type": "code",
   "execution_count": 12,
   "id": "8fdea8d9",
   "metadata": {},
   "outputs": [],
   "source": [
    "heading_str = 'nanotechnology-microscopy'\n",
    "\n",
    "heading_shuffled = glob(f'../shuffle/{heading_str}*-pagerank.pkl')\n",
    "\n",
    "doi_to_shuffled_metrics = {}\n",
    "\n",
    "for path in heading_shuffled:\n",
    "    with open(path, 'rb') as in_file:\n",
    "        result = pkl.load(in_file)\n",
    "        for doi, value in result.items():\n",
    "            if doi in doi_to_shuffled_metrics:\n",
    "                doi_to_shuffled_metrics[doi].append(value)\n",
    "            else:\n",
    "                doi_to_shuffled_metrics[doi] = [value]\n",
    "for doi, vals in doi_to_shuffled_metrics.items():\n",
    "    doi_to_shuffled_metrics[doi] = sorted(vals)\n",
    "\n",
    "with open(f'../output/{heading_str}-pagerank.pkl', 'rb') as in_file:\n",
    "    true_vals = pkl.load(in_file)"
   ]
  },
  {
   "cell_type": "code",
   "execution_count": 18,
   "id": "cdd129f7",
   "metadata": {},
   "outputs": [
    {
     "name": "stdout",
     "output_type": "stream",
     "text": [
      "100\n"
     ]
    },
    {
     "data": {
      "text/plain": [
       "[1.5132861605398747e-05,\n",
       " 1.5189239647162574e-05,\n",
       " 1.5316143758420492e-05,\n",
       " 1.5335114820265175e-05,\n",
       " 1.592423539000921e-05,\n",
       " 1.6222335801466083e-05,\n",
       " 1.71929941921219e-05,\n",
       " 1.7778195296317148e-05,\n",
       " 1.800394420051394e-05,\n",
       " 1.861721983560296e-05,\n",
       " 1.9548260530104356e-05,\n",
       " 1.9686353762234913e-05,\n",
       " 2.0070958994750072e-05,\n",
       " 2.4723251156796495e-05,\n",
       " 2.558570698176985e-05,\n",
       " 2.5777182445646583e-05,\n",
       " 2.938085680401521e-05,\n",
       " 3.1977845162932995e-05,\n",
       " 5.618313362918466e-05]"
      ]
     },
     "execution_count": 18,
     "metadata": {},
     "output_type": "execute_result"
    }
   ],
   "source": [
    "print(len(heading_shuffled))\n",
    "doi_of_interest = '10.1126/science.1089389'\n",
    "true_vals[doi_of_interest]\n",
    "doi_to_shuffled_metrics[doi]"
   ]
  },
  {
   "cell_type": "code",
   "execution_count": 71,
   "id": "9e80b096",
   "metadata": {},
   "outputs": [
    {
     "data": {
      "text/html": [
       "<div>\n",
       "<style scoped>\n",
       "    .dataframe tbody tr th:only-of-type {\n",
       "        vertical-align: middle;\n",
       "    }\n",
       "\n",
       "    .dataframe tbody tr th {\n",
       "        vertical-align: top;\n",
       "    }\n",
       "\n",
       "    .dataframe thead th {\n",
       "        text-align: right;\n",
       "    }\n",
       "</style>\n",
       "<table border=\"1\" class=\"dataframe\">\n",
       "  <thead>\n",
       "    <tr style=\"text-align: right;\">\n",
       "      <th></th>\n",
       "      <th>doi</th>\n",
       "      <th>pagerank</th>\n",
       "    </tr>\n",
       "  </thead>\n",
       "  <tbody>\n",
       "    <tr>\n",
       "      <th>0</th>\n",
       "      <td>10.1039/c6cs00632a</td>\n",
       "      <td>0.000014</td>\n",
       "    </tr>\n",
       "    <tr>\n",
       "      <th>1</th>\n",
       "      <td>10.1021/nn800364r</td>\n",
       "      <td>0.000014</td>\n",
       "    </tr>\n",
       "    <tr>\n",
       "      <th>2</th>\n",
       "      <td>10.1039/b508702c</td>\n",
       "      <td>0.000039</td>\n",
       "    </tr>\n",
       "    <tr>\n",
       "      <th>3</th>\n",
       "      <td>10.1016/j.biopha.2021.111623</td>\n",
       "      <td>0.000016</td>\n",
       "    </tr>\n",
       "    <tr>\n",
       "      <th>4</th>\n",
       "      <td>10.2174/0929867326666190712154021</td>\n",
       "      <td>0.000017</td>\n",
       "    </tr>\n",
       "    <tr>\n",
       "      <th>...</th>\n",
       "      <td>...</td>\n",
       "      <td>...</td>\n",
       "    </tr>\n",
       "    <tr>\n",
       "      <th>32689</th>\n",
       "      <td>10.1002/chem.201002835</td>\n",
       "      <td>0.000023</td>\n",
       "    </tr>\n",
       "    <tr>\n",
       "      <th>32690</th>\n",
       "      <td>10.1039/c0nr00800a</td>\n",
       "      <td>0.000014</td>\n",
       "    </tr>\n",
       "    <tr>\n",
       "      <th>32691</th>\n",
       "      <td>10.1038/nmeth922</td>\n",
       "      <td>0.000132</td>\n",
       "    </tr>\n",
       "    <tr>\n",
       "      <th>32692</th>\n",
       "      <td>10.1103/physrevlett.90.120601</td>\n",
       "      <td>0.000025</td>\n",
       "    </tr>\n",
       "    <tr>\n",
       "      <th>32693</th>\n",
       "      <td>10.21873/anticanres.12044</td>\n",
       "      <td>0.000015</td>\n",
       "    </tr>\n",
       "  </tbody>\n",
       "</table>\n",
       "<p>32694 rows × 2 columns</p>\n",
       "</div>"
      ],
      "text/plain": [
       "                                     doi  pagerank\n",
       "0                     10.1039/c6cs00632a  0.000014\n",
       "1                      10.1021/nn800364r  0.000014\n",
       "2                       10.1039/b508702c  0.000039\n",
       "3           10.1016/j.biopha.2021.111623  0.000016\n",
       "4      10.2174/0929867326666190712154021  0.000017\n",
       "...                                  ...       ...\n",
       "32689             10.1002/chem.201002835  0.000023\n",
       "32690                 10.1039/c0nr00800a  0.000014\n",
       "32691                   10.1038/nmeth922  0.000132\n",
       "32692      10.1103/physrevlett.90.120601  0.000025\n",
       "32693          10.21873/anticanres.12044  0.000015\n",
       "\n",
       "[32694 rows x 2 columns]"
      ]
     },
     "execution_count": 71,
     "metadata": {},
     "output_type": "execute_result"
    }
   ],
   "source": [
    "with open('../nanotechnology-microscopy-11-pagerank.pkl', 'rb') as in_file:\n",
    "    heading_dict = pkl.load(in_file)\n",
    "pagerank_df = pd.DataFrame.from_dict(heading_dict, orient='index', columns=['pagerank'])\n",
    "pagerank_df = pagerank_df.reset_index()\n",
    "pagerank_df = pagerank_df.rename({'index': 'doi'}, axis='columns')\n",
    "pagerank_df"
   ]
  },
  {
   "cell_type": "code",
   "execution_count": 72,
   "id": "3f12affe",
   "metadata": {},
   "outputs": [
    {
     "name": "stderr",
     "output_type": "stream",
     "text": [
      "/home/heil/anaconda3/envs/indices/lib/python3.10/site-packages/plotnine/stats/stat_bin.py:95: PlotnineWarning: 'stat_bin()' using 'bins = 122'. Pick better value with 'binwidth'.\n"
     ]
    },
    {
     "data": {
      "image/png": "[encoded data removed]",
      "text/plain": [
       "<Figure size 640x480 with 1 Axes>"
      ]
     },
     "metadata": {},
     "output_type": "display_data"
    },
    {
     "data": {
      "text/plain": [
       "<ggplot: (8740105667152)>"
      ]
     },
     "execution_count": 72,
     "metadata": {},
     "output_type": "execute_result"
    }
   ],
   "source": [
    "plot = ggplot(pagerank_df, aes(x='pagerank'))\n",
    "plot += geom_histogram()\n",
    "plot += scale_x_log10()\n",
    "plot += scale_y_continuous(name='Count')\n",
    "plot += ggtitle(f'Shuffled Pagerank Distribution')\n",
    "plot += theme_classic()\n",
    "plot\n",
    "#ggsave(plot, f'../figures/{heading1}-{heading2}-hist.svg')"
   ]
  },
  {
   "cell_type": "markdown",
   "id": "5e63ec53",
   "metadata": {},
   "source": [
    "## Journal sparsity plot"
   ]
  },
  {
   "cell_type": "code",
   "execution_count": null,
   "id": "9391df2f",
   "metadata": {},
   "outputs": [],
   "source": []
  }
 ],
 "metadata": {
  "kernelspec": {
   "display_name": "Python 3 (ipykernel)",
   "language": "python",
   "name": "python3"
  },
  "language_info": {
   "codemirror_mode": {
    "name": "ipython",
    "version": 3
   },
   "file_extension": ".py",
   "mimetype": "text/x-python",
   "name": "python",
   "nbconvert_exporter": "python",
   "pygments_lexer": "ipython3",
   "version": "3.10.4"
  }
 },
 "nbformat": 4,
 "nbformat_minor": 5
}
