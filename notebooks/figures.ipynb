{
 "cells": [
  {
   "cell_type": "markdown",
   "id": "43aba320",
   "metadata": {},
   "source": [
    "# Figures\n",
    "Visualize the results of the analyses for the indices paper"
   ]
  },
  {
   "cell_type": "code",
   "execution_count": null,
   "id": "c7d40740",
   "metadata": {},
   "outputs": [],
   "source": [
    "import os\n",
    "import pickle as pkl\n",
    "import string\n",
    "import sys\n",
    "from glob import glob\n",
    "\n",
    "import numpy as np\n",
    "import pandas as pd\n",
    "import svgutils.transform as sg\n",
    "from plotnine import *\n",
    "from svgutils.compose import SVG, Figure, Panel, Text\n",
    "\n",
    "sys.path.append('../indices')\n",
    "from utils import load_percentile_data, load_journal_data, load_single_heading, parse_metadata"
   ]
  },
  {
   "cell_type": "code",
   "execution_count": null,
   "id": "ecc50c0e",
   "metadata": {},
   "outputs": [],
   "source": [
    "headings = [('nanotechnology', 'microscopy'), ('immunochemistry', 'anatomy'), \n",
    "            ('proteomics', 'metabolomics'), ('computational_biology', 'human_genetics')]"
   ]
  },
  {
   "cell_type": "code",
   "execution_count": null,
   "id": "5031693f",
   "metadata": {},
   "outputs": [],
   "source": [
    "for heading1, heading2 in headings:\n",
    "    percentile_data = load_percentile_data(heading1, heading2, base_dir='../viz_dataframes')\n",
    "    \n",
    "    hist_data = percentile_data.melt(id_vars='doi', value_vars=[f'{heading1}_pagerank', f'{heading2}_pagerank'],\n",
    "                                     value_name='PageRank',)\n",
    "    \n",
    "    h1 = string.capwords(heading1.replace('_', ' '))\n",
    "    h2 = string.capwords(heading2.replace('_', ' '))\n",
    "    \n",
    "    new_names = {f'{heading1}_pagerank': f'{h1}',\n",
    "                 f'{heading2}_pagerank': f'{h2}'}\n",
    "    \n",
    "    hist_data['Field'] = hist_data['variable'].map(new_names)\n",
    "        \n",
    "    plot = ggplot(hist_data, aes(x='PageRank', fill='Field'))\n",
    "    plot += geom_histogram(position='identity', alpha=.7)\n",
    "    plot += scale_x_log10()\n",
    "    plot += scale_y_continuous(name='Count')\n",
    "    plot += ggtitle(f'{h1} and {h2} Pagerank Distribution')\n",
    "    plot += theme_classic()\n",
    "    ggsave(plot, f'../figures/{heading1}-{heading2}-hist.svg')\n",
    "\n",
    "    plot = ggplot(percentile_data, aes(x=f'{heading1}_pagerank', y=f'{heading2}_pagerank',))\n",
    "    plot += geom_bin2d()\n",
    "    plot += scale_x_log10(name=f'{h1} Pagerank')\n",
    "    plot += scale_y_log10(name=f'{h2} Pagerank')\n",
    "    plot += ggtitle(f'{h1} vs {h2} Pageranks')\n",
    "    plot += scale_fill_gradient(trans='log')\n",
    "    plot += theme_classic()\n",
    "\n",
    "    ggsave(plot, f'../figures/{heading1}-{heading2}-heatmap.svg')\n",
    "    \n"
   ]
  },
  {
   "cell_type": "markdown",
   "id": "35acfea1",
   "metadata": {},
   "source": [
    "## Create annotated difference plots"
   ]
  },
  {
   "cell_type": "code",
   "execution_count": null,
   "id": "7bdb2950",
   "metadata": {},
   "outputs": [],
   "source": [
    "heading1 = 'nanotechnology'\n",
    "heading2 = 'microscopy'\n",
    "\n",
    "h1 = string.capwords(heading1.replace('_', ' '))\n",
    "h2 = string.capwords(heading2.replace('_', ' '))\n",
    "\n",
    "title1 = 'A robust DNA mechanical device controlled'\n",
    "title2 = 'Bioadhesive poly'\n",
    "title3 = 'DNA-templated self-assembly of protein arrays'\n",
    "title4 = 'Photostable luminescent nanoparticles '\n",
    "title5 = 'WSXM: a software for scanning'\n",
    "title6 = 'Measuring distances in supported bilayers'\n",
    "title7 = 'Toward fluorescence'\n",
    "title8 = 'In vivo imaging of quantum dots encapsulated'\n",
    "title9 = 'Water-soluble quantum dots'\n",
    "\n",
    "percentile_data = load_percentile_data(heading1, heading2, base_dir='../viz_dataframes')\n",
    "percentile_data[f'{heading1}-{heading2}'] *= 100\n",
    "percentile_data = percentile_data.rename({f'{heading1}-{heading2}': f'{h1}-{h2}'}, axis=1)\n",
    "t1_row = percentile_data[percentile_data['title'].str.contains(title1)]\n",
    "t2_row = percentile_data[percentile_data['title'].str.contains(title2)]\n",
    "t3_row = percentile_data[percentile_data['title'].str.contains(title3)]\n",
    "t4_row = percentile_data[percentile_data['title'].str.contains(title4)]\n",
    "t5_row = percentile_data[percentile_data['title'].str.contains(title5)]\n",
    "t6_row = percentile_data[percentile_data['title'].str.contains(title6)]\n",
    "t7_row = percentile_data[percentile_data['title'].str.contains(title7)]\n",
    "t8_row = percentile_data[percentile_data['title'].str.contains(title8)]\n",
    "t9_row = percentile_data[percentile_data['title'].str.contains(title9)]"
   ]
  },
  {
   "cell_type": "code",
   "execution_count": null,
   "id": "21d15cec",
   "metadata": {},
   "outputs": [],
   "source": [
    "plot = ggplot(percentile_data, aes(x=f'{heading1}_pagerank', y=f'{heading2}_pagerank', \n",
    "              color=f'{h1}-{h2}'))\n",
    "plot += geom_point()\n",
    "plot += scale_x_log10(name=f'{h1} Pagerank')\n",
    "plot += scale_y_log10(name=f'{h2} Pagerank')\n",
    "plot += ggtitle(f'{h1} and {h2} Percentile Difference')\n",
    "plot += scale_color_gradient2(low='purple', mid='#e2e2e2', high='green')\n",
    "plot += annotate('text', label='1', \n",
    "                 x=t1_row[f'{heading1}_pagerank'], y=t1_row[f'{heading2}_pagerank'], ha='right', va='bottom')\n",
    "plot += annotate('text', label='2', \n",
    "                 x=t2_row[f'{heading1}_pagerank'], y=t2_row[f'{heading2}_pagerank'], ha='right', va='bottom')\n",
    "plot += annotate('text', label='3', \n",
    "                 x=t3_row[f'{heading1}_pagerank'], y=t3_row[f'{heading2}_pagerank'], ha='right', va='bottom')\n",
    "plot += annotate('text', label='4', \n",
    "                 x=t4_row[f'{heading1}_pagerank'], y=t4_row[f'{heading2}_pagerank'], ha='right', va='bottom')\n",
    "plot += annotate('text', label='5', \n",
    "                 x=t5_row[f'{heading1}_pagerank'], y=t5_row[f'{heading2}_pagerank'], ha='right', va='bottom')\n",
    "plot += annotate('text', label='6', \n",
    "                 x=t6_row[f'{heading1}_pagerank'], y=t6_row[f'{heading2}_pagerank'], ha='right', va='bottom')\n",
    "plot += annotate('text', label='7', \n",
    "                 x=t7_row[f'{heading1}_pagerank'], y=t7_row[f'{heading2}_pagerank'], ha='right', va='bottom')\n",
    "plot += annotate('text', label='8', \n",
    "                 x=t8_row[f'{heading1}_pagerank'], y=t8_row[f'{heading2}_pagerank'], ha='right', va='bottom')\n",
    "plot += annotate('text', label='9', \n",
    "                 x=t9_row[f'{heading1}_pagerank'], y=t9_row[f'{heading2}_pagerank'], ha='right', va='bottom')\n",
    "plot += theme_classic()\n",
    "plot\n",
    "ggsave(plot, f'../figures/{heading1}-{heading2}-difference.svg')"
   ]
  },
  {
   "cell_type": "code",
   "execution_count": null,
   "id": "88abb3a9",
   "metadata": {},
   "outputs": [],
   "source": [
    "heading1 = 'immunochemistry'\n",
    "heading2 = 'anatomy'\n",
    "\n",
    "h1 = string.capwords(heading1.replace('_', ' '))\n",
    "h2 = string.capwords(heading2.replace('_', ' '))\n",
    "\n",
    "title1 = 'Immunoelectron microscopic exploration'\n",
    "title2 = 'expression in cat posterior temporalis muscle during postnatal development'\n",
    "title3 = 'Electron microscopic demonstration of calcitonin in human'\n",
    "title4 = 'Grafting genetically modified cells into the rat brain:'\n",
    "title5 = 'Vitamin-D-dependent calcium-binding-protein and parvalbumin'\n",
    "title6 = 'Mapping of brain areas containing RNA homologous to cDNAs'\n",
    "title7 = 'Studies of the HER-2/neu proto-oncogene'\n",
    "title8 = 'Expression of c-fos protein in brain'\n",
    "title9 = 'immunolocalization in paraffin sections:'\n",
    "\n",
    "percentile_data = load_percentile_data(heading1, heading2, base_dir='../viz_dataframes')\n",
    "percentile_data[f'{heading1}-{heading2}'] *= 100\n",
    "percentile_data = percentile_data.rename({f'{heading1}-{heading2}': f'{h1}-{h2}'}, axis=1)\n",
    "t1_row = percentile_data[percentile_data['title'].str.contains(title1)]\n",
    "t2_row = percentile_data[percentile_data['title'].str.contains(title2)]\n",
    "t3_row = percentile_data[percentile_data['title'].str.contains(title3)]\n",
    "t4_row = percentile_data[percentile_data['title'].str.contains(title4)]\n",
    "t5_row = percentile_data[percentile_data['title'].str.contains(title5)]\n",
    "t6_row = percentile_data[percentile_data['title'].str.contains(title6)]\n",
    "t7_row = percentile_data[percentile_data['title'].str.contains(title7)]\n",
    "t8_row = percentile_data[percentile_data['title'].str.contains(title8)]\n",
    "t9_row = percentile_data[percentile_data['title'].str.contains(title9)]"
   ]
  },
  {
   "cell_type": "code",
   "execution_count": null,
   "id": "1b06df00",
   "metadata": {},
   "outputs": [],
   "source": [
    "plot = ggplot(percentile_data, aes(x=f'{heading1}_pagerank', y=f'{heading2}_pagerank', \n",
    "              color=f'{h1}-{h2}'))\n",
    "plot += geom_point()\n",
    "plot += scale_x_log10(name=f'{h1} Pagerank')\n",
    "plot += scale_y_log10(name=f'{h2} Pagerank')\n",
    "plot += ggtitle(f'{h1} and {h2} Percentile Difference')\n",
    "plot += scale_color_gradient2(low='purple', mid='#e2e2e2', high='green')\n",
    "plot += annotate('text', label='21', \n",
    "                 x=t1_row[f'{heading1}_pagerank'], y=t1_row[f'{heading2}_pagerank'], ha='right', va='bottom')\n",
    "plot += annotate('text', label='21', \n",
    "                 x=t2_row[f'{heading1}_pagerank'], y=t2_row[f'{heading2}_pagerank'], ha='right', va='bottom')\n",
    "plot += annotate('text', label='21', \n",
    "                 x=t3_row[f'{heading1}_pagerank'], y=t3_row[f'{heading2}_pagerank'], ha='right', va='bottom')\n",
    "plot += annotate('text', label='21', \n",
    "                 x=t4_row[f'{heading1}_pagerank'], y=t4_row[f'{heading2}_pagerank'], ha='right', va='bottom')\n",
    "plot += annotate('text', label='21', \n",
    "                 x=t5_row[f'{heading1}_pagerank'], y=t5_row[f'{heading2}_pagerank'], ha='right', va='bottom')\n",
    "plot += annotate('text', label='21', \n",
    "                 x=t6_row[f'{heading1}_pagerank'], y=t6_row[f'{heading2}_pagerank'], ha='right', va='bottom')\n",
    "plot += annotate('text', label='21', \n",
    "                 x=t7_row[f'{heading1}_pagerank'], y=t7_row[f'{heading2}_pagerank'], ha='right', va='bottom')\n",
    "plot += annotate('text', label='21', \n",
    "                 x=t8_row[f'{heading1}_pagerank'], y=t8_row[f'{heading2}_pagerank'], ha='right', va='bottom')\n",
    "plot += annotate('text', label='21', \n",
    "                 x=t9_row[f'{heading1}_pagerank'], y=t9_row[f'{heading2}_pagerank'], ha='right', va='bottom')\n",
    "plot += theme_classic()\n",
    "ggsave(plot, f'../figures/{heading1}-{heading2}-difference.svg')"
   ]
  },
  {
   "cell_type": "code",
   "execution_count": null,
   "id": "7d06f5a4",
   "metadata": {},
   "outputs": [],
   "source": [
    "heading1 = 'proteomics'\n",
    "heading2 = 'metabolomics'\n",
    "\n",
    "h1 = string.capwords(heading1.replace('_', ' '))\n",
    "h2 = string.capwords(heading2.replace('_', ' '))\n",
    "\n",
    "title1 = 'Proteomics Standards Initiative:'\n",
    "title2 = 'Limited Environmental Serine and Glycine'\n",
    "title3 = 'A high-throughput processing service for retention'\n",
    "title4 = 'MeltDB: a software platform for the analysis'\n",
    "title5 = 'In silico fragmentation for computer assisted identification'\n",
    "title6 = 'The metabonomic signature of celiac'\n",
    "title7 = 'Visualization of omics data for systems biology'\n",
    "title8 = 'FunRich: An open access standalone functional'\n",
    "title9 = 'Proteomic and Metabolomic Characterization of COVID-19 Patient Sera'\n",
    "\n",
    "percentile_data = load_percentile_data(heading1, heading2, base_dir='../viz_dataframes')\n",
    "percentile_data[f'{heading1}-{heading2}'] *= 100\n",
    "percentile_data = percentile_data.rename({f'{heading1}-{heading2}': f'{h1}-{h2}'}, axis=1)\n",
    "t1_row = percentile_data[percentile_data['title'].str.contains(title1)]\n",
    "t2_row = percentile_data[percentile_data['title'].str.contains(title2)]\n",
    "t3_row = percentile_data[percentile_data['title'].str.contains(title3)]\n",
    "t4_row = percentile_data[percentile_data['title'].str.contains(title4)]\n",
    "t5_row = percentile_data[percentile_data['title'].str.contains(title5)]\n",
    "t6_row = percentile_data[percentile_data['title'].str.contains(title6)]\n",
    "t7_row = percentile_data[percentile_data['title'].str.contains(title7)]\n",
    "t8_row = percentile_data[percentile_data['title'].str.contains(title8)]\n",
    "t9_row = percentile_data[percentile_data['title'].str.contains(title9)]"
   ]
  },
  {
   "cell_type": "code",
   "execution_count": null,
   "id": "d9b4ebb1",
   "metadata": {},
   "outputs": [],
   "source": [
    "plot = ggplot(percentile_data, aes(x=f'{heading1}_pagerank', y=f'{heading2}_pagerank', \n",
    "              color=f'{h1}-{h2}'))\n",
    "plot += geom_point()\n",
    "plot += scale_x_log10(name=f'{h1} Pagerank')\n",
    "plot += scale_y_log10(name=f'{h2} Pagerank')\n",
    "plot += ggtitle(f'{h1} and {h2} Percentile Difference')\n",
    "plot += scale_color_gradient2(low='purple', mid='#e2e2e2', high='green')\n",
    "plot += annotate('text', label='21', \n",
    "                 x=t1_row[f'{heading1}_pagerank'], y=t1_row[f'{heading2}_pagerank'], ha='right', va='bottom')\n",
    "plot += annotate('text', label='21', \n",
    "                 x=t2_row[f'{heading1}_pagerank'], y=t2_row[f'{heading2}_pagerank'], ha='right', va='bottom')\n",
    "plot += annotate('text', label='21', \n",
    "                 x=t3_row[f'{heading1}_pagerank'], y=t3_row[f'{heading2}_pagerank'], ha='right', va='bottom')\n",
    "plot += annotate('text', label='21', \n",
    "                 x=t4_row[f'{heading1}_pagerank'], y=t4_row[f'{heading2}_pagerank'], ha='right', va='bottom')\n",
    "plot += annotate('text', label='21', \n",
    "                 x=t5_row[f'{heading1}_pagerank'], y=t5_row[f'{heading2}_pagerank'], ha='right', va='bottom')\n",
    "plot += annotate('text', label='21', \n",
    "                 x=t6_row[f'{heading1}_pagerank'], y=t6_row[f'{heading2}_pagerank'], ha='right', va='bottom')\n",
    "plot += annotate('text', label='21', \n",
    "                 x=t7_row[f'{heading1}_pagerank'], y=t7_row[f'{heading2}_pagerank'], ha='right', va='bottom')\n",
    "plot += annotate('text', label='21', \n",
    "                 x=t8_row[f'{heading1}_pagerank'], y=t8_row[f'{heading2}_pagerank'], ha='right', va='bottom')\n",
    "plot += annotate('text', label='21', \n",
    "                 x=t9_row[f'{heading1}_pagerank'], y=t9_row[f'{heading2}_pagerank'], ha='right', va='bottom')\n",
    "plot += theme_classic()\n",
    "\n",
    "ggsave(plot, f'../figures/{heading1}-{heading2}-difference.svg')"
   ]
  },
  {
   "cell_type": "code",
   "execution_count": null,
   "id": "de897bf2",
   "metadata": {},
   "outputs": [],
   "source": [
    "heading1 = 'computational_biology'\n",
    "heading2 = 'human_genetics'\n",
    "\n",
    "h1 = string.capwords(heading1.replace('_', ' '))\n",
    "h2 = string.capwords(heading2.replace('_', ' '))\n",
    "\n",
    "title1 = 'Development of human protein reference'\n",
    "title2 = 'A database for post-genome analysis'\n",
    "title3 = 'Use of mass spectrometry-derived data'\n",
    "title4 = 'Genetic discrimination: perspectives'\n",
    "title5 = 'Committee Opinion No. 690:'\n",
    "title6 = 'Public health genomics: the end'\n",
    "title7 = 'Initial sequencing and analysis of the human genome'\n",
    "title8 = 'An STS-based map of the human genome'\n",
    "title9 = 'A new five-year plan'\n",
    "\n",
    "percentile_data = load_percentile_data(heading1, heading2, base_dir='../viz_dataframes')\n",
    "percentile_data[f'{heading1}-{heading2}'] *= 100\n",
    "percentile_data = percentile_data.rename({f'{heading1}-{heading2}': f'{h1}-{h2}'}, axis=1)\n",
    "t1_row = percentile_data[percentile_data['title'].str.contains(title1)]\n",
    "t2_row = percentile_data[percentile_data['title'].str.contains(title2)]\n",
    "t3_row = percentile_data[percentile_data['title'].str.contains(title3)]\n",
    "t4_row = percentile_data[percentile_data['title'].str.contains(title4)]\n",
    "t5_row = percentile_data[percentile_data['title'].str.contains(title5)]\n",
    "t6_row = percentile_data[percentile_data['title'].str.contains(title6)]\n",
    "t7_row = percentile_data[percentile_data['title'].str.contains(title7)]\n",
    "t8_row = percentile_data[percentile_data['title'].str.contains(title8)]\n",
    "t9_row = percentile_data[percentile_data['title'].str.contains(title9)]\n",
    "print(t6_row)"
   ]
  },
  {
   "cell_type": "code",
   "execution_count": null,
   "id": "15cefe78",
   "metadata": {},
   "outputs": [],
   "source": [
    "plot = ggplot(percentile_data, aes(x=f'{heading1}_pagerank', y=f'{heading2}_pagerank', \n",
    "              color=f'{h1}-{h2}'))\n",
    "plot += geom_point()\n",
    "plot += scale_x_log10(name=f'{h1} Pagerank')\n",
    "plot += scale_y_log10(name=f'{h2} Pagerank')\n",
    "plot += ggtitle(f'{h1} and {h2} Percentile Difference')\n",
    "plot += scale_color_gradient2(low='purple', mid='#e2e2e2', high='green')\n",
    "plot += annotate('text', label='21', \n",
    "                 x=t1_row[f'{heading1}_pagerank'], y=t1_row[f'{heading2}_pagerank'], ha='right', va='bottom')\n",
    "plot += annotate('text', label='21', \n",
    "                 x=t2_row[f'{heading1}_pagerank'], y=t2_row[f'{heading2}_pagerank'], ha='right', va='bottom')\n",
    "plot += annotate('text', label='21', \n",
    "                 x=t3_row[f'{heading1}_pagerank'], y=t3_row[f'{heading2}_pagerank'], ha='right', va='bottom')\n",
    "plot += annotate('text', label='21', \n",
    "                 x=t4_row[f'{heading1}_pagerank'], y=t4_row[f'{heading2}_pagerank'], ha='right', va='bottom')\n",
    "plot += annotate('text', label='21', \n",
    "                 x=t5_row[f'{heading1}_pagerank'], y=t5_row[f'{heading2}_pagerank'], ha='right', va='bottom')\n",
    "plot += annotate('text', label='21', \n",
    "                 x=t6_row[f'{heading1}_pagerank'], y=t6_row[f'{heading2}_pagerank'], ha='right', va='bottom')\n",
    "plot += annotate('text', label='21', \n",
    "                 x=t7_row[f'{heading1}_pagerank'], y=t7_row[f'{heading2}_pagerank'], ha='right', va='bottom')\n",
    "plot += annotate('text', label='21', \n",
    "                 x=t8_row[f'{heading1}_pagerank'], y=t8_row[f'{heading2}_pagerank'], ha='right', va='bottom')\n",
    "plot += annotate('text', label='21', \n",
    "                 x=t9_row[f'{heading1}_pagerank'], y=t9_row[f'{heading2}_pagerank'], ha='right', va='bottom')\n",
    "plot += theme_classic()\n",
    "ggsave(plot, f'../figures/{heading1}-{heading2}-difference.svg')"
   ]
  },
  {
   "cell_type": "markdown",
   "id": "71efeaa1",
   "metadata": {},
   "source": [
    "## Combine histograms"
   ]
  },
  {
   "cell_type": "code",
   "execution_count": null,
   "id": "f0bb233a",
   "metadata": {},
   "outputs": [],
   "source": [
    "plot1 = f'../figures/{headings[0][0]}-{headings[0][1]}-hist.svg'\n",
    "plot2 = f'../figures/{headings[1][0]}-{headings[1][1]}-hist.svg'\n",
    "plot3 = f'../figures/{headings[2][0]}-{headings[2][1]}-hist.svg'\n",
    "plot4 = f'../figures/{headings[3][0]}-{headings[3][1]}-hist.svg'\n",
    "\n",
    "y_2 = 310\n",
    "x_2 = 520\n",
    "\n",
    "fig = Figure(\"1080\", \"636\",\n",
    "       Panel(\n",
    "          SVG(plot1),\n",
    "          Text(\"A\", 0, 40, size=30),\n",
    "          ),\n",
    "       Panel(\n",
    "          SVG(plot2).move(x_2, 0),\n",
    "          Text(\"B\", 20, 40, size=30).move(x_2-20, 0),\n",
    "          ),\n",
    "       Panel(\n",
    "          SVG(plot3).move(0, y_2),\n",
    "          Text(\"C\", 0, 50, size=30).move(0, y_2),\n",
    "          ),\n",
    "       Panel(\n",
    "          SVG(plot4).move(x_2, y_2),\n",
    "          Text(\"D\", 20, 50, size=30).move(x_2-20, y_2),\n",
    "          )\n",
    "       )\n",
    "fig.save('../figures/combined_histogram.svg')"
   ]
  },
  {
   "cell_type": "code",
   "execution_count": null,
   "id": "eff2affd",
   "metadata": {},
   "outputs": [],
   "source": [
    "!inkscape --export-dpi 200 --export-png=../figures/combined_histogram.png ../figures/combined_histogram.svg -b \"#ffffffff\""
   ]
  },
  {
   "cell_type": "markdown",
   "id": "1f7ae0b3",
   "metadata": {},
   "source": [
    "## Combine heatmaps"
   ]
  },
  {
   "cell_type": "code",
   "execution_count": null,
   "id": "0f912237",
   "metadata": {},
   "outputs": [],
   "source": [
    "plot1 = f'../figures/{headings[0][0]}-{headings[0][1]}-heatmap.svg'\n",
    "plot2 = f'../figures/{headings[1][0]}-{headings[1][1]}-heatmap.svg'\n",
    "plot3 = f'../figures/{headings[2][0]}-{headings[2][1]}-heatmap.svg'\n",
    "plot4 = f'../figures/{headings[3][0]}-{headings[3][1]}-heatmap.svg'\n",
    "\n",
    "y_2 = 325\n",
    "x_2 = 500\n",
    "\n",
    "fig = Figure(\"1007\", \"656\",\n",
    "       Panel(\n",
    "          SVG(plot1),\n",
    "          Text(\"A\", 25, 20, size=30),\n",
    "          ),\n",
    "       Panel(\n",
    "          SVG(plot2).move(x_2, 0),\n",
    "          Text(\"B\", 25, 20, size=30).move(x_2-20, 0),\n",
    "          ),\n",
    "       Panel(\n",
    "          SVG(plot3).move(0, y_2),\n",
    "          Text(\"C\", 25, 20, size=30).move(0, y_2),\n",
    "          ),\n",
    "       Panel(\n",
    "          SVG(plot4).move(x_2, y_2),\n",
    "          Text(\"D\", 25, 20, size=30).move(x_2-20, y_2),\n",
    "          )\n",
    "       )\n",
    "fig.save('../figures/combined_heatmap.svg')"
   ]
  },
  {
   "cell_type": "code",
   "execution_count": null,
   "id": "e1ee986b",
   "metadata": {},
   "outputs": [],
   "source": [
    "!inkscape --export-dpi 200 --export-png=../figures/combined_heatmap.png ../figures/combined_heatmap.svg -b \"#ffffffff\""
   ]
  },
  {
   "cell_type": "markdown",
   "id": "56b03945",
   "metadata": {},
   "source": [
    "## Combine percentile plots"
   ]
  },
  {
   "cell_type": "code",
   "execution_count": null,
   "id": "ec61bc1a",
   "metadata": {},
   "outputs": [],
   "source": [
    "plot1 = f'../figures/{headings[0][0]}-{headings[0][1]}-difference.svg'\n",
    "plot2 = f'../figures/{headings[1][0]}-{headings[1][1]}-difference.svg'\n",
    "plot3 = f'../figures/{headings[2][0]}-{headings[2][1]}-difference.svg'\n",
    "plot4 = f'../figures/{headings[3][0]}-{headings[3][1]}-difference.svg'\n",
    "\n",
    "y_2 = 325\n",
    "x_2 = 630\n",
    "\n",
    "fig = Figure(\"1300\", \"656\",\n",
    "       Panel(\n",
    "          SVG(plot1),\n",
    "          Text(\"A\", 15, 30, size=30),\n",
    "          ),\n",
    "       Panel(\n",
    "          SVG(plot2).move(x_2, 0),\n",
    "          Text(\"B\", 25, 30, size=30).move(x_2-20, 0),\n",
    "          ),\n",
    "       Panel(\n",
    "          SVG(plot3).move(0, y_2),\n",
    "          Text(\"C\", 15, 30, size=30).move(0, y_2-25),\n",
    "          ),\n",
    "       Panel(\n",
    "          SVG(plot4).move(x_2, y_2),\n",
    "          Text(\"D\", 25, 30, size=30).move(x_2-20, y_2-25),\n",
    "          )\n",
    "       )\n",
    "fig.save('../figures/combined_difference.svg')"
   ]
  },
  {
   "cell_type": "code",
   "execution_count": null,
   "id": "4f656096",
   "metadata": {},
   "outputs": [],
   "source": [
    "!inkscape --export-dpi 200 --export-png=../figures/combined_difference.png ../figures/combined_difference.svg -b \"#ffffffff\""
   ]
  },
  {
   "cell_type": "markdown",
   "id": "2f553d2f",
   "metadata": {},
   "source": [
    "## Build journal plots"
   ]
  },
  {
   "cell_type": "code",
   "execution_count": null,
   "id": "56698d71",
   "metadata": {},
   "outputs": [],
   "source": [
    "with open('../viz_dataframes/journals/nanotechnology-microscopy.pkl', 'rb') as in_file:\n",
    "    nanotech_df = pkl.load(in_file)\n",
    "nanotech_df.head()\n",
    "science_row = nanotech_df[nanotech_df['journal_title'] == 'Science']\n",
    "science_x_loc = science_row['nanotechnology_pagerank']\n",
    "science_y_loc = science_row['microscopy_pagerank']"
   ]
  },
  {
   "cell_type": "code",
   "execution_count": null,
   "id": "1d313c82",
   "metadata": {},
   "outputs": [],
   "source": [
    "plot = ggplot(nanotech_df, aes(x='nanotechnology_pagerank', y='microscopy_pagerank'))\n",
    "plot += geom_point()\n",
    "plot += scale_x_log10()\n",
    "plot += scale_y_log10()\n",
    "plot += ggtitle('Common microscopy/nanotechnology journals')\n",
    "plot += annotate('text', x=science_x_loc - 5e-5, y=science_y_loc, label='Science',)\n",
    "plot += annotate('point', x=science_x_loc, y=science_y_loc, fill='red', size=2, color='red')\n",
    "ggsave(plot, '../figures/microscopy_journals.svg')\n",
    "plot"
   ]
  },
  {
   "cell_type": "code",
   "execution_count": null,
   "id": "7939f189",
   "metadata": {},
   "outputs": [],
   "source": [
    "with open('../viz_dataframes/journals/immunochemistry-anatomy.pkl', 'rb') as in_file:\n",
    "    immunochem_df = pkl.load(in_file)\n",
    "immunochem_df.head()\n",
    "science_row = immunochem_df[immunochem_df['journal_title'] == 'Science']\n",
    "science_x_loc = science_row['immunochemistry_pagerank']\n",
    "science_y_loc = science_row['anatomy_pagerank']"
   ]
  },
  {
   "cell_type": "code",
   "execution_count": null,
   "id": "c637e613",
   "metadata": {},
   "outputs": [],
   "source": [
    "nature_row = immunochem_df[immunochem_df['journal_title'] == 'Nature']\n",
    "nature_x_loc = nature_row['immunochemistry_pagerank']\n",
    "nature_y_loc = nature_row['anatomy_pagerank']"
   ]
  },
  {
   "cell_type": "code",
   "execution_count": null,
   "id": "fa41869c",
   "metadata": {},
   "outputs": [],
   "source": [
    "cell_row = immunochem_df[immunochem_df['journal_title'] == 'Cell']\n",
    "cell_x_loc = cell_row['immunochemistry_pagerank']\n",
    "cell_y_loc = cell_row['anatomy_pagerank']"
   ]
  },
  {
   "cell_type": "code",
   "execution_count": null,
   "id": "9e639cc8",
   "metadata": {},
   "outputs": [],
   "source": [
    "plot = ggplot(immunochem_df, aes(x='immunochemistry_pagerank', y='anatomy_pagerank'))\n",
    "plot += geom_point()\n",
    "plot += scale_x_log10()\n",
    "plot += scale_y_log10()\n",
    "plot += ggtitle('Common immunochemistry/anatomy journals')\n",
    "plot += annotate('text', x=science_x_loc - 1.9e-6, y=science_y_loc, label='Science',)\n",
    "plot += annotate('point', x=science_x_loc, y=science_y_loc, fill='red', size=2, color='red')\n",
    "plot += annotate('text', x=nature_x_loc - 2.7e-6, y=nature_y_loc, label='Nature',)\n",
    "plot += annotate('point', x=nature_x_loc, y=nature_y_loc, fill='red', size=2, color='red')\n",
    "plot += annotate('text', x=cell_x_loc - 1.6e-6, y=cell_y_loc, label='Cell',)\n",
    "plot += annotate('point', x=cell_x_loc, y=cell_y_loc, fill='red', size=2, color='red')\n",
    "ggsave(plot, '../figures/immunochemistry_journals.svg')\n",
    "plot"
   ]
  },
  {
   "cell_type": "markdown",
   "id": "503138d7",
   "metadata": {},
   "source": [
    "## Combine journal plots"
   ]
  },
  {
   "cell_type": "code",
   "execution_count": null,
   "id": "dec6f417",
   "metadata": {},
   "outputs": [],
   "source": [
    "plot1 = f'../figures/microscopy_journals.svg'\n",
    "plot2 = f'../figures/immunochemistry_journals.svg'\n",
    "\n",
    "y_2 = 325\n",
    "x_2 = 415\n",
    "\n",
    "fig = Figure(\"828\", \"331\",\n",
    "       Panel(\n",
    "          SVG(plot1),\n",
    "          Text(\"A\", 25, 20, size=30),\n",
    "          ),\n",
    "       Panel(\n",
    "          SVG(plot2).move(x_2, 0),\n",
    "          Text(\"B\", 25, 20, size=30).move(x_2-20, 0),\n",
    "          ),\n",
    "       )\n",
    "fig.save('../figures/combined_journals.svg')"
   ]
  },
  {
   "cell_type": "code",
   "execution_count": null,
   "id": "7950ce35",
   "metadata": {},
   "outputs": [],
   "source": [
    "!inkscape --export-dpi 200 --export-png=../figures/combined_journals.png ../figures/combined_journals.svg -b \"#ffffffff\""
   ]
  },
  {
   "cell_type": "markdown",
   "id": "27fa6d5e",
   "metadata": {},
   "source": [
    "## Create per-field distribution plots"
   ]
  },
  {
   "cell_type": "code",
   "execution_count": null,
   "id": "82a25d48",
   "metadata": {},
   "outputs": [],
   "source": [
    "for heading1, heading2 in headings:\n",
    "    with open(f'../output/{heading1}-{heading2}-pagerank.pkl', 'rb') as in_file:\n",
    "        h1_dict = pkl.load(in_file)\n",
    "        h1_df = pd.DataFrame.from_dict(h1_dict, orient='index', columns=['pagerank'])\n",
    "    with open(f'../output/{heading2}-{heading1}-pagerank.pkl', 'rb') as in_file:\n",
    "        h2_dict = pkl.load(in_file)\n",
    "        h2_df = pd.DataFrame.from_dict(h2_dict, orient='index', columns=['pagerank'])\n",
    "    \n",
    "    h1_text = string.capwords(heading1.replace('_', ' '))\n",
    "    h2_text = string.capwords(heading2.replace('_', ' '))\n",
    "    \n",
    "    plot = ggplot(h1_df, aes(x='pagerank'))\n",
    "    plot += geom_histogram()\n",
    "    plot += ggtitle(f'{h1_text} PageRank Distribution')\n",
    "    plot += scale_x_log10(name='PageRank')\n",
    "    plot += scale_y_continuous(name='Count')\n",
    "    plot += theme_classic()\n",
    "    ggsave(plot, f'../figures/{heading1}-hist.svg')\n",
    "    \n",
    "    plot = ggplot(h2_df, aes(x='pagerank'))\n",
    "    plot += geom_histogram()\n",
    "    plot += ggtitle(f'{h2_text} PageRank Distribution')\n",
    "    plot += scale_x_log10(name='PageRank')\n",
    "    plot += scale_y_continuous(name='Count')\n",
    "    plot += theme_classic()\n",
    "    ggsave(plot, f'../figures/{heading2}-hist.svg')\n",
    "    "
   ]
  },
  {
   "cell_type": "code",
   "execution_count": null,
   "id": "ada22f85",
   "metadata": {},
   "outputs": [],
   "source": [
    "plot1 = f'../figures/{headings[0][0]}-hist.svg'\n",
    "plot5 = f'../figures/{headings[0][1]}-hist.svg'\n",
    "plot2 = f'../figures/{headings[1][0]}-hist.svg'\n",
    "plot6 = f'../figures/{headings[1][1]}-hist.svg'\n",
    "plot3 = f'../figures/{headings[2][0]}-hist.svg'\n",
    "plot7 = f'../figures/{headings[2][1]}-hist.svg'\n",
    "plot4 = f'../figures/{headings[3][0]}-hist.svg'\n",
    "plot8 = f'../figures/{headings[3][1]}-hist.svg'\n",
    "\n",
    "y_2 = 325\n",
    "x_2 = 420\n",
    "x_3 = 840\n",
    "x_4 = 1260\n",
    "\n",
    "fig = Figure(\"1693\", \"654\",\n",
    "       Panel(\n",
    "          SVG(plot1),\n",
    "          Text(\"A\", 0, 30, size=30),\n",
    "          ),\n",
    "       Panel(\n",
    "          SVG(plot2).move(x_2, 0),\n",
    "          Text(\"B\", 20, 30, size=30).move(x_2-20, 0),\n",
    "          ),\n",
    "       Panel(\n",
    "          SVG(plot3).move(x_3, 0),\n",
    "          Text(\"C\", 0, 30, size=30).move(x_3, 0)\n",
    "          ),\n",
    "       Panel(\n",
    "          SVG(plot4).move(x_4, 0),\n",
    "          Text(\"D\", 20, 30, size=30).move(x_4, 0),\n",
    "          ),\n",
    "       Panel(\n",
    "          SVG(plot5).move(0, y_2),\n",
    "          Text(\"E\", 0, 30, size=30).move(0, y_2),\n",
    "          ),\n",
    "       Panel(\n",
    "          SVG(plot6).move(x_2, y_2),\n",
    "          Text(\"F\", 20, 30, size=30).move(x_2-20, y_2),\n",
    "          ),\n",
    "       Panel(\n",
    "          SVG(plot7).move(x_3, y_2),\n",
    "          Text(\"G\", 0, 30, size=30).move(x_3, y_2),\n",
    "          ),\n",
    "       Panel(\n",
    "          SVG(plot8).move(x_4, y_2),\n",
    "          Text(\"H\", 20, 30, size=30).move(x_4, y_2),\n",
    "          ),\n",
    "     )\n",
    "\n",
    "fig.save('../figures/per-field.svg')"
   ]
  },
  {
   "cell_type": "code",
   "execution_count": null,
   "id": "2dd32b29",
   "metadata": {},
   "outputs": [],
   "source": [
    "!inkscape  --export-dpi 200 --export-png=../figures/per-field.png ../figures/per-field.svg -b \"#ffffffff\""
   ]
  },
  {
   "cell_type": "markdown",
   "id": "ff4ecb48",
   "metadata": {},
   "source": [
    "## Specialty journal analysis"
   ]
  },
  {
   "cell_type": "code",
   "execution_count": null,
   "id": "ba0fa274",
   "metadata": {},
   "outputs": [],
   "source": [
    "output_files = glob('../output/*-*-pagerank.pkl')\n",
    "print(len(output_files))"
   ]
  },
  {
   "cell_type": "code",
   "execution_count": null,
   "id": "7be08c3e",
   "metadata": {},
   "outputs": [],
   "source": [
    "journal_info = {'journal': [], 'count': [], 'field': []}\n",
    "headings_seen = set()\n",
    "\n",
    "for file in output_files:\n",
    "    heading = os.path.basename(file).split('-')[0]\n",
    "    if heading in headings_seen:\n",
    "        continue\n",
    "    else:\n",
    "        headings_seen.add(heading)\n",
    "    \n",
    "    with open(file, 'rb') as in_file:\n",
    "        heading_dict = pkl.load(in_file)\n",
    "    pagerank_df = pd.DataFrame.from_dict(heading_dict, orient='index', columns=['pagerank'])\n",
    "    pagerank_df = pagerank_df.reset_index()\n",
    "    pagerank_df = pagerank_df.rename({'index': 'doi'}, axis='columns')\n",
    "    \n",
    "    \n",
    "    metadata_path = f'../data/pubmed/efetch/{heading}.xml.xz'\n",
    "    metadata = parse_metadata(metadata_path)\n",
    "    \n",
    "    doi_to_journal = dict(zip(metadata['doi'], metadata['journal']))\n",
    "    \n",
    "    pagerank_df['journal'] = pagerank_df['doi'].map(doi_to_journal)\n",
    "    for journal, count in pagerank_df['journal'].value_counts().iteritems():\n",
    "        journal_info['journal'].append(journal)\n",
    "        journal_info['count'].append(count)\n",
    "        journal_info['field'].append(heading)"
   ]
  },
  {
   "cell_type": "code",
   "execution_count": null,
   "id": "2f43579c",
   "metadata": {},
   "outputs": [],
   "source": [
    "journal_df = pd.DataFrame(journal_info)\n",
    "journal_df"
   ]
  },
  {
   "cell_type": "code",
   "execution_count": null,
   "id": "8310ab90",
   "metadata": {},
   "outputs": [],
   "source": [
    "journal_df['field'].nunique()"
   ]
  },
  {
   "cell_type": "code",
   "execution_count": null,
   "id": "0975be6a",
   "metadata": {},
   "outputs": [],
   "source": [
    "# There are 5178 journals with at least 100 articles in the dataset\n",
    "(journal_df.groupby('journal').sum() > 50 ).sum()"
   ]
  },
  {
   "cell_type": "code",
   "execution_count": null,
   "id": "c583915b",
   "metadata": {},
   "outputs": [],
   "source": [
    "journal_series = journal_df.groupby('journal').sum() > 50 \n",
    "common_journals = set(journal_series[journal_series['count']].index)"
   ]
  },
  {
   "cell_type": "code",
   "execution_count": null,
   "id": "886aca60",
   "metadata": {},
   "outputs": [],
   "source": [
    "common_journal_df = journal_df.loc[journal_df['journal'].isin(common_journals)]\n",
    "common_journal_df"
   ]
  },
  {
   "cell_type": "code",
   "execution_count": null,
   "id": "009320c3",
   "metadata": {},
   "outputs": [],
   "source": [
    "journal_total_articles = common_journal_df.groupby('journal').sum()['count']\n",
    "journal_total_articles"
   ]
  },
  {
   "cell_type": "code",
   "execution_count": null,
   "id": "2b255309",
   "metadata": {},
   "outputs": [],
   "source": [
    "largest_field_percent = common_journal_df.groupby('journal')['count'].max() / journal_total_articles\n",
    "largest_field_percent"
   ]
  },
  {
   "cell_type": "code",
   "execution_count": null,
   "id": "e0ab9409",
   "metadata": {},
   "outputs": [],
   "source": [
    "field_specific_journals = largest_field_percent[largest_field_percent > .9].index\n",
    "largest_field_percent[largest_field_percent > .9].count()"
   ]
  },
  {
   "cell_type": "code",
   "execution_count": null,
   "id": "c57ff478",
   "metadata": {},
   "outputs": [],
   "source": [
    "common_journal_df[common_journal_df['journal'].isin(field_specific_journals)].groupby('journal').value_counts()"
   ]
  },
  {
   "cell_type": "markdown",
   "id": "c5efd6d3",
   "metadata": {},
   "source": [
    "#### Result\n",
    "Of the 5178 journals with at least 50 articles in the dataset, only 56 (1.1%) of journals have more than 90 percent of their articles from one field"
   ]
  },
  {
   "cell_type": "markdown",
   "id": "5e54a60e",
   "metadata": {},
   "source": [
    "## Top journal analysis"
   ]
  },
  {
   "cell_type": "code",
   "execution_count": null,
   "id": "d5df84f1",
   "metadata": {},
   "outputs": [],
   "source": [
    "top_journal_info = {'top_journal': [], 'field': []}\n",
    "headings_seen = set()\n",
    "\n",
    "for file in output_files:\n",
    "    heading = os.path.basename(file).split('-')[0]\n",
    "    if heading in headings_seen:\n",
    "        continue\n",
    "    else:\n",
    "        headings_seen.add(heading)\n",
    "    \n",
    "    with open(file, 'rb') as in_file:\n",
    "        heading_dict = pkl.load(in_file)\n",
    "    pagerank_df = pd.DataFrame.from_dict(heading_dict, orient='index', columns=['pagerank'])\n",
    "    pagerank_df = pagerank_df.reset_index()\n",
    "    pagerank_df = pagerank_df.rename({'index': 'doi'}, axis='columns')\n",
    "    \n",
    "    metadata_path = f'../data/pubmed/efetch/{heading}.xml.xz'\n",
    "    metadata = parse_metadata(metadata_path)\n",
    "    \n",
    "    doi_to_journal = dict(zip(metadata['doi'], metadata['journal']))\n",
    "    \n",
    "    pagerank_df['journal'] = pagerank_df['doi'].map(doi_to_journal)\n",
    "        \n",
    "    journal_series = pagerank_df.groupby('journal').count() > 50 \n",
    "    common_journals = set(journal_series[journal_series['doi']].index)\n",
    "    \n",
    "    common_journal_df = pagerank_df[pagerank_df['journal'].isin(common_journals)]\n",
    "    top_journals = common_journal_df.groupby('journal').median().sort_values(by='pagerank', ascending=False)\n",
    "        \n",
    "    top_journal = top_journals.index[0]\n",
    "    \n",
    "    top_journal_info['top_journal'].append(top_journal)\n",
    "    top_journal_info['field'].append(heading)"
   ]
  },
  {
   "cell_type": "code",
   "execution_count": null,
   "id": "604bdf2c",
   "metadata": {},
   "outputs": [],
   "source": [
    "top_journal_df = pd.DataFrame(top_journal_info)\n",
    "top_journal_list = top_journal_df['top_journal'].value_counts().index.tolist()\n",
    "tj_categorical = pd.Categorical(top_journal_df['top_journal'], categories=top_journal_list)\n",
    "top_journal_df['cat'] = tj_categorical\n",
    "\n",
    "top_journal_df"
   ]
  },
  {
   "cell_type": "code",
   "execution_count": null,
   "id": "8b944e1a",
   "metadata": {},
   "outputs": [],
   "source": [
    "plot = ggplot(top_journal_df, aes(x='cat'))\n",
    "plot += geom_bar(stat='count')\n",
    "plot += theme_classic()\n",
    "plot += theme(axis_text_x=element_text(rotation=90, hjust=.5))\n",
    "plot += ylab('Field Count')\n",
    "plot += xlab('Journal')\n",
    "plot += scale_y_continuous(breaks=list(range(0,10, 2)))\n",
    "plot += ggtitle('Top Journal Frequency')\n",
    "\n",
    "ggsave(plot, '../figures/journal_hist.svg')"
   ]
  },
  {
   "cell_type": "code",
   "execution_count": null,
   "id": "4a966092",
   "metadata": {},
   "outputs": [],
   "source": [
    "!inkscape  --export-dpi 200 --export-png=../figures/journal_hist.png ../figures/journal_hist.svg -b \"#ffffffff\""
   ]
  },
  {
   "cell_type": "markdown",
   "id": "294d41d1",
   "metadata": {},
   "source": [
    "## Scratch"
   ]
  },
  {
   "cell_type": "code",
   "execution_count": null,
   "id": "e71688ae",
   "metadata": {},
   "outputs": [],
   "source": [
    "heading_str = 'nanotechnology-microscopy'\n",
    "\n",
    "heading_shuffled = glob(f'../shuffle/{heading_str}*-pagerank.pkl')\n",
    "\n",
    "doi_to_shuffled_metrics = {}\n",
    "\n",
    "for path in heading_shuffled:\n",
    "    with open(path, 'rb') as in_file:\n",
    "        result = pkl.load(in_file)\n",
    "        for doi, value in result.items():\n",
    "            if doi in doi_to_shuffled_metrics:\n",
    "                doi_to_shuffled_metrics[doi].append(value)\n",
    "            else:\n",
    "                doi_to_shuffled_metrics[doi] = [value]\n",
    "for doi, vals in doi_to_shuffled_metrics.items():\n",
    "    doi_to_shuffled_metrics[doi] = sorted(vals)\n",
    "\n",
    "with open(f'../output/{heading_str}-pagerank.pkl', 'rb') as in_file:\n",
    "    true_vals = pkl.load(in_file)"
   ]
  },
  {
   "cell_type": "code",
   "execution_count": null,
   "id": "68ce57e8",
   "metadata": {},
   "outputs": [],
   "source": [
    "print(len(heading_shuffled))\n",
    "doi_of_interest = '10.1126/science.1089389'\n",
    "true_vals[doi_of_interest]\n",
    "doi_to_shuffled_metrics[doi]"
   ]
  },
  {
   "cell_type": "code",
   "execution_count": null,
   "id": "9e80b096",
   "metadata": {},
   "outputs": [],
   "source": [
    "with open('../nanotechnology-microscopy-11-pagerank.pkl', 'rb') as in_file:\n",
    "    heading_dict = pkl.load(in_file)\n",
    "pagerank_df = pd.DataFrame.from_dict(heading_dict, orient='index', columns=['pagerank'])\n",
    "pagerank_df = pagerank_df.reset_index()\n",
    "pagerank_df = pagerank_df.rename({'index': 'doi'}, axis='columns')\n",
    "pagerank_df"
   ]
  },
  {
   "cell_type": "code",
   "execution_count": null,
   "id": "3f12affe",
   "metadata": {},
   "outputs": [],
   "source": [
    "plot = ggplot(pagerank_df, aes(x='pagerank'))\n",
    "plot += geom_histogram()\n",
    "plot += scale_x_log10()\n",
    "plot += scale_y_continuous(name='Count')\n",
    "plot += ggtitle(f'Shuffled Pagerank Distribution')\n",
    "plot += theme_classic()\n",
    "plot\n",
    "#ggsave(plot, f'../figures/{heading1}-{heading2}-hist.svg')"
   ]
  },
  {
   "cell_type": "markdown",
   "id": "35be6f7c",
   "metadata": {},
   "source": [
    "## Journal sparsity plot"
   ]
  },
  {
   "cell_type": "code",
   "execution_count": null,
   "id": "cd533a79",
   "metadata": {},
   "outputs": [],
   "source": [
    "common_journal_df"
   ]
  },
  {
   "cell_type": "code",
   "execution_count": null,
   "id": "b0e94450",
   "metadata": {},
   "outputs": [],
   "source": [
    "common_journal_df.groupby('journal').count()"
   ]
  },
  {
   "cell_type": "code",
   "execution_count": null,
   "id": "926e2e6e",
   "metadata": {},
   "outputs": [],
   "source": [
    "plot = ggplot(common_journal_df.groupby('journal').count(), aes(x='field'))\n",
    "plot += geom_histogram(bins=43)\n",
    "plot += xlab('Number of Fields')\n",
    "plot += ylab('Number of Journals')\n",
    "plot += ggtitle('Number of Fields Published in per Journal')\n",
    "plot += theme_classic()\n",
    "plot\n",
    "ggsave(plot, '../figures/fields_per_journal.svg')"
   ]
  },
  {
   "cell_type": "code",
   "execution_count": null,
   "id": "44928483",
   "metadata": {},
   "outputs": [],
   "source": [
    "!inkscape  --export-dpi 200 --export-png=../figures/fields_per_journal.png ../figures/fields_per_journal.svg -b \"#ffffffff\""
   ]
  },
  {
   "cell_type": "markdown",
   "id": "022b51d0",
   "metadata": {},
   "source": [
    "## Journal rank comparison plot"
   ]
  },
  {
   "cell_type": "code",
   "execution_count": null,
   "id": "cbb1cab6",
   "metadata": {},
   "outputs": [],
   "source": [
    "journal_rank_info = {'journal': [], 'field': [], 'rank': []}\n",
    "headings_seen = set()\n",
    "\n",
    "for file in output_files:\n",
    "    heading = os.path.basename(file).split('-')[0]\n",
    "    if heading in headings_seen:\n",
    "        continue\n",
    "    else:\n",
    "        headings_seen.add(heading)\n",
    "    \n",
    "    with open(file, 'rb') as in_file:\n",
    "        heading_dict = pkl.load(in_file)\n",
    "    pagerank_df = pd.DataFrame.from_dict(heading_dict, orient='index', columns=['pagerank'])\n",
    "    pagerank_df = pagerank_df.reset_index()\n",
    "    pagerank_df = pagerank_df.rename({'index': 'doi'}, axis='columns')\n",
    "    \n",
    "    metadata_path = f'../data/pubmed/efetch/{heading}.xml.xz'\n",
    "    metadata = parse_metadata(metadata_path)\n",
    "    \n",
    "    doi_to_journal = dict(zip(metadata['doi'], metadata['journal']))\n",
    "    \n",
    "    pagerank_df['journal'] = pagerank_df['doi'].map(doi_to_journal)\n",
    "        \n",
    "    journal_series = pagerank_df.groupby('journal').count() > 50 \n",
    "    common_journals = set(journal_series[journal_series['doi']].index)\n",
    "    \n",
    "    common_journal_df = pagerank_df[pagerank_df['journal'].isin(common_journals)]\n",
    "    \n",
    "    journal_ranks = common_journal_df.groupby('journal').median().sort_values(by='pagerank', ascending=False)\n",
    "    \n",
    "    for i, (journal, pagerank) in enumerate(zip(journal_ranks.index, journal_ranks.pagerank)):\n",
    "        journal_rank_info['journal'].append(journal)\n",
    "        journal_rank_info['field'].append(heading)\n",
    "        journal_rank_info['rank'].append(i+1)"
   ]
  },
  {
   "cell_type": "code",
   "execution_count": null,
   "id": "11a64ab4",
   "metadata": {},
   "outputs": [],
   "source": [
    "top_df = pd.DataFrame(journal_rank_info)\n",
    "top_df"
   ]
  },
  {
   "cell_type": "code",
   "execution_count": null,
   "id": "71765014",
   "metadata": {},
   "outputs": [],
   "source": [
    "heading1 = 'nanotechnology'\n",
    "heading2 = 'microscopy'\n",
    "h1_condition = (top_df['rank'] < 51) & (top_df['field'] == f'{heading1}')\n",
    "top_fifty_heading1 = top_df[h1_condition]\n",
    "h2_ranks = top_df[top_df['field'] == 'microscopy']\n",
    "\n",
    "journal_to_rank = dict(zip(h2_ranks['journal'], h2_ranks['rank']))\n",
    "\n",
    "top_fifty_heading1[f'{heading2}_rank'] = top_fifty_heading1['journal'].map(journal_to_rank)\n",
    "top_fifty_heading1"
   ]
  },
  {
   "cell_type": "code",
   "execution_count": null,
   "id": "0c35eeaa",
   "metadata": {},
   "outputs": [],
   "source": [
    "h1 = string.capwords(heading1.replace('_', ' '))\n",
    "h2 = string.capwords(heading2.replace('_', ' '))\n",
    "\n",
    "plot = ggplot(top_fifty_heading1, aes(x='rank', y=f'{heading2}_rank'))\n",
    "plot += geom_point()\n",
    "plot += xlab(f\"{h1} Rank\")\n",
    "plot += ylab(f\"{h2} Rank\")\n",
    "plot += geom_abline(intercept=0, slope=1, linetype='--')\n",
    "plot += theme_classic()\n",
    "plot += ggtitle(f'{h1} and {h2} Ranking Comparison')\n",
    "#plot\n",
    "ggsave(plot, f'../figures/{heading1}-{heading2}-rank_comparison.svg')"
   ]
  },
  {
   "cell_type": "markdown",
   "id": "696e622c",
   "metadata": {},
   "source": [
    "## Inter-field correlation plots"
   ]
  },
  {
   "cell_type": "code",
   "execution_count": null,
   "id": "2c27f8e7",
   "metadata": {},
   "outputs": [],
   "source": [
    "correlation_data = {'field-pair': [], 'correlation': []}\n",
    "pairs_seen = set()\n",
    "pair_files = glob('../viz_dataframes/percentiles/*-*.pkl')\n",
    "for file in pair_files:\n",
    "    base = os.path.splitext(os.path.basename(file))[0]\n",
    "    heading1, heading2 = base.split('-')\n",
    "    percentile_data = load_percentile_data(heading1, heading2, base_dir='../viz_dataframes')\n",
    "    \n",
    "    if (heading2, heading1) in pairs_seen:\n",
    "        continue\n",
    "    else:\n",
    "        pairs_seen.add((heading1, heading2))\n",
    "        \n",
    "    \n",
    "    h1 = string.capwords(heading1.replace('_', ' '))\n",
    "    h2 = string.capwords(heading2.replace('_', ' '))\n",
    "    \n",
    "    corr = percentile_data[f'{heading1}_pagerank'].corr(percentile_data[f'{heading2}_pagerank'])\n",
    "\n",
    "    correlation_data['correlation'].append(corr)\n",
    "    correlation_data['field-pair'].append(f'{heading1}/{heading2}')"
   ]
  },
  {
   "cell_type": "code",
   "execution_count": null,
   "id": "86ec8246",
   "metadata": {},
   "outputs": [],
   "source": [
    "corr_df = pd.DataFrame(correlation_data)\n",
    "corr_df = corr_df.sort_values(by='correlation', ascending=False)\n",
    "corr_df['corr_rank'] = range(1, len(corr_df)+1)\n",
    "corr_df"
   ]
  },
  {
   "cell_type": "code",
   "execution_count": null,
   "id": "15e79d16",
   "metadata": {},
   "outputs": [],
   "source": [
    "selected_pairs = {f'{heading1}/{heading2}' for heading1, heading2 in headings}\n",
    "selected_pairs.add('human_genetics/computational_biology')\n",
    "selected_pairs.add('metabolomics/proteomics')\n",
    "\n",
    "highlight_df = corr_df[corr_df['field-pair'].isin(selected_pairs)]\n",
    "highlight_df"
   ]
  },
  {
   "cell_type": "code",
   "execution_count": null,
   "id": "13c97672",
   "metadata": {},
   "outputs": [],
   "source": [
    "immuno_x = highlight_df[highlight_df['field-pair'] == 'immunochemistry/anatomy'].corr_rank\n",
    "immuno_y = highlight_df[highlight_df['field-pair'] == 'immunochemistry/anatomy'].correlation\n",
    "gen_x = highlight_df[highlight_df['field-pair'] == 'human_genetics/computational_biology'].corr_rank\n",
    "gen_y = highlight_df[highlight_df['field-pair'] == 'human_genetics/computational_biology'].correlation\n",
    "nano_x = highlight_df[highlight_df['field-pair'] == 'nanotechnology/microscopy'].corr_rank\n",
    "nano_y = highlight_df[highlight_df['field-pair'] == 'nanotechnology/microscopy'].correlation\n",
    "met_x = highlight_df[highlight_df['field-pair'] == 'metabolomics/proteomics'].corr_rank\n",
    "met_y = highlight_df[highlight_df['field-pair'] == 'metabolomics/proteomics'].correlation"
   ]
  },
  {
   "cell_type": "code",
   "execution_count": null,
   "id": "78922230",
   "metadata": {},
   "outputs": [],
   "source": [
    "plot = ggplot(corr_df, aes(x='corr_rank', y='correlation'))\n",
    "plot += geom_point()\n",
    "plot += geom_point(highlight_df, fill='red', color='red')\n",
    "plot += annotate('text', label='Immunochemistry/Anatomy', x=immuno_x, y=immuno_y, ha='left', va='bottom')\n",
    "plot += annotate('text', label='Computational Biology/Genetics', x=gen_x, y=gen_y, ha='left', va='bottom')\n",
    "plot += annotate('text', label='Nanotechnology/Microscopy', x=nano_x, y=nano_y, ha='left', va='bottom')\n",
    "plot += annotate('text', label='Proteomics/Metabolomics', x=met_x, y=met_y, ha='right', va='top')\n",
    "plot += ylab('Correlation')\n",
    "plot += xlab('Correlation Rank')\n",
    "plot += theme_classic()\n",
    "plot += ggtitle('Field-Pair PageRank Correlations')\n",
    "\n",
    "ggsave(plot, '../figures/correlations.svg')"
   ]
  },
  {
   "cell_type": "markdown",
   "id": "e4d27811",
   "metadata": {},
   "source": [
    "## Distribution overlap plots"
   ]
  },
  {
   "cell_type": "code",
   "execution_count": null,
   "id": "29f474b4",
   "metadata": {},
   "outputs": [],
   "source": [
    "for heading1, heading2 in headings:\n",
    "    percentile_data = load_percentile_data(heading1, heading2, base_dir='../viz_dataframes')\n",
    "    \n",
    "    hist_data = percentile_data.melt(id_vars='doi', value_vars=[f'{heading1}_pagerank', f'{heading2}_pagerank'],\n",
    "                                     value_name='PageRank',)\n",
    "    \n",
    "    h1 = string.capwords(heading1.replace('_', ' '))\n",
    "    h2 = string.capwords(heading2.replace('_', ' '))\n",
    "    \n",
    "    new_names = {f'{heading1}_pagerank': f'{h1}',\n",
    "                 f'{heading2}_pagerank': f'{h2}'}\n",
    "    \n",
    "    \n",
    "    hist_data['Field'] = hist_data['variable'].map(new_names)\n",
    "    \n",
    "    overlapping_dois = list(hist_data['doi'])\n",
    "    \n",
    "    with open(f'../output/{heading1}-{heading2}-pagerank.pkl', 'rb') as in_file:\n",
    "        h1_dict = pkl.load(in_file)\n",
    "        h1_df = pd.DataFrame.from_dict(h1_dict, orient='index', columns=['pagerank'])\n",
    "        h1_df['Shared Paper'] = False\n",
    "        h1_df.loc[overlapping_dois, 'Shared Paper'] = True\n",
    "    with open(f'../output/{heading2}-{heading1}-pagerank.pkl', 'rb') as in_file:\n",
    "        h2_dict = pkl.load(in_file)\n",
    "        h2_df = pd.DataFrame.from_dict(h2_dict, orient='index', columns=['pagerank'])\n",
    "        h2_df['Shared Paper'] = False\n",
    "        h2_df.loc[overlapping_dois, 'Shared Paper'] = True\n",
    "    \n",
    "    h1_text = string.capwords(heading1.replace('_', ' '))\n",
    "    h2_text = string.capwords(heading2.replace('_', ' '))\n",
    "    \n",
    "    plot = ggplot(h1_df, aes(x='pagerank', fill='Shared Paper'))\n",
    "    plot += geom_histogram()\n",
    "    plot += ggtitle(f'{h1_text} PageRank Distribution')\n",
    "    plot += scale_x_log10(name='PageRank')\n",
    "    plot += scale_y_continuous(name='Count')\n",
    "    plot += scale_fill_manual(['#000000', 'red'])\n",
    "    plot += theme_classic()\n",
    "    \n",
    "    ggsave(plot, f'../figures/{heading1}-shared-hist.svg')\n",
    "    \n",
    "    plot = ggplot(h2_df, aes(x='pagerank', fill='Shared Paper'))\n",
    "    plot += geom_histogram()\n",
    "    plot += ggtitle(f'{h1_text} PageRank Distribution')\n",
    "    plot += scale_x_log10(name='PageRank')\n",
    "    plot += scale_y_continuous(name='Count')\n",
    "    plot += scale_fill_manual(['#000000', 'red'])\n",
    "    plot += theme_classic()\n",
    "    \n",
    "    ggsave(plot, f'../figures/{heading2}-shared-hist.svg')"
   ]
  },
  {
   "cell_type": "markdown",
   "id": "bad1687a",
   "metadata": {},
   "source": [
    "## Empirical CDF plots"
   ]
  },
  {
   "cell_type": "code",
   "execution_count": null,
   "id": "0d024ce1",
   "metadata": {},
   "outputs": [],
   "source": [
    "for heading1, heading2 in headings:\n",
    "    percentile_data = load_percentile_data(heading1, heading2, base_dir='../viz_dataframes')\n",
    "    \n",
    "    hist_data = percentile_data.melt(id_vars='doi', value_vars=[f'{heading1}_pagerank', f'{heading2}_pagerank'],\n",
    "                                     value_name='PageRank',)\n",
    "    \n",
    "    h1 = string.capwords(heading1.replace('_', ' '))\n",
    "    h2 = string.capwords(heading2.replace('_', ' '))\n",
    "    \n",
    "    new_names = {f'{heading1}_pagerank': f'{h1}',\n",
    "                 f'{heading2}_pagerank': f'{h2}'}\n",
    "    \n",
    "    \n",
    "    hist_data['Field'] = hist_data['variable'].map(new_names)\n",
    "    \n",
    "    hist_data = hist_data.sort_values(by='PageRank', ascending=True)\n",
    "    hist_data['Fraction of Values'] = np.arange(1,(len(hist_data) + 1)) / len(hist_data)\n",
    "    \n",
    "    overlapping_dois = list(hist_data['doi'])\n",
    "    \n",
    "    with open(f'../output/{heading1}-{heading2}-pagerank.pkl', 'rb') as in_file:\n",
    "        h1_dict = pkl.load(in_file)\n",
    "    h1_df = pd.DataFrame.from_dict(h1_dict, orient='index', columns=['pagerank'])\n",
    "    h1_df['Shared Paper'] = False\n",
    "    h1_df.loc[overlapping_dois, 'Shared Paper'] = True\n",
    "    h1_df = h1_df.sort_values(by='pagerank')\n",
    "    h1_df['Fraction of Values'] = np.arange(1,(len(h1_df) + 1)) / len(h1_df)\n",
    "    \n",
    "    with open(f'../output/{heading2}-{heading1}-pagerank.pkl', 'rb') as in_file:\n",
    "        h2_dict = pkl.load(in_file)\n",
    "    h2_df = pd.DataFrame.from_dict(h2_dict, orient='index', columns=['pagerank'])\n",
    "    h2_df['Shared Paper'] = False\n",
    "    h2_df.loc[overlapping_dois, 'Shared Paper'] = True\n",
    "    h2_df = h2_df.sort_values(by='pagerank')\n",
    "    h2_df['Fraction of Values'] = np.arange(1,(len(h2_df) + 1)) / len(h2_df)\n",
    "    \n",
    "    h1_text = string.capwords(heading1.replace('_', ' '))\n",
    "    h2_text = string.capwords(heading2.replace('_', ' '))\n",
    "    \n",
    "    h1_overlap = h1_df[h1_df['Shared Paper'] == True]\n",
    "    h1_overlap = h1_overlap.sort_values(by='pagerank')\n",
    "    h1_overlap['Fraction of Values'] = np.arange(1,(len(h1_overlap) + 1)) / len(h1_overlap)\n",
    "    \n",
    "    h2_overlap = h2_df[h2_df['Shared Paper'] == True]\n",
    "    h2_overlap = h2_overlap.sort_values(by='pagerank')\n",
    "    h2_overlap['Fraction of Values'] = np.arange(1,(len(h2_overlap) + 1)) / len(h2_overlap)\n",
    "    \n",
    "    h1_df['Papers Included'] = 'All'\n",
    "    h1_overlap['Papers Included'] = 'Overlapping'\n",
    "    h2_df['Papers Included'] = 'All'\n",
    "    h2_overlap['Papers Included'] = 'Overlapping'\n",
    "    \n",
    "    h1_concat = pd.concat([h1_df, h1_overlap])\n",
    "    h2_concat = pd.concat([h2_df, h2_overlap])\n",
    "    \n",
    "    plot = ggplot(h1_concat, aes(x='pagerank', y='Fraction of Values', color='Papers Included'))\n",
    "    plot += geom_point()\n",
    "    plot += ggtitle(f'{h1_text} Empirical CDFs')\n",
    "    plot += scale_x_log10()\n",
    "    plot += scale_color_manual(['black', 'red'])\n",
    "    plot += xlab('PageRank')\n",
    "    plot += theme_classic()\n",
    "    \n",
    "    ggsave(plot, f'../figures/{heading1}-ecdf.svg')\n",
    "    \n",
    "    plot = ggplot(h2_concat, aes(x='pagerank', y='Fraction of Values', color='Papers Included'))\n",
    "    plot += geom_point()\n",
    "    plot += ggtitle(f'{h2_text} Empirical CDFs')\n",
    "    plot += scale_x_log10()\n",
    "    plot += scale_color_manual(['black', 'red'])\n",
    "    plot += xlab('PageRank')\n",
    "    plot += theme_classic()\n",
    "    \n",
    "    ggsave(plot, f'../figures/{heading2}-ecdf.svg')\n",
    "\n",
    "    "
   ]
  }
 ],
 "metadata": {
  "kernelspec": {
   "display_name": "Python 3 (ipykernel)",
   "language": "python",
   "name": "python3"
  },
  "language_info": {
   "codemirror_mode": {
    "name": "ipython",
    "version": 3
   },
   "file_extension": ".py",
   "mimetype": "text/x-python",
   "name": "python",
   "nbconvert_exporter": "python",
   "pygments_lexer": "ipython3",
   "version": "3.10.4"
  }
 },
 "nbformat": 4,
 "nbformat_minor": 5
}
